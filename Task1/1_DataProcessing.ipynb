{
 "cells": [
  {
   "cell_type": "code",
   "execution_count": 377,
   "metadata": {},
   "outputs": [],
   "source": [
    "import plotly.express as px\n",
    "import plotly.graph_objects as go\n",
    "import numpy as np\n",
    "import pandas as pd\n",
    "\n",
    "# Load Hospitalisation Dataset\n",
    "df = pd.read_csv('../Data/aggregated_cc_by_sa.csv', low_memory=False)\n",
    "    # Extract only US-state data\n",
    "df_hosp =  df.loc[df['open_covid_region_code'].str.contains('US-')]\n",
    "df_hosp = df_hosp.sort_values(by=['date']) \n",
    "df_hosp = df_hosp[['open_covid_region_code','region_name','date',\n",
    "                    'hospitalized_cumulative','hospitalized_new']]\n",
    "hosp_states = df_hosp['open_covid_region_code'].unique()\n",
    "\n",
    "# Load Search Trends Dataset\n",
    "df_st = pd.read_csv('../Data/2020_US_weekly_symptoms_dataset.csv')\n",
    "st_states = df_st['open_covid_region_code'].unique()"
   ]
  },
  {
   "cell_type": "markdown",
   "metadata": {},
   "source": [
    "# Clean Up Hospitalisation Dataset\n",
    "as we iterate through the clean up, we will change dataset variable name by adding _X, where X is version number of the dataset which +1 every time it is handled"
   ]
  },
  {
   "cell_type": "markdown",
   "metadata": {},
   "source": [
    "#### 1. Remove States with more than 80% of Data = 0.0"
   ]
  },
  {
   "cell_type": "code",
   "execution_count": 378,
   "metadata": {},
   "outputs": [
    {
     "name": "stdout",
     "output_type": "stream",
     "text": [
      "1 Washington 254 126 120\n",
      "2 Massachusetts 254 61 59\n",
      "3 New Jersey 235 133 106\n",
      "4 Virginia 218 31 27\n",
      "5 Michigan 215 215 215\n",
      "Michigan has been removed\n",
      "6 Rhode Island 215 80 43\n",
      "7 North Carolina 212 212 212\n",
      "North Carolina has been removed\n",
      "8 Arizona 212 8 1\n",
      "9 Illinois 212 212 212\n",
      "Illinois has been removed\n",
      "10 South Carolina 212 137 21\n",
      "11 Wisconsin 212 27 27\n",
      "12 Georgia 212 22 21\n",
      "13 Oregon 212 61 18\n",
      "14 Texas 212 212 212\n",
      "Texas has been removed\n",
      "15 Florida 212 19 17\n",
      "16 California 212 212 212\n",
      "California has been removed\n",
      "17 New York 212 137 17\n",
      "18 New Hampshire 212 74 20\n",
      "19 District of Columbia 211 211 211\n",
      "District of Columbia has been removed\n",
      "20 Nevada 211 211 211\n",
      "Nevada has been removed\n",
      "21 Colorado 211 19 16\n",
      "22 Ohio 211 16 16\n",
      "23 Tennessee 211 23 20\n",
      "24 Nebraska 211 106 90\n",
      "25 Maryland 211 22 21\n",
      "26 Minnesota 210 18 16\n",
      "27 Arkansas 210 64 30\n",
      "28 Pennsylvania 210 198 199\n",
      "Pennsylvania has been removed\n",
      "29 West Virginia 210 206 193\n",
      "West Virginia has been removed\n",
      "30 Alaska 210 190 180\n",
      "Alaska has been removed\n",
      "31 Delaware 210 210 210\n",
      "Delaware has been removed\n",
      "32 Kansas 210 105 21\n",
      "33 New Mexico 210 73 39\n",
      "34 Indiana 210 91 58\n",
      "35 Vermont 210 205 197\n",
      "Vermont has been removed\n",
      "36 Kentucky 210 66 35\n",
      "37 Iowa 210 194 194\n",
      "Iowa has been removed\n",
      "38 Oklahoma 209 35 14\n",
      "39 North Dakota 209 33 14\n",
      "40 Utah 209 24 24\n",
      "41 Louisiana 209 209 209\n",
      "Louisiana has been removed\n",
      "42 Idaho 209 46 21\n",
      "43 Hawaii 209 76 17\n",
      "44 South Dakota 209 29 24\n",
      "45 Maine 209 54 23\n",
      "46 Missouri 209 209 209\n",
      "Missouri has been removed\n",
      "47 Mississippi 209 62 15\n",
      "48 Montana 209 73 19\n",
      "49 Alabama 209 66 28\n",
      "50 Wyoming 209 89 20\n",
      "51 Connecticut 209 186 55\n",
      "Connecticut has been removed\n",
      "52 American Samoa 200 200 200\n",
      "American Samoa has been removed\n",
      "53 Northern Mariana Islands 200 199 115\n",
      "Northern Mariana Islands has been removed\n",
      "54 U.S. Virgin Islands 200 200 200\n",
      "U.S. Virgin Islands has been removed\n",
      "55 Guam 200 200 200\n",
      "Guam has been removed\n",
      "56 Puerto Rico 200 200 200\n",
      "Puerto Rico has been removed\n"
     ]
    }
   ],
   "source": [
    "count = 1\n",
    "states = df_hosp['region_name'].unique()\n",
    "for state in states:\n",
    "    df_state_hosp = df_hosp.loc[df_hosp['region_name']==state]\n",
    "    print(count,state, df_state_hosp.shape[0], df_state_hosp['hospitalized_new'].value_counts()[0.0],\n",
    "         df_state_hosp['hospitalized_cumulative'].value_counts()[0.0])\n",
    "    count+=1\n",
    "    if df_state_hosp['hospitalized_new'].value_counts()[0.0] > df_state_hosp.shape[0]*0.8:\n",
    "        print(state + \" has been removed\")\n",
    "        # remove data from state\n",
    "        df_hosp = df_hosp[(df_hosp.region_name != state)] "
   ]
  },
  {
   "cell_type": "markdown",
   "metadata": {},
   "source": [
    "#### 2. Remove Data Points with > XX number of consecutive 0 new hospitalisation days"
   ]
  },
  {
   "cell_type": "code",
   "execution_count": 379,
   "metadata": {},
   "outputs": [
    {
     "data": {
      "text/plain": [
       "['South Dakota',\n",
       " 'Montana',\n",
       " 'Maine',\n",
       " 'Idaho',\n",
       " 'New Mexico',\n",
       " 'Hawaii',\n",
       " 'Wyoming',\n",
       " 'North Dakota',\n",
       " 'New Hampshire',\n",
       " 'Rhode Island',\n",
       " 'Nebraska']"
      ]
     },
     "execution_count": 379,
     "metadata": {},
     "output_type": "execute_result"
    }
   ],
   "source": [
    "# Taking Data from Only States with Search Trend Data\n",
    "states = list(set(df_hosp['region_name'].unique()) & set(df_st['sub_region_1'].unique()))\n",
    "states"
   ]
  },
  {
   "cell_type": "code",
   "execution_count": 380,
   "metadata": {
    "scrolled": true
   },
   "outputs": [
    {
     "name": "stdout",
     "output_type": "stream",
     "text": [
      "1 South Dakota\n",
      "Removed Data between:2020-03-07 to 2020-03-30\n",
      "2 Montana\n",
      "Removed Data between:2020-03-07 to 2020-03-25\n",
      "3 Maine\n",
      "Removed Data between:2020-03-07 to 2020-03-29\n",
      "4 Idaho\n",
      "Removed Data between:2020-03-07 to 2020-03-27\n",
      "5 New Mexico\n",
      "Removed Data between:2020-03-06 to 2020-04-13\n",
      "6 Hawaii\n",
      "Removed Data between:2020-03-07 to 2020-03-23\n",
      "7 Wyoming\n",
      "Removed Data between:2020-03-07 to 2020-03-26\n",
      "8 North Dakota\n",
      "9 New Hampshire\n",
      "Removed Data between:2020-03-04 to 2020-03-23\n",
      "10 Rhode Island\n",
      "Removed Data between:2020-03-01 to 2020-04-12\n",
      "11 Nebraska\n",
      "Removed Data between:2020-03-05 to 2020-06-02\n"
     ]
    }
   ],
   "source": [
    "# Remove Data Points with > threshold number of consecutive days with 0.0 values\n",
    "threshold = 14\n",
    "count = 1\n",
    "df_hosp_clean = pd.DataFrame()\n",
    "for state in states:\n",
    "    print(str(count)+' ' + state)\n",
    "    df_state = df_hosp.loc[df_hosp['region_name']==state] \n",
    "    df_state.insert(5,'hosp_new_iszero',df_state.hospitalized_new == 0.0)\n",
    "    df_state.insert(6,'group',(df_state.hosp_new_iszero != df_state.hosp_new_iszero.shift()).cumsum())\n",
    "    df_state.insert(7,'count', df_state.groupby(['hosp_new_iszero', 'group']).cumcount(ascending=False) + 1)\n",
    "    df_state\n",
    "    hold = df_state[(df_state['hosp_new_iszero'] == True) & (df_state['count']>threshold)]\n",
    "    groups_remove = hold['group'].unique()\n",
    "    count +=1\n",
    "    for i in groups_remove:\n",
    "        dates = df_state[(df_state.group == i)]['date']\n",
    "        dates.min()\n",
    "        print('Removed Data between:'+ dates.min() +' to '+ dates.max() )\n",
    "        df_state = df_state[(df_state.group != i)]\n",
    "    df_hosp_clean= df_hosp_clean.append(df_state)"
   ]
  },
  {
   "cell_type": "markdown",
   "metadata": {},
   "source": [
    "### Plot Check Cleaned Data"
   ]
  },
  {
   "cell_type": "code",
   "execution_count": 403,
   "metadata": {},
   "outputs": [
    {
     "data": {
      "application/vnd.plotly.v1+json": {
       "config": {
        "plotlyServerURL": "https://plot.ly"
       },
       "data": [
        {
         "hovertemplate": "region_name=North Dakota<br>date=%{x}<br>hospitalized_new=%{y}<extra></extra>",
         "legendgroup": "North Dakota",
         "line": {
          "color": "#636efa",
          "dash": "solid"
         },
         "mode": "lines",
         "name": "North Dakota",
         "orientation": "v",
         "showlegend": true,
         "type": "scatter",
         "x": [
          "2020-03-07",
          "2020-03-08",
          "2020-03-09",
          "2020-03-10",
          "2020-03-11",
          "2020-03-12",
          "2020-03-13",
          "2020-03-14",
          "2020-03-15",
          "2020-03-16",
          "2020-03-17",
          "2020-03-18",
          "2020-03-19",
          "2020-03-20",
          "2020-03-21",
          "2020-03-22",
          "2020-03-23",
          "2020-03-24",
          "2020-03-25",
          "2020-03-26",
          "2020-03-27",
          "2020-03-28",
          "2020-03-29",
          "2020-03-30",
          "2020-03-31",
          "2020-04-01",
          "2020-04-02",
          "2020-04-03",
          "2020-04-04",
          "2020-04-05",
          "2020-04-06",
          "2020-04-07",
          "2020-04-08",
          "2020-04-09",
          "2020-04-10",
          "2020-04-11",
          "2020-04-12",
          "2020-04-13",
          "2020-04-14",
          "2020-04-15",
          "2020-04-16",
          "2020-04-17",
          "2020-04-18",
          "2020-04-19",
          "2020-04-20",
          "2020-04-21",
          "2020-04-22",
          "2020-04-23",
          "2020-04-24",
          "2020-04-25",
          "2020-04-26",
          "2020-04-27",
          "2020-04-28",
          "2020-04-29",
          "2020-04-30",
          "2020-05-01",
          "2020-05-02",
          "2020-05-03",
          "2020-05-04",
          "2020-05-05",
          "2020-05-06",
          "2020-05-07",
          "2020-05-08",
          "2020-05-09",
          "2020-05-10",
          "2020-05-11",
          "2020-05-12",
          "2020-05-13",
          "2020-05-14",
          "2020-05-15",
          "2020-05-16",
          "2020-05-17",
          "2020-05-18",
          "2020-05-19",
          "2020-05-20",
          "2020-05-21",
          "2020-05-22",
          "2020-05-23",
          "2020-05-24",
          "2020-05-25",
          "2020-05-26",
          "2020-05-27",
          "2020-05-28",
          "2020-05-29",
          "2020-05-30",
          "2020-05-31",
          "2020-06-01",
          "2020-06-02",
          "2020-06-03",
          "2020-06-04",
          "2020-06-05",
          "2020-06-06",
          "2020-06-07",
          "2020-06-08",
          "2020-06-09",
          "2020-06-10",
          "2020-06-11",
          "2020-06-12",
          "2020-06-13",
          "2020-06-14",
          "2020-06-15",
          "2020-06-16",
          "2020-06-17",
          "2020-06-18",
          "2020-06-19",
          "2020-06-20",
          "2020-06-21",
          "2020-06-22",
          "2020-06-23",
          "2020-06-24",
          "2020-06-25",
          "2020-06-26",
          "2020-06-27",
          "2020-06-28",
          "2020-06-29",
          "2020-06-30",
          "2020-07-01",
          "2020-07-02",
          "2020-07-03",
          "2020-07-04",
          "2020-07-05",
          "2020-07-06",
          "2020-07-07",
          "2020-07-08",
          "2020-07-09",
          "2020-07-10",
          "2020-07-11",
          "2020-07-12",
          "2020-07-13",
          "2020-07-14",
          "2020-07-15",
          "2020-07-16",
          "2020-07-17",
          "2020-07-18",
          "2020-07-19",
          "2020-07-20",
          "2020-07-21",
          "2020-07-22",
          "2020-07-23",
          "2020-07-24",
          "2020-07-25",
          "2020-07-26",
          "2020-07-27",
          "2020-07-28",
          "2020-07-29",
          "2020-07-30",
          "2020-07-31",
          "2020-08-01",
          "2020-08-02",
          "2020-08-03",
          "2020-08-04",
          "2020-08-05",
          "2020-08-06",
          "2020-08-07",
          "2020-08-08",
          "2020-08-09",
          "2020-08-10",
          "2020-08-11",
          "2020-08-12",
          "2020-08-13",
          "2020-08-14",
          "2020-08-15",
          "2020-08-16",
          "2020-08-17",
          "2020-08-18",
          "2020-08-19",
          "2020-08-20",
          "2020-08-21",
          "2020-08-22",
          "2020-08-23",
          "2020-08-24",
          "2020-08-25",
          "2020-08-26",
          "2020-08-27",
          "2020-08-28",
          "2020-08-29",
          "2020-08-30",
          "2020-08-31",
          "2020-09-01",
          "2020-09-02",
          "2020-09-03",
          "2020-09-04",
          "2020-09-05",
          "2020-09-06",
          "2020-09-07",
          "2020-09-08",
          "2020-09-09",
          "2020-09-10",
          "2020-09-11",
          "2020-09-12",
          "2020-09-13",
          "2020-09-14",
          "2020-09-15",
          "2020-09-16",
          "2020-09-17",
          "2020-09-18",
          "2020-09-19",
          "2020-09-20",
          "2020-09-21",
          "2020-09-22",
          "2020-09-23",
          "2020-09-24",
          "2020-09-25",
          "2020-09-26",
          "2020-09-27",
          "2020-09-28",
          "2020-09-29",
          "2020-09-30",
          "2020-10-01"
         ],
         "xaxis": "x",
         "y": [
          0,
          0,
          0,
          0,
          0,
          0,
          0,
          0,
          0,
          0,
          0,
          0,
          0,
          0,
          3,
          0,
          1,
          1,
          3,
          2,
          3,
          3,
          1,
          2,
          2,
          2,
          5,
          1,
          1,
          1,
          1,
          1,
          1,
          0,
          2,
          0,
          3,
          1,
          2,
          2,
          1,
          2,
          0,
          4,
          2,
          1,
          8,
          3,
          2,
          3,
          1,
          6,
          2,
          3,
          3,
          1,
          4,
          0,
          4,
          1,
          2,
          5,
          2,
          6,
          0,
          5,
          7,
          5,
          2,
          1,
          0,
          0,
          3,
          2,
          7,
          2,
          3,
          3,
          2,
          2,
          2,
          5,
          0,
          3,
          1,
          2,
          2,
          1,
          2,
          3,
          5,
          2,
          1,
          1,
          5,
          4,
          0,
          4,
          0,
          0,
          0,
          3,
          1,
          7,
          2,
          3,
          3,
          2,
          0,
          1,
          3,
          0,
          3,
          1,
          1,
          4,
          3,
          0,
          3,
          4,
          1,
          3,
          3,
          4,
          5,
          3,
          3,
          8,
          6,
          3,
          4,
          1,
          5,
          5,
          7,
          3,
          4,
          8,
          5,
          3,
          3,
          5,
          4,
          6,
          8,
          5,
          8,
          7,
          0,
          8,
          10,
          5,
          6,
          8,
          6,
          1,
          2,
          13,
          10,
          5,
          10,
          2,
          2,
          2,
          8,
          9,
          0,
          13,
          8,
          2,
          4,
          14,
          6,
          9,
          16,
          1,
          3,
          0,
          10,
          11,
          8,
          7,
          6,
          2,
          4,
          2,
          7,
          13,
          6,
          4,
          9,
          3,
          11,
          17,
          17,
          14,
          11,
          7,
          7,
          22,
          11,
          14,
          12,
          20,
          6,
          13,
          20,
          11,
          25
         ],
         "yaxis": "y"
        }
       ],
       "layout": {
        "legend": {
         "title": {
          "text": "region_name"
         },
         "tracegroupgap": 0
        },
        "margin": {
         "t": 60
        },
        "template": {
         "data": {
          "bar": [
           {
            "error_x": {
             "color": "#2a3f5f"
            },
            "error_y": {
             "color": "#2a3f5f"
            },
            "marker": {
             "line": {
              "color": "#E5ECF6",
              "width": 0.5
             }
            },
            "type": "bar"
           }
          ],
          "barpolar": [
           {
            "marker": {
             "line": {
              "color": "#E5ECF6",
              "width": 0.5
             }
            },
            "type": "barpolar"
           }
          ],
          "carpet": [
           {
            "aaxis": {
             "endlinecolor": "#2a3f5f",
             "gridcolor": "white",
             "linecolor": "white",
             "minorgridcolor": "white",
             "startlinecolor": "#2a3f5f"
            },
            "baxis": {
             "endlinecolor": "#2a3f5f",
             "gridcolor": "white",
             "linecolor": "white",
             "minorgridcolor": "white",
             "startlinecolor": "#2a3f5f"
            },
            "type": "carpet"
           }
          ],
          "choropleth": [
           {
            "colorbar": {
             "outlinewidth": 0,
             "ticks": ""
            },
            "type": "choropleth"
           }
          ],
          "contour": [
           {
            "colorbar": {
             "outlinewidth": 0,
             "ticks": ""
            },
            "colorscale": [
             [
              0,
              "#0d0887"
             ],
             [
              0.1111111111111111,
              "#46039f"
             ],
             [
              0.2222222222222222,
              "#7201a8"
             ],
             [
              0.3333333333333333,
              "#9c179e"
             ],
             [
              0.4444444444444444,
              "#bd3786"
             ],
             [
              0.5555555555555556,
              "#d8576b"
             ],
             [
              0.6666666666666666,
              "#ed7953"
             ],
             [
              0.7777777777777778,
              "#fb9f3a"
             ],
             [
              0.8888888888888888,
              "#fdca26"
             ],
             [
              1,
              "#f0f921"
             ]
            ],
            "type": "contour"
           }
          ],
          "contourcarpet": [
           {
            "colorbar": {
             "outlinewidth": 0,
             "ticks": ""
            },
            "type": "contourcarpet"
           }
          ],
          "heatmap": [
           {
            "colorbar": {
             "outlinewidth": 0,
             "ticks": ""
            },
            "colorscale": [
             [
              0,
              "#0d0887"
             ],
             [
              0.1111111111111111,
              "#46039f"
             ],
             [
              0.2222222222222222,
              "#7201a8"
             ],
             [
              0.3333333333333333,
              "#9c179e"
             ],
             [
              0.4444444444444444,
              "#bd3786"
             ],
             [
              0.5555555555555556,
              "#d8576b"
             ],
             [
              0.6666666666666666,
              "#ed7953"
             ],
             [
              0.7777777777777778,
              "#fb9f3a"
             ],
             [
              0.8888888888888888,
              "#fdca26"
             ],
             [
              1,
              "#f0f921"
             ]
            ],
            "type": "heatmap"
           }
          ],
          "heatmapgl": [
           {
            "colorbar": {
             "outlinewidth": 0,
             "ticks": ""
            },
            "colorscale": [
             [
              0,
              "#0d0887"
             ],
             [
              0.1111111111111111,
              "#46039f"
             ],
             [
              0.2222222222222222,
              "#7201a8"
             ],
             [
              0.3333333333333333,
              "#9c179e"
             ],
             [
              0.4444444444444444,
              "#bd3786"
             ],
             [
              0.5555555555555556,
              "#d8576b"
             ],
             [
              0.6666666666666666,
              "#ed7953"
             ],
             [
              0.7777777777777778,
              "#fb9f3a"
             ],
             [
              0.8888888888888888,
              "#fdca26"
             ],
             [
              1,
              "#f0f921"
             ]
            ],
            "type": "heatmapgl"
           }
          ],
          "histogram": [
           {
            "marker": {
             "colorbar": {
              "outlinewidth": 0,
              "ticks": ""
             }
            },
            "type": "histogram"
           }
          ],
          "histogram2d": [
           {
            "colorbar": {
             "outlinewidth": 0,
             "ticks": ""
            },
            "colorscale": [
             [
              0,
              "#0d0887"
             ],
             [
              0.1111111111111111,
              "#46039f"
             ],
             [
              0.2222222222222222,
              "#7201a8"
             ],
             [
              0.3333333333333333,
              "#9c179e"
             ],
             [
              0.4444444444444444,
              "#bd3786"
             ],
             [
              0.5555555555555556,
              "#d8576b"
             ],
             [
              0.6666666666666666,
              "#ed7953"
             ],
             [
              0.7777777777777778,
              "#fb9f3a"
             ],
             [
              0.8888888888888888,
              "#fdca26"
             ],
             [
              1,
              "#f0f921"
             ]
            ],
            "type": "histogram2d"
           }
          ],
          "histogram2dcontour": [
           {
            "colorbar": {
             "outlinewidth": 0,
             "ticks": ""
            },
            "colorscale": [
             [
              0,
              "#0d0887"
             ],
             [
              0.1111111111111111,
              "#46039f"
             ],
             [
              0.2222222222222222,
              "#7201a8"
             ],
             [
              0.3333333333333333,
              "#9c179e"
             ],
             [
              0.4444444444444444,
              "#bd3786"
             ],
             [
              0.5555555555555556,
              "#d8576b"
             ],
             [
              0.6666666666666666,
              "#ed7953"
             ],
             [
              0.7777777777777778,
              "#fb9f3a"
             ],
             [
              0.8888888888888888,
              "#fdca26"
             ],
             [
              1,
              "#f0f921"
             ]
            ],
            "type": "histogram2dcontour"
           }
          ],
          "mesh3d": [
           {
            "colorbar": {
             "outlinewidth": 0,
             "ticks": ""
            },
            "type": "mesh3d"
           }
          ],
          "parcoords": [
           {
            "line": {
             "colorbar": {
              "outlinewidth": 0,
              "ticks": ""
             }
            },
            "type": "parcoords"
           }
          ],
          "pie": [
           {
            "automargin": true,
            "type": "pie"
           }
          ],
          "scatter": [
           {
            "marker": {
             "colorbar": {
              "outlinewidth": 0,
              "ticks": ""
             }
            },
            "type": "scatter"
           }
          ],
          "scatter3d": [
           {
            "line": {
             "colorbar": {
              "outlinewidth": 0,
              "ticks": ""
             }
            },
            "marker": {
             "colorbar": {
              "outlinewidth": 0,
              "ticks": ""
             }
            },
            "type": "scatter3d"
           }
          ],
          "scattercarpet": [
           {
            "marker": {
             "colorbar": {
              "outlinewidth": 0,
              "ticks": ""
             }
            },
            "type": "scattercarpet"
           }
          ],
          "scattergeo": [
           {
            "marker": {
             "colorbar": {
              "outlinewidth": 0,
              "ticks": ""
             }
            },
            "type": "scattergeo"
           }
          ],
          "scattergl": [
           {
            "marker": {
             "colorbar": {
              "outlinewidth": 0,
              "ticks": ""
             }
            },
            "type": "scattergl"
           }
          ],
          "scattermapbox": [
           {
            "marker": {
             "colorbar": {
              "outlinewidth": 0,
              "ticks": ""
             }
            },
            "type": "scattermapbox"
           }
          ],
          "scatterpolar": [
           {
            "marker": {
             "colorbar": {
              "outlinewidth": 0,
              "ticks": ""
             }
            },
            "type": "scatterpolar"
           }
          ],
          "scatterpolargl": [
           {
            "marker": {
             "colorbar": {
              "outlinewidth": 0,
              "ticks": ""
             }
            },
            "type": "scatterpolargl"
           }
          ],
          "scatterternary": [
           {
            "marker": {
             "colorbar": {
              "outlinewidth": 0,
              "ticks": ""
             }
            },
            "type": "scatterternary"
           }
          ],
          "surface": [
           {
            "colorbar": {
             "outlinewidth": 0,
             "ticks": ""
            },
            "colorscale": [
             [
              0,
              "#0d0887"
             ],
             [
              0.1111111111111111,
              "#46039f"
             ],
             [
              0.2222222222222222,
              "#7201a8"
             ],
             [
              0.3333333333333333,
              "#9c179e"
             ],
             [
              0.4444444444444444,
              "#bd3786"
             ],
             [
              0.5555555555555556,
              "#d8576b"
             ],
             [
              0.6666666666666666,
              "#ed7953"
             ],
             [
              0.7777777777777778,
              "#fb9f3a"
             ],
             [
              0.8888888888888888,
              "#fdca26"
             ],
             [
              1,
              "#f0f921"
             ]
            ],
            "type": "surface"
           }
          ],
          "table": [
           {
            "cells": {
             "fill": {
              "color": "#EBF0F8"
             },
             "line": {
              "color": "white"
             }
            },
            "header": {
             "fill": {
              "color": "#C8D4E3"
             },
             "line": {
              "color": "white"
             }
            },
            "type": "table"
           }
          ]
         },
         "layout": {
          "annotationdefaults": {
           "arrowcolor": "#2a3f5f",
           "arrowhead": 0,
           "arrowwidth": 1
          },
          "coloraxis": {
           "colorbar": {
            "outlinewidth": 0,
            "ticks": ""
           }
          },
          "colorscale": {
           "diverging": [
            [
             0,
             "#8e0152"
            ],
            [
             0.1,
             "#c51b7d"
            ],
            [
             0.2,
             "#de77ae"
            ],
            [
             0.3,
             "#f1b6da"
            ],
            [
             0.4,
             "#fde0ef"
            ],
            [
             0.5,
             "#f7f7f7"
            ],
            [
             0.6,
             "#e6f5d0"
            ],
            [
             0.7,
             "#b8e186"
            ],
            [
             0.8,
             "#7fbc41"
            ],
            [
             0.9,
             "#4d9221"
            ],
            [
             1,
             "#276419"
            ]
           ],
           "sequential": [
            [
             0,
             "#0d0887"
            ],
            [
             0.1111111111111111,
             "#46039f"
            ],
            [
             0.2222222222222222,
             "#7201a8"
            ],
            [
             0.3333333333333333,
             "#9c179e"
            ],
            [
             0.4444444444444444,
             "#bd3786"
            ],
            [
             0.5555555555555556,
             "#d8576b"
            ],
            [
             0.6666666666666666,
             "#ed7953"
            ],
            [
             0.7777777777777778,
             "#fb9f3a"
            ],
            [
             0.8888888888888888,
             "#fdca26"
            ],
            [
             1,
             "#f0f921"
            ]
           ],
           "sequentialminus": [
            [
             0,
             "#0d0887"
            ],
            [
             0.1111111111111111,
             "#46039f"
            ],
            [
             0.2222222222222222,
             "#7201a8"
            ],
            [
             0.3333333333333333,
             "#9c179e"
            ],
            [
             0.4444444444444444,
             "#bd3786"
            ],
            [
             0.5555555555555556,
             "#d8576b"
            ],
            [
             0.6666666666666666,
             "#ed7953"
            ],
            [
             0.7777777777777778,
             "#fb9f3a"
            ],
            [
             0.8888888888888888,
             "#fdca26"
            ],
            [
             1,
             "#f0f921"
            ]
           ]
          },
          "colorway": [
           "#636efa",
           "#EF553B",
           "#00cc96",
           "#ab63fa",
           "#FFA15A",
           "#19d3f3",
           "#FF6692",
           "#B6E880",
           "#FF97FF",
           "#FECB52"
          ],
          "font": {
           "color": "#2a3f5f"
          },
          "geo": {
           "bgcolor": "white",
           "lakecolor": "white",
           "landcolor": "#E5ECF6",
           "showlakes": true,
           "showland": true,
           "subunitcolor": "white"
          },
          "hoverlabel": {
           "align": "left"
          },
          "hovermode": "closest",
          "mapbox": {
           "style": "light"
          },
          "paper_bgcolor": "white",
          "plot_bgcolor": "#E5ECF6",
          "polar": {
           "angularaxis": {
            "gridcolor": "white",
            "linecolor": "white",
            "ticks": ""
           },
           "bgcolor": "#E5ECF6",
           "radialaxis": {
            "gridcolor": "white",
            "linecolor": "white",
            "ticks": ""
           }
          },
          "scene": {
           "xaxis": {
            "backgroundcolor": "#E5ECF6",
            "gridcolor": "white",
            "gridwidth": 2,
            "linecolor": "white",
            "showbackground": true,
            "ticks": "",
            "zerolinecolor": "white"
           },
           "yaxis": {
            "backgroundcolor": "#E5ECF6",
            "gridcolor": "white",
            "gridwidth": 2,
            "linecolor": "white",
            "showbackground": true,
            "ticks": "",
            "zerolinecolor": "white"
           },
           "zaxis": {
            "backgroundcolor": "#E5ECF6",
            "gridcolor": "white",
            "gridwidth": 2,
            "linecolor": "white",
            "showbackground": true,
            "ticks": "",
            "zerolinecolor": "white"
           }
          },
          "shapedefaults": {
           "line": {
            "color": "#2a3f5f"
           }
          },
          "ternary": {
           "aaxis": {
            "gridcolor": "white",
            "linecolor": "white",
            "ticks": ""
           },
           "baxis": {
            "gridcolor": "white",
            "linecolor": "white",
            "ticks": ""
           },
           "bgcolor": "#E5ECF6",
           "caxis": {
            "gridcolor": "white",
            "linecolor": "white",
            "ticks": ""
           }
          },
          "title": {
           "x": 0.05
          },
          "xaxis": {
           "automargin": true,
           "gridcolor": "white",
           "linecolor": "white",
           "ticks": "",
           "title": {
            "standoff": 15
           },
           "zerolinecolor": "white",
           "zerolinewidth": 2
          },
          "yaxis": {
           "automargin": true,
           "gridcolor": "white",
           "linecolor": "white",
           "ticks": "",
           "title": {
            "standoff": 15
           },
           "zerolinecolor": "white",
           "zerolinewidth": 2
          }
         }
        },
        "xaxis": {
         "anchor": "y",
         "domain": [
          0,
          1
         ],
         "title": {
          "text": "date"
         }
        },
        "yaxis": {
         "anchor": "x",
         "domain": [
          0,
          1
         ],
         "title": {
          "text": "hospitalized_new"
         }
        }
       }
      },
      "text/html": [
       "<div>                            <div id=\"76aff4a9-0388-49be-8b62-d16dee268083\" class=\"plotly-graph-div\" style=\"height:525px; width:100%;\"></div>            <script type=\"text/javascript\">                require([\"plotly\"], function(Plotly) {                    window.PLOTLYENV=window.PLOTLYENV || {};                                    if (document.getElementById(\"76aff4a9-0388-49be-8b62-d16dee268083\")) {                    Plotly.newPlot(                        \"76aff4a9-0388-49be-8b62-d16dee268083\",                        [{\"hovertemplate\": \"region_name=North Dakota<br>date=%{x}<br>hospitalized_new=%{y}<extra></extra>\", \"legendgroup\": \"North Dakota\", \"line\": {\"color\": \"#636efa\", \"dash\": \"solid\"}, \"mode\": \"lines\", \"name\": \"North Dakota\", \"orientation\": \"v\", \"showlegend\": true, \"type\": \"scatter\", \"x\": [\"2020-03-07\", \"2020-03-08\", \"2020-03-09\", \"2020-03-10\", \"2020-03-11\", \"2020-03-12\", \"2020-03-13\", \"2020-03-14\", \"2020-03-15\", \"2020-03-16\", \"2020-03-17\", \"2020-03-18\", \"2020-03-19\", \"2020-03-20\", \"2020-03-21\", \"2020-03-22\", \"2020-03-23\", \"2020-03-24\", \"2020-03-25\", \"2020-03-26\", \"2020-03-27\", \"2020-03-28\", \"2020-03-29\", \"2020-03-30\", \"2020-03-31\", \"2020-04-01\", \"2020-04-02\", \"2020-04-03\", \"2020-04-04\", \"2020-04-05\", \"2020-04-06\", \"2020-04-07\", \"2020-04-08\", \"2020-04-09\", \"2020-04-10\", \"2020-04-11\", \"2020-04-12\", \"2020-04-13\", \"2020-04-14\", \"2020-04-15\", \"2020-04-16\", \"2020-04-17\", \"2020-04-18\", \"2020-04-19\", \"2020-04-20\", \"2020-04-21\", \"2020-04-22\", \"2020-04-23\", \"2020-04-24\", \"2020-04-25\", \"2020-04-26\", \"2020-04-27\", \"2020-04-28\", \"2020-04-29\", \"2020-04-30\", \"2020-05-01\", \"2020-05-02\", \"2020-05-03\", \"2020-05-04\", \"2020-05-05\", \"2020-05-06\", \"2020-05-07\", \"2020-05-08\", \"2020-05-09\", \"2020-05-10\", \"2020-05-11\", \"2020-05-12\", \"2020-05-13\", \"2020-05-14\", \"2020-05-15\", \"2020-05-16\", \"2020-05-17\", \"2020-05-18\", \"2020-05-19\", \"2020-05-20\", \"2020-05-21\", \"2020-05-22\", \"2020-05-23\", \"2020-05-24\", \"2020-05-25\", \"2020-05-26\", \"2020-05-27\", \"2020-05-28\", \"2020-05-29\", \"2020-05-30\", \"2020-05-31\", \"2020-06-01\", \"2020-06-02\", \"2020-06-03\", \"2020-06-04\", \"2020-06-05\", \"2020-06-06\", \"2020-06-07\", \"2020-06-08\", \"2020-06-09\", \"2020-06-10\", \"2020-06-11\", \"2020-06-12\", \"2020-06-13\", \"2020-06-14\", \"2020-06-15\", \"2020-06-16\", \"2020-06-17\", \"2020-06-18\", \"2020-06-19\", \"2020-06-20\", \"2020-06-21\", \"2020-06-22\", \"2020-06-23\", \"2020-06-24\", \"2020-06-25\", \"2020-06-26\", \"2020-06-27\", \"2020-06-28\", \"2020-06-29\", \"2020-06-30\", \"2020-07-01\", \"2020-07-02\", \"2020-07-03\", \"2020-07-04\", \"2020-07-05\", \"2020-07-06\", \"2020-07-07\", \"2020-07-08\", \"2020-07-09\", \"2020-07-10\", \"2020-07-11\", \"2020-07-12\", \"2020-07-13\", \"2020-07-14\", \"2020-07-15\", \"2020-07-16\", \"2020-07-17\", \"2020-07-18\", \"2020-07-19\", \"2020-07-20\", \"2020-07-21\", \"2020-07-22\", \"2020-07-23\", \"2020-07-24\", \"2020-07-25\", \"2020-07-26\", \"2020-07-27\", \"2020-07-28\", \"2020-07-29\", \"2020-07-30\", \"2020-07-31\", \"2020-08-01\", \"2020-08-02\", \"2020-08-03\", \"2020-08-04\", \"2020-08-05\", \"2020-08-06\", \"2020-08-07\", \"2020-08-08\", \"2020-08-09\", \"2020-08-10\", \"2020-08-11\", \"2020-08-12\", \"2020-08-13\", \"2020-08-14\", \"2020-08-15\", \"2020-08-16\", \"2020-08-17\", \"2020-08-18\", \"2020-08-19\", \"2020-08-20\", \"2020-08-21\", \"2020-08-22\", \"2020-08-23\", \"2020-08-24\", \"2020-08-25\", \"2020-08-26\", \"2020-08-27\", \"2020-08-28\", \"2020-08-29\", \"2020-08-30\", \"2020-08-31\", \"2020-09-01\", \"2020-09-02\", \"2020-09-03\", \"2020-09-04\", \"2020-09-05\", \"2020-09-06\", \"2020-09-07\", \"2020-09-08\", \"2020-09-09\", \"2020-09-10\", \"2020-09-11\", \"2020-09-12\", \"2020-09-13\", \"2020-09-14\", \"2020-09-15\", \"2020-09-16\", \"2020-09-17\", \"2020-09-18\", \"2020-09-19\", \"2020-09-20\", \"2020-09-21\", \"2020-09-22\", \"2020-09-23\", \"2020-09-24\", \"2020-09-25\", \"2020-09-26\", \"2020-09-27\", \"2020-09-28\", \"2020-09-29\", \"2020-09-30\", \"2020-10-01\"], \"xaxis\": \"x\", \"y\": [0.0, 0.0, 0.0, 0.0, 0.0, 0.0, 0.0, 0.0, 0.0, 0.0, 0.0, 0.0, 0.0, 0.0, 3.0, 0.0, 1.0, 1.0, 3.0, 2.0, 3.0, 3.0, 1.0, 2.0, 2.0, 2.0, 5.0, 1.0, 1.0, 1.0, 1.0, 1.0, 1.0, 0.0, 2.0, 0.0, 3.0, 1.0, 2.0, 2.0, 1.0, 2.0, 0.0, 4.0, 2.0, 1.0, 8.0, 3.0, 2.0, 3.0, 1.0, 6.0, 2.0, 3.0, 3.0, 1.0, 4.0, 0.0, 4.0, 1.0, 2.0, 5.0, 2.0, 6.0, 0.0, 5.0, 7.0, 5.0, 2.0, 1.0, 0.0, 0.0, 3.0, 2.0, 7.0, 2.0, 3.0, 3.0, 2.0, 2.0, 2.0, 5.0, 0.0, 3.0, 1.0, 2.0, 2.0, 1.0, 2.0, 3.0, 5.0, 2.0, 1.0, 1.0, 5.0, 4.0, 0.0, 4.0, 0.0, 0.0, 0.0, 3.0, 1.0, 7.0, 2.0, 3.0, 3.0, 2.0, 0.0, 1.0, 3.0, 0.0, 3.0, 1.0, 1.0, 4.0, 3.0, 0.0, 3.0, 4.0, 1.0, 3.0, 3.0, 4.0, 5.0, 3.0, 3.0, 8.0, 6.0, 3.0, 4.0, 1.0, 5.0, 5.0, 7.0, 3.0, 4.0, 8.0, 5.0, 3.0, 3.0, 5.0, 4.0, 6.0, 8.0, 5.0, 8.0, 7.0, 0.0, 8.0, 10.0, 5.0, 6.0, 8.0, 6.0, 1.0, 2.0, 13.0, 10.0, 5.0, 10.0, 2.0, 2.0, 2.0, 8.0, 9.0, 0.0, 13.0, 8.0, 2.0, 4.0, 14.0, 6.0, 9.0, 16.0, 1.0, 3.0, 0.0, 10.0, 11.0, 8.0, 7.0, 6.0, 2.0, 4.0, 2.0, 7.0, 13.0, 6.0, 4.0, 9.0, 3.0, 11.0, 17.0, 17.0, 14.0, 11.0, 7.0, 7.0, 22.0, 11.0, 14.0, 12.0, 20.0, 6.0, 13.0, 20.0, 11.0, 25.0], \"yaxis\": \"y\"}],                        {\"legend\": {\"title\": {\"text\": \"region_name\"}, \"tracegroupgap\": 0}, \"margin\": {\"t\": 60}, \"template\": {\"data\": {\"bar\": [{\"error_x\": {\"color\": \"#2a3f5f\"}, \"error_y\": {\"color\": \"#2a3f5f\"}, \"marker\": {\"line\": {\"color\": \"#E5ECF6\", \"width\": 0.5}}, \"type\": \"bar\"}], \"barpolar\": [{\"marker\": {\"line\": {\"color\": \"#E5ECF6\", \"width\": 0.5}}, \"type\": \"barpolar\"}], \"carpet\": [{\"aaxis\": {\"endlinecolor\": \"#2a3f5f\", \"gridcolor\": \"white\", \"linecolor\": \"white\", \"minorgridcolor\": \"white\", \"startlinecolor\": \"#2a3f5f\"}, \"baxis\": {\"endlinecolor\": \"#2a3f5f\", \"gridcolor\": \"white\", \"linecolor\": \"white\", \"minorgridcolor\": \"white\", \"startlinecolor\": \"#2a3f5f\"}, \"type\": \"carpet\"}], \"choropleth\": [{\"colorbar\": {\"outlinewidth\": 0, \"ticks\": \"\"}, \"type\": \"choropleth\"}], \"contour\": [{\"colorbar\": {\"outlinewidth\": 0, \"ticks\": \"\"}, \"colorscale\": [[0.0, \"#0d0887\"], [0.1111111111111111, \"#46039f\"], [0.2222222222222222, \"#7201a8\"], [0.3333333333333333, \"#9c179e\"], [0.4444444444444444, \"#bd3786\"], [0.5555555555555556, \"#d8576b\"], [0.6666666666666666, \"#ed7953\"], [0.7777777777777778, \"#fb9f3a\"], [0.8888888888888888, \"#fdca26\"], [1.0, \"#f0f921\"]], \"type\": \"contour\"}], \"contourcarpet\": [{\"colorbar\": {\"outlinewidth\": 0, \"ticks\": \"\"}, \"type\": \"contourcarpet\"}], \"heatmap\": [{\"colorbar\": {\"outlinewidth\": 0, \"ticks\": \"\"}, \"colorscale\": [[0.0, \"#0d0887\"], [0.1111111111111111, \"#46039f\"], [0.2222222222222222, \"#7201a8\"], [0.3333333333333333, \"#9c179e\"], [0.4444444444444444, \"#bd3786\"], [0.5555555555555556, \"#d8576b\"], [0.6666666666666666, \"#ed7953\"], [0.7777777777777778, \"#fb9f3a\"], [0.8888888888888888, \"#fdca26\"], [1.0, \"#f0f921\"]], \"type\": \"heatmap\"}], \"heatmapgl\": [{\"colorbar\": {\"outlinewidth\": 0, \"ticks\": \"\"}, \"colorscale\": [[0.0, \"#0d0887\"], [0.1111111111111111, \"#46039f\"], [0.2222222222222222, \"#7201a8\"], [0.3333333333333333, \"#9c179e\"], [0.4444444444444444, \"#bd3786\"], [0.5555555555555556, \"#d8576b\"], [0.6666666666666666, \"#ed7953\"], [0.7777777777777778, \"#fb9f3a\"], [0.8888888888888888, \"#fdca26\"], [1.0, \"#f0f921\"]], \"type\": \"heatmapgl\"}], \"histogram\": [{\"marker\": {\"colorbar\": {\"outlinewidth\": 0, \"ticks\": \"\"}}, \"type\": \"histogram\"}], \"histogram2d\": [{\"colorbar\": {\"outlinewidth\": 0, \"ticks\": \"\"}, \"colorscale\": [[0.0, \"#0d0887\"], [0.1111111111111111, \"#46039f\"], [0.2222222222222222, \"#7201a8\"], [0.3333333333333333, \"#9c179e\"], [0.4444444444444444, \"#bd3786\"], [0.5555555555555556, \"#d8576b\"], [0.6666666666666666, \"#ed7953\"], [0.7777777777777778, \"#fb9f3a\"], [0.8888888888888888, \"#fdca26\"], [1.0, \"#f0f921\"]], \"type\": \"histogram2d\"}], \"histogram2dcontour\": [{\"colorbar\": {\"outlinewidth\": 0, \"ticks\": \"\"}, \"colorscale\": [[0.0, \"#0d0887\"], [0.1111111111111111, \"#46039f\"], [0.2222222222222222, \"#7201a8\"], [0.3333333333333333, \"#9c179e\"], [0.4444444444444444, \"#bd3786\"], [0.5555555555555556, \"#d8576b\"], [0.6666666666666666, \"#ed7953\"], [0.7777777777777778, \"#fb9f3a\"], [0.8888888888888888, \"#fdca26\"], [1.0, \"#f0f921\"]], \"type\": \"histogram2dcontour\"}], \"mesh3d\": [{\"colorbar\": {\"outlinewidth\": 0, \"ticks\": \"\"}, \"type\": \"mesh3d\"}], \"parcoords\": [{\"line\": {\"colorbar\": {\"outlinewidth\": 0, \"ticks\": \"\"}}, \"type\": \"parcoords\"}], \"pie\": [{\"automargin\": true, \"type\": \"pie\"}], \"scatter\": [{\"marker\": {\"colorbar\": {\"outlinewidth\": 0, \"ticks\": \"\"}}, \"type\": \"scatter\"}], \"scatter3d\": [{\"line\": {\"colorbar\": {\"outlinewidth\": 0, \"ticks\": \"\"}}, \"marker\": {\"colorbar\": {\"outlinewidth\": 0, \"ticks\": \"\"}}, \"type\": \"scatter3d\"}], \"scattercarpet\": [{\"marker\": {\"colorbar\": {\"outlinewidth\": 0, \"ticks\": \"\"}}, \"type\": \"scattercarpet\"}], \"scattergeo\": [{\"marker\": {\"colorbar\": {\"outlinewidth\": 0, \"ticks\": \"\"}}, \"type\": \"scattergeo\"}], \"scattergl\": [{\"marker\": {\"colorbar\": {\"outlinewidth\": 0, \"ticks\": \"\"}}, \"type\": \"scattergl\"}], \"scattermapbox\": [{\"marker\": {\"colorbar\": {\"outlinewidth\": 0, \"ticks\": \"\"}}, \"type\": \"scattermapbox\"}], \"scatterpolar\": [{\"marker\": {\"colorbar\": {\"outlinewidth\": 0, \"ticks\": \"\"}}, \"type\": \"scatterpolar\"}], \"scatterpolargl\": [{\"marker\": {\"colorbar\": {\"outlinewidth\": 0, \"ticks\": \"\"}}, \"type\": \"scatterpolargl\"}], \"scatterternary\": [{\"marker\": {\"colorbar\": {\"outlinewidth\": 0, \"ticks\": \"\"}}, \"type\": \"scatterternary\"}], \"surface\": [{\"colorbar\": {\"outlinewidth\": 0, \"ticks\": \"\"}, \"colorscale\": [[0.0, \"#0d0887\"], [0.1111111111111111, \"#46039f\"], [0.2222222222222222, \"#7201a8\"], [0.3333333333333333, \"#9c179e\"], [0.4444444444444444, \"#bd3786\"], [0.5555555555555556, \"#d8576b\"], [0.6666666666666666, \"#ed7953\"], [0.7777777777777778, \"#fb9f3a\"], [0.8888888888888888, \"#fdca26\"], [1.0, \"#f0f921\"]], \"type\": \"surface\"}], \"table\": [{\"cells\": {\"fill\": {\"color\": \"#EBF0F8\"}, \"line\": {\"color\": \"white\"}}, \"header\": {\"fill\": {\"color\": \"#C8D4E3\"}, \"line\": {\"color\": \"white\"}}, \"type\": \"table\"}]}, \"layout\": {\"annotationdefaults\": {\"arrowcolor\": \"#2a3f5f\", \"arrowhead\": 0, \"arrowwidth\": 1}, \"coloraxis\": {\"colorbar\": {\"outlinewidth\": 0, \"ticks\": \"\"}}, \"colorscale\": {\"diverging\": [[0, \"#8e0152\"], [0.1, \"#c51b7d\"], [0.2, \"#de77ae\"], [0.3, \"#f1b6da\"], [0.4, \"#fde0ef\"], [0.5, \"#f7f7f7\"], [0.6, \"#e6f5d0\"], [0.7, \"#b8e186\"], [0.8, \"#7fbc41\"], [0.9, \"#4d9221\"], [1, \"#276419\"]], \"sequential\": [[0.0, \"#0d0887\"], [0.1111111111111111, \"#46039f\"], [0.2222222222222222, \"#7201a8\"], [0.3333333333333333, \"#9c179e\"], [0.4444444444444444, \"#bd3786\"], [0.5555555555555556, \"#d8576b\"], [0.6666666666666666, \"#ed7953\"], [0.7777777777777778, \"#fb9f3a\"], [0.8888888888888888, \"#fdca26\"], [1.0, \"#f0f921\"]], \"sequentialminus\": [[0.0, \"#0d0887\"], [0.1111111111111111, \"#46039f\"], [0.2222222222222222, \"#7201a8\"], [0.3333333333333333, \"#9c179e\"], [0.4444444444444444, \"#bd3786\"], [0.5555555555555556, \"#d8576b\"], [0.6666666666666666, \"#ed7953\"], [0.7777777777777778, \"#fb9f3a\"], [0.8888888888888888, \"#fdca26\"], [1.0, \"#f0f921\"]]}, \"colorway\": [\"#636efa\", \"#EF553B\", \"#00cc96\", \"#ab63fa\", \"#FFA15A\", \"#19d3f3\", \"#FF6692\", \"#B6E880\", \"#FF97FF\", \"#FECB52\"], \"font\": {\"color\": \"#2a3f5f\"}, \"geo\": {\"bgcolor\": \"white\", \"lakecolor\": \"white\", \"landcolor\": \"#E5ECF6\", \"showlakes\": true, \"showland\": true, \"subunitcolor\": \"white\"}, \"hoverlabel\": {\"align\": \"left\"}, \"hovermode\": \"closest\", \"mapbox\": {\"style\": \"light\"}, \"paper_bgcolor\": \"white\", \"plot_bgcolor\": \"#E5ECF6\", \"polar\": {\"angularaxis\": {\"gridcolor\": \"white\", \"linecolor\": \"white\", \"ticks\": \"\"}, \"bgcolor\": \"#E5ECF6\", \"radialaxis\": {\"gridcolor\": \"white\", \"linecolor\": \"white\", \"ticks\": \"\"}}, \"scene\": {\"xaxis\": {\"backgroundcolor\": \"#E5ECF6\", \"gridcolor\": \"white\", \"gridwidth\": 2, \"linecolor\": \"white\", \"showbackground\": true, \"ticks\": \"\", \"zerolinecolor\": \"white\"}, \"yaxis\": {\"backgroundcolor\": \"#E5ECF6\", \"gridcolor\": \"white\", \"gridwidth\": 2, \"linecolor\": \"white\", \"showbackground\": true, \"ticks\": \"\", \"zerolinecolor\": \"white\"}, \"zaxis\": {\"backgroundcolor\": \"#E5ECF6\", \"gridcolor\": \"white\", \"gridwidth\": 2, \"linecolor\": \"white\", \"showbackground\": true, \"ticks\": \"\", \"zerolinecolor\": \"white\"}}, \"shapedefaults\": {\"line\": {\"color\": \"#2a3f5f\"}}, \"ternary\": {\"aaxis\": {\"gridcolor\": \"white\", \"linecolor\": \"white\", \"ticks\": \"\"}, \"baxis\": {\"gridcolor\": \"white\", \"linecolor\": \"white\", \"ticks\": \"\"}, \"bgcolor\": \"#E5ECF6\", \"caxis\": {\"gridcolor\": \"white\", \"linecolor\": \"white\", \"ticks\": \"\"}}, \"title\": {\"x\": 0.05}, \"xaxis\": {\"automargin\": true, \"gridcolor\": \"white\", \"linecolor\": \"white\", \"ticks\": \"\", \"title\": {\"standoff\": 15}, \"zerolinecolor\": \"white\", \"zerolinewidth\": 2}, \"yaxis\": {\"automargin\": true, \"gridcolor\": \"white\", \"linecolor\": \"white\", \"ticks\": \"\", \"title\": {\"standoff\": 15}, \"zerolinecolor\": \"white\", \"zerolinewidth\": 2}}}, \"xaxis\": {\"anchor\": \"y\", \"domain\": [0.0, 1.0], \"title\": {\"text\": \"date\"}}, \"yaxis\": {\"anchor\": \"x\", \"domain\": [0.0, 1.0], \"title\": {\"text\": \"hospitalized_new\"}}},                        {\"responsive\": true}                    ).then(function(){\n",
       "                            \n",
       "var gd = document.getElementById('76aff4a9-0388-49be-8b62-d16dee268083');\n",
       "var x = new MutationObserver(function (mutations, observer) {{\n",
       "        var display = window.getComputedStyle(gd).display;\n",
       "        if (!display || display === 'none') {{\n",
       "            console.log([gd, 'removed!']);\n",
       "            Plotly.purge(gd);\n",
       "            observer.disconnect();\n",
       "        }}\n",
       "}});\n",
       "\n",
       "// Listen for the removal of the full notebook cells\n",
       "var notebookContainer = gd.closest('#notebook-container');\n",
       "if (notebookContainer) {{\n",
       "    x.observe(notebookContainer, {childList: true});\n",
       "}}\n",
       "\n",
       "// Listen for the clearing of the current output cell\n",
       "var outputEl = gd.closest('.output');\n",
       "if (outputEl) {{\n",
       "    x.observe(outputEl, {childList: true});\n",
       "}}\n",
       "\n",
       "                        })                };                });            </script>        </div>"
      ]
     },
     "metadata": {},
     "output_type": "display_data"
    }
   ],
   "source": [
    "df_plot = df_hosp_clean.loc[df_hosp_clean['region_name']=='North Dakota']\n",
    "px.line(data_frame=df_plot, x= 'date',y='hospitalized_new',color = 'region_name')"
   ]
  },
  {
   "cell_type": "code",
   "execution_count": 382,
   "metadata": {},
   "outputs": [
    {
     "data": {
      "application/vnd.plotly.v1+json": {
       "config": {
        "plotlyServerURL": "https://plot.ly"
       },
       "data": [
        {
         "coloraxis": "coloraxis",
         "geo": "geo",
         "hovertemplate": "<b>%{hovertext}</b><br><br>date=2020-03-31<br>open_covid_region_code=%{location}<br>hospitalized_new=%{z}<extra></extra>",
         "hovertext": [
          "South Dakota",
          "Montana",
          "Maine",
          "Idaho",
          "Hawaii",
          "Wyoming",
          "North Dakota",
          "New Hampshire"
         ],
         "locationmode": "USA-states",
         "locations": [
          "SD",
          "MT",
          "ME",
          "ID",
          "HI",
          "WY",
          "ND",
          "NH"
         ],
         "name": "",
         "type": "choropleth",
         "z": [
          12,
          4,
          8,
          6,
          0,
          0,
          2,
          0
         ]
        }
       ],
       "frames": [
        {
         "data": [
          {
           "coloraxis": "coloraxis",
           "geo": "geo",
           "hovertemplate": "<b>%{hovertext}</b><br><br>date=2020-03-31<br>open_covid_region_code=%{location}<br>hospitalized_new=%{z}<extra></extra>",
           "hovertext": [
            "South Dakota",
            "Montana",
            "Maine",
            "Idaho",
            "Hawaii",
            "Wyoming",
            "North Dakota",
            "New Hampshire"
           ],
           "locationmode": "USA-states",
           "locations": [
            "SD",
            "MT",
            "ME",
            "ID",
            "HI",
            "WY",
            "ND",
            "NH"
           ],
           "name": "",
           "type": "choropleth",
           "z": [
            12,
            4,
            8,
            6,
            0,
            0,
            2,
            0
           ]
          }
         ],
         "name": "2020-03-31"
        },
        {
         "data": [
          {
           "coloraxis": "coloraxis",
           "geo": "geo",
           "hovertemplate": "<b>%{hovertext}</b><br><br>date=2020-04-01<br>open_covid_region_code=%{location}<br>hospitalized_new=%{z}<extra></extra>",
           "hovertext": [
            "South Dakota",
            "Montana",
            "Maine",
            "Idaho",
            "Hawaii",
            "Wyoming",
            "North Dakota",
            "New Hampshire"
           ],
           "locationmode": "USA-states",
           "locations": [
            "SD",
            "MT",
            "ME",
            "ID",
            "HI",
            "WY",
            "ND",
            "NH"
           ],
           "name": "",
           "type": "choropleth",
           "z": [
            0,
            3,
            6,
            1,
            1,
            1,
            2,
            11
           ]
          }
         ],
         "name": "2020-04-01"
        },
        {
         "data": [
          {
           "coloraxis": "coloraxis",
           "geo": "geo",
           "hovertemplate": "<b>%{hovertext}</b><br><br>date=2020-04-02<br>open_covid_region_code=%{location}<br>hospitalized_new=%{z}<extra></extra>",
           "hovertext": [
            "South Dakota",
            "Montana",
            "Maine",
            "Idaho",
            "Hawaii",
            "Wyoming",
            "North Dakota",
            "New Hampshire"
           ],
           "locationmode": "USA-states",
           "locations": [
            "SD",
            "MT",
            "ME",
            "ID",
            "HI",
            "WY",
            "ND",
            "NH"
           ],
           "name": "",
           "type": "choropleth",
           "z": [
            5,
            3,
            5,
            3,
            2,
            1,
            5,
            2
           ]
          }
         ],
         "name": "2020-04-02"
        },
        {
         "data": [
          {
           "coloraxis": "coloraxis",
           "geo": "geo",
           "hovertemplate": "<b>%{hovertext}</b><br><br>date=2020-04-03<br>open_covid_region_code=%{location}<br>hospitalized_new=%{z}<extra></extra>",
           "hovertext": [
            "South Dakota",
            "Montana",
            "Maine",
            "Idaho",
            "Hawaii",
            "Wyoming",
            "North Dakota",
            "New Hampshire"
           ],
           "locationmode": "USA-states",
           "locations": [
            "SD",
            "MT",
            "ME",
            "ID",
            "HI",
            "WY",
            "ND",
            "NH"
           ],
           "name": "",
           "type": "choropleth",
           "z": [
            0,
            4,
            7,
            7,
            0,
            2,
            1,
            15
           ]
          }
         ],
         "name": "2020-04-03"
        },
        {
         "data": [
          {
           "coloraxis": "coloraxis",
           "geo": "geo",
           "hovertemplate": "<b>%{hovertext}</b><br><br>date=2020-04-04<br>open_covid_region_code=%{location}<br>hospitalized_new=%{z}<extra></extra>",
           "hovertext": [
            "South Dakota",
            "Montana",
            "Maine",
            "Idaho",
            "Hawaii",
            "Wyoming",
            "North Dakota",
            "New Hampshire"
           ],
           "locationmode": "USA-states",
           "locations": [
            "SD",
            "MT",
            "ME",
            "ID",
            "HI",
            "WY",
            "ND",
            "NH"
           ],
           "name": "",
           "type": "choropleth",
           "z": [
            2,
            0,
            8,
            6,
            3,
            2,
            1,
            7
           ]
          }
         ],
         "name": "2020-04-04"
        },
        {
         "data": [
          {
           "coloraxis": "coloraxis",
           "geo": "geo",
           "hovertemplate": "<b>%{hovertext}</b><br><br>date=2020-04-05<br>open_covid_region_code=%{location}<br>hospitalized_new=%{z}<extra></extra>",
           "hovertext": [
            "South Dakota",
            "Montana",
            "Maine",
            "Idaho",
            "Hawaii",
            "Wyoming",
            "North Dakota",
            "New Hampshire"
           ],
           "locationmode": "USA-states",
           "locations": [
            "SD",
            "MT",
            "ME",
            "ID",
            "HI",
            "WY",
            "ND",
            "NH"
           ],
           "name": "",
           "type": "choropleth",
           "z": [
            3,
            0,
            3,
            4,
            1,
            0,
            1,
            6
           ]
          }
         ],
         "name": "2020-04-05"
        },
        {
         "data": [
          {
           "coloraxis": "coloraxis",
           "geo": "geo",
           "hovertemplate": "<b>%{hovertext}</b><br><br>date=2020-04-06<br>open_covid_region_code=%{location}<br>hospitalized_new=%{z}<extra></extra>",
           "hovertext": [
            "South Dakota",
            "Montana",
            "Maine",
            "Idaho",
            "Hawaii",
            "Wyoming",
            "North Dakota",
            "New Hampshire"
           ],
           "locationmode": "USA-states",
           "locations": [
            "SD",
            "MT",
            "ME",
            "ID",
            "HI",
            "WY",
            "ND",
            "NH"
           ],
           "name": "",
           "type": "choropleth",
           "z": [
            1,
            0,
            6,
            11,
            2,
            0,
            1,
            6
           ]
          }
         ],
         "name": "2020-04-06"
        },
        {
         "data": [
          {
           "coloraxis": "coloraxis",
           "geo": "geo",
           "hovertemplate": "<b>%{hovertext}</b><br><br>date=2020-04-07<br>open_covid_region_code=%{location}<br>hospitalized_new=%{z}<extra></extra>",
           "hovertext": [
            "South Dakota",
            "Montana",
            "Maine",
            "Idaho",
            "Hawaii",
            "Wyoming",
            "North Dakota",
            "New Hampshire"
           ],
           "locationmode": "USA-states",
           "locations": [
            "SD",
            "MT",
            "ME",
            "ID",
            "HI",
            "WY",
            "ND",
            "NH"
           ],
           "name": "",
           "type": "choropleth",
           "z": [
            0,
            4,
            7,
            6,
            5,
            10,
            1,
            11
           ]
          }
         ],
         "name": "2020-04-07"
        },
        {
         "data": [
          {
           "coloraxis": "coloraxis",
           "geo": "geo",
           "hovertemplate": "<b>%{hovertext}</b><br><br>date=2020-04-08<br>open_covid_region_code=%{location}<br>hospitalized_new=%{z}<extra></extra>",
           "hovertext": [
            "South Dakota",
            "Montana",
            "Maine",
            "Idaho",
            "Hawaii",
            "Wyoming",
            "North Dakota",
            "New Hampshire"
           ],
           "locationmode": "USA-states",
           "locations": [
            "SD",
            "MT",
            "ME",
            "ID",
            "HI",
            "WY",
            "ND",
            "NH"
           ],
           "name": "",
           "type": "choropleth",
           "z": [
            3,
            3,
            2,
            10,
            16,
            0,
            1,
            15
           ]
          }
         ],
         "name": "2020-04-08"
        },
        {
         "data": [
          {
           "coloraxis": "coloraxis",
           "geo": "geo",
           "hovertemplate": "<b>%{hovertext}</b><br><br>date=2020-04-09<br>open_covid_region_code=%{location}<br>hospitalized_new=%{z}<extra></extra>",
           "hovertext": [
            "South Dakota",
            "Montana",
            "Maine",
            "Idaho",
            "Hawaii",
            "Wyoming",
            "North Dakota",
            "New Hampshire"
           ],
           "locationmode": "USA-states",
           "locations": [
            "SD",
            "MT",
            "ME",
            "ID",
            "HI",
            "WY",
            "ND",
            "NH"
           ],
           "name": "",
           "type": "choropleth",
           "z": [
            1,
            5,
            4,
            20,
            0,
            1,
            0,
            0
           ]
          }
         ],
         "name": "2020-04-09"
        },
        {
         "data": [
          {
           "coloraxis": "coloraxis",
           "geo": "geo",
           "hovertemplate": "<b>%{hovertext}</b><br><br>date=2020-04-10<br>open_covid_region_code=%{location}<br>hospitalized_new=%{z}<extra></extra>",
           "hovertext": [
            "South Dakota",
            "Montana",
            "Maine",
            "Idaho",
            "Hawaii",
            "Wyoming",
            "North Dakota",
            "New Hampshire"
           ],
           "locationmode": "USA-states",
           "locations": [
            "SD",
            "MT",
            "ME",
            "ID",
            "HI",
            "WY",
            "ND",
            "NH"
           ],
           "name": "",
           "type": "choropleth",
           "z": [
            2,
            5,
            6,
            14,
            0,
            3,
            2,
            6
           ]
          }
         ],
         "name": "2020-04-10"
        },
        {
         "data": [
          {
           "coloraxis": "coloraxis",
           "geo": "geo",
           "hovertemplate": "<b>%{hovertext}</b><br><br>date=2020-04-11<br>open_covid_region_code=%{location}<br>hospitalized_new=%{z}<extra></extra>",
           "hovertext": [
            "South Dakota",
            "Montana",
            "Maine",
            "Idaho",
            "Hawaii",
            "Wyoming",
            "North Dakota",
            "New Hampshire"
           ],
           "locationmode": "USA-states",
           "locations": [
            "SD",
            "MT",
            "ME",
            "ID",
            "HI",
            "WY",
            "ND",
            "NH"
           ],
           "name": "",
           "type": "choropleth",
           "z": [
            4,
            5,
            3,
            1,
            1,
            0,
            0,
            10
           ]
          }
         ],
         "name": "2020-04-11"
        },
        {
         "data": [
          {
           "coloraxis": "coloraxis",
           "geo": "geo",
           "hovertemplate": "<b>%{hovertext}</b><br><br>date=2020-04-12<br>open_covid_region_code=%{location}<br>hospitalized_new=%{z}<extra></extra>",
           "hovertext": [
            "South Dakota",
            "Montana",
            "Maine",
            "Idaho",
            "Hawaii",
            "Wyoming",
            "North Dakota",
            "New Hampshire"
           ],
           "locationmode": "USA-states",
           "locations": [
            "SD",
            "MT",
            "ME",
            "ID",
            "HI",
            "WY",
            "ND",
            "NH"
           ],
           "name": "",
           "type": "choropleth",
           "z": [
            10,
            1,
            6,
            3,
            1,
            3,
            3,
            12
           ]
          }
         ],
         "name": "2020-04-12"
        },
        {
         "data": [
          {
           "coloraxis": "coloraxis",
           "geo": "geo",
           "hovertemplate": "<b>%{hovertext}</b><br><br>date=2020-04-13<br>open_covid_region_code=%{location}<br>hospitalized_new=%{z}<extra></extra>",
           "hovertext": [
            "South Dakota",
            "Montana",
            "Maine",
            "Idaho",
            "Hawaii",
            "Wyoming",
            "North Dakota",
            "New Hampshire",
            "Rhode Island"
           ],
           "locationmode": "USA-states",
           "locations": [
            "SD",
            "MT",
            "ME",
            "ID",
            "HI",
            "WY",
            "ND",
            "NH",
            "RI"
           ],
           "name": "",
           "type": "choropleth",
           "z": [
            1,
            0,
            4,
            1,
            0,
            1,
            1,
            6,
            331
           ]
          }
         ],
         "name": "2020-04-13"
        },
        {
         "data": [
          {
           "coloraxis": "coloraxis",
           "geo": "geo",
           "hovertemplate": "<b>%{hovertext}</b><br><br>date=2020-04-14<br>open_covid_region_code=%{location}<br>hospitalized_new=%{z}<extra></extra>",
           "hovertext": [
            "South Dakota",
            "Montana",
            "Maine",
            "Idaho",
            "New Mexico",
            "Hawaii",
            "Wyoming",
            "North Dakota",
            "New Hampshire",
            "Rhode Island"
           ],
           "locationmode": "USA-states",
           "locations": [
            "SD",
            "MT",
            "ME",
            "ID",
            "NM",
            "HI",
            "WY",
            "ND",
            "NH",
            "RI"
           ],
           "name": "",
           "type": "choropleth",
           "z": [
            1,
            3,
            0,
            3,
            181,
            0,
            2,
            2,
            0,
            0
           ]
          }
         ],
         "name": "2020-04-14"
        },
        {
         "data": [
          {
           "coloraxis": "coloraxis",
           "geo": "geo",
           "hovertemplate": "<b>%{hovertext}</b><br><br>date=2020-04-15<br>open_covid_region_code=%{location}<br>hospitalized_new=%{z}<extra></extra>",
           "hovertext": [
            "South Dakota",
            "Montana",
            "Maine",
            "Idaho",
            "New Mexico",
            "Hawaii",
            "Wyoming",
            "North Dakota",
            "New Hampshire",
            "Rhode Island"
           ],
           "locationmode": "USA-states",
           "locations": [
            "SD",
            "MT",
            "ME",
            "ID",
            "NM",
            "HI",
            "WY",
            "ND",
            "NH",
            "RI"
           ],
           "name": "",
           "type": "choropleth",
           "z": [
            6,
            1,
            2,
            6,
            0,
            1,
            0,
            2,
            26,
            0
           ]
          }
         ],
         "name": "2020-04-15"
        },
        {
         "data": [
          {
           "coloraxis": "coloraxis",
           "geo": "geo",
           "hovertemplate": "<b>%{hovertext}</b><br><br>date=2020-04-16<br>open_covid_region_code=%{location}<br>hospitalized_new=%{z}<extra></extra>",
           "hovertext": [
            "South Dakota",
            "Montana",
            "Maine",
            "Idaho",
            "New Mexico",
            "Hawaii",
            "Wyoming",
            "North Dakota",
            "New Hampshire",
            "Rhode Island"
           ],
           "locationmode": "USA-states",
           "locations": [
            "SD",
            "MT",
            "ME",
            "ID",
            "NM",
            "HI",
            "WY",
            "ND",
            "NH",
            "RI"
           ],
           "name": "",
           "type": "choropleth",
           "z": [
            4,
            1,
            4,
            2,
            34,
            0,
            0,
            1,
            0,
            0
           ]
          }
         ],
         "name": "2020-04-16"
        },
        {
         "data": [
          {
           "coloraxis": "coloraxis",
           "geo": "geo",
           "hovertemplate": "<b>%{hovertext}</b><br><br>date=2020-04-17<br>open_covid_region_code=%{location}<br>hospitalized_new=%{z}<extra></extra>",
           "hovertext": [
            "South Dakota",
            "Montana",
            "Maine",
            "Idaho",
            "New Mexico",
            "Hawaii",
            "Wyoming",
            "North Dakota",
            "New Hampshire",
            "Rhode Island"
           ],
           "locationmode": "USA-states",
           "locations": [
            "SD",
            "MT",
            "ME",
            "ID",
            "NM",
            "HI",
            "WY",
            "ND",
            "NH",
            "RI"
           ],
           "name": "",
           "type": "choropleth",
           "z": [
            8,
            2,
            3,
            5,
            15,
            0,
            0,
            2,
            12,
            0
           ]
          }
         ],
         "name": "2020-04-17"
        },
        {
         "data": [
          {
           "coloraxis": "coloraxis",
           "geo": "geo",
           "hovertemplate": "<b>%{hovertext}</b><br><br>date=2020-04-18<br>open_covid_region_code=%{location}<br>hospitalized_new=%{z}<extra></extra>",
           "hovertext": [
            "South Dakota",
            "Montana",
            "Maine",
            "Idaho",
            "New Mexico",
            "Hawaii",
            "Wyoming",
            "North Dakota",
            "New Hampshire",
            "Rhode Island"
           ],
           "locationmode": "USA-states",
           "locations": [
            "SD",
            "MT",
            "ME",
            "ID",
            "NM",
            "HI",
            "WY",
            "ND",
            "NH",
            "RI"
           ],
           "name": "",
           "type": "choropleth",
           "z": [
            5,
            1,
            3,
            3,
            12,
            3,
            7,
            0,
            0,
            247
           ]
          }
         ],
         "name": "2020-04-18"
        },
        {
         "data": [
          {
           "coloraxis": "coloraxis",
           "geo": "geo",
           "hovertemplate": "<b>%{hovertext}</b><br><br>date=2020-04-19<br>open_covid_region_code=%{location}<br>hospitalized_new=%{z}<extra></extra>",
           "hovertext": [
            "South Dakota",
            "Montana",
            "Maine",
            "Idaho",
            "New Mexico",
            "Hawaii",
            "Wyoming",
            "North Dakota",
            "New Hampshire",
            "Rhode Island"
           ],
           "locationmode": "USA-states",
           "locations": [
            "SD",
            "MT",
            "ME",
            "ID",
            "NM",
            "HI",
            "WY",
            "ND",
            "NH",
            "RI"
           ],
           "name": "",
           "type": "choropleth",
           "z": [
            6,
            0,
            0,
            0,
            16,
            3,
            0,
            4,
            2,
            27
           ]
          }
         ],
         "name": "2020-04-19"
        },
        {
         "data": [
          {
           "coloraxis": "coloraxis",
           "geo": "geo",
           "hovertemplate": "<b>%{hovertext}</b><br><br>date=2020-04-20<br>open_covid_region_code=%{location}<br>hospitalized_new=%{z}<extra></extra>",
           "hovertext": [
            "South Dakota",
            "Montana",
            "Maine",
            "Idaho",
            "New Mexico",
            "Hawaii",
            "Wyoming",
            "North Dakota",
            "New Hampshire",
            "Rhode Island"
           ],
           "locationmode": "USA-states",
           "locations": [
            "SD",
            "MT",
            "ME",
            "ID",
            "NM",
            "HI",
            "WY",
            "ND",
            "NH",
            "RI"
           ],
           "name": "",
           "type": "choropleth",
           "z": [
            13,
            2,
            2,
            0,
            16,
            1,
            1,
            2,
            6,
            24
           ]
          }
         ],
         "name": "2020-04-20"
        },
        {
         "data": [
          {
           "coloraxis": "coloraxis",
           "geo": "geo",
           "hovertemplate": "<b>%{hovertext}</b><br><br>date=2020-04-21<br>open_covid_region_code=%{location}<br>hospitalized_new=%{z}<extra></extra>",
           "hovertext": [
            "South Dakota",
            "Montana",
            "Maine",
            "Idaho",
            "New Mexico",
            "Hawaii",
            "Wyoming",
            "North Dakota",
            "New Hampshire",
            "Rhode Island"
           ],
           "locationmode": "USA-states",
           "locations": [
            "SD",
            "MT",
            "ME",
            "ID",
            "NM",
            "HI",
            "WY",
            "ND",
            "NH",
            "RI"
           ],
           "name": "",
           "type": "choropleth",
           "z": [
            13,
            2,
            1,
            6,
            17,
            3,
            1,
            1,
            8,
            45
           ]
          }
         ],
         "name": "2020-04-21"
        },
        {
         "data": [
          {
           "coloraxis": "coloraxis",
           "geo": "geo",
           "hovertemplate": "<b>%{hovertext}</b><br><br>date=2020-04-22<br>open_covid_region_code=%{location}<br>hospitalized_new=%{z}<extra></extra>",
           "hovertext": [
            "South Dakota",
            "Montana",
            "Maine",
            "Idaho",
            "New Mexico",
            "Hawaii",
            "Wyoming",
            "North Dakota",
            "New Hampshire",
            "Rhode Island"
           ],
           "locationmode": "USA-states",
           "locations": [
            "SD",
            "MT",
            "ME",
            "ID",
            "NM",
            "HI",
            "WY",
            "ND",
            "NH",
            "RI"
           ],
           "name": "",
           "type": "choropleth",
           "z": [
            11,
            0,
            5,
            1,
            15,
            1,
            0,
            8,
            0,
            43
           ]
          }
         ],
         "name": "2020-04-22"
        },
        {
         "data": [
          {
           "coloraxis": "coloraxis",
           "geo": "geo",
           "hovertemplate": "<b>%{hovertext}</b><br><br>date=2020-04-23<br>open_covid_region_code=%{location}<br>hospitalized_new=%{z}<extra></extra>",
           "hovertext": [
            "South Dakota",
            "Montana",
            "Maine",
            "Idaho",
            "New Mexico",
            "Hawaii",
            "Wyoming",
            "North Dakota",
            "New Hampshire",
            "Rhode Island"
           ],
           "locationmode": "USA-states",
           "locations": [
            "SD",
            "MT",
            "ME",
            "ID",
            "NM",
            "HI",
            "WY",
            "ND",
            "NH",
            "RI"
           ],
           "name": "",
           "type": "choropleth",
           "z": [
            8,
            0,
            6,
            4,
            25,
            7,
            0,
            3,
            7,
            40
           ]
          }
         ],
         "name": "2020-04-23"
        },
        {
         "data": [
          {
           "coloraxis": "coloraxis",
           "geo": "geo",
           "hovertemplate": "<b>%{hovertext}</b><br><br>date=2020-04-24<br>open_covid_region_code=%{location}<br>hospitalized_new=%{z}<extra></extra>",
           "hovertext": [
            "South Dakota",
            "Montana",
            "Maine",
            "Idaho",
            "New Mexico",
            "Hawaii",
            "Wyoming",
            "North Dakota",
            "New Hampshire",
            "Rhode Island"
           ],
           "locationmode": "USA-states",
           "locations": [
            "SD",
            "MT",
            "ME",
            "ID",
            "NM",
            "HI",
            "WY",
            "ND",
            "NH",
            "RI"
           ],
           "name": "",
           "type": "choropleth",
           "z": [
            5,
            0,
            2,
            4,
            36,
            0,
            2,
            2,
            5,
            -181
           ]
          }
         ],
         "name": "2020-04-24"
        },
        {
         "data": [
          {
           "coloraxis": "coloraxis",
           "geo": "geo",
           "hovertemplate": "<b>%{hovertext}</b><br><br>date=2020-04-25<br>open_covid_region_code=%{location}<br>hospitalized_new=%{z}<extra></extra>",
           "hovertext": [
            "South Dakota",
            "Montana",
            "Maine",
            "Idaho",
            "New Mexico",
            "Hawaii",
            "Wyoming",
            "North Dakota",
            "New Hampshire",
            "Rhode Island"
           ],
           "locationmode": "USA-states",
           "locations": [
            "SD",
            "MT",
            "ME",
            "ID",
            "NM",
            "HI",
            "WY",
            "ND",
            "NH",
            "RI"
           ],
           "name": "",
           "type": "choropleth",
           "z": [
            4,
            2,
            4,
            2,
            45,
            4,
            0,
            3,
            6,
            0
           ]
          }
         ],
         "name": "2020-04-25"
        },
        {
         "data": [
          {
           "coloraxis": "coloraxis",
           "geo": "geo",
           "hovertemplate": "<b>%{hovertext}</b><br><br>date=2020-04-26<br>open_covid_region_code=%{location}<br>hospitalized_new=%{z}<extra></extra>",
           "hovertext": [
            "South Dakota",
            "Montana",
            "Maine",
            "Idaho",
            "New Mexico",
            "Hawaii",
            "Wyoming",
            "North Dakota",
            "New Hampshire",
            "Rhode Island"
           ],
           "locationmode": "USA-states",
           "locations": [
            "SD",
            "MT",
            "ME",
            "ID",
            "NM",
            "HI",
            "WY",
            "ND",
            "NH",
            "RI"
           ],
           "name": "",
           "type": "choropleth",
           "z": [
            7,
            0,
            3,
            1,
            0,
            1,
            0,
            1,
            14,
            115
           ]
          }
         ],
         "name": "2020-04-26"
        },
        {
         "data": [
          {
           "coloraxis": "coloraxis",
           "geo": "geo",
           "hovertemplate": "<b>%{hovertext}</b><br><br>date=2020-04-27<br>open_covid_region_code=%{location}<br>hospitalized_new=%{z}<extra></extra>",
           "hovertext": [
            "South Dakota",
            "Montana",
            "Maine",
            "Idaho",
            "New Mexico",
            "Hawaii",
            "Wyoming",
            "North Dakota",
            "New Hampshire",
            "Rhode Island"
           ],
           "locationmode": "USA-states",
           "locations": [
            "SD",
            "MT",
            "ME",
            "ID",
            "NM",
            "HI",
            "WY",
            "ND",
            "NH",
            "RI"
           ],
           "name": "",
           "type": "choropleth",
           "z": [
            15,
            0,
            2,
            0,
            0,
            0,
            0,
            6,
            4,
            27
           ]
          }
         ],
         "name": "2020-04-27"
        },
        {
         "data": [
          {
           "coloraxis": "coloraxis",
           "geo": "geo",
           "hovertemplate": "<b>%{hovertext}</b><br><br>date=2020-04-28<br>open_covid_region_code=%{location}<br>hospitalized_new=%{z}<extra></extra>",
           "hovertext": [
            "South Dakota",
            "Montana",
            "Maine",
            "Idaho",
            "New Mexico",
            "Hawaii",
            "Wyoming",
            "North Dakota",
            "New Hampshire",
            "Rhode Island"
           ],
           "locationmode": "USA-states",
           "locations": [
            "SD",
            "MT",
            "ME",
            "ID",
            "NM",
            "HI",
            "WY",
            "ND",
            "NH",
            "RI"
           ],
           "name": "",
           "type": "choropleth",
           "z": [
            7,
            0,
            2,
            3,
            69,
            0,
            2,
            2,
            4,
            14
           ]
          }
         ],
         "name": "2020-04-28"
        },
        {
         "data": [
          {
           "coloraxis": "coloraxis",
           "geo": "geo",
           "hovertemplate": "<b>%{hovertext}</b><br><br>date=2020-04-29<br>open_covid_region_code=%{location}<br>hospitalized_new=%{z}<extra></extra>",
           "hovertext": [
            "South Dakota",
            "Montana",
            "Maine",
            "Idaho",
            "New Mexico",
            "Hawaii",
            "Wyoming",
            "North Dakota",
            "New Hampshire",
            "Rhode Island"
           ],
           "locationmode": "USA-states",
           "locations": [
            "SD",
            "MT",
            "ME",
            "ID",
            "NM",
            "HI",
            "WY",
            "ND",
            "NH",
            "RI"
           ],
           "name": "",
           "type": "choropleth",
           "z": [
            8,
            0,
            3,
            1,
            28,
            1,
            0,
            3,
            3,
            18
           ]
          }
         ],
         "name": "2020-04-29"
        },
        {
         "data": [
          {
           "coloraxis": "coloraxis",
           "geo": "geo",
           "hovertemplate": "<b>%{hovertext}</b><br><br>date=2020-04-30<br>open_covid_region_code=%{location}<br>hospitalized_new=%{z}<extra></extra>",
           "hovertext": [
            "South Dakota",
            "Montana",
            "Maine",
            "Idaho",
            "New Mexico",
            "Hawaii",
            "Wyoming",
            "North Dakota",
            "New Hampshire",
            "Rhode Island"
           ],
           "locationmode": "USA-states",
           "locations": [
            "SD",
            "MT",
            "ME",
            "ID",
            "NM",
            "HI",
            "WY",
            "ND",
            "NH",
            "RI"
           ],
           "name": "",
           "type": "choropleth",
           "z": [
            8,
            0,
            4,
            2,
            27,
            0,
            0,
            3,
            10,
            146
           ]
          }
         ],
         "name": "2020-04-30"
        },
        {
         "data": [
          {
           "coloraxis": "coloraxis",
           "geo": "geo",
           "hovertemplate": "<b>%{hovertext}</b><br><br>date=2020-05-01<br>open_covid_region_code=%{location}<br>hospitalized_new=%{z}<extra></extra>",
           "hovertext": [
            "South Dakota",
            "Montana",
            "Maine",
            "Idaho",
            "New Mexico",
            "Hawaii",
            "Wyoming",
            "North Dakota",
            "New Hampshire",
            "Rhode Island"
           ],
           "locationmode": "USA-states",
           "locations": [
            "SD",
            "MT",
            "ME",
            "ID",
            "NM",
            "HI",
            "WY",
            "ND",
            "NH",
            "RI"
           ],
           "name": "",
           "type": "choropleth",
           "z": [
            6,
            0,
            7,
            3,
            0,
            1,
            0,
            1,
            3,
            41
           ]
          }
         ],
         "name": "2020-05-01"
        },
        {
         "data": [
          {
           "coloraxis": "coloraxis",
           "geo": "geo",
           "hovertemplate": "<b>%{hovertext}</b><br><br>date=2020-05-02<br>open_covid_region_code=%{location}<br>hospitalized_new=%{z}<extra></extra>",
           "hovertext": [
            "South Dakota",
            "Montana",
            "Maine",
            "Idaho",
            "New Mexico",
            "Hawaii",
            "Wyoming",
            "North Dakota",
            "New Hampshire",
            "Rhode Island"
           ],
           "locationmode": "USA-states",
           "locations": [
            "SD",
            "MT",
            "ME",
            "ID",
            "NM",
            "HI",
            "WY",
            "ND",
            "NH",
            "RI"
           ],
           "name": "",
           "type": "choropleth",
           "z": [
            8,
            0,
            4,
            0,
            51,
            2,
            2,
            4,
            8,
            40
           ]
          }
         ],
         "name": "2020-05-02"
        },
        {
         "data": [
          {
           "coloraxis": "coloraxis",
           "geo": "geo",
           "hovertemplate": "<b>%{hovertext}</b><br><br>date=2020-05-03<br>open_covid_region_code=%{location}<br>hospitalized_new=%{z}<extra></extra>",
           "hovertext": [
            "South Dakota",
            "Montana",
            "Maine",
            "Idaho",
            "New Mexico",
            "Hawaii",
            "Wyoming",
            "North Dakota",
            "New Hampshire",
            "Rhode Island"
           ],
           "locationmode": "USA-states",
           "locations": [
            "SD",
            "MT",
            "ME",
            "ID",
            "NM",
            "HI",
            "WY",
            "ND",
            "NH",
            "RI"
           ],
           "name": "",
           "type": "choropleth",
           "z": [
            10,
            0,
            2,
            22,
            0,
            0,
            2,
            0,
            7,
            36
           ]
          }
         ],
         "name": "2020-05-03"
        },
        {
         "data": [
          {
           "coloraxis": "coloraxis",
           "geo": "geo",
           "hovertemplate": "<b>%{hovertext}</b><br><br>date=2020-05-04<br>open_covid_region_code=%{location}<br>hospitalized_new=%{z}<extra></extra>",
           "hovertext": [
            "South Dakota",
            "Montana",
            "Maine",
            "Idaho",
            "New Mexico",
            "Hawaii",
            "Wyoming",
            "North Dakota",
            "New Hampshire",
            "Rhode Island"
           ],
           "locationmode": "USA-states",
           "locations": [
            "SD",
            "MT",
            "ME",
            "ID",
            "NM",
            "HI",
            "WY",
            "ND",
            "NH",
            "RI"
           ],
           "name": "",
           "type": "choropleth",
           "z": [
            14,
            1,
            3,
            0,
            0,
            1,
            0,
            4,
            9,
            48
           ]
          }
         ],
         "name": "2020-05-04"
        },
        {
         "data": [
          {
           "coloraxis": "coloraxis",
           "geo": "geo",
           "hovertemplate": "<b>%{hovertext}</b><br><br>date=2020-05-05<br>open_covid_region_code=%{location}<br>hospitalized_new=%{z}<extra></extra>",
           "hovertext": [
            "South Dakota",
            "Montana",
            "Maine",
            "Idaho",
            "New Mexico",
            "Hawaii",
            "Wyoming",
            "North Dakota",
            "New Hampshire",
            "Rhode Island"
           ],
           "locationmode": "USA-states",
           "locations": [
            "SD",
            "MT",
            "ME",
            "ID",
            "NM",
            "HI",
            "WY",
            "ND",
            "NH",
            "RI"
           ],
           "name": "",
           "type": "choropleth",
           "z": [
            9,
            0,
            1,
            1,
            80,
            0,
            0,
            1,
            0,
            31
           ]
          }
         ],
         "name": "2020-05-05"
        },
        {
         "data": [
          {
           "coloraxis": "coloraxis",
           "geo": "geo",
           "hovertemplate": "<b>%{hovertext}</b><br><br>date=2020-05-06<br>open_covid_region_code=%{location}<br>hospitalized_new=%{z}<extra></extra>",
           "hovertext": [
            "South Dakota",
            "Montana",
            "Maine",
            "Idaho",
            "New Mexico",
            "Hawaii",
            "Wyoming",
            "North Dakota",
            "New Hampshire",
            "Rhode Island"
           ],
           "locationmode": "USA-states",
           "locations": [
            "SD",
            "MT",
            "ME",
            "ID",
            "NM",
            "HI",
            "WY",
            "ND",
            "NH",
            "RI"
           ],
           "name": "",
           "type": "choropleth",
           "z": [
            10,
            0,
            4,
            2,
            20,
            0,
            0,
            2,
            9,
            31
           ]
          }
         ],
         "name": "2020-05-06"
        },
        {
         "data": [
          {
           "coloraxis": "coloraxis",
           "geo": "geo",
           "hovertemplate": "<b>%{hovertext}</b><br><br>date=2020-05-07<br>open_covid_region_code=%{location}<br>hospitalized_new=%{z}<extra></extra>",
           "hovertext": [
            "South Dakota",
            "Montana",
            "Maine",
            "Idaho",
            "New Mexico",
            "Hawaii",
            "Wyoming",
            "North Dakota",
            "New Hampshire",
            "Rhode Island"
           ],
           "locationmode": "USA-states",
           "locations": [
            "SD",
            "MT",
            "ME",
            "ID",
            "NM",
            "HI",
            "WY",
            "ND",
            "NH",
            "RI"
           ],
           "name": "",
           "type": "choropleth",
           "z": [
            6,
            0,
            1,
            2,
            0,
            1,
            -1,
            5,
            12,
            30
           ]
          }
         ],
         "name": "2020-05-07"
        },
        {
         "data": [
          {
           "coloraxis": "coloraxis",
           "geo": "geo",
           "hovertemplate": "<b>%{hovertext}</b><br><br>date=2020-05-08<br>open_covid_region_code=%{location}<br>hospitalized_new=%{z}<extra></extra>",
           "hovertext": [
            "South Dakota",
            "Montana",
            "Maine",
            "Idaho",
            "New Mexico",
            "Hawaii",
            "Wyoming",
            "North Dakota",
            "New Hampshire",
            "Rhode Island"
           ],
           "locationmode": "USA-states",
           "locations": [
            "SD",
            "MT",
            "ME",
            "ID",
            "NM",
            "HI",
            "WY",
            "ND",
            "NH",
            "RI"
           ],
           "name": "",
           "type": "choropleth",
           "z": [
            11,
            0,
            2,
            1,
            73,
            0,
            1,
            2,
            1,
            34
           ]
          }
         ],
         "name": "2020-05-08"
        },
        {
         "data": [
          {
           "coloraxis": "coloraxis",
           "geo": "geo",
           "hovertemplate": "<b>%{hovertext}</b><br><br>date=2020-05-09<br>open_covid_region_code=%{location}<br>hospitalized_new=%{z}<extra></extra>",
           "hovertext": [
            "South Dakota",
            "Montana",
            "Maine",
            "Idaho",
            "New Mexico",
            "Hawaii",
            "Wyoming",
            "North Dakota",
            "New Hampshire",
            "Rhode Island"
           ],
           "locationmode": "USA-states",
           "locations": [
            "SD",
            "MT",
            "ME",
            "ID",
            "NM",
            "HI",
            "WY",
            "ND",
            "NH",
            "RI"
           ],
           "name": "",
           "type": "choropleth",
           "z": [
            6,
            0,
            4,
            0,
            29,
            7,
            4,
            6,
            1,
            31
           ]
          }
         ],
         "name": "2020-05-09"
        },
        {
         "data": [
          {
           "coloraxis": "coloraxis",
           "geo": "geo",
           "hovertemplate": "<b>%{hovertext}</b><br><br>date=2020-05-10<br>open_covid_region_code=%{location}<br>hospitalized_new=%{z}<extra></extra>",
           "hovertext": [
            "South Dakota",
            "Montana",
            "Maine",
            "Idaho",
            "New Mexico",
            "Hawaii",
            "Wyoming",
            "North Dakota",
            "New Hampshire",
            "Rhode Island"
           ],
           "locationmode": "USA-states",
           "locations": [
            "SD",
            "MT",
            "ME",
            "ID",
            "NM",
            "HI",
            "WY",
            "ND",
            "NH",
            "RI"
           ],
           "name": "",
           "type": "choropleth",
           "z": [
            8,
            0,
            1,
            1,
            0,
            0,
            1,
            0,
            4,
            33
           ]
          }
         ],
         "name": "2020-05-10"
        },
        {
         "data": [
          {
           "coloraxis": "coloraxis",
           "geo": "geo",
           "hovertemplate": "<b>%{hovertext}</b><br><br>date=2020-05-11<br>open_covid_region_code=%{location}<br>hospitalized_new=%{z}<extra></extra>",
           "hovertext": [
            "South Dakota",
            "Montana",
            "Maine",
            "Idaho",
            "New Mexico",
            "Hawaii",
            "Wyoming",
            "North Dakota",
            "New Hampshire",
            "Rhode Island"
           ],
           "locationmode": "USA-states",
           "locations": [
            "SD",
            "MT",
            "ME",
            "ID",
            "NM",
            "HI",
            "WY",
            "ND",
            "NH",
            "RI"
           ],
           "name": "",
           "type": "choropleth",
           "z": [
            2,
            0,
            1,
            0,
            0,
            0,
            1,
            5,
            5,
            29
           ]
          }
         ],
         "name": "2020-05-11"
        },
        {
         "data": [
          {
           "coloraxis": "coloraxis",
           "geo": "geo",
           "hovertemplate": "<b>%{hovertext}</b><br><br>date=2020-05-12<br>open_covid_region_code=%{location}<br>hospitalized_new=%{z}<extra></extra>",
           "hovertext": [
            "South Dakota",
            "Montana",
            "Maine",
            "Idaho",
            "New Mexico",
            "Hawaii",
            "Wyoming",
            "North Dakota",
            "New Hampshire",
            "Rhode Island"
           ],
           "locationmode": "USA-states",
           "locations": [
            "SD",
            "MT",
            "ME",
            "ID",
            "NM",
            "HI",
            "WY",
            "ND",
            "NH",
            "RI"
           ],
           "name": "",
           "type": "choropleth",
           "z": [
            8,
            1,
            2,
            3,
            97,
            0,
            1,
            7,
            0,
            27
           ]
          }
         ],
         "name": "2020-05-12"
        },
        {
         "data": [
          {
           "coloraxis": "coloraxis",
           "geo": "geo",
           "hovertemplate": "<b>%{hovertext}</b><br><br>date=2020-05-13<br>open_covid_region_code=%{location}<br>hospitalized_new=%{z}<extra></extra>",
           "hovertext": [
            "South Dakota",
            "Montana",
            "Maine",
            "Idaho",
            "New Mexico",
            "Hawaii",
            "Wyoming",
            "North Dakota",
            "New Hampshire",
            "Rhode Island"
           ],
           "locationmode": "USA-states",
           "locations": [
            "SD",
            "MT",
            "ME",
            "ID",
            "NM",
            "HI",
            "WY",
            "ND",
            "NH",
            "RI"
           ],
           "name": "",
           "type": "choropleth",
           "z": [
            10,
            0,
            2,
            4,
            0,
            0,
            0,
            5,
            1,
            21
           ]
          }
         ],
         "name": "2020-05-13"
        },
        {
         "data": [
          {
           "coloraxis": "coloraxis",
           "geo": "geo",
           "hovertemplate": "<b>%{hovertext}</b><br><br>date=2020-05-14<br>open_covid_region_code=%{location}<br>hospitalized_new=%{z}<extra></extra>",
           "hovertext": [
            "South Dakota",
            "Montana",
            "Maine",
            "Idaho",
            "New Mexico",
            "Hawaii",
            "Wyoming",
            "North Dakota",
            "New Hampshire",
            "Rhode Island"
           ],
           "locationmode": "USA-states",
           "locations": [
            "SD",
            "MT",
            "ME",
            "ID",
            "NM",
            "HI",
            "WY",
            "ND",
            "NH",
            "RI"
           ],
           "name": "",
           "type": "choropleth",
           "z": [
            9,
            0,
            3,
            -2,
            0,
            0,
            0,
            2,
            7,
            23
           ]
          }
         ],
         "name": "2020-05-14"
        },
        {
         "data": [
          {
           "coloraxis": "coloraxis",
           "geo": "geo",
           "hovertemplate": "<b>%{hovertext}</b><br><br>date=2020-05-15<br>open_covid_region_code=%{location}<br>hospitalized_new=%{z}<extra></extra>",
           "hovertext": [
            "South Dakota",
            "Montana",
            "Maine",
            "Idaho",
            "New Mexico",
            "Hawaii",
            "Wyoming",
            "North Dakota",
            "New Hampshire",
            "Rhode Island"
           ],
           "locationmode": "USA-states",
           "locations": [
            "SD",
            "MT",
            "ME",
            "ID",
            "NM",
            "HI",
            "WY",
            "ND",
            "NH",
            "RI"
           ],
           "name": "",
           "type": "choropleth",
           "z": [
            6,
            0,
            4,
            0,
            0,
            0,
            1,
            1,
            9,
            21
           ]
          }
         ],
         "name": "2020-05-15"
        },
        {
         "data": [
          {
           "coloraxis": "coloraxis",
           "geo": "geo",
           "hovertemplate": "<b>%{hovertext}</b><br><br>date=2020-05-16<br>open_covid_region_code=%{location}<br>hospitalized_new=%{z}<extra></extra>",
           "hovertext": [
            "South Dakota",
            "Montana",
            "Maine",
            "Idaho",
            "New Mexico",
            "Hawaii",
            "Wyoming",
            "North Dakota",
            "New Hampshire",
            "Rhode Island"
           ],
           "locationmode": "USA-states",
           "locations": [
            "SD",
            "MT",
            "ME",
            "ID",
            "NM",
            "HI",
            "WY",
            "ND",
            "NH",
            "RI"
           ],
           "name": "",
           "type": "choropleth",
           "z": [
            8,
            0,
            3,
            1,
            0,
            0,
            1,
            0,
            0,
            31
           ]
          }
         ],
         "name": "2020-05-16"
        },
        {
         "data": [
          {
           "coloraxis": "coloraxis",
           "geo": "geo",
           "hovertemplate": "<b>%{hovertext}</b><br><br>date=2020-05-17<br>open_covid_region_code=%{location}<br>hospitalized_new=%{z}<extra></extra>",
           "hovertext": [
            "South Dakota",
            "Montana",
            "Maine",
            "Idaho",
            "New Mexico",
            "Hawaii",
            "Wyoming",
            "North Dakota",
            "New Hampshire",
            "Rhode Island"
           ],
           "locationmode": "USA-states",
           "locations": [
            "SD",
            "MT",
            "ME",
            "ID",
            "NM",
            "HI",
            "WY",
            "ND",
            "NH",
            "RI"
           ],
           "name": "",
           "type": "choropleth",
           "z": [
            8,
            0,
            2,
            0,
            0,
            1,
            1,
            0,
            12,
            15
           ]
          }
         ],
         "name": "2020-05-17"
        },
        {
         "data": [
          {
           "coloraxis": "coloraxis",
           "geo": "geo",
           "hovertemplate": "<b>%{hovertext}</b><br><br>date=2020-05-18<br>open_covid_region_code=%{location}<br>hospitalized_new=%{z}<extra></extra>",
           "hovertext": [
            "South Dakota",
            "Montana",
            "Maine",
            "Idaho",
            "New Mexico",
            "Hawaii",
            "Wyoming",
            "North Dakota",
            "New Hampshire",
            "Rhode Island"
           ],
           "locationmode": "USA-states",
           "locations": [
            "SD",
            "MT",
            "ME",
            "ID",
            "NM",
            "HI",
            "WY",
            "ND",
            "NH",
            "RI"
           ],
           "name": "",
           "type": "choropleth",
           "z": [
            4,
            1,
            7,
            0,
            0,
            0,
            3,
            3,
            12,
            20
           ]
          }
         ],
         "name": "2020-05-18"
        },
        {
         "data": [
          {
           "coloraxis": "coloraxis",
           "geo": "geo",
           "hovertemplate": "<b>%{hovertext}</b><br><br>date=2020-05-19<br>open_covid_region_code=%{location}<br>hospitalized_new=%{z}<extra></extra>",
           "hovertext": [
            "South Dakota",
            "Montana",
            "Maine",
            "Idaho",
            "New Mexico",
            "Hawaii",
            "Wyoming",
            "North Dakota",
            "New Hampshire",
            "Rhode Island"
           ],
           "locationmode": "USA-states",
           "locations": [
            "SD",
            "MT",
            "ME",
            "ID",
            "NM",
            "HI",
            "WY",
            "ND",
            "NH",
            "RI"
           ],
           "name": "",
           "type": "choropleth",
           "z": [
            11,
            1,
            2,
            0,
            0,
            0,
            0,
            2,
            9,
            26
           ]
          }
         ],
         "name": "2020-05-19"
        },
        {
         "data": [
          {
           "coloraxis": "coloraxis",
           "geo": "geo",
           "hovertemplate": "<b>%{hovertext}</b><br><br>date=2020-05-20<br>open_covid_region_code=%{location}<br>hospitalized_new=%{z}<extra></extra>",
           "hovertext": [
            "South Dakota",
            "Montana",
            "Maine",
            "Idaho",
            "New Mexico",
            "Hawaii",
            "Wyoming",
            "North Dakota",
            "New Hampshire",
            "Rhode Island"
           ],
           "locationmode": "USA-states",
           "locations": [
            "SD",
            "MT",
            "ME",
            "ID",
            "NM",
            "HI",
            "WY",
            "ND",
            "NH",
            "RI"
           ],
           "name": "",
           "type": "choropleth",
           "z": [
            6,
            0,
            6,
            2,
            253,
            0,
            1,
            7,
            15,
            22
           ]
          }
         ],
         "name": "2020-05-20"
        },
        {
         "data": [
          {
           "coloraxis": "coloraxis",
           "geo": "geo",
           "hovertemplate": "<b>%{hovertext}</b><br><br>date=2020-05-21<br>open_covid_region_code=%{location}<br>hospitalized_new=%{z}<extra></extra>",
           "hovertext": [
            "South Dakota",
            "Montana",
            "Maine",
            "Idaho",
            "New Mexico",
            "Hawaii",
            "Wyoming",
            "North Dakota",
            "New Hampshire",
            "Rhode Island"
           ],
           "locationmode": "USA-states",
           "locations": [
            "SD",
            "MT",
            "ME",
            "ID",
            "NM",
            "HI",
            "WY",
            "ND",
            "NH",
            "RI"
           ],
           "name": "",
           "type": "choropleth",
           "z": [
            9,
            0,
            4,
            6,
            0,
            0,
            1,
            2,
            2,
            20
           ]
          }
         ],
         "name": "2020-05-21"
        },
        {
         "data": [
          {
           "coloraxis": "coloraxis",
           "geo": "geo",
           "hovertemplate": "<b>%{hovertext}</b><br><br>date=2020-05-22<br>open_covid_region_code=%{location}<br>hospitalized_new=%{z}<extra></extra>",
           "hovertext": [
            "South Dakota",
            "Montana",
            "Maine",
            "Idaho",
            "New Mexico",
            "Hawaii",
            "Wyoming",
            "North Dakota",
            "New Hampshire",
            "Rhode Island"
           ],
           "locationmode": "USA-states",
           "locations": [
            "SD",
            "MT",
            "ME",
            "ID",
            "NM",
            "HI",
            "WY",
            "ND",
            "NH",
            "RI"
           ],
           "name": "",
           "type": "choropleth",
           "z": [
            9,
            0,
            5,
            2,
            0,
            1,
            1,
            3,
            8,
            31
           ]
          }
         ],
         "name": "2020-05-22"
        },
        {
         "data": [
          {
           "coloraxis": "coloraxis",
           "geo": "geo",
           "hovertemplate": "<b>%{hovertext}</b><br><br>date=2020-05-23<br>open_covid_region_code=%{location}<br>hospitalized_new=%{z}<extra></extra>",
           "hovertext": [
            "South Dakota",
            "Montana",
            "Maine",
            "Idaho",
            "New Mexico",
            "Hawaii",
            "Wyoming",
            "North Dakota",
            "New Hampshire",
            "Rhode Island"
           ],
           "locationmode": "USA-states",
           "locations": [
            "SD",
            "MT",
            "ME",
            "ID",
            "NM",
            "HI",
            "WY",
            "ND",
            "NH",
            "RI"
           ],
           "name": "",
           "type": "choropleth",
           "z": [
            7,
            0,
            3,
            2,
            0,
            1,
            1,
            3,
            26,
            20
           ]
          }
         ],
         "name": "2020-05-23"
        },
        {
         "data": [
          {
           "coloraxis": "coloraxis",
           "geo": "geo",
           "hovertemplate": "<b>%{hovertext}</b><br><br>date=2020-05-24<br>open_covid_region_code=%{location}<br>hospitalized_new=%{z}<extra></extra>",
           "hovertext": [
            "South Dakota",
            "Montana",
            "Maine",
            "Idaho",
            "New Mexico",
            "Hawaii",
            "Wyoming",
            "North Dakota",
            "New Hampshire",
            "Rhode Island"
           ],
           "locationmode": "USA-states",
           "locations": [
            "SD",
            "MT",
            "ME",
            "ID",
            "NM",
            "HI",
            "WY",
            "ND",
            "NH",
            "RI"
           ],
           "name": "",
           "type": "choropleth",
           "z": [
            6,
            0,
            9,
            0,
            0,
            0,
            1,
            2,
            0,
            23
           ]
          }
         ],
         "name": "2020-05-24"
        },
        {
         "data": [
          {
           "coloraxis": "coloraxis",
           "geo": "geo",
           "hovertemplate": "<b>%{hovertext}</b><br><br>date=2020-05-25<br>open_covid_region_code=%{location}<br>hospitalized_new=%{z}<extra></extra>",
           "hovertext": [
            "South Dakota",
            "Montana",
            "Maine",
            "Idaho",
            "New Mexico",
            "Hawaii",
            "Wyoming",
            "North Dakota",
            "New Hampshire",
            "Rhode Island"
           ],
           "locationmode": "USA-states",
           "locations": [
            "SD",
            "MT",
            "ME",
            "ID",
            "NM",
            "HI",
            "WY",
            "ND",
            "NH",
            "RI"
           ],
           "name": "",
           "type": "choropleth",
           "z": [
            6,
            0,
            5,
            0,
            104,
            0,
            1,
            2,
            0,
            0
           ]
          }
         ],
         "name": "2020-05-25"
        },
        {
         "data": [
          {
           "coloraxis": "coloraxis",
           "geo": "geo",
           "hovertemplate": "<b>%{hovertext}</b><br><br>date=2020-05-26<br>open_covid_region_code=%{location}<br>hospitalized_new=%{z}<extra></extra>",
           "hovertext": [
            "South Dakota",
            "Montana",
            "Maine",
            "Idaho",
            "New Mexico",
            "Hawaii",
            "Wyoming",
            "North Dakota",
            "New Hampshire",
            "Rhode Island"
           ],
           "locationmode": "USA-states",
           "locations": [
            "SD",
            "MT",
            "ME",
            "ID",
            "NM",
            "HI",
            "WY",
            "ND",
            "NH",
            "RI"
           ],
           "name": "",
           "type": "choropleth",
           "z": [
            8,
            0,
            1,
            0,
            21,
            0,
            3,
            2,
            1,
            33
           ]
          }
         ],
         "name": "2020-05-26"
        },
        {
         "data": [
          {
           "coloraxis": "coloraxis",
           "geo": "geo",
           "hovertemplate": "<b>%{hovertext}</b><br><br>date=2020-05-27<br>open_covid_region_code=%{location}<br>hospitalized_new=%{z}<extra></extra>",
           "hovertext": [
            "South Dakota",
            "Montana",
            "Maine",
            "Idaho",
            "New Mexico",
            "Hawaii",
            "Wyoming",
            "North Dakota",
            "New Hampshire",
            "Rhode Island"
           ],
           "locationmode": "USA-states",
           "locations": [
            "SD",
            "MT",
            "ME",
            "ID",
            "NM",
            "HI",
            "WY",
            "ND",
            "NH",
            "RI"
           ],
           "name": "",
           "type": "choropleth",
           "z": [
            13,
            1,
            2,
            6,
            18,
            -1,
            0,
            5,
            1,
            11
           ]
          }
         ],
         "name": "2020-05-27"
        },
        {
         "data": [
          {
           "coloraxis": "coloraxis",
           "geo": "geo",
           "hovertemplate": "<b>%{hovertext}</b><br><br>date=2020-05-28<br>open_covid_region_code=%{location}<br>hospitalized_new=%{z}<extra></extra>",
           "hovertext": [
            "South Dakota",
            "Montana",
            "Maine",
            "Idaho",
            "New Mexico",
            "Hawaii",
            "Wyoming",
            "North Dakota",
            "New Hampshire",
            "Rhode Island"
           ],
           "locationmode": "USA-states",
           "locations": [
            "SD",
            "MT",
            "ME",
            "ID",
            "NM",
            "HI",
            "WY",
            "ND",
            "NH",
            "RI"
           ],
           "name": "",
           "type": "choropleth",
           "z": [
            15,
            0,
            4,
            3,
            0,
            0,
            0,
            0,
            5,
            15
           ]
          }
         ],
         "name": "2020-05-28"
        },
        {
         "data": [
          {
           "coloraxis": "coloraxis",
           "geo": "geo",
           "hovertemplate": "<b>%{hovertext}</b><br><br>date=2020-05-29<br>open_covid_region_code=%{location}<br>hospitalized_new=%{z}<extra></extra>",
           "hovertext": [
            "South Dakota",
            "Montana",
            "Maine",
            "Idaho",
            "New Mexico",
            "Hawaii",
            "Wyoming",
            "North Dakota",
            "New Hampshire",
            "Rhode Island"
           ],
           "locationmode": "USA-states",
           "locations": [
            "SD",
            "MT",
            "ME",
            "ID",
            "NM",
            "HI",
            "WY",
            "ND",
            "NH",
            "RI"
           ],
           "name": "",
           "type": "choropleth",
           "z": [
            12,
            1,
            6,
            4,
            35,
            0,
            2,
            3,
            12,
            21
           ]
          }
         ],
         "name": "2020-05-29"
        },
        {
         "data": [
          {
           "coloraxis": "coloraxis",
           "geo": "geo",
           "hovertemplate": "<b>%{hovertext}</b><br><br>date=2020-05-30<br>open_covid_region_code=%{location}<br>hospitalized_new=%{z}<extra></extra>",
           "hovertext": [
            "South Dakota",
            "Montana",
            "Maine",
            "Idaho",
            "New Mexico",
            "Hawaii",
            "Wyoming",
            "North Dakota",
            "New Hampshire",
            "Rhode Island"
           ],
           "locationmode": "USA-states",
           "locations": [
            "SD",
            "MT",
            "ME",
            "ID",
            "NM",
            "HI",
            "WY",
            "ND",
            "NH",
            "RI"
           ],
           "name": "",
           "type": "choropleth",
           "z": [
            9,
            0,
            2,
            2,
            0,
            0,
            1,
            1,
            2,
            22
           ]
          }
         ],
         "name": "2020-05-30"
        },
        {
         "data": [
          {
           "coloraxis": "coloraxis",
           "geo": "geo",
           "hovertemplate": "<b>%{hovertext}</b><br><br>date=2020-05-31<br>open_covid_region_code=%{location}<br>hospitalized_new=%{z}<extra></extra>",
           "hovertext": [
            "South Dakota",
            "Montana",
            "Maine",
            "Idaho",
            "New Mexico",
            "Hawaii",
            "Wyoming",
            "North Dakota",
            "New Hampshire",
            "Rhode Island"
           ],
           "locationmode": "USA-states",
           "locations": [
            "SD",
            "MT",
            "ME",
            "ID",
            "NM",
            "HI",
            "WY",
            "ND",
            "NH",
            "RI"
           ],
           "name": "",
           "type": "choropleth",
           "z": [
            5,
            0,
            11,
            2,
            0,
            0,
            0,
            2,
            9,
            19
           ]
          }
         ],
         "name": "2020-05-31"
        },
        {
         "data": [
          {
           "coloraxis": "coloraxis",
           "geo": "geo",
           "hovertemplate": "<b>%{hovertext}</b><br><br>date=2020-06-01<br>open_covid_region_code=%{location}<br>hospitalized_new=%{z}<extra></extra>",
           "hovertext": [
            "South Dakota",
            "Montana",
            "Maine",
            "Idaho",
            "New Mexico",
            "Hawaii",
            "Wyoming",
            "North Dakota",
            "New Hampshire",
            "Rhode Island"
           ],
           "locationmode": "USA-states",
           "locations": [
            "SD",
            "MT",
            "ME",
            "ID",
            "NM",
            "HI",
            "WY",
            "ND",
            "NH",
            "RI"
           ],
           "name": "",
           "type": "choropleth",
           "z": [
            3,
            0,
            1,
            0,
            0,
            0,
            1,
            2,
            2,
            23
           ]
          }
         ],
         "name": "2020-06-01"
        },
        {
         "data": [
          {
           "coloraxis": "coloraxis",
           "geo": "geo",
           "hovertemplate": "<b>%{hovertext}</b><br><br>date=2020-06-02<br>open_covid_region_code=%{location}<br>hospitalized_new=%{z}<extra></extra>",
           "hovertext": [
            "South Dakota",
            "Montana",
            "Maine",
            "Idaho",
            "New Mexico",
            "Hawaii",
            "Wyoming",
            "North Dakota",
            "New Hampshire",
            "Rhode Island"
           ],
           "locationmode": "USA-states",
           "locations": [
            "SD",
            "MT",
            "ME",
            "ID",
            "NM",
            "HI",
            "WY",
            "ND",
            "NH",
            "RI"
           ],
           "name": "",
           "type": "choropleth",
           "z": [
            8,
            0,
            3,
            5,
            0,
            0,
            0,
            1,
            5,
            19
           ]
          }
         ],
         "name": "2020-06-02"
        },
        {
         "data": [
          {
           "coloraxis": "coloraxis",
           "geo": "geo",
           "hovertemplate": "<b>%{hovertext}</b><br><br>date=2020-06-03<br>open_covid_region_code=%{location}<br>hospitalized_new=%{z}<extra></extra>",
           "hovertext": [
            "South Dakota",
            "Montana",
            "Maine",
            "Idaho",
            "New Mexico",
            "Hawaii",
            "Wyoming",
            "North Dakota",
            "New Hampshire",
            "Rhode Island",
            "Nebraska"
           ],
           "locationmode": "USA-states",
           "locations": [
            "SD",
            "MT",
            "ME",
            "ID",
            "NM",
            "HI",
            "WY",
            "ND",
            "NH",
            "RI",
            "NE"
           ],
           "name": "",
           "type": "choropleth",
           "z": [
            13,
            1,
            -2,
            4,
            99,
            0,
            1,
            2,
            6,
            10,
            851
           ]
          }
         ],
         "name": "2020-06-03"
        },
        {
         "data": [
          {
           "coloraxis": "coloraxis",
           "geo": "geo",
           "hovertemplate": "<b>%{hovertext}</b><br><br>date=2020-06-04<br>open_covid_region_code=%{location}<br>hospitalized_new=%{z}<extra></extra>",
           "hovertext": [
            "South Dakota",
            "Montana",
            "Maine",
            "Idaho",
            "New Mexico",
            "Hawaii",
            "Wyoming",
            "North Dakota",
            "New Hampshire",
            "Rhode Island",
            "Nebraska"
           ],
           "locationmode": "USA-states",
           "locations": [
            "SD",
            "MT",
            "ME",
            "ID",
            "NM",
            "HI",
            "WY",
            "ND",
            "NH",
            "RI",
            "NE"
           ],
           "name": "",
           "type": "choropleth",
           "z": [
            8,
            0,
            6,
            2,
            0,
            0,
            0,
            3,
            6,
            12,
            51
           ]
          }
         ],
         "name": "2020-06-04"
        },
        {
         "data": [
          {
           "coloraxis": "coloraxis",
           "geo": "geo",
           "hovertemplate": "<b>%{hovertext}</b><br><br>date=2020-06-05<br>open_covid_region_code=%{location}<br>hospitalized_new=%{z}<extra></extra>",
           "hovertext": [
            "South Dakota",
            "Montana",
            "Maine",
            "Idaho",
            "New Mexico",
            "Hawaii",
            "Wyoming",
            "North Dakota",
            "New Hampshire",
            "Rhode Island",
            "Nebraska"
           ],
           "locationmode": "USA-states",
           "locations": [
            "SD",
            "MT",
            "ME",
            "ID",
            "NM",
            "HI",
            "WY",
            "ND",
            "NH",
            "RI",
            "NE"
           ],
           "name": "",
           "type": "choropleth",
           "z": [
            3,
            0,
            2,
            2,
            0,
            0,
            3,
            5,
            4,
            10,
            3
           ]
          }
         ],
         "name": "2020-06-05"
        },
        {
         "data": [
          {
           "coloraxis": "coloraxis",
           "geo": "geo",
           "hovertemplate": "<b>%{hovertext}</b><br><br>date=2020-06-06<br>open_covid_region_code=%{location}<br>hospitalized_new=%{z}<extra></extra>",
           "hovertext": [
            "South Dakota",
            "Montana",
            "Maine",
            "Idaho",
            "New Mexico",
            "Hawaii",
            "Wyoming",
            "North Dakota",
            "New Hampshire",
            "Rhode Island",
            "Nebraska"
           ],
           "locationmode": "USA-states",
           "locations": [
            "SD",
            "MT",
            "ME",
            "ID",
            "NM",
            "HI",
            "WY",
            "ND",
            "NH",
            "RI",
            "NE"
           ],
           "name": "",
           "type": "choropleth",
           "z": [
            7,
            0,
            3,
            2,
            73,
            0,
            0,
            2,
            15,
            0,
            14
           ]
          }
         ],
         "name": "2020-06-06"
        },
        {
         "data": [
          {
           "coloraxis": "coloraxis",
           "geo": "geo",
           "hovertemplate": "<b>%{hovertext}</b><br><br>date=2020-06-07<br>open_covid_region_code=%{location}<br>hospitalized_new=%{z}<extra></extra>",
           "hovertext": [
            "South Dakota",
            "Montana",
            "Maine",
            "Idaho",
            "New Mexico",
            "Hawaii",
            "Wyoming",
            "North Dakota",
            "New Hampshire",
            "Rhode Island",
            "Nebraska"
           ],
           "locationmode": "USA-states",
           "locations": [
            "SD",
            "MT",
            "ME",
            "ID",
            "NM",
            "HI",
            "WY",
            "ND",
            "NH",
            "RI",
            "NE"
           ],
           "name": "",
           "type": "choropleth",
           "z": [
            4,
            1,
            2,
            3,
            0,
            0,
            0,
            1,
            0,
            0,
            9
           ]
          }
         ],
         "name": "2020-06-07"
        },
        {
         "data": [
          {
           "coloraxis": "coloraxis",
           "geo": "geo",
           "hovertemplate": "<b>%{hovertext}</b><br><br>date=2020-06-08<br>open_covid_region_code=%{location}<br>hospitalized_new=%{z}<extra></extra>",
           "hovertext": [
            "South Dakota",
            "Montana",
            "Maine",
            "Idaho",
            "New Mexico",
            "Hawaii",
            "Wyoming",
            "North Dakota",
            "New Hampshire",
            "Rhode Island",
            "Nebraska"
           ],
           "locationmode": "USA-states",
           "locations": [
            "SD",
            "MT",
            "ME",
            "ID",
            "NM",
            "HI",
            "WY",
            "ND",
            "NH",
            "RI",
            "NE"
           ],
           "name": "",
           "type": "choropleth",
           "z": [
            4,
            0,
            3,
            0,
            44,
            1,
            1,
            1,
            2,
            32,
            7
           ]
          }
         ],
         "name": "2020-06-08"
        },
        {
         "data": [
          {
           "coloraxis": "coloraxis",
           "geo": "geo",
           "hovertemplate": "<b>%{hovertext}</b><br><br>date=2020-06-09<br>open_covid_region_code=%{location}<br>hospitalized_new=%{z}<extra></extra>",
           "hovertext": [
            "South Dakota",
            "Montana",
            "Maine",
            "Idaho",
            "New Mexico",
            "Hawaii",
            "Wyoming",
            "North Dakota",
            "New Hampshire",
            "Rhode Island",
            "Nebraska"
           ],
           "locationmode": "USA-states",
           "locations": [
            "SD",
            "MT",
            "ME",
            "ID",
            "NM",
            "HI",
            "WY",
            "ND",
            "NH",
            "RI",
            "NE"
           ],
           "name": "",
           "type": "choropleth",
           "z": [
            5,
            3,
            1,
            0,
            25,
            0,
            0,
            5,
            3,
            8,
            32
           ]
          }
         ],
         "name": "2020-06-09"
        },
        {
         "data": [
          {
           "coloraxis": "coloraxis",
           "geo": "geo",
           "hovertemplate": "<b>%{hovertext}</b><br><br>date=2020-06-10<br>open_covid_region_code=%{location}<br>hospitalized_new=%{z}<extra></extra>",
           "hovertext": [
            "South Dakota",
            "Montana",
            "Maine",
            "Idaho",
            "New Mexico",
            "Hawaii",
            "Wyoming",
            "North Dakota",
            "New Hampshire",
            "Rhode Island",
            "Nebraska"
           ],
           "locationmode": "USA-states",
           "locations": [
            "SD",
            "MT",
            "ME",
            "ID",
            "NM",
            "HI",
            "WY",
            "ND",
            "NH",
            "RI",
            "NE"
           ],
           "name": "",
           "type": "choropleth",
           "z": [
            16,
            2,
            1,
            2,
            25,
            0,
            1,
            4,
            4,
            13,
            22
           ]
          }
         ],
         "name": "2020-06-10"
        },
        {
         "data": [
          {
           "coloraxis": "coloraxis",
           "geo": "geo",
           "hovertemplate": "<b>%{hovertext}</b><br><br>date=2020-06-11<br>open_covid_region_code=%{location}<br>hospitalized_new=%{z}<extra></extra>",
           "hovertext": [
            "South Dakota",
            "Montana",
            "Maine",
            "Idaho",
            "New Mexico",
            "Hawaii",
            "Wyoming",
            "North Dakota",
            "New Hampshire",
            "Rhode Island",
            "Nebraska"
           ],
           "locationmode": "USA-states",
           "locations": [
            "SD",
            "MT",
            "ME",
            "ID",
            "NM",
            "HI",
            "WY",
            "ND",
            "NH",
            "RI",
            "NE"
           ],
           "name": "",
           "type": "choropleth",
           "z": [
            11,
            0,
            5,
            0,
            0,
            1,
            0,
            0,
            4,
            14,
            11
           ]
          }
         ],
         "name": "2020-06-11"
        },
        {
         "data": [
          {
           "coloraxis": "coloraxis",
           "geo": "geo",
           "hovertemplate": "<b>%{hovertext}</b><br><br>date=2020-06-12<br>open_covid_region_code=%{location}<br>hospitalized_new=%{z}<extra></extra>",
           "hovertext": [
            "South Dakota",
            "Montana",
            "Maine",
            "Idaho",
            "New Mexico",
            "Hawaii",
            "Wyoming",
            "North Dakota",
            "New Hampshire",
            "Rhode Island",
            "Nebraska"
           ],
           "locationmode": "USA-states",
           "locations": [
            "SD",
            "MT",
            "ME",
            "ID",
            "NM",
            "HI",
            "WY",
            "ND",
            "NH",
            "RI",
            "NE"
           ],
           "name": "",
           "type": "choropleth",
           "z": [
            11,
            3,
            0,
            3,
            42,
            1,
            0,
            4,
            4,
            11,
            29
           ]
          }
         ],
         "name": "2020-06-12"
        },
        {
         "data": [
          {
           "coloraxis": "coloraxis",
           "geo": "geo",
           "hovertemplate": "<b>%{hovertext}</b><br><br>date=2020-06-13<br>open_covid_region_code=%{location}<br>hospitalized_new=%{z}<extra></extra>",
           "hovertext": [
            "South Dakota",
            "Montana",
            "Maine",
            "Idaho",
            "New Mexico",
            "Hawaii",
            "Wyoming",
            "North Dakota",
            "New Hampshire",
            "Rhode Island",
            "Nebraska"
           ],
           "locationmode": "USA-states",
           "locations": [
            "SD",
            "MT",
            "ME",
            "ID",
            "NM",
            "HI",
            "WY",
            "ND",
            "NH",
            "RI",
            "NE"
           ],
           "name": "",
           "type": "choropleth",
           "z": [
            6,
            0,
            5,
            0,
            0,
            1,
            1,
            0,
            -1,
            0,
            38
           ]
          }
         ],
         "name": "2020-06-13"
        },
        {
         "data": [
          {
           "coloraxis": "coloraxis",
           "geo": "geo",
           "hovertemplate": "<b>%{hovertext}</b><br><br>date=2020-06-14<br>open_covid_region_code=%{location}<br>hospitalized_new=%{z}<extra></extra>",
           "hovertext": [
            "South Dakota",
            "Montana",
            "Maine",
            "Idaho",
            "New Mexico",
            "Hawaii",
            "Wyoming",
            "North Dakota",
            "New Hampshire",
            "Rhode Island",
            "Nebraska"
           ],
           "locationmode": "USA-states",
           "locations": [
            "SD",
            "MT",
            "ME",
            "ID",
            "NM",
            "HI",
            "WY",
            "ND",
            "NH",
            "RI",
            "NE"
           ],
           "name": "",
           "type": "choropleth",
           "z": [
            8,
            0,
            1,
            1,
            0,
            2,
            0,
            0,
            10,
            0,
            3
           ]
          }
         ],
         "name": "2020-06-14"
        },
        {
         "data": [
          {
           "coloraxis": "coloraxis",
           "geo": "geo",
           "hovertemplate": "<b>%{hovertext}</b><br><br>date=2020-06-15<br>open_covid_region_code=%{location}<br>hospitalized_new=%{z}<extra></extra>",
           "hovertext": [
            "South Dakota",
            "Montana",
            "Maine",
            "Idaho",
            "New Mexico",
            "Hawaii",
            "Wyoming",
            "North Dakota",
            "New Hampshire",
            "Rhode Island",
            "Nebraska"
           ],
           "locationmode": "USA-states",
           "locations": [
            "SD",
            "MT",
            "ME",
            "ID",
            "NM",
            "HI",
            "WY",
            "ND",
            "NH",
            "RI",
            "NE"
           ],
           "name": "",
           "type": "choropleth",
           "z": [
            5,
            1,
            3,
            0,
            0,
            2,
            0,
            0,
            6,
            29,
            5
           ]
          }
         ],
         "name": "2020-06-15"
        },
        {
         "data": [
          {
           "coloraxis": "coloraxis",
           "geo": "geo",
           "hovertemplate": "<b>%{hovertext}</b><br><br>date=2020-06-16<br>open_covid_region_code=%{location}<br>hospitalized_new=%{z}<extra></extra>",
           "hovertext": [
            "South Dakota",
            "Montana",
            "Maine",
            "Idaho",
            "New Mexico",
            "Hawaii",
            "Wyoming",
            "North Dakota",
            "New Hampshire",
            "Rhode Island",
            "Nebraska"
           ],
           "locationmode": "USA-states",
           "locations": [
            "SD",
            "MT",
            "ME",
            "ID",
            "NM",
            "HI",
            "WY",
            "ND",
            "NH",
            "RI",
            "NE"
           ],
           "name": "",
           "type": "choropleth",
           "z": [
            18,
            1,
            4,
            4,
            61,
            0,
            3,
            3,
            0,
            7,
            13
           ]
          }
         ],
         "name": "2020-06-16"
        },
        {
         "data": [
          {
           "coloraxis": "coloraxis",
           "geo": "geo",
           "hovertemplate": "<b>%{hovertext}</b><br><br>date=2020-06-17<br>open_covid_region_code=%{location}<br>hospitalized_new=%{z}<extra></extra>",
           "hovertext": [
            "South Dakota",
            "Montana",
            "Maine",
            "Idaho",
            "New Mexico",
            "Hawaii",
            "Wyoming",
            "North Dakota",
            "New Hampshire",
            "Rhode Island",
            "Nebraska"
           ],
           "locationmode": "USA-states",
           "locations": [
            "SD",
            "MT",
            "ME",
            "ID",
            "NM",
            "HI",
            "WY",
            "ND",
            "NH",
            "RI",
            "NE"
           ],
           "name": "",
           "type": "choropleth",
           "z": [
            8,
            -1,
            2,
            5,
            12,
            1,
            1,
            1,
            2,
            9,
            28
           ]
          }
         ],
         "name": "2020-06-17"
        },
        {
         "data": [
          {
           "coloraxis": "coloraxis",
           "geo": "geo",
           "hovertemplate": "<b>%{hovertext}</b><br><br>date=2020-06-18<br>open_covid_region_code=%{location}<br>hospitalized_new=%{z}<extra></extra>",
           "hovertext": [
            "South Dakota",
            "Montana",
            "Maine",
            "Idaho",
            "New Mexico",
            "Hawaii",
            "Wyoming",
            "North Dakota",
            "New Hampshire",
            "Rhode Island",
            "Nebraska"
           ],
           "locationmode": "USA-states",
           "locations": [
            "SD",
            "MT",
            "ME",
            "ID",
            "NM",
            "HI",
            "WY",
            "ND",
            "NH",
            "RI",
            "NE"
           ],
           "name": "",
           "type": "choropleth",
           "z": [
            15,
            3,
            0,
            0,
            17,
            3,
            0,
            7,
            10,
            13,
            25
           ]
          }
         ],
         "name": "2020-06-18"
        },
        {
         "data": [
          {
           "coloraxis": "coloraxis",
           "geo": "geo",
           "hovertemplate": "<b>%{hovertext}</b><br><br>date=2020-06-19<br>open_covid_region_code=%{location}<br>hospitalized_new=%{z}<extra></extra>",
           "hovertext": [
            "South Dakota",
            "Montana",
            "Maine",
            "Idaho",
            "New Mexico",
            "Hawaii",
            "Wyoming",
            "North Dakota",
            "New Hampshire",
            "Rhode Island",
            "Nebraska"
           ],
           "locationmode": "USA-states",
           "locations": [
            "SD",
            "MT",
            "ME",
            "ID",
            "NM",
            "HI",
            "WY",
            "ND",
            "NH",
            "RI",
            "NE"
           ],
           "name": "",
           "type": "choropleth",
           "z": [
            4,
            1,
            5,
            3,
            11,
            0,
            1,
            2,
            2,
            11,
            25
           ]
          }
         ],
         "name": "2020-06-19"
        },
        {
         "data": [
          {
           "coloraxis": "coloraxis",
           "geo": "geo",
           "hovertemplate": "<b>%{hovertext}</b><br><br>date=2020-06-20<br>open_covid_region_code=%{location}<br>hospitalized_new=%{z}<extra></extra>",
           "hovertext": [
            "South Dakota",
            "Montana",
            "Maine",
            "Idaho",
            "New Mexico",
            "Hawaii",
            "Wyoming",
            "North Dakota",
            "New Hampshire",
            "Rhode Island",
            "Nebraska"
           ],
           "locationmode": "USA-states",
           "locations": [
            "SD",
            "MT",
            "ME",
            "ID",
            "NM",
            "HI",
            "WY",
            "ND",
            "NH",
            "RI",
            "NE"
           ],
           "name": "",
           "type": "choropleth",
           "z": [
            9,
            3,
            5,
            1,
            9,
            1,
            0,
            3,
            16,
            0,
            34
           ]
          }
         ],
         "name": "2020-06-20"
        },
        {
         "data": [
          {
           "coloraxis": "coloraxis",
           "geo": "geo",
           "hovertemplate": "<b>%{hovertext}</b><br><br>date=2020-06-21<br>open_covid_region_code=%{location}<br>hospitalized_new=%{z}<extra></extra>",
           "hovertext": [
            "South Dakota",
            "Montana",
            "Maine",
            "Idaho",
            "New Mexico",
            "Hawaii",
            "Wyoming",
            "North Dakota",
            "New Hampshire",
            "Rhode Island",
            "Nebraska"
           ],
           "locationmode": "USA-states",
           "locations": [
            "SD",
            "MT",
            "ME",
            "ID",
            "NM",
            "HI",
            "WY",
            "ND",
            "NH",
            "RI",
            "NE"
           ],
           "name": "",
           "type": "choropleth",
           "z": [
            10,
            4,
            3,
            4,
            11,
            0,
            2,
            3,
            2,
            0,
            12
           ]
          }
         ],
         "name": "2020-06-21"
        },
        {
         "data": [
          {
           "coloraxis": "coloraxis",
           "geo": "geo",
           "hovertemplate": "<b>%{hovertext}</b><br><br>date=2020-06-22<br>open_covid_region_code=%{location}<br>hospitalized_new=%{z}<extra></extra>",
           "hovertext": [
            "South Dakota",
            "Montana",
            "Maine",
            "Idaho",
            "New Mexico",
            "Hawaii",
            "Wyoming",
            "North Dakota",
            "New Hampshire",
            "Rhode Island",
            "Nebraska"
           ],
           "locationmode": "USA-states",
           "locations": [
            "SD",
            "MT",
            "ME",
            "ID",
            "NM",
            "HI",
            "WY",
            "ND",
            "NH",
            "RI",
            "NE"
           ],
           "name": "",
           "type": "choropleth",
           "z": [
            8,
            1,
            0,
            0,
            0,
            1,
            5,
            2,
            2,
            28,
            0
           ]
          }
         ],
         "name": "2020-06-22"
        },
        {
         "data": [
          {
           "coloraxis": "coloraxis",
           "geo": "geo",
           "hovertemplate": "<b>%{hovertext}</b><br><br>date=2020-06-23<br>open_covid_region_code=%{location}<br>hospitalized_new=%{z}<extra></extra>",
           "hovertext": [
            "South Dakota",
            "Montana",
            "Maine",
            "Idaho",
            "New Mexico",
            "Hawaii",
            "Wyoming",
            "North Dakota",
            "New Hampshire",
            "Rhode Island",
            "Nebraska"
           ],
           "locationmode": "USA-states",
           "locations": [
            "SD",
            "MT",
            "ME",
            "ID",
            "NM",
            "HI",
            "WY",
            "ND",
            "NH",
            "RI",
            "NE"
           ],
           "name": "",
           "type": "choropleth",
           "z": [
            8,
            1,
            3,
            10,
            8,
            2,
            4,
            0,
            5,
            8,
            22
           ]
          }
         ],
         "name": "2020-06-23"
        },
        {
         "data": [
          {
           "coloraxis": "coloraxis",
           "geo": "geo",
           "hovertemplate": "<b>%{hovertext}</b><br><br>date=2020-06-24<br>open_covid_region_code=%{location}<br>hospitalized_new=%{z}<extra></extra>",
           "hovertext": [
            "South Dakota",
            "Montana",
            "Maine",
            "Idaho",
            "New Mexico",
            "Hawaii",
            "Wyoming",
            "North Dakota",
            "New Hampshire",
            "Rhode Island",
            "Nebraska"
           ],
           "locationmode": "USA-states",
           "locations": [
            "SD",
            "MT",
            "ME",
            "ID",
            "NM",
            "HI",
            "WY",
            "ND",
            "NH",
            "RI",
            "NE"
           ],
           "name": "",
           "type": "choropleth",
           "z": [
            5,
            2,
            0,
            5,
            22,
            5,
            0,
            1,
            0,
            9,
            23
           ]
          }
         ],
         "name": "2020-06-24"
        },
        {
         "data": [
          {
           "coloraxis": "coloraxis",
           "geo": "geo",
           "hovertemplate": "<b>%{hovertext}</b><br><br>date=2020-06-25<br>open_covid_region_code=%{location}<br>hospitalized_new=%{z}<extra></extra>",
           "hovertext": [
            "South Dakota",
            "Montana",
            "Maine",
            "Idaho",
            "New Mexico",
            "Hawaii",
            "Wyoming",
            "North Dakota",
            "New Hampshire",
            "Rhode Island",
            "Nebraska"
           ],
           "locationmode": "USA-states",
           "locations": [
            "SD",
            "MT",
            "ME",
            "ID",
            "NM",
            "HI",
            "WY",
            "ND",
            "NH",
            "RI",
            "NE"
           ],
           "name": "",
           "type": "choropleth",
           "z": [
            3,
            0,
            4,
            2,
            17,
            1,
            2,
            3,
            0,
            14,
            11
           ]
          }
         ],
         "name": "2020-06-25"
        },
        {
         "data": [
          {
           "coloraxis": "coloraxis",
           "geo": "geo",
           "hovertemplate": "<b>%{hovertext}</b><br><br>date=2020-06-26<br>open_covid_region_code=%{location}<br>hospitalized_new=%{z}<extra></extra>",
           "hovertext": [
            "South Dakota",
            "Montana",
            "Maine",
            "Idaho",
            "New Mexico",
            "Hawaii",
            "Wyoming",
            "North Dakota",
            "New Hampshire",
            "Rhode Island",
            "Nebraska"
           ],
           "locationmode": "USA-states",
           "locations": [
            "SD",
            "MT",
            "ME",
            "ID",
            "NM",
            "HI",
            "WY",
            "ND",
            "NH",
            "RI",
            "NE"
           ],
           "name": "",
           "type": "choropleth",
           "z": [
            7,
            2,
            0,
            3,
            18,
            4,
            1,
            0,
            3,
            3,
            26
           ]
          }
         ],
         "name": "2020-06-26"
        },
        {
         "data": [
          {
           "coloraxis": "coloraxis",
           "geo": "geo",
           "hovertemplate": "<b>%{hovertext}</b><br><br>date=2020-06-27<br>open_covid_region_code=%{location}<br>hospitalized_new=%{z}<extra></extra>",
           "hovertext": [
            "South Dakota",
            "Montana",
            "Maine",
            "Idaho",
            "New Mexico",
            "Hawaii",
            "Wyoming",
            "North Dakota",
            "New Hampshire",
            "Rhode Island",
            "Nebraska"
           ],
           "locationmode": "USA-states",
           "locations": [
            "SD",
            "MT",
            "ME",
            "ID",
            "NM",
            "HI",
            "WY",
            "ND",
            "NH",
            "RI",
            "NE"
           ],
           "name": "",
           "type": "choropleth",
           "z": [
            6,
            0,
            2,
            6,
            17,
            0,
            -1,
            3,
            0,
            0,
            18
           ]
          }
         ],
         "name": "2020-06-27"
        },
        {
         "data": [
          {
           "coloraxis": "coloraxis",
           "geo": "geo",
           "hovertemplate": "<b>%{hovertext}</b><br><br>date=2020-06-28<br>open_covid_region_code=%{location}<br>hospitalized_new=%{z}<extra></extra>",
           "hovertext": [
            "South Dakota",
            "Montana",
            "Maine",
            "Idaho",
            "New Mexico",
            "Hawaii",
            "Wyoming",
            "North Dakota",
            "New Hampshire",
            "Rhode Island",
            "Nebraska"
           ],
           "locationmode": "USA-states",
           "locations": [
            "SD",
            "MT",
            "ME",
            "ID",
            "NM",
            "HI",
            "WY",
            "ND",
            "NH",
            "RI",
            "NE"
           ],
           "name": "",
           "type": "choropleth",
           "z": [
            7,
            2,
            1,
            3,
            23,
            1,
            1,
            1,
            1,
            0,
            3
           ]
          }
         ],
         "name": "2020-06-28"
        },
        {
         "data": [
          {
           "coloraxis": "coloraxis",
           "geo": "geo",
           "hovertemplate": "<b>%{hovertext}</b><br><br>date=2020-06-29<br>open_covid_region_code=%{location}<br>hospitalized_new=%{z}<extra></extra>",
           "hovertext": [
            "South Dakota",
            "Montana",
            "Maine",
            "Idaho",
            "New Mexico",
            "Hawaii",
            "Wyoming",
            "North Dakota",
            "New Hampshire",
            "Rhode Island",
            "Nebraska"
           ],
           "locationmode": "USA-states",
           "locations": [
            "SD",
            "MT",
            "ME",
            "ID",
            "NM",
            "HI",
            "WY",
            "ND",
            "NH",
            "RI",
            "NE"
           ],
           "name": "",
           "type": "choropleth",
           "z": [
            5,
            3,
            1,
            0,
            14,
            1,
            0,
            1,
            3,
            11,
            1
           ]
          }
         ],
         "name": "2020-06-29"
        },
        {
         "data": [
          {
           "coloraxis": "coloraxis",
           "geo": "geo",
           "hovertemplate": "<b>%{hovertext}</b><br><br>date=2020-06-30<br>open_covid_region_code=%{location}<br>hospitalized_new=%{z}<extra></extra>",
           "hovertext": [
            "South Dakota",
            "Montana",
            "Maine",
            "Idaho",
            "New Mexico",
            "Hawaii",
            "Wyoming",
            "North Dakota",
            "New Hampshire",
            "Rhode Island",
            "Nebraska"
           ],
           "locationmode": "USA-states",
           "locations": [
            "SD",
            "MT",
            "ME",
            "ID",
            "NM",
            "HI",
            "WY",
            "ND",
            "NH",
            "RI",
            "NE"
           ],
           "name": "",
           "type": "choropleth",
           "z": [
            9,
            1,
            1,
            10,
            11,
            0,
            5,
            4,
            0,
            6,
            14
           ]
          }
         ],
         "name": "2020-06-30"
        },
        {
         "data": [
          {
           "coloraxis": "coloraxis",
           "geo": "geo",
           "hovertemplate": "<b>%{hovertext}</b><br><br>date=2020-07-01<br>open_covid_region_code=%{location}<br>hospitalized_new=%{z}<extra></extra>",
           "hovertext": [
            "South Dakota",
            "Montana",
            "Maine",
            "Idaho",
            "New Mexico",
            "Hawaii",
            "Wyoming",
            "North Dakota",
            "New Hampshire",
            "Rhode Island",
            "Nebraska"
           ],
           "locationmode": "USA-states",
           "locations": [
            "SD",
            "MT",
            "ME",
            "ID",
            "NM",
            "HI",
            "WY",
            "ND",
            "NH",
            "RI",
            "NE"
           ],
           "name": "",
           "type": "choropleth",
           "z": [
            8,
            4,
            3,
            8,
            26,
            2,
            0,
            3,
            0,
            6,
            0
           ]
          }
         ],
         "name": "2020-07-01"
        },
        {
         "data": [
          {
           "coloraxis": "coloraxis",
           "geo": "geo",
           "hovertemplate": "<b>%{hovertext}</b><br><br>date=2020-07-02<br>open_covid_region_code=%{location}<br>hospitalized_new=%{z}<extra></extra>",
           "hovertext": [
            "South Dakota",
            "Montana",
            "Maine",
            "Idaho",
            "New Mexico",
            "Hawaii",
            "Wyoming",
            "North Dakota",
            "New Hampshire",
            "Rhode Island",
            "Nebraska"
           ],
           "locationmode": "USA-states",
           "locations": [
            "SD",
            "MT",
            "ME",
            "ID",
            "NM",
            "HI",
            "WY",
            "ND",
            "NH",
            "RI",
            "NE"
           ],
           "name": "",
           "type": "choropleth",
           "z": [
            9,
            1,
            3,
            10,
            26,
            3,
            2,
            0,
            0,
            4,
            13
           ]
          }
         ],
         "name": "2020-07-02"
        },
        {
         "data": [
          {
           "coloraxis": "coloraxis",
           "geo": "geo",
           "hovertemplate": "<b>%{hovertext}</b><br><br>date=2020-07-03<br>open_covid_region_code=%{location}<br>hospitalized_new=%{z}<extra></extra>",
           "hovertext": [
            "South Dakota",
            "Montana",
            "Maine",
            "Idaho",
            "New Mexico",
            "Hawaii",
            "Wyoming",
            "North Dakota",
            "New Hampshire",
            "Rhode Island",
            "Nebraska"
           ],
           "locationmode": "USA-states",
           "locations": [
            "SD",
            "MT",
            "ME",
            "ID",
            "NM",
            "HI",
            "WY",
            "ND",
            "NH",
            "RI",
            "NE"
           ],
           "name": "",
           "type": "choropleth",
           "z": [
            4,
            3,
            4,
            10,
            17,
            0,
            0,
            3,
            2,
            8,
            10
           ]
          }
         ],
         "name": "2020-07-03"
        },
        {
         "data": [
          {
           "coloraxis": "coloraxis",
           "geo": "geo",
           "hovertemplate": "<b>%{hovertext}</b><br><br>date=2020-07-04<br>open_covid_region_code=%{location}<br>hospitalized_new=%{z}<extra></extra>",
           "hovertext": [
            "South Dakota",
            "Montana",
            "Maine",
            "Idaho",
            "New Mexico",
            "Hawaii",
            "Wyoming",
            "North Dakota",
            "New Hampshire",
            "Rhode Island",
            "Nebraska"
           ],
           "locationmode": "USA-states",
           "locations": [
            "SD",
            "MT",
            "ME",
            "ID",
            "NM",
            "HI",
            "WY",
            "ND",
            "NH",
            "RI",
            "NE"
           ],
           "name": "",
           "type": "choropleth",
           "z": [
            2,
            3,
            0,
            5,
            25,
            2,
            0,
            4,
            2,
            0,
            12
           ]
          }
         ],
         "name": "2020-07-04"
        },
        {
         "data": [
          {
           "coloraxis": "coloraxis",
           "geo": "geo",
           "hovertemplate": "<b>%{hovertext}</b><br><br>date=2020-07-05<br>open_covid_region_code=%{location}<br>hospitalized_new=%{z}<extra></extra>",
           "hovertext": [
            "South Dakota",
            "Montana",
            "Maine",
            "Idaho",
            "New Mexico",
            "Hawaii",
            "Wyoming",
            "North Dakota",
            "New Hampshire",
            "Rhode Island",
            "Nebraska"
           ],
           "locationmode": "USA-states",
           "locations": [
            "SD",
            "MT",
            "ME",
            "ID",
            "NM",
            "HI",
            "WY",
            "ND",
            "NH",
            "RI",
            "NE"
           ],
           "name": "",
           "type": "choropleth",
           "z": [
            2,
            0,
            1,
            4,
            18,
            0,
            0,
            1,
            0,
            0,
            3
           ]
          }
         ],
         "name": "2020-07-05"
        },
        {
         "data": [
          {
           "coloraxis": "coloraxis",
           "geo": "geo",
           "hovertemplate": "<b>%{hovertext}</b><br><br>date=2020-07-06<br>open_covid_region_code=%{location}<br>hospitalized_new=%{z}<extra></extra>",
           "hovertext": [
            "South Dakota",
            "Montana",
            "Maine",
            "Idaho",
            "New Mexico",
            "Hawaii",
            "Wyoming",
            "North Dakota",
            "New Hampshire",
            "Rhode Island",
            "Nebraska"
           ],
           "locationmode": "USA-states",
           "locations": [
            "SD",
            "MT",
            "ME",
            "ID",
            "NM",
            "HI",
            "WY",
            "ND",
            "NH",
            "RI",
            "NE"
           ],
           "name": "",
           "type": "choropleth",
           "z": [
            1,
            0,
            0,
            10,
            18,
            0,
            0,
            3,
            1,
            0,
            1
           ]
          }
         ],
         "name": "2020-07-06"
        },
        {
         "data": [
          {
           "coloraxis": "coloraxis",
           "geo": "geo",
           "hovertemplate": "<b>%{hovertext}</b><br><br>date=2020-07-07<br>open_covid_region_code=%{location}<br>hospitalized_new=%{z}<extra></extra>",
           "hovertext": [
            "South Dakota",
            "Montana",
            "Maine",
            "Idaho",
            "New Mexico",
            "Hawaii",
            "Wyoming",
            "North Dakota",
            "New Hampshire",
            "Rhode Island",
            "Nebraska"
           ],
           "locationmode": "USA-states",
           "locations": [
            "SD",
            "MT",
            "ME",
            "ID",
            "NM",
            "HI",
            "WY",
            "ND",
            "NH",
            "RI",
            "NE"
           ],
           "name": "",
           "type": "choropleth",
           "z": [
            7,
            5,
            1,
            18,
            27,
            1,
            0,
            3,
            4,
            17,
            0
           ]
          }
         ],
         "name": "2020-07-07"
        },
        {
         "data": [
          {
           "coloraxis": "coloraxis",
           "geo": "geo",
           "hovertemplate": "<b>%{hovertext}</b><br><br>date=2020-07-08<br>open_covid_region_code=%{location}<br>hospitalized_new=%{z}<extra></extra>",
           "hovertext": [
            "South Dakota",
            "Montana",
            "Maine",
            "Idaho",
            "New Mexico",
            "Hawaii",
            "Wyoming",
            "North Dakota",
            "New Hampshire",
            "Rhode Island",
            "Nebraska"
           ],
           "locationmode": "USA-states",
           "locations": [
            "SD",
            "MT",
            "ME",
            "ID",
            "NM",
            "HI",
            "WY",
            "ND",
            "NH",
            "RI",
            "NE"
           ],
           "name": "",
           "type": "choropleth",
           "z": [
            10,
            0,
            3,
            9,
            23,
            0,
            1,
            4,
            3,
            7,
            29
           ]
          }
         ],
         "name": "2020-07-08"
        },
        {
         "data": [
          {
           "coloraxis": "coloraxis",
           "geo": "geo",
           "hovertemplate": "<b>%{hovertext}</b><br><br>date=2020-07-09<br>open_covid_region_code=%{location}<br>hospitalized_new=%{z}<extra></extra>",
           "hovertext": [
            "South Dakota",
            "Montana",
            "Maine",
            "Idaho",
            "New Mexico",
            "Hawaii",
            "Wyoming",
            "North Dakota",
            "New Hampshire",
            "Rhode Island",
            "Nebraska"
           ],
           "locationmode": "USA-states",
           "locations": [
            "SD",
            "MT",
            "ME",
            "ID",
            "NM",
            "HI",
            "WY",
            "ND",
            "NH",
            "RI",
            "NE"
           ],
           "name": "",
           "type": "choropleth",
           "z": [
            9,
            3,
            2,
            15,
            45,
            3,
            1,
            5,
            1,
            0,
            7
           ]
          }
         ],
         "name": "2020-07-09"
        },
        {
         "data": [
          {
           "coloraxis": "coloraxis",
           "geo": "geo",
           "hovertemplate": "<b>%{hovertext}</b><br><br>date=2020-07-10<br>open_covid_region_code=%{location}<br>hospitalized_new=%{z}<extra></extra>",
           "hovertext": [
            "South Dakota",
            "Montana",
            "Maine",
            "Idaho",
            "New Mexico",
            "Hawaii",
            "Wyoming",
            "North Dakota",
            "New Hampshire",
            "Rhode Island",
            "Nebraska"
           ],
           "locationmode": "USA-states",
           "locations": [
            "SD",
            "MT",
            "ME",
            "ID",
            "NM",
            "HI",
            "WY",
            "ND",
            "NH",
            "RI",
            "NE"
           ],
           "name": "",
           "type": "choropleth",
           "z": [
            8,
            3,
            1,
            21,
            36,
            1,
            0,
            3,
            3,
            8,
            14
           ]
          }
         ],
         "name": "2020-07-10"
        },
        {
         "data": [
          {
           "coloraxis": "coloraxis",
           "geo": "geo",
           "hovertemplate": "<b>%{hovertext}</b><br><br>date=2020-07-11<br>open_covid_region_code=%{location}<br>hospitalized_new=%{z}<extra></extra>",
           "hovertext": [
            "South Dakota",
            "Montana",
            "Maine",
            "Idaho",
            "New Mexico",
            "Hawaii",
            "Wyoming",
            "North Dakota",
            "New Hampshire",
            "Rhode Island",
            "Nebraska"
           ],
           "locationmode": "USA-states",
           "locations": [
            "SD",
            "MT",
            "ME",
            "ID",
            "NM",
            "HI",
            "WY",
            "ND",
            "NH",
            "RI",
            "NE"
           ],
           "name": "",
           "type": "choropleth",
           "z": [
            12,
            4,
            2,
            17,
            24,
            2,
            2,
            3,
            4,
            0,
            0
           ]
          }
         ],
         "name": "2020-07-11"
        },
        {
         "data": [
          {
           "coloraxis": "coloraxis",
           "geo": "geo",
           "hovertemplate": "<b>%{hovertext}</b><br><br>date=2020-07-12<br>open_covid_region_code=%{location}<br>hospitalized_new=%{z}<extra></extra>",
           "hovertext": [
            "South Dakota",
            "Montana",
            "Maine",
            "Idaho",
            "New Mexico",
            "Hawaii",
            "Wyoming",
            "North Dakota",
            "New Hampshire",
            "Rhode Island",
            "Nebraska"
           ],
           "locationmode": "USA-states",
           "locations": [
            "SD",
            "MT",
            "ME",
            "ID",
            "NM",
            "HI",
            "WY",
            "ND",
            "NH",
            "RI",
            "NE"
           ],
           "name": "",
           "type": "choropleth",
           "z": [
            0,
            1,
            3,
            19,
            26,
            0,
            1,
            8,
            4,
            0,
            2
           ]
          }
         ],
         "name": "2020-07-12"
        },
        {
         "data": [
          {
           "coloraxis": "coloraxis",
           "geo": "geo",
           "hovertemplate": "<b>%{hovertext}</b><br><br>date=2020-07-13<br>open_covid_region_code=%{location}<br>hospitalized_new=%{z}<extra></extra>",
           "hovertext": [
            "South Dakota",
            "Montana",
            "Maine",
            "Idaho",
            "New Mexico",
            "Hawaii",
            "Wyoming",
            "North Dakota",
            "New Hampshire",
            "Rhode Island",
            "Nebraska"
           ],
           "locationmode": "USA-states",
           "locations": [
            "SD",
            "MT",
            "ME",
            "ID",
            "NM",
            "HI",
            "WY",
            "ND",
            "NH",
            "RI",
            "NE"
           ],
           "name": "",
           "type": "choropleth",
           "z": [
            4,
            5,
            1,
            9,
            17,
            0,
            0,
            6,
            0,
            15,
            0
           ]
          }
         ],
         "name": "2020-07-13"
        },
        {
         "data": [
          {
           "coloraxis": "coloraxis",
           "geo": "geo",
           "hovertemplate": "<b>%{hovertext}</b><br><br>date=2020-07-14<br>open_covid_region_code=%{location}<br>hospitalized_new=%{z}<extra></extra>",
           "hovertext": [
            "South Dakota",
            "Montana",
            "Maine",
            "Idaho",
            "New Mexico",
            "Hawaii",
            "Wyoming",
            "North Dakota",
            "New Hampshire",
            "Rhode Island",
            "Nebraska"
           ],
           "locationmode": "USA-states",
           "locations": [
            "SD",
            "MT",
            "ME",
            "ID",
            "NM",
            "HI",
            "WY",
            "ND",
            "NH",
            "RI",
            "NE"
           ],
           "name": "",
           "type": "choropleth",
           "z": [
            2,
            3,
            1,
            23,
            23,
            3,
            4,
            3,
            0,
            4,
            10
           ]
          }
         ],
         "name": "2020-07-14"
        },
        {
         "data": [
          {
           "coloraxis": "coloraxis",
           "geo": "geo",
           "hovertemplate": "<b>%{hovertext}</b><br><br>date=2020-07-15<br>open_covid_region_code=%{location}<br>hospitalized_new=%{z}<extra></extra>",
           "hovertext": [
            "South Dakota",
            "Montana",
            "Maine",
            "Idaho",
            "New Mexico",
            "Hawaii",
            "Wyoming",
            "North Dakota",
            "New Hampshire",
            "Rhode Island",
            "Nebraska"
           ],
           "locationmode": "USA-states",
           "locations": [
            "SD",
            "MT",
            "ME",
            "ID",
            "NM",
            "HI",
            "WY",
            "ND",
            "NH",
            "RI",
            "NE"
           ],
           "name": "",
           "type": "choropleth",
           "z": [
            8,
            9,
            0,
            10,
            34,
            5,
            3,
            4,
            76,
            5,
            11
           ]
          }
         ],
         "name": "2020-07-15"
        },
        {
         "data": [
          {
           "coloraxis": "coloraxis",
           "geo": "geo",
           "hovertemplate": "<b>%{hovertext}</b><br><br>date=2020-07-16<br>open_covid_region_code=%{location}<br>hospitalized_new=%{z}<extra></extra>",
           "hovertext": [
            "South Dakota",
            "Montana",
            "Maine",
            "Idaho",
            "New Mexico",
            "Hawaii",
            "Wyoming",
            "North Dakota",
            "New Hampshire",
            "Rhode Island",
            "Nebraska"
           ],
           "locationmode": "USA-states",
           "locations": [
            "SD",
            "MT",
            "ME",
            "ID",
            "NM",
            "HI",
            "WY",
            "ND",
            "NH",
            "RI",
            "NE"
           ],
           "name": "",
           "type": "choropleth",
           "z": [
            5,
            5,
            1,
            16,
            23,
            4,
            0,
            1,
            3,
            9,
            11
           ]
          }
         ],
         "name": "2020-07-16"
        },
        {
         "data": [
          {
           "coloraxis": "coloraxis",
           "geo": "geo",
           "hovertemplate": "<b>%{hovertext}</b><br><br>date=2020-07-17<br>open_covid_region_code=%{location}<br>hospitalized_new=%{z}<extra></extra>",
           "hovertext": [
            "South Dakota",
            "Montana",
            "Maine",
            "Idaho",
            "New Mexico",
            "Hawaii",
            "Wyoming",
            "North Dakota",
            "New Hampshire",
            "Rhode Island",
            "Nebraska"
           ],
           "locationmode": "USA-states",
           "locations": [
            "SD",
            "MT",
            "ME",
            "ID",
            "NM",
            "HI",
            "WY",
            "ND",
            "NH",
            "RI",
            "NE"
           ],
           "name": "",
           "type": "choropleth",
           "z": [
            6,
            9,
            1,
            28,
            28,
            1,
            9,
            5,
            2,
            4,
            0
           ]
          }
         ],
         "name": "2020-07-17"
        },
        {
         "data": [
          {
           "coloraxis": "coloraxis",
           "geo": "geo",
           "hovertemplate": "<b>%{hovertext}</b><br><br>date=2020-07-18<br>open_covid_region_code=%{location}<br>hospitalized_new=%{z}<extra></extra>",
           "hovertext": [
            "South Dakota",
            "Montana",
            "Maine",
            "Idaho",
            "New Mexico",
            "Hawaii",
            "Wyoming",
            "North Dakota",
            "New Hampshire",
            "Rhode Island",
            "Nebraska"
           ],
           "locationmode": "USA-states",
           "locations": [
            "SD",
            "MT",
            "ME",
            "ID",
            "NM",
            "HI",
            "WY",
            "ND",
            "NH",
            "RI",
            "NE"
           ],
           "name": "",
           "type": "choropleth",
           "z": [
            8,
            5,
            0,
            16,
            25,
            1,
            2,
            5,
            0,
            0,
            27
           ]
          }
         ],
         "name": "2020-07-18"
        },
        {
         "data": [
          {
           "coloraxis": "coloraxis",
           "geo": "geo",
           "hovertemplate": "<b>%{hovertext}</b><br><br>date=2020-07-19<br>open_covid_region_code=%{location}<br>hospitalized_new=%{z}<extra></extra>",
           "hovertext": [
            "South Dakota",
            "Montana",
            "Maine",
            "Idaho",
            "New Mexico",
            "Hawaii",
            "Wyoming",
            "North Dakota",
            "New Hampshire",
            "Rhode Island",
            "Nebraska"
           ],
           "locationmode": "USA-states",
           "locations": [
            "SD",
            "MT",
            "ME",
            "ID",
            "NM",
            "HI",
            "WY",
            "ND",
            "NH",
            "RI",
            "NE"
           ],
           "name": "",
           "type": "choropleth",
           "z": [
            3,
            1,
            0,
            13,
            27,
            1,
            1,
            7,
            3,
            0,
            1
           ]
          }
         ],
         "name": "2020-07-19"
        },
        {
         "data": [
          {
           "coloraxis": "coloraxis",
           "geo": "geo",
           "hovertemplate": "<b>%{hovertext}</b><br><br>date=2020-07-20<br>open_covid_region_code=%{location}<br>hospitalized_new=%{z}<extra></extra>",
           "hovertext": [
            "South Dakota",
            "Montana",
            "Maine",
            "Idaho",
            "New Mexico",
            "Hawaii",
            "Wyoming",
            "North Dakota",
            "New Hampshire",
            "Rhode Island",
            "Nebraska"
           ],
           "locationmode": "USA-states",
           "locations": [
            "SD",
            "MT",
            "ME",
            "ID",
            "NM",
            "HI",
            "WY",
            "ND",
            "NH",
            "RI",
            "NE"
           ],
           "name": "",
           "type": "choropleth",
           "z": [
            0,
            2,
            0,
            17,
            23,
            10,
            1,
            3,
            0,
            22,
            1
           ]
          }
         ],
         "name": "2020-07-20"
        },
        {
         "data": [
          {
           "coloraxis": "coloraxis",
           "geo": "geo",
           "hovertemplate": "<b>%{hovertext}</b><br><br>date=2020-07-21<br>open_covid_region_code=%{location}<br>hospitalized_new=%{z}<extra></extra>",
           "hovertext": [
            "South Dakota",
            "Montana",
            "Maine",
            "Idaho",
            "New Mexico",
            "Hawaii",
            "Wyoming",
            "North Dakota",
            "New Hampshire",
            "Rhode Island",
            "Nebraska"
           ],
           "locationmode": "USA-states",
           "locations": [
            "SD",
            "MT",
            "ME",
            "ID",
            "NM",
            "HI",
            "WY",
            "ND",
            "NH",
            "RI",
            "NE"
           ],
           "name": "",
           "type": "choropleth",
           "z": [
            2,
            7,
            2,
            21,
            12,
            0,
            2,
            4,
            0,
            6,
            20
           ]
          }
         ],
         "name": "2020-07-21"
        },
        {
         "data": [
          {
           "coloraxis": "coloraxis",
           "geo": "geo",
           "hovertemplate": "<b>%{hovertext}</b><br><br>date=2020-07-22<br>open_covid_region_code=%{location}<br>hospitalized_new=%{z}<extra></extra>",
           "hovertext": [
            "South Dakota",
            "Montana",
            "Maine",
            "Idaho",
            "New Mexico",
            "Hawaii",
            "Wyoming",
            "North Dakota",
            "New Hampshire",
            "Rhode Island",
            "Nebraska"
           ],
           "locationmode": "USA-states",
           "locations": [
            "SD",
            "MT",
            "ME",
            "ID",
            "NM",
            "HI",
            "WY",
            "ND",
            "NH",
            "RI",
            "NE"
           ],
           "name": "",
           "type": "choropleth",
           "z": [
            14,
            5,
            0,
            35,
            34,
            1,
            6,
            8,
            4,
            11,
            6
           ]
          }
         ],
         "name": "2020-07-22"
        },
        {
         "data": [
          {
           "coloraxis": "coloraxis",
           "geo": "geo",
           "hovertemplate": "<b>%{hovertext}</b><br><br>date=2020-07-23<br>open_covid_region_code=%{location}<br>hospitalized_new=%{z}<extra></extra>",
           "hovertext": [
            "South Dakota",
            "Montana",
            "Maine",
            "Idaho",
            "New Mexico",
            "Hawaii",
            "Wyoming",
            "North Dakota",
            "New Hampshire",
            "Rhode Island",
            "Nebraska"
           ],
           "locationmode": "USA-states",
           "locations": [
            "SD",
            "MT",
            "ME",
            "ID",
            "NM",
            "HI",
            "WY",
            "ND",
            "NH",
            "RI",
            "NE"
           ],
           "name": "",
           "type": "choropleth",
           "z": [
            2,
            4,
            1,
            18,
            37,
            3,
            1,
            5,
            3,
            10,
            14
           ]
          }
         ],
         "name": "2020-07-23"
        },
        {
         "data": [
          {
           "coloraxis": "coloraxis",
           "geo": "geo",
           "hovertemplate": "<b>%{hovertext}</b><br><br>date=2020-07-24<br>open_covid_region_code=%{location}<br>hospitalized_new=%{z}<extra></extra>",
           "hovertext": [
            "South Dakota",
            "Montana",
            "Maine",
            "Idaho",
            "New Mexico",
            "Hawaii",
            "Wyoming",
            "North Dakota",
            "New Hampshire",
            "Rhode Island",
            "Nebraska"
           ],
           "locationmode": "USA-states",
           "locations": [
            "SD",
            "MT",
            "ME",
            "ID",
            "NM",
            "HI",
            "WY",
            "ND",
            "NH",
            "RI",
            "NE"
           ],
           "name": "",
           "type": "choropleth",
           "z": [
            4,
            8,
            0,
            23,
            30,
            1,
            2,
            3,
            1,
            9,
            26
           ]
          }
         ],
         "name": "2020-07-24"
        },
        {
         "data": [
          {
           "coloraxis": "coloraxis",
           "geo": "geo",
           "hovertemplate": "<b>%{hovertext}</b><br><br>date=2020-07-25<br>open_covid_region_code=%{location}<br>hospitalized_new=%{z}<extra></extra>",
           "hovertext": [
            "South Dakota",
            "Montana",
            "Maine",
            "Idaho",
            "New Mexico",
            "Hawaii",
            "Wyoming",
            "North Dakota",
            "New Hampshire",
            "Rhode Island",
            "Nebraska"
           ],
           "locationmode": "USA-states",
           "locations": [
            "SD",
            "MT",
            "ME",
            "ID",
            "NM",
            "HI",
            "WY",
            "ND",
            "NH",
            "RI",
            "NE"
           ],
           "name": "",
           "type": "choropleth",
           "z": [
            2,
            4,
            1,
            12,
            25,
            1,
            3,
            3,
            5,
            0,
            0
           ]
          }
         ],
         "name": "2020-07-25"
        },
        {
         "data": [
          {
           "coloraxis": "coloraxis",
           "geo": "geo",
           "hovertemplate": "<b>%{hovertext}</b><br><br>date=2020-07-26<br>open_covid_region_code=%{location}<br>hospitalized_new=%{z}<extra></extra>",
           "hovertext": [
            "South Dakota",
            "Montana",
            "Maine",
            "Idaho",
            "New Mexico",
            "Hawaii",
            "Wyoming",
            "North Dakota",
            "New Hampshire",
            "Rhode Island",
            "Nebraska"
           ],
           "locationmode": "USA-states",
           "locations": [
            "SD",
            "MT",
            "ME",
            "ID",
            "NM",
            "HI",
            "WY",
            "ND",
            "NH",
            "RI",
            "NE"
           ],
           "name": "",
           "type": "choropleth",
           "z": [
            3,
            4,
            2,
            14,
            17,
            5,
            0,
            5,
            2,
            0,
            19
           ]
          }
         ],
         "name": "2020-07-26"
        },
        {
         "data": [
          {
           "coloraxis": "coloraxis",
           "geo": "geo",
           "hovertemplate": "<b>%{hovertext}</b><br><br>date=2020-07-27<br>open_covid_region_code=%{location}<br>hospitalized_new=%{z}<extra></extra>",
           "hovertext": [
            "South Dakota",
            "Montana",
            "Maine",
            "Idaho",
            "New Mexico",
            "Hawaii",
            "Wyoming",
            "North Dakota",
            "New Hampshire",
            "Rhode Island",
            "Nebraska"
           ],
           "locationmode": "USA-states",
           "locations": [
            "SD",
            "MT",
            "ME",
            "ID",
            "NM",
            "HI",
            "WY",
            "ND",
            "NH",
            "RI",
            "NE"
           ],
           "name": "",
           "type": "choropleth",
           "z": [
            5,
            2,
            2,
            18,
            18,
            2,
            0,
            4,
            0,
            28,
            3
           ]
          }
         ],
         "name": "2020-07-27"
        },
        {
         "data": [
          {
           "coloraxis": "coloraxis",
           "geo": "geo",
           "hovertemplate": "<b>%{hovertext}</b><br><br>date=2020-07-28<br>open_covid_region_code=%{location}<br>hospitalized_new=%{z}<extra></extra>",
           "hovertext": [
            "South Dakota",
            "Montana",
            "Maine",
            "Idaho",
            "New Mexico",
            "Hawaii",
            "Wyoming",
            "North Dakota",
            "New Hampshire",
            "Rhode Island",
            "Nebraska"
           ],
           "locationmode": "USA-states",
           "locations": [
            "SD",
            "MT",
            "ME",
            "ID",
            "NM",
            "HI",
            "WY",
            "ND",
            "NH",
            "RI",
            "NE"
           ],
           "name": "",
           "type": "choropleth",
           "z": [
            2,
            4,
            1,
            9,
            30,
            2,
            4,
            6,
            2,
            8,
            17
           ]
          }
         ],
         "name": "2020-07-28"
        },
        {
         "data": [
          {
           "coloraxis": "coloraxis",
           "geo": "geo",
           "hovertemplate": "<b>%{hovertext}</b><br><br>date=2020-07-29<br>open_covid_region_code=%{location}<br>hospitalized_new=%{z}<extra></extra>",
           "hovertext": [
            "South Dakota",
            "Montana",
            "Maine",
            "Idaho",
            "New Mexico",
            "Hawaii",
            "Wyoming",
            "North Dakota",
            "New Hampshire",
            "Rhode Island",
            "Nebraska"
           ],
           "locationmode": "USA-states",
           "locations": [
            "SD",
            "MT",
            "ME",
            "ID",
            "NM",
            "HI",
            "WY",
            "ND",
            "NH",
            "RI",
            "NE"
           ],
           "name": "",
           "type": "choropleth",
           "z": [
            2,
            6,
            1,
            33,
            24,
            2,
            3,
            8,
            0,
            13,
            19
           ]
          }
         ],
         "name": "2020-07-29"
        },
        {
         "data": [
          {
           "coloraxis": "coloraxis",
           "geo": "geo",
           "hovertemplate": "<b>%{hovertext}</b><br><br>date=2020-07-30<br>open_covid_region_code=%{location}<br>hospitalized_new=%{z}<extra></extra>",
           "hovertext": [
            "South Dakota",
            "Montana",
            "Maine",
            "Idaho",
            "New Mexico",
            "Hawaii",
            "Wyoming",
            "North Dakota",
            "New Hampshire",
            "Rhode Island",
            "Nebraska"
           ],
           "locationmode": "USA-states",
           "locations": [
            "SD",
            "MT",
            "ME",
            "ID",
            "NM",
            "HI",
            "WY",
            "ND",
            "NH",
            "RI",
            "NE"
           ],
           "name": "",
           "type": "choropleth",
           "z": [
            5,
            10,
            1,
            25,
            29,
            6,
            1,
            5,
            0,
            7,
            4
           ]
          }
         ],
         "name": "2020-07-30"
        },
        {
         "data": [
          {
           "coloraxis": "coloraxis",
           "geo": "geo",
           "hovertemplate": "<b>%{hovertext}</b><br><br>date=2020-07-31<br>open_covid_region_code=%{location}<br>hospitalized_new=%{z}<extra></extra>",
           "hovertext": [
            "South Dakota",
            "Montana",
            "Maine",
            "Idaho",
            "New Mexico",
            "Hawaii",
            "Wyoming",
            "North Dakota",
            "New Hampshire",
            "Rhode Island",
            "Nebraska"
           ],
           "locationmode": "USA-states",
           "locations": [
            "SD",
            "MT",
            "ME",
            "ID",
            "NM",
            "HI",
            "WY",
            "ND",
            "NH",
            "RI",
            "NE"
           ],
           "name": "",
           "type": "choropleth",
           "z": [
            9,
            9,
            2,
            27,
            24,
            4,
            0,
            8,
            2,
            9,
            0
           ]
          }
         ],
         "name": "2020-07-31"
        },
        {
         "data": [
          {
           "coloraxis": "coloraxis",
           "geo": "geo",
           "hovertemplate": "<b>%{hovertext}</b><br><br>date=2020-08-01<br>open_covid_region_code=%{location}<br>hospitalized_new=%{z}<extra></extra>",
           "hovertext": [
            "South Dakota",
            "Montana",
            "Maine",
            "Idaho",
            "New Mexico",
            "Hawaii",
            "Wyoming",
            "North Dakota",
            "New Hampshire",
            "Rhode Island",
            "Nebraska"
           ],
           "locationmode": "USA-states",
           "locations": [
            "SD",
            "MT",
            "ME",
            "ID",
            "NM",
            "HI",
            "WY",
            "ND",
            "NH",
            "RI",
            "NE"
           ],
           "name": "",
           "type": "choropleth",
           "z": [
            8,
            0,
            0,
            15,
            19,
            2,
            1,
            7,
            3,
            0,
            12
           ]
          }
         ],
         "name": "2020-08-01"
        },
        {
         "data": [
          {
           "coloraxis": "coloraxis",
           "geo": "geo",
           "hovertemplate": "<b>%{hovertext}</b><br><br>date=2020-08-02<br>open_covid_region_code=%{location}<br>hospitalized_new=%{z}<extra></extra>",
           "hovertext": [
            "South Dakota",
            "Montana",
            "Maine",
            "Idaho",
            "New Mexico",
            "Hawaii",
            "Wyoming",
            "North Dakota",
            "New Hampshire",
            "Rhode Island",
            "Nebraska"
           ],
           "locationmode": "USA-states",
           "locations": [
            "SD",
            "MT",
            "ME",
            "ID",
            "NM",
            "HI",
            "WY",
            "ND",
            "NH",
            "RI",
            "NE"
           ],
           "name": "",
           "type": "choropleth",
           "z": [
            3,
            3,
            0,
            6,
            17,
            15,
            0,
            0,
            0,
            0,
            7
           ]
          }
         ],
         "name": "2020-08-02"
        },
        {
         "data": [
          {
           "coloraxis": "coloraxis",
           "geo": "geo",
           "hovertemplate": "<b>%{hovertext}</b><br><br>date=2020-08-03<br>open_covid_region_code=%{location}<br>hospitalized_new=%{z}<extra></extra>",
           "hovertext": [
            "South Dakota",
            "Montana",
            "Maine",
            "Idaho",
            "New Mexico",
            "Hawaii",
            "Wyoming",
            "North Dakota",
            "New Hampshire",
            "Rhode Island",
            "Nebraska"
           ],
           "locationmode": "USA-states",
           "locations": [
            "SD",
            "MT",
            "ME",
            "ID",
            "NM",
            "HI",
            "WY",
            "ND",
            "NH",
            "RI",
            "NE"
           ],
           "name": "",
           "type": "choropleth",
           "z": [
            3,
            3,
            1,
            18,
            17,
            5,
            0,
            8,
            1,
            20,
            1
           ]
          }
         ],
         "name": "2020-08-03"
        },
        {
         "data": [
          {
           "coloraxis": "coloraxis",
           "geo": "geo",
           "hovertemplate": "<b>%{hovertext}</b><br><br>date=2020-08-04<br>open_covid_region_code=%{location}<br>hospitalized_new=%{z}<extra></extra>",
           "hovertext": [
            "South Dakota",
            "Montana",
            "Maine",
            "Idaho",
            "New Mexico",
            "Hawaii",
            "Wyoming",
            "North Dakota",
            "New Hampshire",
            "Rhode Island",
            "Nebraska"
           ],
           "locationmode": "USA-states",
           "locations": [
            "SD",
            "MT",
            "ME",
            "ID",
            "NM",
            "HI",
            "WY",
            "ND",
            "NH",
            "RI",
            "NE"
           ],
           "name": "",
           "type": "choropleth",
           "z": [
            8,
            2,
            -1,
            12,
            10,
            2,
            2,
            10,
            1,
            11,
            14
           ]
          }
         ],
         "name": "2020-08-04"
        },
        {
         "data": [
          {
           "coloraxis": "coloraxis",
           "geo": "geo",
           "hovertemplate": "<b>%{hovertext}</b><br><br>date=2020-08-05<br>open_covid_region_code=%{location}<br>hospitalized_new=%{z}<extra></extra>",
           "hovertext": [
            "South Dakota",
            "Montana",
            "Maine",
            "Idaho",
            "New Mexico",
            "Hawaii",
            "Wyoming",
            "North Dakota",
            "New Hampshire",
            "Rhode Island",
            "Nebraska"
           ],
           "locationmode": "USA-states",
           "locations": [
            "SD",
            "MT",
            "ME",
            "ID",
            "NM",
            "HI",
            "WY",
            "ND",
            "NH",
            "RI",
            "NE"
           ],
           "name": "",
           "type": "choropleth",
           "z": [
            10,
            10,
            2,
            20,
            23,
            7,
            0,
            5,
            1,
            6,
            0
           ]
          }
         ],
         "name": "2020-08-05"
        },
        {
         "data": [
          {
           "coloraxis": "coloraxis",
           "geo": "geo",
           "hovertemplate": "<b>%{hovertext}</b><br><br>date=2020-08-06<br>open_covid_region_code=%{location}<br>hospitalized_new=%{z}<extra></extra>",
           "hovertext": [
            "South Dakota",
            "Montana",
            "Maine",
            "Idaho",
            "New Mexico",
            "Hawaii",
            "Wyoming",
            "North Dakota",
            "New Hampshire",
            "Rhode Island",
            "Nebraska"
           ],
           "locationmode": "USA-states",
           "locations": [
            "SD",
            "MT",
            "ME",
            "ID",
            "NM",
            "HI",
            "WY",
            "ND",
            "NH",
            "RI",
            "NE"
           ],
           "name": "",
           "type": "choropleth",
           "z": [
            5,
            11,
            0,
            25,
            28,
            6,
            2,
            6,
            0,
            16,
            37
           ]
          }
         ],
         "name": "2020-08-06"
        },
        {
         "data": [
          {
           "coloraxis": "coloraxis",
           "geo": "geo",
           "hovertemplate": "<b>%{hovertext}</b><br><br>date=2020-08-07<br>open_covid_region_code=%{location}<br>hospitalized_new=%{z}<extra></extra>",
           "hovertext": [
            "South Dakota",
            "Montana",
            "Maine",
            "Idaho",
            "New Mexico",
            "Hawaii",
            "Wyoming",
            "North Dakota",
            "New Hampshire",
            "Rhode Island",
            "Nebraska"
           ],
           "locationmode": "USA-states",
           "locations": [
            "SD",
            "MT",
            "ME",
            "ID",
            "NM",
            "HI",
            "WY",
            "ND",
            "NH",
            "RI",
            "NE"
           ],
           "name": "",
           "type": "choropleth",
           "z": [
            5,
            5,
            3,
            23,
            22,
            11,
            5,
            8,
            1,
            12,
            7
           ]
          }
         ],
         "name": "2020-08-07"
        },
        {
         "data": [
          {
           "coloraxis": "coloraxis",
           "geo": "geo",
           "hovertemplate": "<b>%{hovertext}</b><br><br>date=2020-08-08<br>open_covid_region_code=%{location}<br>hospitalized_new=%{z}<extra></extra>",
           "hovertext": [
            "South Dakota",
            "Montana",
            "Maine",
            "Idaho",
            "New Mexico",
            "Hawaii",
            "Wyoming",
            "North Dakota",
            "New Hampshire",
            "Rhode Island",
            "Nebraska"
           ],
           "locationmode": "USA-states",
           "locations": [
            "SD",
            "MT",
            "ME",
            "ID",
            "NM",
            "HI",
            "WY",
            "ND",
            "NH",
            "RI",
            "NE"
           ],
           "name": "",
           "type": "choropleth",
           "z": [
            5,
            4,
            0,
            14,
            16,
            6,
            1,
            6,
            1,
            18,
            16
           ]
          }
         ],
         "name": "2020-08-08"
        },
        {
         "data": [
          {
           "coloraxis": "coloraxis",
           "geo": "geo",
           "hovertemplate": "<b>%{hovertext}</b><br><br>date=2020-08-09<br>open_covid_region_code=%{location}<br>hospitalized_new=%{z}<extra></extra>",
           "hovertext": [
            "South Dakota",
            "Montana",
            "Maine",
            "Idaho",
            "New Mexico",
            "Hawaii",
            "Wyoming",
            "North Dakota",
            "New Hampshire",
            "Rhode Island",
            "Nebraska"
           ],
           "locationmode": "USA-states",
           "locations": [
            "SD",
            "MT",
            "ME",
            "ID",
            "NM",
            "HI",
            "WY",
            "ND",
            "NH",
            "RI",
            "NE"
           ],
           "name": "",
           "type": "choropleth",
           "z": [
            5,
            4,
            0,
            20,
            19,
            6,
            0,
            1,
            1,
            17,
            11
           ]
          }
         ],
         "name": "2020-08-09"
        },
        {
         "data": [
          {
           "coloraxis": "coloraxis",
           "geo": "geo",
           "hovertemplate": "<b>%{hovertext}</b><br><br>date=2020-08-10<br>open_covid_region_code=%{location}<br>hospitalized_new=%{z}<extra></extra>",
           "hovertext": [
            "South Dakota",
            "Montana",
            "Maine",
            "Idaho",
            "New Mexico",
            "Hawaii",
            "Wyoming",
            "North Dakota",
            "New Hampshire",
            "Rhode Island",
            "Nebraska"
           ],
           "locationmode": "USA-states",
           "locations": [
            "SD",
            "MT",
            "ME",
            "ID",
            "NM",
            "HI",
            "WY",
            "ND",
            "NH",
            "RI",
            "NE"
           ],
           "name": "",
           "type": "choropleth",
           "z": [
            6,
            1,
            0,
            11,
            13,
            2,
            2,
            2,
            3,
            0,
            7
           ]
          }
         ],
         "name": "2020-08-10"
        },
        {
         "data": [
          {
           "coloraxis": "coloraxis",
           "geo": "geo",
           "hovertemplate": "<b>%{hovertext}</b><br><br>date=2020-08-11<br>open_covid_region_code=%{location}<br>hospitalized_new=%{z}<extra></extra>",
           "hovertext": [
            "South Dakota",
            "Montana",
            "Maine",
            "Idaho",
            "New Mexico",
            "Hawaii",
            "Wyoming",
            "North Dakota",
            "New Hampshire",
            "Rhode Island",
            "Nebraska"
           ],
           "locationmode": "USA-states",
           "locations": [
            "SD",
            "MT",
            "ME",
            "ID",
            "NM",
            "HI",
            "WY",
            "ND",
            "NH",
            "RI",
            "NE"
           ],
           "name": "",
           "type": "choropleth",
           "z": [
            5,
            3,
            1,
            7,
            19,
            3,
            4,
            13,
            1,
            6,
            19
           ]
          }
         ],
         "name": "2020-08-11"
        },
        {
         "data": [
          {
           "coloraxis": "coloraxis",
           "geo": "geo",
           "hovertemplate": "<b>%{hovertext}</b><br><br>date=2020-08-12<br>open_covid_region_code=%{location}<br>hospitalized_new=%{z}<extra></extra>",
           "hovertext": [
            "South Dakota",
            "Montana",
            "Maine",
            "Idaho",
            "New Mexico",
            "Hawaii",
            "Wyoming",
            "North Dakota",
            "New Hampshire",
            "Rhode Island",
            "Nebraska"
           ],
           "locationmode": "USA-states",
           "locations": [
            "SD",
            "MT",
            "ME",
            "ID",
            "NM",
            "HI",
            "WY",
            "ND",
            "NH",
            "RI",
            "NE"
           ],
           "name": "",
           "type": "choropleth",
           "z": [
            5,
            25,
            0,
            31,
            27,
            18,
            4,
            10,
            0,
            19,
            139
           ]
          }
         ],
         "name": "2020-08-12"
        },
        {
         "data": [
          {
           "coloraxis": "coloraxis",
           "geo": "geo",
           "hovertemplate": "<b>%{hovertext}</b><br><br>date=2020-08-13<br>open_covid_region_code=%{location}<br>hospitalized_new=%{z}<extra></extra>",
           "hovertext": [
            "South Dakota",
            "Montana",
            "Maine",
            "Idaho",
            "New Mexico",
            "Hawaii",
            "Wyoming",
            "North Dakota",
            "New Hampshire",
            "Rhode Island",
            "Nebraska"
           ],
           "locationmode": "USA-states",
           "locations": [
            "SD",
            "MT",
            "ME",
            "ID",
            "NM",
            "HI",
            "WY",
            "ND",
            "NH",
            "RI",
            "NE"
           ],
           "name": "",
           "type": "choropleth",
           "z": [
            4,
            14,
            1,
            14,
            10,
            7,
            2,
            5,
            0,
            5,
            0
           ]
          }
         ],
         "name": "2020-08-13"
        },
        {
         "data": [
          {
           "coloraxis": "coloraxis",
           "geo": "geo",
           "hovertemplate": "<b>%{hovertext}</b><br><br>date=2020-08-14<br>open_covid_region_code=%{location}<br>hospitalized_new=%{z}<extra></extra>",
           "hovertext": [
            "South Dakota",
            "Montana",
            "Maine",
            "Idaho",
            "New Mexico",
            "Hawaii",
            "Wyoming",
            "North Dakota",
            "New Hampshire",
            "Rhode Island",
            "Nebraska"
           ],
           "locationmode": "USA-states",
           "locations": [
            "SD",
            "MT",
            "ME",
            "ID",
            "NM",
            "HI",
            "WY",
            "ND",
            "NH",
            "RI",
            "NE"
           ],
           "name": "",
           "type": "choropleth",
           "z": [
            7,
            4,
            4,
            17,
            21,
            0,
            2,
            10,
            0,
            9,
            0
           ]
          }
         ],
         "name": "2020-08-14"
        },
        {
         "data": [
          {
           "coloraxis": "coloraxis",
           "geo": "geo",
           "hovertemplate": "<b>%{hovertext}</b><br><br>date=2020-08-15<br>open_covid_region_code=%{location}<br>hospitalized_new=%{z}<extra></extra>",
           "hovertext": [
            "South Dakota",
            "Montana",
            "Maine",
            "Idaho",
            "New Mexico",
            "Hawaii",
            "Wyoming",
            "North Dakota",
            "New Hampshire",
            "Rhode Island",
            "Nebraska"
           ],
           "locationmode": "USA-states",
           "locations": [
            "SD",
            "MT",
            "ME",
            "ID",
            "NM",
            "HI",
            "WY",
            "ND",
            "NH",
            "RI",
            "NE"
           ],
           "name": "",
           "type": "choropleth",
           "z": [
            10,
            5,
            0,
            23,
            18,
            10,
            0,
            2,
            1,
            25,
            0
           ]
          }
         ],
         "name": "2020-08-15"
        },
        {
         "data": [
          {
           "coloraxis": "coloraxis",
           "geo": "geo",
           "hovertemplate": "<b>%{hovertext}</b><br><br>date=2020-08-16<br>open_covid_region_code=%{location}<br>hospitalized_new=%{z}<extra></extra>",
           "hovertext": [
            "South Dakota",
            "Montana",
            "Maine",
            "Idaho",
            "New Mexico",
            "Hawaii",
            "Wyoming",
            "North Dakota",
            "New Hampshire",
            "Rhode Island",
            "Nebraska"
           ],
           "locationmode": "USA-states",
           "locations": [
            "SD",
            "MT",
            "ME",
            "ID",
            "NM",
            "HI",
            "WY",
            "ND",
            "NH",
            "RI",
            "NE"
           ],
           "name": "",
           "type": "choropleth",
           "z": [
            3,
            2,
            1,
            12,
            11,
            2,
            0,
            2,
            2,
            5,
            3
           ]
          }
         ],
         "name": "2020-08-16"
        },
        {
         "data": [
          {
           "coloraxis": "coloraxis",
           "geo": "geo",
           "hovertemplate": "<b>%{hovertext}</b><br><br>date=2020-08-17<br>open_covid_region_code=%{location}<br>hospitalized_new=%{z}<extra></extra>",
           "hovertext": [
            "South Dakota",
            "Montana",
            "Maine",
            "Idaho",
            "New Mexico",
            "Hawaii",
            "Wyoming",
            "North Dakota",
            "New Hampshire",
            "Rhode Island",
            "Nebraska"
           ],
           "locationmode": "USA-states",
           "locations": [
            "SD",
            "MT",
            "ME",
            "ID",
            "NM",
            "HI",
            "WY",
            "ND",
            "NH",
            "RI",
            "NE"
           ],
           "name": "",
           "type": "choropleth",
           "z": [
            5,
            4,
            -1,
            7,
            8,
            4,
            4,
            2,
            1,
            0,
            0
           ]
          }
         ],
         "name": "2020-08-17"
        },
        {
         "data": [
          {
           "coloraxis": "coloraxis",
           "geo": "geo",
           "hovertemplate": "<b>%{hovertext}</b><br><br>date=2020-08-18<br>open_covid_region_code=%{location}<br>hospitalized_new=%{z}<extra></extra>",
           "hovertext": [
            "South Dakota",
            "Montana",
            "Maine",
            "Idaho",
            "New Mexico",
            "Hawaii",
            "Wyoming",
            "North Dakota",
            "New Hampshire",
            "Rhode Island",
            "Nebraska"
           ],
           "locationmode": "USA-states",
           "locations": [
            "SD",
            "MT",
            "ME",
            "ID",
            "NM",
            "HI",
            "WY",
            "ND",
            "NH",
            "RI",
            "NE"
           ],
           "name": "",
           "type": "choropleth",
           "z": [
            6,
            9,
            2,
            19,
            19,
            5,
            -2,
            8,
            3,
            25,
            0
           ]
          }
         ],
         "name": "2020-08-18"
        },
        {
         "data": [
          {
           "coloraxis": "coloraxis",
           "geo": "geo",
           "hovertemplate": "<b>%{hovertext}</b><br><br>date=2020-08-19<br>open_covid_region_code=%{location}<br>hospitalized_new=%{z}<extra></extra>",
           "hovertext": [
            "South Dakota",
            "Montana",
            "Maine",
            "Idaho",
            "New Mexico",
            "Hawaii",
            "Wyoming",
            "North Dakota",
            "New Hampshire",
            "Rhode Island",
            "Nebraska"
           ],
           "locationmode": "USA-states",
           "locations": [
            "SD",
            "MT",
            "ME",
            "ID",
            "NM",
            "HI",
            "WY",
            "ND",
            "NH",
            "RI",
            "NE"
           ],
           "name": "",
           "type": "choropleth",
           "z": [
            8,
            9,
            2,
            41,
            14,
            15,
            4,
            9,
            0,
            14,
            -48
           ]
          }
         ],
         "name": "2020-08-19"
        },
        {
         "data": [
          {
           "coloraxis": "coloraxis",
           "geo": "geo",
           "hovertemplate": "<b>%{hovertext}</b><br><br>date=2020-08-20<br>open_covid_region_code=%{location}<br>hospitalized_new=%{z}<extra></extra>",
           "hovertext": [
            "South Dakota",
            "Montana",
            "Maine",
            "Idaho",
            "New Mexico",
            "Hawaii",
            "Wyoming",
            "North Dakota",
            "New Hampshire",
            "Rhode Island",
            "Nebraska"
           ],
           "locationmode": "USA-states",
           "locations": [
            "SD",
            "MT",
            "ME",
            "ID",
            "NM",
            "HI",
            "WY",
            "ND",
            "NH",
            "RI",
            "NE"
           ],
           "name": "",
           "type": "choropleth",
           "z": [
            5,
            9,
            2,
            30,
            4,
            14,
            5,
            0,
            -2,
            12,
            16
           ]
          }
         ],
         "name": "2020-08-20"
        },
        {
         "data": [
          {
           "coloraxis": "coloraxis",
           "geo": "geo",
           "hovertemplate": "<b>%{hovertext}</b><br><br>date=2020-08-21<br>open_covid_region_code=%{location}<br>hospitalized_new=%{z}<extra></extra>",
           "hovertext": [
            "South Dakota",
            "Montana",
            "Maine",
            "Idaho",
            "New Mexico",
            "Hawaii",
            "Wyoming",
            "North Dakota",
            "New Hampshire",
            "Rhode Island",
            "Nebraska"
           ],
           "locationmode": "USA-states",
           "locations": [
            "SD",
            "MT",
            "ME",
            "ID",
            "NM",
            "HI",
            "WY",
            "ND",
            "NH",
            "RI",
            "NE"
           ],
           "name": "",
           "type": "choropleth",
           "z": [
            8,
            6,
            2,
            26,
            7,
            0,
            1,
            13,
            0,
            7,
            26
           ]
          }
         ],
         "name": "2020-08-21"
        },
        {
         "data": [
          {
           "coloraxis": "coloraxis",
           "geo": "geo",
           "hovertemplate": "<b>%{hovertext}</b><br><br>date=2020-08-22<br>open_covid_region_code=%{location}<br>hospitalized_new=%{z}<extra></extra>",
           "hovertext": [
            "South Dakota",
            "Montana",
            "Maine",
            "Idaho",
            "New Mexico",
            "Hawaii",
            "Wyoming",
            "North Dakota",
            "New Hampshire",
            "Rhode Island",
            "Nebraska"
           ],
           "locationmode": "USA-states",
           "locations": [
            "SD",
            "MT",
            "ME",
            "ID",
            "NM",
            "HI",
            "WY",
            "ND",
            "NH",
            "RI",
            "NE"
           ],
           "name": "",
           "type": "choropleth",
           "z": [
            3,
            15,
            0,
            7,
            9,
            20,
            0,
            8,
            0,
            17,
            14
           ]
          }
         ],
         "name": "2020-08-22"
        },
        {
         "data": [
          {
           "coloraxis": "coloraxis",
           "geo": "geo",
           "hovertemplate": "<b>%{hovertext}</b><br><br>date=2020-08-23<br>open_covid_region_code=%{location}<br>hospitalized_new=%{z}<extra></extra>",
           "hovertext": [
            "South Dakota",
            "Montana",
            "Maine",
            "Idaho",
            "New Mexico",
            "Hawaii",
            "Wyoming",
            "North Dakota",
            "New Hampshire",
            "Rhode Island",
            "Nebraska"
           ],
           "locationmode": "USA-states",
           "locations": [
            "SD",
            "MT",
            "ME",
            "ID",
            "NM",
            "HI",
            "WY",
            "ND",
            "NH",
            "RI",
            "NE"
           ],
           "name": "",
           "type": "choropleth",
           "z": [
            8,
            1,
            1,
            13,
            12,
            40,
            4,
            2,
            1,
            5,
            16
           ]
          }
         ],
         "name": "2020-08-23"
        },
        {
         "data": [
          {
           "coloraxis": "coloraxis",
           "geo": "geo",
           "hovertemplate": "<b>%{hovertext}</b><br><br>date=2020-08-24<br>open_covid_region_code=%{location}<br>hospitalized_new=%{z}<extra></extra>",
           "hovertext": [
            "South Dakota",
            "Montana",
            "Maine",
            "Idaho",
            "New Mexico",
            "Hawaii",
            "Wyoming",
            "North Dakota",
            "New Hampshire",
            "Rhode Island",
            "Nebraska"
           ],
           "locationmode": "USA-states",
           "locations": [
            "SD",
            "MT",
            "ME",
            "ID",
            "NM",
            "HI",
            "WY",
            "ND",
            "NH",
            "RI",
            "NE"
           ],
           "name": "",
           "type": "choropleth",
           "z": [
            6,
            4,
            1,
            10,
            1,
            19,
            4,
            4,
            1,
            0,
            3
           ]
          }
         ],
         "name": "2020-08-24"
        },
        {
         "data": [
          {
           "coloraxis": "coloraxis",
           "geo": "geo",
           "hovertemplate": "<b>%{hovertext}</b><br><br>date=2020-08-25<br>open_covid_region_code=%{location}<br>hospitalized_new=%{z}<extra></extra>",
           "hovertext": [
            "South Dakota",
            "Montana",
            "Maine",
            "Idaho",
            "New Mexico",
            "Hawaii",
            "Wyoming",
            "North Dakota",
            "New Hampshire",
            "Rhode Island",
            "Nebraska"
           ],
           "locationmode": "USA-states",
           "locations": [
            "SD",
            "MT",
            "ME",
            "ID",
            "NM",
            "HI",
            "WY",
            "ND",
            "NH",
            "RI",
            "NE"
           ],
           "name": "",
           "type": "choropleth",
           "z": [
            9,
            11,
            1,
            13,
            10,
            23,
            2,
            14,
            1,
            14,
            20
           ]
          }
         ],
         "name": "2020-08-25"
        },
        {
         "data": [
          {
           "coloraxis": "coloraxis",
           "geo": "geo",
           "hovertemplate": "<b>%{hovertext}</b><br><br>date=2020-08-26<br>open_covid_region_code=%{location}<br>hospitalized_new=%{z}<extra></extra>",
           "hovertext": [
            "South Dakota",
            "Montana",
            "Maine",
            "Idaho",
            "New Mexico",
            "Hawaii",
            "Wyoming",
            "North Dakota",
            "New Hampshire",
            "Rhode Island",
            "Nebraska"
           ],
           "locationmode": "USA-states",
           "locations": [
            "SD",
            "MT",
            "ME",
            "ID",
            "NM",
            "HI",
            "WY",
            "ND",
            "NH",
            "RI",
            "NE"
           ],
           "name": "",
           "type": "choropleth",
           "z": [
            7,
            8,
            2,
            16,
            9,
            0,
            0,
            6,
            0,
            4,
            16
           ]
          }
         ],
         "name": "2020-08-26"
        },
        {
         "data": [
          {
           "coloraxis": "coloraxis",
           "geo": "geo",
           "hovertemplate": "<b>%{hovertext}</b><br><br>date=2020-08-27<br>open_covid_region_code=%{location}<br>hospitalized_new=%{z}<extra></extra>",
           "hovertext": [
            "South Dakota",
            "Montana",
            "Maine",
            "Idaho",
            "New Mexico",
            "Hawaii",
            "Wyoming",
            "North Dakota",
            "New Hampshire",
            "Rhode Island",
            "Nebraska"
           ],
           "locationmode": "USA-states",
           "locations": [
            "SD",
            "MT",
            "ME",
            "ID",
            "NM",
            "HI",
            "WY",
            "ND",
            "NH",
            "RI",
            "NE"
           ],
           "name": "",
           "type": "choropleth",
           "z": [
            2,
            10,
            3,
            19,
            24,
            25,
            2,
            9,
            0,
            7,
            8
           ]
          }
         ],
         "name": "2020-08-27"
        },
        {
         "data": [
          {
           "coloraxis": "coloraxis",
           "geo": "geo",
           "hovertemplate": "<b>%{hovertext}</b><br><br>date=2020-08-28<br>open_covid_region_code=%{location}<br>hospitalized_new=%{z}<extra></extra>",
           "hovertext": [
            "South Dakota",
            "Montana",
            "Maine",
            "Idaho",
            "New Mexico",
            "Hawaii",
            "Wyoming",
            "North Dakota",
            "New Hampshire",
            "Rhode Island",
            "Nebraska"
           ],
           "locationmode": "USA-states",
           "locations": [
            "SD",
            "MT",
            "ME",
            "ID",
            "NM",
            "HI",
            "WY",
            "ND",
            "NH",
            "RI",
            "NE"
           ],
           "name": "",
           "type": "choropleth",
           "z": [
            12,
            5,
            2,
            24,
            17,
            18,
            0,
            16,
            0,
            11,
            14
           ]
          }
         ],
         "name": "2020-08-28"
        },
        {
         "data": [
          {
           "coloraxis": "coloraxis",
           "geo": "geo",
           "hovertemplate": "<b>%{hovertext}</b><br><br>date=2020-08-29<br>open_covid_region_code=%{location}<br>hospitalized_new=%{z}<extra></extra>",
           "hovertext": [
            "South Dakota",
            "Montana",
            "Maine",
            "Idaho",
            "New Mexico",
            "Hawaii",
            "Wyoming",
            "North Dakota",
            "New Hampshire",
            "Rhode Island",
            "Nebraska"
           ],
           "locationmode": "USA-states",
           "locations": [
            "SD",
            "MT",
            "ME",
            "ID",
            "NM",
            "HI",
            "WY",
            "ND",
            "NH",
            "RI",
            "NE"
           ],
           "name": "",
           "type": "choropleth",
           "z": [
            11,
            12,
            1,
            21,
            15,
            23,
            0,
            1,
            1,
            18,
            14
           ]
          }
         ],
         "name": "2020-08-29"
        },
        {
         "data": [
          {
           "coloraxis": "coloraxis",
           "geo": "geo",
           "hovertemplate": "<b>%{hovertext}</b><br><br>date=2020-08-30<br>open_covid_region_code=%{location}<br>hospitalized_new=%{z}<extra></extra>",
           "hovertext": [
            "South Dakota",
            "Montana",
            "Maine",
            "Idaho",
            "New Mexico",
            "Hawaii",
            "Wyoming",
            "North Dakota",
            "New Hampshire",
            "Rhode Island",
            "Nebraska"
           ],
           "locationmode": "USA-states",
           "locations": [
            "SD",
            "MT",
            "ME",
            "ID",
            "NM",
            "HI",
            "WY",
            "ND",
            "NH",
            "RI",
            "NE"
           ],
           "name": "",
           "type": "choropleth",
           "z": [
            11,
            3,
            2,
            16,
            10,
            12,
            0,
            3,
            0,
            5,
            10
           ]
          }
         ],
         "name": "2020-08-30"
        },
        {
         "data": [
          {
           "coloraxis": "coloraxis",
           "geo": "geo",
           "hovertemplate": "<b>%{hovertext}</b><br><br>date=2020-08-31<br>open_covid_region_code=%{location}<br>hospitalized_new=%{z}<extra></extra>",
           "hovertext": [
            "South Dakota",
            "Montana",
            "Maine",
            "Idaho",
            "New Mexico",
            "Hawaii",
            "Wyoming",
            "North Dakota",
            "New Hampshire",
            "Rhode Island",
            "Nebraska"
           ],
           "locationmode": "USA-states",
           "locations": [
            "SD",
            "MT",
            "ME",
            "ID",
            "NM",
            "HI",
            "WY",
            "ND",
            "NH",
            "RI",
            "NE"
           ],
           "name": "",
           "type": "choropleth",
           "z": [
            12,
            4,
            0,
            4,
            10,
            8,
            0,
            0,
            0,
            0,
            2
           ]
          }
         ],
         "name": "2020-08-31"
        },
        {
         "data": [
          {
           "coloraxis": "coloraxis",
           "geo": "geo",
           "hovertemplate": "<b>%{hovertext}</b><br><br>date=2020-09-01<br>open_covid_region_code=%{location}<br>hospitalized_new=%{z}<extra></extra>",
           "hovertext": [
            "South Dakota",
            "Montana",
            "Maine",
            "Idaho",
            "New Mexico",
            "Hawaii",
            "Wyoming",
            "North Dakota",
            "New Hampshire",
            "Rhode Island",
            "Nebraska"
           ],
           "locationmode": "USA-states",
           "locations": [
            "SD",
            "MT",
            "ME",
            "ID",
            "NM",
            "HI",
            "WY",
            "ND",
            "NH",
            "RI",
            "NE"
           ],
           "name": "",
           "type": "choropleth",
           "z": [
            7,
            11,
            1,
            25,
            8,
            3,
            4,
            10,
            1,
            9,
            12
           ]
          }
         ],
         "name": "2020-09-01"
        },
        {
         "data": [
          {
           "coloraxis": "coloraxis",
           "geo": "geo",
           "hovertemplate": "<b>%{hovertext}</b><br><br>date=2020-09-02<br>open_covid_region_code=%{location}<br>hospitalized_new=%{z}<extra></extra>",
           "hovertext": [
            "South Dakota",
            "Montana",
            "Maine",
            "Idaho",
            "New Mexico",
            "Hawaii",
            "Wyoming",
            "North Dakota",
            "New Hampshire",
            "Rhode Island",
            "Nebraska"
           ],
           "locationmode": "USA-states",
           "locations": [
            "SD",
            "MT",
            "ME",
            "ID",
            "NM",
            "HI",
            "WY",
            "ND",
            "NH",
            "RI",
            "NE"
           ],
           "name": "",
           "type": "choropleth",
           "z": [
            7,
            14,
            2,
            0,
            17,
            24,
            2,
            11,
            0,
            14,
            8
           ]
          }
         ],
         "name": "2020-09-02"
        },
        {
         "data": [
          {
           "coloraxis": "coloraxis",
           "geo": "geo",
           "hovertemplate": "<b>%{hovertext}</b><br><br>date=2020-09-03<br>open_covid_region_code=%{location}<br>hospitalized_new=%{z}<extra></extra>",
           "hovertext": [
            "South Dakota",
            "Montana",
            "Maine",
            "Idaho",
            "New Mexico",
            "Hawaii",
            "Wyoming",
            "North Dakota",
            "New Hampshire",
            "Rhode Island",
            "Nebraska"
           ],
           "locationmode": "USA-states",
           "locations": [
            "SD",
            "MT",
            "ME",
            "ID",
            "NM",
            "HI",
            "WY",
            "ND",
            "NH",
            "RI",
            "NE"
           ],
           "name": "",
           "type": "choropleth",
           "z": [
            9,
            11,
            1,
            41,
            8,
            20,
            2,
            8,
            0,
            -2,
            13
           ]
          }
         ],
         "name": "2020-09-03"
        },
        {
         "data": [
          {
           "coloraxis": "coloraxis",
           "geo": "geo",
           "hovertemplate": "<b>%{hovertext}</b><br><br>date=2020-09-04<br>open_covid_region_code=%{location}<br>hospitalized_new=%{z}<extra></extra>",
           "hovertext": [
            "South Dakota",
            "Montana",
            "Maine",
            "Idaho",
            "New Mexico",
            "Hawaii",
            "Wyoming",
            "North Dakota",
            "New Hampshire",
            "Rhode Island",
            "Nebraska"
           ],
           "locationmode": "USA-states",
           "locations": [
            "SD",
            "MT",
            "ME",
            "ID",
            "NM",
            "HI",
            "WY",
            "ND",
            "NH",
            "RI",
            "NE"
           ],
           "name": "",
           "type": "choropleth",
           "z": [
            10,
            2,
            -1,
            7,
            10,
            21,
            0,
            7,
            1,
            19,
            6
           ]
          }
         ],
         "name": "2020-09-04"
        },
        {
         "data": [
          {
           "coloraxis": "coloraxis",
           "geo": "geo",
           "hovertemplate": "<b>%{hovertext}</b><br><br>date=2020-09-05<br>open_covid_region_code=%{location}<br>hospitalized_new=%{z}<extra></extra>",
           "hovertext": [
            "South Dakota",
            "Montana",
            "Maine",
            "Idaho",
            "New Mexico",
            "Hawaii",
            "Wyoming",
            "North Dakota",
            "New Hampshire",
            "Rhode Island",
            "Nebraska"
           ],
           "locationmode": "USA-states",
           "locations": [
            "SD",
            "MT",
            "ME",
            "ID",
            "NM",
            "HI",
            "WY",
            "ND",
            "NH",
            "RI",
            "NE"
           ],
           "name": "",
           "type": "choropleth",
           "z": [
            6,
            3,
            1,
            19,
            2,
            10,
            0,
            6,
            1,
            22,
            27
           ]
          }
         ],
         "name": "2020-09-05"
        },
        {
         "data": [
          {
           "coloraxis": "coloraxis",
           "geo": "geo",
           "hovertemplate": "<b>%{hovertext}</b><br><br>date=2020-09-06<br>open_covid_region_code=%{location}<br>hospitalized_new=%{z}<extra></extra>",
           "hovertext": [
            "South Dakota",
            "Montana",
            "Maine",
            "Idaho",
            "New Mexico",
            "Hawaii",
            "Wyoming",
            "North Dakota",
            "New Hampshire",
            "Rhode Island",
            "Nebraska"
           ],
           "locationmode": "USA-states",
           "locations": [
            "SD",
            "MT",
            "ME",
            "ID",
            "NM",
            "HI",
            "WY",
            "ND",
            "NH",
            "RI",
            "NE"
           ],
           "name": "",
           "type": "choropleth",
           "z": [
            11,
            9,
            0,
            5,
            0,
            9,
            -4,
            2,
            1,
            6,
            5
           ]
          }
         ],
         "name": "2020-09-06"
        },
        {
         "data": [
          {
           "coloraxis": "coloraxis",
           "geo": "geo",
           "hovertemplate": "<b>%{hovertext}</b><br><br>date=2020-09-07<br>open_covid_region_code=%{location}<br>hospitalized_new=%{z}<extra></extra>",
           "hovertext": [
            "South Dakota",
            "Montana",
            "Maine",
            "Idaho",
            "New Mexico",
            "Hawaii",
            "Wyoming",
            "North Dakota",
            "New Hampshire",
            "Rhode Island",
            "Nebraska"
           ],
           "locationmode": "USA-states",
           "locations": [
            "SD",
            "MT",
            "ME",
            "ID",
            "NM",
            "HI",
            "WY",
            "ND",
            "NH",
            "RI",
            "NE"
           ],
           "name": "",
           "type": "choropleth",
           "z": [
            5,
            12,
            3,
            0,
            15,
            5,
            0,
            4,
            0,
            2,
            3
           ]
          }
         ],
         "name": "2020-09-07"
        },
        {
         "data": [
          {
           "coloraxis": "coloraxis",
           "geo": "geo",
           "hovertemplate": "<b>%{hovertext}</b><br><br>date=2020-09-08<br>open_covid_region_code=%{location}<br>hospitalized_new=%{z}<extra></extra>",
           "hovertext": [
            "South Dakota",
            "Montana",
            "Maine",
            "Idaho",
            "New Mexico",
            "Hawaii",
            "Wyoming",
            "North Dakota",
            "New Hampshire",
            "Rhode Island",
            "Nebraska"
           ],
           "locationmode": "USA-states",
           "locations": [
            "SD",
            "MT",
            "ME",
            "ID",
            "NM",
            "HI",
            "WY",
            "ND",
            "NH",
            "RI",
            "NE"
           ],
           "name": "",
           "type": "choropleth",
           "z": [
            10,
            4,
            2,
            2,
            9,
            1,
            0,
            2,
            0,
            0,
            11
           ]
          }
         ],
         "name": "2020-09-08"
        },
        {
         "data": [
          {
           "coloraxis": "coloraxis",
           "geo": "geo",
           "hovertemplate": "<b>%{hovertext}</b><br><br>date=2020-09-09<br>open_covid_region_code=%{location}<br>hospitalized_new=%{z}<extra></extra>",
           "hovertext": [
            "South Dakota",
            "Montana",
            "Maine",
            "Idaho",
            "New Mexico",
            "Hawaii",
            "Wyoming",
            "North Dakota",
            "New Hampshire",
            "Rhode Island",
            "Nebraska"
           ],
           "locationmode": "USA-states",
           "locations": [
            "SD",
            "MT",
            "ME",
            "ID",
            "NM",
            "HI",
            "WY",
            "ND",
            "NH",
            "RI",
            "NE"
           ],
           "name": "",
           "type": "choropleth",
           "z": [
            15,
            7,
            0,
            34,
            7,
            1,
            2,
            7,
            0,
            15,
            10
           ]
          }
         ],
         "name": "2020-09-09"
        },
        {
         "data": [
          {
           "coloraxis": "coloraxis",
           "geo": "geo",
           "hovertemplate": "<b>%{hovertext}</b><br><br>date=2020-09-10<br>open_covid_region_code=%{location}<br>hospitalized_new=%{z}<extra></extra>",
           "hovertext": [
            "South Dakota",
            "Montana",
            "Maine",
            "Idaho",
            "New Mexico",
            "Hawaii",
            "Wyoming",
            "North Dakota",
            "New Hampshire",
            "Rhode Island",
            "Nebraska"
           ],
           "locationmode": "USA-states",
           "locations": [
            "SD",
            "MT",
            "ME",
            "ID",
            "NM",
            "HI",
            "WY",
            "ND",
            "NH",
            "RI",
            "NE"
           ],
           "name": "",
           "type": "choropleth",
           "z": [
            11,
            3,
            2,
            34,
            17,
            5,
            3,
            13,
            1,
            7,
            19
           ]
          }
         ],
         "name": "2020-09-10"
        },
        {
         "data": [
          {
           "coloraxis": "coloraxis",
           "geo": "geo",
           "hovertemplate": "<b>%{hovertext}</b><br><br>date=2020-09-11<br>open_covid_region_code=%{location}<br>hospitalized_new=%{z}<extra></extra>",
           "hovertext": [
            "South Dakota",
            "Montana",
            "Maine",
            "Idaho",
            "New Mexico",
            "Hawaii",
            "Wyoming",
            "North Dakota",
            "New Hampshire",
            "Rhode Island",
            "Nebraska"
           ],
           "locationmode": "USA-states",
           "locations": [
            "SD",
            "MT",
            "ME",
            "ID",
            "NM",
            "HI",
            "WY",
            "ND",
            "NH",
            "RI",
            "NE"
           ],
           "name": "",
           "type": "choropleth",
           "z": [
            18,
            6,
            1,
            15,
            19,
            6,
            3,
            6,
            1,
            9,
            11
           ]
          }
         ],
         "name": "2020-09-11"
        },
        {
         "data": [
          {
           "coloraxis": "coloraxis",
           "geo": "geo",
           "hovertemplate": "<b>%{hovertext}</b><br><br>date=2020-09-12<br>open_covid_region_code=%{location}<br>hospitalized_new=%{z}<extra></extra>",
           "hovertext": [
            "South Dakota",
            "Montana",
            "Maine",
            "Idaho",
            "New Mexico",
            "Hawaii",
            "Wyoming",
            "North Dakota",
            "New Hampshire",
            "Rhode Island",
            "Nebraska"
           ],
           "locationmode": "USA-states",
           "locations": [
            "SD",
            "MT",
            "ME",
            "ID",
            "NM",
            "HI",
            "WY",
            "ND",
            "NH",
            "RI",
            "NE"
           ],
           "name": "",
           "type": "choropleth",
           "z": [
            14,
            3,
            -1,
            18,
            9,
            12,
            60,
            4,
            1,
            19,
            12
           ]
          }
         ],
         "name": "2020-09-12"
        },
        {
         "data": [
          {
           "coloraxis": "coloraxis",
           "geo": "geo",
           "hovertemplate": "<b>%{hovertext}</b><br><br>date=2020-09-13<br>open_covid_region_code=%{location}<br>hospitalized_new=%{z}<extra></extra>",
           "hovertext": [
            "South Dakota",
            "Montana",
            "Maine",
            "Idaho",
            "New Mexico",
            "Hawaii",
            "Wyoming",
            "North Dakota",
            "New Hampshire",
            "Rhode Island",
            "Nebraska"
           ],
           "locationmode": "USA-states",
           "locations": [
            "SD",
            "MT",
            "ME",
            "ID",
            "NM",
            "HI",
            "WY",
            "ND",
            "NH",
            "RI",
            "NE"
           ],
           "name": "",
           "type": "choropleth",
           "z": [
            13,
            4,
            0,
            27,
            16,
            13,
            -59,
            9,
            0,
            5,
            6
           ]
          }
         ],
         "name": "2020-09-13"
        },
        {
         "data": [
          {
           "coloraxis": "coloraxis",
           "geo": "geo",
           "hovertemplate": "<b>%{hovertext}</b><br><br>date=2020-09-14<br>open_covid_region_code=%{location}<br>hospitalized_new=%{z}<extra></extra>",
           "hovertext": [
            "South Dakota",
            "Montana",
            "Maine",
            "Idaho",
            "New Mexico",
            "Hawaii",
            "Wyoming",
            "North Dakota",
            "New Hampshire",
            "Rhode Island",
            "Nebraska"
           ],
           "locationmode": "USA-states",
           "locations": [
            "SD",
            "MT",
            "ME",
            "ID",
            "NM",
            "HI",
            "WY",
            "ND",
            "NH",
            "RI",
            "NE"
           ],
           "name": "",
           "type": "choropleth",
           "z": [
            6,
            6,
            0,
            8,
            4,
            1,
            2,
            3,
            0,
            0,
            2
           ]
          }
         ],
         "name": "2020-09-14"
        },
        {
         "data": [
          {
           "coloraxis": "coloraxis",
           "geo": "geo",
           "hovertemplate": "<b>%{hovertext}</b><br><br>date=2020-09-15<br>open_covid_region_code=%{location}<br>hospitalized_new=%{z}<extra></extra>",
           "hovertext": [
            "South Dakota",
            "Montana",
            "Maine",
            "Idaho",
            "New Mexico",
            "Hawaii",
            "Wyoming",
            "North Dakota",
            "New Hampshire",
            "Rhode Island",
            "Nebraska"
           ],
           "locationmode": "USA-states",
           "locations": [
            "SD",
            "MT",
            "ME",
            "ID",
            "NM",
            "HI",
            "WY",
            "ND",
            "NH",
            "RI",
            "NE"
           ],
           "name": "",
           "type": "choropleth",
           "z": [
            24,
            8,
            1,
            8,
            7,
            2,
            0,
            11,
            1,
            6,
            15
           ]
          }
         ],
         "name": "2020-09-15"
        },
        {
         "data": [
          {
           "coloraxis": "coloraxis",
           "geo": "geo",
           "hovertemplate": "<b>%{hovertext}</b><br><br>date=2020-09-16<br>open_covid_region_code=%{location}<br>hospitalized_new=%{z}<extra></extra>",
           "hovertext": [
            "South Dakota",
            "Montana",
            "Maine",
            "Idaho",
            "New Mexico",
            "Hawaii",
            "Wyoming",
            "North Dakota",
            "New Hampshire",
            "Rhode Island",
            "Nebraska"
           ],
           "locationmode": "USA-states",
           "locations": [
            "SD",
            "MT",
            "ME",
            "ID",
            "NM",
            "HI",
            "WY",
            "ND",
            "NH",
            "RI",
            "NE"
           ],
           "name": "",
           "type": "choropleth",
           "z": [
            16,
            4,
            1,
            19,
            10,
            16,
            5,
            17,
            1,
            12,
            13
           ]
          }
         ],
         "name": "2020-09-16"
        },
        {
         "data": [
          {
           "coloraxis": "coloraxis",
           "geo": "geo",
           "hovertemplate": "<b>%{hovertext}</b><br><br>date=2020-09-17<br>open_covid_region_code=%{location}<br>hospitalized_new=%{z}<extra></extra>",
           "hovertext": [
            "South Dakota",
            "Montana",
            "Maine",
            "Idaho",
            "New Mexico",
            "Hawaii",
            "Wyoming",
            "North Dakota",
            "New Hampshire",
            "Rhode Island",
            "Nebraska"
           ],
           "locationmode": "USA-states",
           "locations": [
            "SD",
            "MT",
            "ME",
            "ID",
            "NM",
            "HI",
            "WY",
            "ND",
            "NH",
            "RI",
            "NE"
           ],
           "name": "",
           "type": "choropleth",
           "z": [
            20,
            6,
            3,
            27,
            10,
            13,
            1,
            17,
            2,
            6,
            5
           ]
          }
         ],
         "name": "2020-09-17"
        },
        {
         "data": [
          {
           "coloraxis": "coloraxis",
           "geo": "geo",
           "hovertemplate": "<b>%{hovertext}</b><br><br>date=2020-09-18<br>open_covid_region_code=%{location}<br>hospitalized_new=%{z}<extra></extra>",
           "hovertext": [
            "South Dakota",
            "Montana",
            "Maine",
            "Idaho",
            "New Mexico",
            "Hawaii",
            "Wyoming",
            "North Dakota",
            "New Hampshire",
            "Rhode Island",
            "Nebraska"
           ],
           "locationmode": "USA-states",
           "locations": [
            "SD",
            "MT",
            "ME",
            "ID",
            "NM",
            "HI",
            "WY",
            "ND",
            "NH",
            "RI",
            "NE"
           ],
           "name": "",
           "type": "choropleth",
           "z": [
            15,
            6,
            1,
            24,
            19,
            18,
            4,
            14,
            0,
            7,
            9
           ]
          }
         ],
         "name": "2020-09-18"
        },
        {
         "data": [
          {
           "coloraxis": "coloraxis",
           "geo": "geo",
           "hovertemplate": "<b>%{hovertext}</b><br><br>date=2020-09-19<br>open_covid_region_code=%{location}<br>hospitalized_new=%{z}<extra></extra>",
           "hovertext": [
            "South Dakota",
            "Montana",
            "Maine",
            "Idaho",
            "New Mexico",
            "Hawaii",
            "Wyoming",
            "North Dakota",
            "New Hampshire",
            "Rhode Island",
            "Nebraska"
           ],
           "locationmode": "USA-states",
           "locations": [
            "SD",
            "MT",
            "ME",
            "ID",
            "NM",
            "HI",
            "WY",
            "ND",
            "NH",
            "RI",
            "NE"
           ],
           "name": "",
           "type": "choropleth",
           "z": [
            22,
            12,
            2,
            19,
            7,
            15,
            2,
            11,
            0,
            12,
            13
           ]
          }
         ],
         "name": "2020-09-19"
        },
        {
         "data": [
          {
           "coloraxis": "coloraxis",
           "geo": "geo",
           "hovertemplate": "<b>%{hovertext}</b><br><br>date=2020-09-20<br>open_covid_region_code=%{location}<br>hospitalized_new=%{z}<extra></extra>",
           "hovertext": [
            "South Dakota",
            "Montana",
            "Maine",
            "Idaho",
            "New Mexico",
            "Hawaii",
            "Wyoming",
            "North Dakota",
            "New Hampshire",
            "Rhode Island",
            "Nebraska"
           ],
           "locationmode": "USA-states",
           "locations": [
            "SD",
            "MT",
            "ME",
            "ID",
            "NM",
            "HI",
            "WY",
            "ND",
            "NH",
            "RI",
            "NE"
           ],
           "name": "",
           "type": "choropleth",
           "z": [
            20,
            3,
            0,
            10,
            15,
            26,
            1,
            7,
            0,
            6,
            0
           ]
          }
         ],
         "name": "2020-09-20"
        },
        {
         "data": [
          {
           "coloraxis": "coloraxis",
           "geo": "geo",
           "hovertemplate": "<b>%{hovertext}</b><br><br>date=2020-09-21<br>open_covid_region_code=%{location}<br>hospitalized_new=%{z}<extra></extra>",
           "hovertext": [
            "South Dakota",
            "Montana",
            "Maine",
            "Idaho",
            "New Mexico",
            "Hawaii",
            "Wyoming",
            "North Dakota",
            "New Hampshire",
            "Rhode Island",
            "Nebraska"
           ],
           "locationmode": "USA-states",
           "locations": [
            "SD",
            "MT",
            "ME",
            "ID",
            "NM",
            "HI",
            "WY",
            "ND",
            "NH",
            "RI",
            "NE"
           ],
           "name": "",
           "type": "choropleth",
           "z": [
            9,
            6,
            1,
            7,
            6,
            4,
            4,
            7,
            1,
            0,
            0
           ]
          }
         ],
         "name": "2020-09-21"
        },
        {
         "data": [
          {
           "coloraxis": "coloraxis",
           "geo": "geo",
           "hovertemplate": "<b>%{hovertext}</b><br><br>date=2020-09-22<br>open_covid_region_code=%{location}<br>hospitalized_new=%{z}<extra></extra>",
           "hovertext": [
            "South Dakota",
            "Montana",
            "Maine",
            "Idaho",
            "New Mexico",
            "Hawaii",
            "Wyoming",
            "North Dakota",
            "New Hampshire",
            "Rhode Island",
            "Nebraska"
           ],
           "locationmode": "USA-states",
           "locations": [
            "SD",
            "MT",
            "ME",
            "ID",
            "NM",
            "HI",
            "WY",
            "ND",
            "NH",
            "RI",
            "NE"
           ],
           "name": "",
           "type": "choropleth",
           "z": [
            26,
            8,
            2,
            8,
            17,
            5,
            6,
            22,
            1,
            11,
            14
           ]
          }
         ],
         "name": "2020-09-22"
        },
        {
         "data": [
          {
           "coloraxis": "coloraxis",
           "geo": "geo",
           "hovertemplate": "<b>%{hovertext}</b><br><br>date=2020-09-23<br>open_covid_region_code=%{location}<br>hospitalized_new=%{z}<extra></extra>",
           "hovertext": [
            "South Dakota",
            "Montana",
            "Maine",
            "Idaho",
            "New Mexico",
            "Hawaii",
            "Wyoming",
            "North Dakota",
            "New Hampshire",
            "Rhode Island",
            "Nebraska"
           ],
           "locationmode": "USA-states",
           "locations": [
            "SD",
            "MT",
            "ME",
            "ID",
            "NM",
            "HI",
            "WY",
            "ND",
            "NH",
            "RI",
            "NE"
           ],
           "name": "",
           "type": "choropleth",
           "z": [
            44,
            17,
            -1,
            14,
            13,
            14,
            0,
            11,
            1,
            9,
            6
           ]
          }
         ],
         "name": "2020-09-23"
        },
        {
         "data": [
          {
           "coloraxis": "coloraxis",
           "geo": "geo",
           "hovertemplate": "<b>%{hovertext}</b><br><br>date=2020-09-24<br>open_covid_region_code=%{location}<br>hospitalized_new=%{z}<extra></extra>",
           "hovertext": [
            "South Dakota",
            "Montana",
            "Maine",
            "Idaho",
            "New Mexico",
            "Hawaii",
            "Wyoming",
            "North Dakota",
            "New Hampshire",
            "Rhode Island",
            "Nebraska"
           ],
           "locationmode": "USA-states",
           "locations": [
            "SD",
            "MT",
            "ME",
            "ID",
            "NM",
            "HI",
            "WY",
            "ND",
            "NH",
            "RI",
            "NE"
           ],
           "name": "",
           "type": "choropleth",
           "z": [
            8,
            49,
            1,
            14,
            17,
            14,
            2,
            14,
            4,
            12,
            33
           ]
          }
         ],
         "name": "2020-09-24"
        },
        {
         "data": [
          {
           "coloraxis": "coloraxis",
           "geo": "geo",
           "hovertemplate": "<b>%{hovertext}</b><br><br>date=2020-09-25<br>open_covid_region_code=%{location}<br>hospitalized_new=%{z}<extra></extra>",
           "hovertext": [
            "South Dakota",
            "Montana",
            "Maine",
            "Idaho",
            "New Mexico",
            "Hawaii",
            "Wyoming",
            "North Dakota",
            "New Hampshire",
            "Rhode Island",
            "Nebraska"
           ],
           "locationmode": "USA-states",
           "locations": [
            "SD",
            "MT",
            "ME",
            "ID",
            "NM",
            "HI",
            "WY",
            "ND",
            "NH",
            "RI",
            "NE"
           ],
           "name": "",
           "type": "choropleth",
           "z": [
            25,
            25,
            0,
            12,
            14,
            16,
            1,
            12,
            0,
            0,
            12
           ]
          }
         ],
         "name": "2020-09-25"
        },
        {
         "data": [
          {
           "coloraxis": "coloraxis",
           "geo": "geo",
           "hovertemplate": "<b>%{hovertext}</b><br><br>date=2020-09-26<br>open_covid_region_code=%{location}<br>hospitalized_new=%{z}<extra></extra>",
           "hovertext": [
            "South Dakota",
            "Montana",
            "Maine",
            "Idaho",
            "New Mexico",
            "Hawaii",
            "Wyoming",
            "North Dakota",
            "New Hampshire",
            "Rhode Island",
            "Nebraska"
           ],
           "locationmode": "USA-states",
           "locations": [
            "SD",
            "MT",
            "ME",
            "ID",
            "NM",
            "HI",
            "WY",
            "ND",
            "NH",
            "RI",
            "NE"
           ],
           "name": "",
           "type": "choropleth",
           "z": [
            34,
            9,
            1,
            29,
            18,
            8,
            2,
            20,
            2,
            0,
            17
           ]
          }
         ],
         "name": "2020-09-26"
        },
        {
         "data": [
          {
           "coloraxis": "coloraxis",
           "geo": "geo",
           "hovertemplate": "<b>%{hovertext}</b><br><br>date=2020-09-27<br>open_covid_region_code=%{location}<br>hospitalized_new=%{z}<extra></extra>",
           "hovertext": [
            "South Dakota",
            "Montana",
            "Maine",
            "Idaho",
            "New Mexico",
            "Hawaii",
            "Wyoming",
            "North Dakota",
            "New Hampshire",
            "Rhode Island",
            "Nebraska"
           ],
           "locationmode": "USA-states",
           "locations": [
            "SD",
            "MT",
            "ME",
            "ID",
            "NM",
            "HI",
            "WY",
            "ND",
            "NH",
            "RI",
            "NE"
           ],
           "name": "",
           "type": "choropleth",
           "z": [
            39,
            3,
            2,
            16,
            15,
            15,
            4,
            6,
            2,
            0,
            3
           ]
          }
         ],
         "name": "2020-09-27"
        },
        {
         "data": [
          {
           "coloraxis": "coloraxis",
           "geo": "geo",
           "hovertemplate": "<b>%{hovertext}</b><br><br>date=2020-09-28<br>open_covid_region_code=%{location}<br>hospitalized_new=%{z}<extra></extra>",
           "hovertext": [
            "South Dakota",
            "Montana",
            "Maine",
            "Idaho",
            "New Mexico",
            "Hawaii",
            "Wyoming",
            "North Dakota",
            "New Hampshire",
            "Rhode Island",
            "Nebraska"
           ],
           "locationmode": "USA-states",
           "locations": [
            "SD",
            "MT",
            "ME",
            "ID",
            "NM",
            "HI",
            "WY",
            "ND",
            "NH",
            "RI",
            "NE"
           ],
           "name": "",
           "type": "choropleth",
           "z": [
            15,
            11,
            1,
            3,
            8,
            14,
            2,
            13,
            1,
            0,
            1
           ]
          }
         ],
         "name": "2020-09-28"
        },
        {
         "data": [
          {
           "coloraxis": "coloraxis",
           "geo": "geo",
           "hovertemplate": "<b>%{hovertext}</b><br><br>date=2020-09-29<br>open_covid_region_code=%{location}<br>hospitalized_new=%{z}<extra></extra>",
           "hovertext": [
            "South Dakota",
            "Montana",
            "Maine",
            "Idaho",
            "New Mexico",
            "Hawaii",
            "Wyoming",
            "North Dakota",
            "New Hampshire",
            "Rhode Island",
            "Nebraska"
           ],
           "locationmode": "USA-states",
           "locations": [
            "SD",
            "MT",
            "ME",
            "ID",
            "NM",
            "HI",
            "WY",
            "ND",
            "NH",
            "RI",
            "NE"
           ],
           "name": "",
           "type": "choropleth",
           "z": [
            23,
            11,
            1,
            18,
            20,
            3,
            3,
            20,
            1,
            49,
            21
           ]
          }
         ],
         "name": "2020-09-29"
        },
        {
         "data": [
          {
           "coloraxis": "coloraxis",
           "geo": "geo",
           "hovertemplate": "<b>%{hovertext}</b><br><br>date=2020-09-30<br>open_covid_region_code=%{location}<br>hospitalized_new=%{z}<extra></extra>",
           "hovertext": [
            "South Dakota",
            "Montana",
            "Maine",
            "Idaho",
            "New Mexico",
            "Hawaii",
            "Wyoming",
            "North Dakota",
            "New Hampshire",
            "Rhode Island",
            "Nebraska"
           ],
           "locationmode": "USA-states",
           "locations": [
            "SD",
            "MT",
            "ME",
            "ID",
            "NM",
            "HI",
            "WY",
            "ND",
            "NH",
            "RI",
            "NE"
           ],
           "name": "",
           "type": "choropleth",
           "z": [
            38,
            8,
            2,
            15,
            12,
            13,
            5,
            11,
            0,
            8,
            14
           ]
          }
         ],
         "name": "2020-09-30"
        },
        {
         "data": [
          {
           "coloraxis": "coloraxis",
           "geo": "geo",
           "hovertemplate": "<b>%{hovertext}</b><br><br>date=2020-10-01<br>open_covid_region_code=%{location}<br>hospitalized_new=%{z}<extra></extra>",
           "hovertext": [
            "South Dakota",
            "Montana",
            "Maine",
            "Idaho",
            "New Mexico",
            "Hawaii",
            "Wyoming",
            "North Dakota",
            "New Hampshire",
            "Rhode Island",
            "Nebraska"
           ],
           "locationmode": "USA-states",
           "locations": [
            "SD",
            "MT",
            "ME",
            "ID",
            "NM",
            "HI",
            "WY",
            "ND",
            "NH",
            "RI",
            "NE"
           ],
           "name": "",
           "type": "choropleth",
           "z": [
            29,
            10,
            2,
            12,
            20,
            15,
            2,
            25,
            0,
            11,
            34
           ]
          }
         ],
         "name": "2020-10-01"
        },
        {
         "data": [
          {
           "coloraxis": "coloraxis",
           "geo": "geo",
           "hovertemplate": "<b>%{hovertext}</b><br><br>date=2020-03-26<br>open_covid_region_code=%{location}<br>hospitalized_new=%{z}<extra></extra>",
           "hovertext": [
            "Montana",
            "Hawaii",
            "North Dakota",
            "New Hampshire"
           ],
           "locationmode": "USA-states",
           "locations": [
            "MT",
            "HI",
            "ND",
            "NH"
           ],
           "name": "",
           "type": "choropleth",
           "z": [
            1,
            -1,
            2,
            6
           ]
          }
         ],
         "name": "2020-03-26"
        },
        {
         "data": [
          {
           "coloraxis": "coloraxis",
           "geo": "geo",
           "hovertemplate": "<b>%{hovertext}</b><br><br>date=2020-03-27<br>open_covid_region_code=%{location}<br>hospitalized_new=%{z}<extra></extra>",
           "hovertext": [
            "Montana",
            "Hawaii",
            "Wyoming",
            "North Dakota",
            "New Hampshire"
           ],
           "locationmode": "USA-states",
           "locations": [
            "MT",
            "HI",
            "WY",
            "ND",
            "NH"
           ],
           "name": "",
           "type": "choropleth",
           "z": [
            6,
            2,
            11,
            3,
            6
           ]
          }
         ],
         "name": "2020-03-27"
        },
        {
         "data": [
          {
           "coloraxis": "coloraxis",
           "geo": "geo",
           "hovertemplate": "<b>%{hovertext}</b><br><br>date=2020-03-28<br>open_covid_region_code=%{location}<br>hospitalized_new=%{z}<extra></extra>",
           "hovertext": [
            "Montana",
            "Idaho",
            "Hawaii",
            "Wyoming",
            "North Dakota",
            "New Hampshire"
           ],
           "locationmode": "USA-states",
           "locations": [
            "MT",
            "ID",
            "HI",
            "WY",
            "ND",
            "NH"
           ],
           "name": "",
           "type": "choropleth",
           "z": [
            0,
            25,
            1,
            3,
            3,
            5
           ]
          }
         ],
         "name": "2020-03-28"
        },
        {
         "data": [
          {
           "coloraxis": "coloraxis",
           "geo": "geo",
           "hovertemplate": "<b>%{hovertext}</b><br><br>date=2020-03-29<br>open_covid_region_code=%{location}<br>hospitalized_new=%{z}<extra></extra>",
           "hovertext": [
            "Montana",
            "Idaho",
            "Hawaii",
            "Wyoming",
            "North Dakota",
            "New Hampshire"
           ],
           "locationmode": "USA-states",
           "locations": [
            "MT",
            "ID",
            "HI",
            "WY",
            "ND",
            "NH"
           ],
           "name": "",
           "type": "choropleth",
           "z": [
            1,
            11,
            4,
            1,
            1,
            3
           ]
          }
         ],
         "name": "2020-03-29"
        },
        {
         "data": [
          {
           "coloraxis": "coloraxis",
           "geo": "geo",
           "hovertemplate": "<b>%{hovertext}</b><br><br>date=2020-03-30<br>open_covid_region_code=%{location}<br>hospitalized_new=%{z}<extra></extra>",
           "hovertext": [
            "Montana",
            "Maine",
            "Idaho",
            "Hawaii",
            "Wyoming",
            "North Dakota",
            "New Hampshire"
           ],
           "locationmode": "USA-states",
           "locations": [
            "MT",
            "ME",
            "ID",
            "HI",
            "WY",
            "ND",
            "NH"
           ],
           "name": "",
           "type": "choropleth",
           "z": [
            2,
            49,
            3,
            0,
            2,
            2,
            12
           ]
          }
         ],
         "name": "2020-03-30"
        },
        {
         "data": [
          {
           "coloraxis": "coloraxis",
           "geo": "geo",
           "hovertemplate": "<b>%{hovertext}</b><br><br>date=2020-03-24<br>open_covid_region_code=%{location}<br>hospitalized_new=%{z}<extra></extra>",
           "hovertext": [
            "Hawaii",
            "North Dakota",
            "New Hampshire"
           ],
           "locationmode": "USA-states",
           "locations": [
            "HI",
            "ND",
            "NH"
           ],
           "name": "",
           "type": "choropleth",
           "z": [
            4,
            1,
            11
           ]
          }
         ],
         "name": "2020-03-24"
        },
        {
         "data": [
          {
           "coloraxis": "coloraxis",
           "geo": "geo",
           "hovertemplate": "<b>%{hovertext}</b><br><br>date=2020-03-25<br>open_covid_region_code=%{location}<br>hospitalized_new=%{z}<extra></extra>",
           "hovertext": [
            "Hawaii",
            "North Dakota",
            "New Hampshire"
           ],
           "locationmode": "USA-states",
           "locations": [
            "HI",
            "ND",
            "NH"
           ],
           "name": "",
           "type": "choropleth",
           "z": [
            2,
            3,
            2
           ]
          }
         ],
         "name": "2020-03-25"
        },
        {
         "data": [
          {
           "coloraxis": "coloraxis",
           "geo": "geo",
           "hovertemplate": "<b>%{hovertext}</b><br><br>date=2020-03-07<br>open_covid_region_code=%{location}<br>hospitalized_new=%{z}<extra></extra>",
           "hovertext": [
            "North Dakota"
           ],
           "locationmode": "USA-states",
           "locations": [
            "ND"
           ],
           "name": "",
           "type": "choropleth",
           "z": [
            0
           ]
          }
         ],
         "name": "2020-03-07"
        },
        {
         "data": [
          {
           "coloraxis": "coloraxis",
           "geo": "geo",
           "hovertemplate": "<b>%{hovertext}</b><br><br>date=2020-03-08<br>open_covid_region_code=%{location}<br>hospitalized_new=%{z}<extra></extra>",
           "hovertext": [
            "North Dakota"
           ],
           "locationmode": "USA-states",
           "locations": [
            "ND"
           ],
           "name": "",
           "type": "choropleth",
           "z": [
            0
           ]
          }
         ],
         "name": "2020-03-08"
        },
        {
         "data": [
          {
           "coloraxis": "coloraxis",
           "geo": "geo",
           "hovertemplate": "<b>%{hovertext}</b><br><br>date=2020-03-09<br>open_covid_region_code=%{location}<br>hospitalized_new=%{z}<extra></extra>",
           "hovertext": [
            "North Dakota"
           ],
           "locationmode": "USA-states",
           "locations": [
            "ND"
           ],
           "name": "",
           "type": "choropleth",
           "z": [
            0
           ]
          }
         ],
         "name": "2020-03-09"
        },
        {
         "data": [
          {
           "coloraxis": "coloraxis",
           "geo": "geo",
           "hovertemplate": "<b>%{hovertext}</b><br><br>date=2020-03-10<br>open_covid_region_code=%{location}<br>hospitalized_new=%{z}<extra></extra>",
           "hovertext": [
            "North Dakota"
           ],
           "locationmode": "USA-states",
           "locations": [
            "ND"
           ],
           "name": "",
           "type": "choropleth",
           "z": [
            0
           ]
          }
         ],
         "name": "2020-03-10"
        },
        {
         "data": [
          {
           "coloraxis": "coloraxis",
           "geo": "geo",
           "hovertemplate": "<b>%{hovertext}</b><br><br>date=2020-03-11<br>open_covid_region_code=%{location}<br>hospitalized_new=%{z}<extra></extra>",
           "hovertext": [
            "North Dakota"
           ],
           "locationmode": "USA-states",
           "locations": [
            "ND"
           ],
           "name": "",
           "type": "choropleth",
           "z": [
            0
           ]
          }
         ],
         "name": "2020-03-11"
        },
        {
         "data": [
          {
           "coloraxis": "coloraxis",
           "geo": "geo",
           "hovertemplate": "<b>%{hovertext}</b><br><br>date=2020-03-12<br>open_covid_region_code=%{location}<br>hospitalized_new=%{z}<extra></extra>",
           "hovertext": [
            "North Dakota"
           ],
           "locationmode": "USA-states",
           "locations": [
            "ND"
           ],
           "name": "",
           "type": "choropleth",
           "z": [
            0
           ]
          }
         ],
         "name": "2020-03-12"
        },
        {
         "data": [
          {
           "coloraxis": "coloraxis",
           "geo": "geo",
           "hovertemplate": "<b>%{hovertext}</b><br><br>date=2020-03-13<br>open_covid_region_code=%{location}<br>hospitalized_new=%{z}<extra></extra>",
           "hovertext": [
            "North Dakota"
           ],
           "locationmode": "USA-states",
           "locations": [
            "ND"
           ],
           "name": "",
           "type": "choropleth",
           "z": [
            0
           ]
          }
         ],
         "name": "2020-03-13"
        },
        {
         "data": [
          {
           "coloraxis": "coloraxis",
           "geo": "geo",
           "hovertemplate": "<b>%{hovertext}</b><br><br>date=2020-03-14<br>open_covid_region_code=%{location}<br>hospitalized_new=%{z}<extra></extra>",
           "hovertext": [
            "North Dakota"
           ],
           "locationmode": "USA-states",
           "locations": [
            "ND"
           ],
           "name": "",
           "type": "choropleth",
           "z": [
            0
           ]
          }
         ],
         "name": "2020-03-14"
        },
        {
         "data": [
          {
           "coloraxis": "coloraxis",
           "geo": "geo",
           "hovertemplate": "<b>%{hovertext}</b><br><br>date=2020-03-15<br>open_covid_region_code=%{location}<br>hospitalized_new=%{z}<extra></extra>",
           "hovertext": [
            "North Dakota"
           ],
           "locationmode": "USA-states",
           "locations": [
            "ND"
           ],
           "name": "",
           "type": "choropleth",
           "z": [
            0
           ]
          }
         ],
         "name": "2020-03-15"
        },
        {
         "data": [
          {
           "coloraxis": "coloraxis",
           "geo": "geo",
           "hovertemplate": "<b>%{hovertext}</b><br><br>date=2020-03-16<br>open_covid_region_code=%{location}<br>hospitalized_new=%{z}<extra></extra>",
           "hovertext": [
            "North Dakota"
           ],
           "locationmode": "USA-states",
           "locations": [
            "ND"
           ],
           "name": "",
           "type": "choropleth",
           "z": [
            0
           ]
          }
         ],
         "name": "2020-03-16"
        },
        {
         "data": [
          {
           "coloraxis": "coloraxis",
           "geo": "geo",
           "hovertemplate": "<b>%{hovertext}</b><br><br>date=2020-03-17<br>open_covid_region_code=%{location}<br>hospitalized_new=%{z}<extra></extra>",
           "hovertext": [
            "North Dakota"
           ],
           "locationmode": "USA-states",
           "locations": [
            "ND"
           ],
           "name": "",
           "type": "choropleth",
           "z": [
            0
           ]
          }
         ],
         "name": "2020-03-17"
        },
        {
         "data": [
          {
           "coloraxis": "coloraxis",
           "geo": "geo",
           "hovertemplate": "<b>%{hovertext}</b><br><br>date=2020-03-18<br>open_covid_region_code=%{location}<br>hospitalized_new=%{z}<extra></extra>",
           "hovertext": [
            "North Dakota"
           ],
           "locationmode": "USA-states",
           "locations": [
            "ND"
           ],
           "name": "",
           "type": "choropleth",
           "z": [
            0
           ]
          }
         ],
         "name": "2020-03-18"
        },
        {
         "data": [
          {
           "coloraxis": "coloraxis",
           "geo": "geo",
           "hovertemplate": "<b>%{hovertext}</b><br><br>date=2020-03-19<br>open_covid_region_code=%{location}<br>hospitalized_new=%{z}<extra></extra>",
           "hovertext": [
            "North Dakota"
           ],
           "locationmode": "USA-states",
           "locations": [
            "ND"
           ],
           "name": "",
           "type": "choropleth",
           "z": [
            0
           ]
          }
         ],
         "name": "2020-03-19"
        },
        {
         "data": [
          {
           "coloraxis": "coloraxis",
           "geo": "geo",
           "hovertemplate": "<b>%{hovertext}</b><br><br>date=2020-03-20<br>open_covid_region_code=%{location}<br>hospitalized_new=%{z}<extra></extra>",
           "hovertext": [
            "North Dakota"
           ],
           "locationmode": "USA-states",
           "locations": [
            "ND"
           ],
           "name": "",
           "type": "choropleth",
           "z": [
            0
           ]
          }
         ],
         "name": "2020-03-20"
        },
        {
         "data": [
          {
           "coloraxis": "coloraxis",
           "geo": "geo",
           "hovertemplate": "<b>%{hovertext}</b><br><br>date=2020-03-21<br>open_covid_region_code=%{location}<br>hospitalized_new=%{z}<extra></extra>",
           "hovertext": [
            "North Dakota"
           ],
           "locationmode": "USA-states",
           "locations": [
            "ND"
           ],
           "name": "",
           "type": "choropleth",
           "z": [
            3
           ]
          }
         ],
         "name": "2020-03-21"
        },
        {
         "data": [
          {
           "coloraxis": "coloraxis",
           "geo": "geo",
           "hovertemplate": "<b>%{hovertext}</b><br><br>date=2020-03-22<br>open_covid_region_code=%{location}<br>hospitalized_new=%{z}<extra></extra>",
           "hovertext": [
            "North Dakota"
           ],
           "locationmode": "USA-states",
           "locations": [
            "ND"
           ],
           "name": "",
           "type": "choropleth",
           "z": [
            0
           ]
          }
         ],
         "name": "2020-03-22"
        },
        {
         "data": [
          {
           "coloraxis": "coloraxis",
           "geo": "geo",
           "hovertemplate": "<b>%{hovertext}</b><br><br>date=2020-03-23<br>open_covid_region_code=%{location}<br>hospitalized_new=%{z}<extra></extra>",
           "hovertext": [
            "North Dakota"
           ],
           "locationmode": "USA-states",
           "locations": [
            "ND"
           ],
           "name": "",
           "type": "choropleth",
           "z": [
            1
           ]
          }
         ],
         "name": "2020-03-23"
        }
       ],
       "layout": {
        "coloraxis": {
         "cmax": 10,
         "cmin": 0,
         "colorbar": {
          "title": {
           "text": "hospitalized_new"
          }
         },
         "colorscale": [
          [
           0,
           "rgb(255,245,240)"
          ],
          [
           0.125,
           "rgb(254,224,210)"
          ],
          [
           0.25,
           "rgb(252,187,161)"
          ],
          [
           0.375,
           "rgb(252,146,114)"
          ],
          [
           0.5,
           "rgb(251,106,74)"
          ],
          [
           0.625,
           "rgb(239,59,44)"
          ],
          [
           0.75,
           "rgb(203,24,29)"
          ],
          [
           0.875,
           "rgb(165,15,21)"
          ],
          [
           1,
           "rgb(103,0,13)"
          ]
         ]
        },
        "geo": {
         "center": {},
         "domain": {
          "x": [
           0,
           1
          ],
          "y": [
           0,
           1
          ]
         },
         "scope": "usa"
        },
        "legend": {
         "tracegroupgap": 0
        },
        "margin": {
         "t": 60
        },
        "sliders": [
         {
          "active": 0,
          "currentvalue": {
           "prefix": "date="
          },
          "len": 0.9,
          "pad": {
           "b": 10,
           "t": 60
          },
          "steps": [
           {
            "args": [
             [
              "2020-03-31"
             ],
             {
              "frame": {
               "duration": 0,
               "redraw": true
              },
              "fromcurrent": true,
              "mode": "immediate",
              "transition": {
               "duration": 0,
               "easing": "linear"
              }
             }
            ],
            "label": "2020-03-31",
            "method": "animate"
           },
           {
            "args": [
             [
              "2020-04-01"
             ],
             {
              "frame": {
               "duration": 0,
               "redraw": true
              },
              "fromcurrent": true,
              "mode": "immediate",
              "transition": {
               "duration": 0,
               "easing": "linear"
              }
             }
            ],
            "label": "2020-04-01",
            "method": "animate"
           },
           {
            "args": [
             [
              "2020-04-02"
             ],
             {
              "frame": {
               "duration": 0,
               "redraw": true
              },
              "fromcurrent": true,
              "mode": "immediate",
              "transition": {
               "duration": 0,
               "easing": "linear"
              }
             }
            ],
            "label": "2020-04-02",
            "method": "animate"
           },
           {
            "args": [
             [
              "2020-04-03"
             ],
             {
              "frame": {
               "duration": 0,
               "redraw": true
              },
              "fromcurrent": true,
              "mode": "immediate",
              "transition": {
               "duration": 0,
               "easing": "linear"
              }
             }
            ],
            "label": "2020-04-03",
            "method": "animate"
           },
           {
            "args": [
             [
              "2020-04-04"
             ],
             {
              "frame": {
               "duration": 0,
               "redraw": true
              },
              "fromcurrent": true,
              "mode": "immediate",
              "transition": {
               "duration": 0,
               "easing": "linear"
              }
             }
            ],
            "label": "2020-04-04",
            "method": "animate"
           },
           {
            "args": [
             [
              "2020-04-05"
             ],
             {
              "frame": {
               "duration": 0,
               "redraw": true
              },
              "fromcurrent": true,
              "mode": "immediate",
              "transition": {
               "duration": 0,
               "easing": "linear"
              }
             }
            ],
            "label": "2020-04-05",
            "method": "animate"
           },
           {
            "args": [
             [
              "2020-04-06"
             ],
             {
              "frame": {
               "duration": 0,
               "redraw": true
              },
              "fromcurrent": true,
              "mode": "immediate",
              "transition": {
               "duration": 0,
               "easing": "linear"
              }
             }
            ],
            "label": "2020-04-06",
            "method": "animate"
           },
           {
            "args": [
             [
              "2020-04-07"
             ],
             {
              "frame": {
               "duration": 0,
               "redraw": true
              },
              "fromcurrent": true,
              "mode": "immediate",
              "transition": {
               "duration": 0,
               "easing": "linear"
              }
             }
            ],
            "label": "2020-04-07",
            "method": "animate"
           },
           {
            "args": [
             [
              "2020-04-08"
             ],
             {
              "frame": {
               "duration": 0,
               "redraw": true
              },
              "fromcurrent": true,
              "mode": "immediate",
              "transition": {
               "duration": 0,
               "easing": "linear"
              }
             }
            ],
            "label": "2020-04-08",
            "method": "animate"
           },
           {
            "args": [
             [
              "2020-04-09"
             ],
             {
              "frame": {
               "duration": 0,
               "redraw": true
              },
              "fromcurrent": true,
              "mode": "immediate",
              "transition": {
               "duration": 0,
               "easing": "linear"
              }
             }
            ],
            "label": "2020-04-09",
            "method": "animate"
           },
           {
            "args": [
             [
              "2020-04-10"
             ],
             {
              "frame": {
               "duration": 0,
               "redraw": true
              },
              "fromcurrent": true,
              "mode": "immediate",
              "transition": {
               "duration": 0,
               "easing": "linear"
              }
             }
            ],
            "label": "2020-04-10",
            "method": "animate"
           },
           {
            "args": [
             [
              "2020-04-11"
             ],
             {
              "frame": {
               "duration": 0,
               "redraw": true
              },
              "fromcurrent": true,
              "mode": "immediate",
              "transition": {
               "duration": 0,
               "easing": "linear"
              }
             }
            ],
            "label": "2020-04-11",
            "method": "animate"
           },
           {
            "args": [
             [
              "2020-04-12"
             ],
             {
              "frame": {
               "duration": 0,
               "redraw": true
              },
              "fromcurrent": true,
              "mode": "immediate",
              "transition": {
               "duration": 0,
               "easing": "linear"
              }
             }
            ],
            "label": "2020-04-12",
            "method": "animate"
           },
           {
            "args": [
             [
              "2020-04-13"
             ],
             {
              "frame": {
               "duration": 0,
               "redraw": true
              },
              "fromcurrent": true,
              "mode": "immediate",
              "transition": {
               "duration": 0,
               "easing": "linear"
              }
             }
            ],
            "label": "2020-04-13",
            "method": "animate"
           },
           {
            "args": [
             [
              "2020-04-14"
             ],
             {
              "frame": {
               "duration": 0,
               "redraw": true
              },
              "fromcurrent": true,
              "mode": "immediate",
              "transition": {
               "duration": 0,
               "easing": "linear"
              }
             }
            ],
            "label": "2020-04-14",
            "method": "animate"
           },
           {
            "args": [
             [
              "2020-04-15"
             ],
             {
              "frame": {
               "duration": 0,
               "redraw": true
              },
              "fromcurrent": true,
              "mode": "immediate",
              "transition": {
               "duration": 0,
               "easing": "linear"
              }
             }
            ],
            "label": "2020-04-15",
            "method": "animate"
           },
           {
            "args": [
             [
              "2020-04-16"
             ],
             {
              "frame": {
               "duration": 0,
               "redraw": true
              },
              "fromcurrent": true,
              "mode": "immediate",
              "transition": {
               "duration": 0,
               "easing": "linear"
              }
             }
            ],
            "label": "2020-04-16",
            "method": "animate"
           },
           {
            "args": [
             [
              "2020-04-17"
             ],
             {
              "frame": {
               "duration": 0,
               "redraw": true
              },
              "fromcurrent": true,
              "mode": "immediate",
              "transition": {
               "duration": 0,
               "easing": "linear"
              }
             }
            ],
            "label": "2020-04-17",
            "method": "animate"
           },
           {
            "args": [
             [
              "2020-04-18"
             ],
             {
              "frame": {
               "duration": 0,
               "redraw": true
              },
              "fromcurrent": true,
              "mode": "immediate",
              "transition": {
               "duration": 0,
               "easing": "linear"
              }
             }
            ],
            "label": "2020-04-18",
            "method": "animate"
           },
           {
            "args": [
             [
              "2020-04-19"
             ],
             {
              "frame": {
               "duration": 0,
               "redraw": true
              },
              "fromcurrent": true,
              "mode": "immediate",
              "transition": {
               "duration": 0,
               "easing": "linear"
              }
             }
            ],
            "label": "2020-04-19",
            "method": "animate"
           },
           {
            "args": [
             [
              "2020-04-20"
             ],
             {
              "frame": {
               "duration": 0,
               "redraw": true
              },
              "fromcurrent": true,
              "mode": "immediate",
              "transition": {
               "duration": 0,
               "easing": "linear"
              }
             }
            ],
            "label": "2020-04-20",
            "method": "animate"
           },
           {
            "args": [
             [
              "2020-04-21"
             ],
             {
              "frame": {
               "duration": 0,
               "redraw": true
              },
              "fromcurrent": true,
              "mode": "immediate",
              "transition": {
               "duration": 0,
               "easing": "linear"
              }
             }
            ],
            "label": "2020-04-21",
            "method": "animate"
           },
           {
            "args": [
             [
              "2020-04-22"
             ],
             {
              "frame": {
               "duration": 0,
               "redraw": true
              },
              "fromcurrent": true,
              "mode": "immediate",
              "transition": {
               "duration": 0,
               "easing": "linear"
              }
             }
            ],
            "label": "2020-04-22",
            "method": "animate"
           },
           {
            "args": [
             [
              "2020-04-23"
             ],
             {
              "frame": {
               "duration": 0,
               "redraw": true
              },
              "fromcurrent": true,
              "mode": "immediate",
              "transition": {
               "duration": 0,
               "easing": "linear"
              }
             }
            ],
            "label": "2020-04-23",
            "method": "animate"
           },
           {
            "args": [
             [
              "2020-04-24"
             ],
             {
              "frame": {
               "duration": 0,
               "redraw": true
              },
              "fromcurrent": true,
              "mode": "immediate",
              "transition": {
               "duration": 0,
               "easing": "linear"
              }
             }
            ],
            "label": "2020-04-24",
            "method": "animate"
           },
           {
            "args": [
             [
              "2020-04-25"
             ],
             {
              "frame": {
               "duration": 0,
               "redraw": true
              },
              "fromcurrent": true,
              "mode": "immediate",
              "transition": {
               "duration": 0,
               "easing": "linear"
              }
             }
            ],
            "label": "2020-04-25",
            "method": "animate"
           },
           {
            "args": [
             [
              "2020-04-26"
             ],
             {
              "frame": {
               "duration": 0,
               "redraw": true
              },
              "fromcurrent": true,
              "mode": "immediate",
              "transition": {
               "duration": 0,
               "easing": "linear"
              }
             }
            ],
            "label": "2020-04-26",
            "method": "animate"
           },
           {
            "args": [
             [
              "2020-04-27"
             ],
             {
              "frame": {
               "duration": 0,
               "redraw": true
              },
              "fromcurrent": true,
              "mode": "immediate",
              "transition": {
               "duration": 0,
               "easing": "linear"
              }
             }
            ],
            "label": "2020-04-27",
            "method": "animate"
           },
           {
            "args": [
             [
              "2020-04-28"
             ],
             {
              "frame": {
               "duration": 0,
               "redraw": true
              },
              "fromcurrent": true,
              "mode": "immediate",
              "transition": {
               "duration": 0,
               "easing": "linear"
              }
             }
            ],
            "label": "2020-04-28",
            "method": "animate"
           },
           {
            "args": [
             [
              "2020-04-29"
             ],
             {
              "frame": {
               "duration": 0,
               "redraw": true
              },
              "fromcurrent": true,
              "mode": "immediate",
              "transition": {
               "duration": 0,
               "easing": "linear"
              }
             }
            ],
            "label": "2020-04-29",
            "method": "animate"
           },
           {
            "args": [
             [
              "2020-04-30"
             ],
             {
              "frame": {
               "duration": 0,
               "redraw": true
              },
              "fromcurrent": true,
              "mode": "immediate",
              "transition": {
               "duration": 0,
               "easing": "linear"
              }
             }
            ],
            "label": "2020-04-30",
            "method": "animate"
           },
           {
            "args": [
             [
              "2020-05-01"
             ],
             {
              "frame": {
               "duration": 0,
               "redraw": true
              },
              "fromcurrent": true,
              "mode": "immediate",
              "transition": {
               "duration": 0,
               "easing": "linear"
              }
             }
            ],
            "label": "2020-05-01",
            "method": "animate"
           },
           {
            "args": [
             [
              "2020-05-02"
             ],
             {
              "frame": {
               "duration": 0,
               "redraw": true
              },
              "fromcurrent": true,
              "mode": "immediate",
              "transition": {
               "duration": 0,
               "easing": "linear"
              }
             }
            ],
            "label": "2020-05-02",
            "method": "animate"
           },
           {
            "args": [
             [
              "2020-05-03"
             ],
             {
              "frame": {
               "duration": 0,
               "redraw": true
              },
              "fromcurrent": true,
              "mode": "immediate",
              "transition": {
               "duration": 0,
               "easing": "linear"
              }
             }
            ],
            "label": "2020-05-03",
            "method": "animate"
           },
           {
            "args": [
             [
              "2020-05-04"
             ],
             {
              "frame": {
               "duration": 0,
               "redraw": true
              },
              "fromcurrent": true,
              "mode": "immediate",
              "transition": {
               "duration": 0,
               "easing": "linear"
              }
             }
            ],
            "label": "2020-05-04",
            "method": "animate"
           },
           {
            "args": [
             [
              "2020-05-05"
             ],
             {
              "frame": {
               "duration": 0,
               "redraw": true
              },
              "fromcurrent": true,
              "mode": "immediate",
              "transition": {
               "duration": 0,
               "easing": "linear"
              }
             }
            ],
            "label": "2020-05-05",
            "method": "animate"
           },
           {
            "args": [
             [
              "2020-05-06"
             ],
             {
              "frame": {
               "duration": 0,
               "redraw": true
              },
              "fromcurrent": true,
              "mode": "immediate",
              "transition": {
               "duration": 0,
               "easing": "linear"
              }
             }
            ],
            "label": "2020-05-06",
            "method": "animate"
           },
           {
            "args": [
             [
              "2020-05-07"
             ],
             {
              "frame": {
               "duration": 0,
               "redraw": true
              },
              "fromcurrent": true,
              "mode": "immediate",
              "transition": {
               "duration": 0,
               "easing": "linear"
              }
             }
            ],
            "label": "2020-05-07",
            "method": "animate"
           },
           {
            "args": [
             [
              "2020-05-08"
             ],
             {
              "frame": {
               "duration": 0,
               "redraw": true
              },
              "fromcurrent": true,
              "mode": "immediate",
              "transition": {
               "duration": 0,
               "easing": "linear"
              }
             }
            ],
            "label": "2020-05-08",
            "method": "animate"
           },
           {
            "args": [
             [
              "2020-05-09"
             ],
             {
              "frame": {
               "duration": 0,
               "redraw": true
              },
              "fromcurrent": true,
              "mode": "immediate",
              "transition": {
               "duration": 0,
               "easing": "linear"
              }
             }
            ],
            "label": "2020-05-09",
            "method": "animate"
           },
           {
            "args": [
             [
              "2020-05-10"
             ],
             {
              "frame": {
               "duration": 0,
               "redraw": true
              },
              "fromcurrent": true,
              "mode": "immediate",
              "transition": {
               "duration": 0,
               "easing": "linear"
              }
             }
            ],
            "label": "2020-05-10",
            "method": "animate"
           },
           {
            "args": [
             [
              "2020-05-11"
             ],
             {
              "frame": {
               "duration": 0,
               "redraw": true
              },
              "fromcurrent": true,
              "mode": "immediate",
              "transition": {
               "duration": 0,
               "easing": "linear"
              }
             }
            ],
            "label": "2020-05-11",
            "method": "animate"
           },
           {
            "args": [
             [
              "2020-05-12"
             ],
             {
              "frame": {
               "duration": 0,
               "redraw": true
              },
              "fromcurrent": true,
              "mode": "immediate",
              "transition": {
               "duration": 0,
               "easing": "linear"
              }
             }
            ],
            "label": "2020-05-12",
            "method": "animate"
           },
           {
            "args": [
             [
              "2020-05-13"
             ],
             {
              "frame": {
               "duration": 0,
               "redraw": true
              },
              "fromcurrent": true,
              "mode": "immediate",
              "transition": {
               "duration": 0,
               "easing": "linear"
              }
             }
            ],
            "label": "2020-05-13",
            "method": "animate"
           },
           {
            "args": [
             [
              "2020-05-14"
             ],
             {
              "frame": {
               "duration": 0,
               "redraw": true
              },
              "fromcurrent": true,
              "mode": "immediate",
              "transition": {
               "duration": 0,
               "easing": "linear"
              }
             }
            ],
            "label": "2020-05-14",
            "method": "animate"
           },
           {
            "args": [
             [
              "2020-05-15"
             ],
             {
              "frame": {
               "duration": 0,
               "redraw": true
              },
              "fromcurrent": true,
              "mode": "immediate",
              "transition": {
               "duration": 0,
               "easing": "linear"
              }
             }
            ],
            "label": "2020-05-15",
            "method": "animate"
           },
           {
            "args": [
             [
              "2020-05-16"
             ],
             {
              "frame": {
               "duration": 0,
               "redraw": true
              },
              "fromcurrent": true,
              "mode": "immediate",
              "transition": {
               "duration": 0,
               "easing": "linear"
              }
             }
            ],
            "label": "2020-05-16",
            "method": "animate"
           },
           {
            "args": [
             [
              "2020-05-17"
             ],
             {
              "frame": {
               "duration": 0,
               "redraw": true
              },
              "fromcurrent": true,
              "mode": "immediate",
              "transition": {
               "duration": 0,
               "easing": "linear"
              }
             }
            ],
            "label": "2020-05-17",
            "method": "animate"
           },
           {
            "args": [
             [
              "2020-05-18"
             ],
             {
              "frame": {
               "duration": 0,
               "redraw": true
              },
              "fromcurrent": true,
              "mode": "immediate",
              "transition": {
               "duration": 0,
               "easing": "linear"
              }
             }
            ],
            "label": "2020-05-18",
            "method": "animate"
           },
           {
            "args": [
             [
              "2020-05-19"
             ],
             {
              "frame": {
               "duration": 0,
               "redraw": true
              },
              "fromcurrent": true,
              "mode": "immediate",
              "transition": {
               "duration": 0,
               "easing": "linear"
              }
             }
            ],
            "label": "2020-05-19",
            "method": "animate"
           },
           {
            "args": [
             [
              "2020-05-20"
             ],
             {
              "frame": {
               "duration": 0,
               "redraw": true
              },
              "fromcurrent": true,
              "mode": "immediate",
              "transition": {
               "duration": 0,
               "easing": "linear"
              }
             }
            ],
            "label": "2020-05-20",
            "method": "animate"
           },
           {
            "args": [
             [
              "2020-05-21"
             ],
             {
              "frame": {
               "duration": 0,
               "redraw": true
              },
              "fromcurrent": true,
              "mode": "immediate",
              "transition": {
               "duration": 0,
               "easing": "linear"
              }
             }
            ],
            "label": "2020-05-21",
            "method": "animate"
           },
           {
            "args": [
             [
              "2020-05-22"
             ],
             {
              "frame": {
               "duration": 0,
               "redraw": true
              },
              "fromcurrent": true,
              "mode": "immediate",
              "transition": {
               "duration": 0,
               "easing": "linear"
              }
             }
            ],
            "label": "2020-05-22",
            "method": "animate"
           },
           {
            "args": [
             [
              "2020-05-23"
             ],
             {
              "frame": {
               "duration": 0,
               "redraw": true
              },
              "fromcurrent": true,
              "mode": "immediate",
              "transition": {
               "duration": 0,
               "easing": "linear"
              }
             }
            ],
            "label": "2020-05-23",
            "method": "animate"
           },
           {
            "args": [
             [
              "2020-05-24"
             ],
             {
              "frame": {
               "duration": 0,
               "redraw": true
              },
              "fromcurrent": true,
              "mode": "immediate",
              "transition": {
               "duration": 0,
               "easing": "linear"
              }
             }
            ],
            "label": "2020-05-24",
            "method": "animate"
           },
           {
            "args": [
             [
              "2020-05-25"
             ],
             {
              "frame": {
               "duration": 0,
               "redraw": true
              },
              "fromcurrent": true,
              "mode": "immediate",
              "transition": {
               "duration": 0,
               "easing": "linear"
              }
             }
            ],
            "label": "2020-05-25",
            "method": "animate"
           },
           {
            "args": [
             [
              "2020-05-26"
             ],
             {
              "frame": {
               "duration": 0,
               "redraw": true
              },
              "fromcurrent": true,
              "mode": "immediate",
              "transition": {
               "duration": 0,
               "easing": "linear"
              }
             }
            ],
            "label": "2020-05-26",
            "method": "animate"
           },
           {
            "args": [
             [
              "2020-05-27"
             ],
             {
              "frame": {
               "duration": 0,
               "redraw": true
              },
              "fromcurrent": true,
              "mode": "immediate",
              "transition": {
               "duration": 0,
               "easing": "linear"
              }
             }
            ],
            "label": "2020-05-27",
            "method": "animate"
           },
           {
            "args": [
             [
              "2020-05-28"
             ],
             {
              "frame": {
               "duration": 0,
               "redraw": true
              },
              "fromcurrent": true,
              "mode": "immediate",
              "transition": {
               "duration": 0,
               "easing": "linear"
              }
             }
            ],
            "label": "2020-05-28",
            "method": "animate"
           },
           {
            "args": [
             [
              "2020-05-29"
             ],
             {
              "frame": {
               "duration": 0,
               "redraw": true
              },
              "fromcurrent": true,
              "mode": "immediate",
              "transition": {
               "duration": 0,
               "easing": "linear"
              }
             }
            ],
            "label": "2020-05-29",
            "method": "animate"
           },
           {
            "args": [
             [
              "2020-05-30"
             ],
             {
              "frame": {
               "duration": 0,
               "redraw": true
              },
              "fromcurrent": true,
              "mode": "immediate",
              "transition": {
               "duration": 0,
               "easing": "linear"
              }
             }
            ],
            "label": "2020-05-30",
            "method": "animate"
           },
           {
            "args": [
             [
              "2020-05-31"
             ],
             {
              "frame": {
               "duration": 0,
               "redraw": true
              },
              "fromcurrent": true,
              "mode": "immediate",
              "transition": {
               "duration": 0,
               "easing": "linear"
              }
             }
            ],
            "label": "2020-05-31",
            "method": "animate"
           },
           {
            "args": [
             [
              "2020-06-01"
             ],
             {
              "frame": {
               "duration": 0,
               "redraw": true
              },
              "fromcurrent": true,
              "mode": "immediate",
              "transition": {
               "duration": 0,
               "easing": "linear"
              }
             }
            ],
            "label": "2020-06-01",
            "method": "animate"
           },
           {
            "args": [
             [
              "2020-06-02"
             ],
             {
              "frame": {
               "duration": 0,
               "redraw": true
              },
              "fromcurrent": true,
              "mode": "immediate",
              "transition": {
               "duration": 0,
               "easing": "linear"
              }
             }
            ],
            "label": "2020-06-02",
            "method": "animate"
           },
           {
            "args": [
             [
              "2020-06-03"
             ],
             {
              "frame": {
               "duration": 0,
               "redraw": true
              },
              "fromcurrent": true,
              "mode": "immediate",
              "transition": {
               "duration": 0,
               "easing": "linear"
              }
             }
            ],
            "label": "2020-06-03",
            "method": "animate"
           },
           {
            "args": [
             [
              "2020-06-04"
             ],
             {
              "frame": {
               "duration": 0,
               "redraw": true
              },
              "fromcurrent": true,
              "mode": "immediate",
              "transition": {
               "duration": 0,
               "easing": "linear"
              }
             }
            ],
            "label": "2020-06-04",
            "method": "animate"
           },
           {
            "args": [
             [
              "2020-06-05"
             ],
             {
              "frame": {
               "duration": 0,
               "redraw": true
              },
              "fromcurrent": true,
              "mode": "immediate",
              "transition": {
               "duration": 0,
               "easing": "linear"
              }
             }
            ],
            "label": "2020-06-05",
            "method": "animate"
           },
           {
            "args": [
             [
              "2020-06-06"
             ],
             {
              "frame": {
               "duration": 0,
               "redraw": true
              },
              "fromcurrent": true,
              "mode": "immediate",
              "transition": {
               "duration": 0,
               "easing": "linear"
              }
             }
            ],
            "label": "2020-06-06",
            "method": "animate"
           },
           {
            "args": [
             [
              "2020-06-07"
             ],
             {
              "frame": {
               "duration": 0,
               "redraw": true
              },
              "fromcurrent": true,
              "mode": "immediate",
              "transition": {
               "duration": 0,
               "easing": "linear"
              }
             }
            ],
            "label": "2020-06-07",
            "method": "animate"
           },
           {
            "args": [
             [
              "2020-06-08"
             ],
             {
              "frame": {
               "duration": 0,
               "redraw": true
              },
              "fromcurrent": true,
              "mode": "immediate",
              "transition": {
               "duration": 0,
               "easing": "linear"
              }
             }
            ],
            "label": "2020-06-08",
            "method": "animate"
           },
           {
            "args": [
             [
              "2020-06-09"
             ],
             {
              "frame": {
               "duration": 0,
               "redraw": true
              },
              "fromcurrent": true,
              "mode": "immediate",
              "transition": {
               "duration": 0,
               "easing": "linear"
              }
             }
            ],
            "label": "2020-06-09",
            "method": "animate"
           },
           {
            "args": [
             [
              "2020-06-10"
             ],
             {
              "frame": {
               "duration": 0,
               "redraw": true
              },
              "fromcurrent": true,
              "mode": "immediate",
              "transition": {
               "duration": 0,
               "easing": "linear"
              }
             }
            ],
            "label": "2020-06-10",
            "method": "animate"
           },
           {
            "args": [
             [
              "2020-06-11"
             ],
             {
              "frame": {
               "duration": 0,
               "redraw": true
              },
              "fromcurrent": true,
              "mode": "immediate",
              "transition": {
               "duration": 0,
               "easing": "linear"
              }
             }
            ],
            "label": "2020-06-11",
            "method": "animate"
           },
           {
            "args": [
             [
              "2020-06-12"
             ],
             {
              "frame": {
               "duration": 0,
               "redraw": true
              },
              "fromcurrent": true,
              "mode": "immediate",
              "transition": {
               "duration": 0,
               "easing": "linear"
              }
             }
            ],
            "label": "2020-06-12",
            "method": "animate"
           },
           {
            "args": [
             [
              "2020-06-13"
             ],
             {
              "frame": {
               "duration": 0,
               "redraw": true
              },
              "fromcurrent": true,
              "mode": "immediate",
              "transition": {
               "duration": 0,
               "easing": "linear"
              }
             }
            ],
            "label": "2020-06-13",
            "method": "animate"
           },
           {
            "args": [
             [
              "2020-06-14"
             ],
             {
              "frame": {
               "duration": 0,
               "redraw": true
              },
              "fromcurrent": true,
              "mode": "immediate",
              "transition": {
               "duration": 0,
               "easing": "linear"
              }
             }
            ],
            "label": "2020-06-14",
            "method": "animate"
           },
           {
            "args": [
             [
              "2020-06-15"
             ],
             {
              "frame": {
               "duration": 0,
               "redraw": true
              },
              "fromcurrent": true,
              "mode": "immediate",
              "transition": {
               "duration": 0,
               "easing": "linear"
              }
             }
            ],
            "label": "2020-06-15",
            "method": "animate"
           },
           {
            "args": [
             [
              "2020-06-16"
             ],
             {
              "frame": {
               "duration": 0,
               "redraw": true
              },
              "fromcurrent": true,
              "mode": "immediate",
              "transition": {
               "duration": 0,
               "easing": "linear"
              }
             }
            ],
            "label": "2020-06-16",
            "method": "animate"
           },
           {
            "args": [
             [
              "2020-06-17"
             ],
             {
              "frame": {
               "duration": 0,
               "redraw": true
              },
              "fromcurrent": true,
              "mode": "immediate",
              "transition": {
               "duration": 0,
               "easing": "linear"
              }
             }
            ],
            "label": "2020-06-17",
            "method": "animate"
           },
           {
            "args": [
             [
              "2020-06-18"
             ],
             {
              "frame": {
               "duration": 0,
               "redraw": true
              },
              "fromcurrent": true,
              "mode": "immediate",
              "transition": {
               "duration": 0,
               "easing": "linear"
              }
             }
            ],
            "label": "2020-06-18",
            "method": "animate"
           },
           {
            "args": [
             [
              "2020-06-19"
             ],
             {
              "frame": {
               "duration": 0,
               "redraw": true
              },
              "fromcurrent": true,
              "mode": "immediate",
              "transition": {
               "duration": 0,
               "easing": "linear"
              }
             }
            ],
            "label": "2020-06-19",
            "method": "animate"
           },
           {
            "args": [
             [
              "2020-06-20"
             ],
             {
              "frame": {
               "duration": 0,
               "redraw": true
              },
              "fromcurrent": true,
              "mode": "immediate",
              "transition": {
               "duration": 0,
               "easing": "linear"
              }
             }
            ],
            "label": "2020-06-20",
            "method": "animate"
           },
           {
            "args": [
             [
              "2020-06-21"
             ],
             {
              "frame": {
               "duration": 0,
               "redraw": true
              },
              "fromcurrent": true,
              "mode": "immediate",
              "transition": {
               "duration": 0,
               "easing": "linear"
              }
             }
            ],
            "label": "2020-06-21",
            "method": "animate"
           },
           {
            "args": [
             [
              "2020-06-22"
             ],
             {
              "frame": {
               "duration": 0,
               "redraw": true
              },
              "fromcurrent": true,
              "mode": "immediate",
              "transition": {
               "duration": 0,
               "easing": "linear"
              }
             }
            ],
            "label": "2020-06-22",
            "method": "animate"
           },
           {
            "args": [
             [
              "2020-06-23"
             ],
             {
              "frame": {
               "duration": 0,
               "redraw": true
              },
              "fromcurrent": true,
              "mode": "immediate",
              "transition": {
               "duration": 0,
               "easing": "linear"
              }
             }
            ],
            "label": "2020-06-23",
            "method": "animate"
           },
           {
            "args": [
             [
              "2020-06-24"
             ],
             {
              "frame": {
               "duration": 0,
               "redraw": true
              },
              "fromcurrent": true,
              "mode": "immediate",
              "transition": {
               "duration": 0,
               "easing": "linear"
              }
             }
            ],
            "label": "2020-06-24",
            "method": "animate"
           },
           {
            "args": [
             [
              "2020-06-25"
             ],
             {
              "frame": {
               "duration": 0,
               "redraw": true
              },
              "fromcurrent": true,
              "mode": "immediate",
              "transition": {
               "duration": 0,
               "easing": "linear"
              }
             }
            ],
            "label": "2020-06-25",
            "method": "animate"
           },
           {
            "args": [
             [
              "2020-06-26"
             ],
             {
              "frame": {
               "duration": 0,
               "redraw": true
              },
              "fromcurrent": true,
              "mode": "immediate",
              "transition": {
               "duration": 0,
               "easing": "linear"
              }
             }
            ],
            "label": "2020-06-26",
            "method": "animate"
           },
           {
            "args": [
             [
              "2020-06-27"
             ],
             {
              "frame": {
               "duration": 0,
               "redraw": true
              },
              "fromcurrent": true,
              "mode": "immediate",
              "transition": {
               "duration": 0,
               "easing": "linear"
              }
             }
            ],
            "label": "2020-06-27",
            "method": "animate"
           },
           {
            "args": [
             [
              "2020-06-28"
             ],
             {
              "frame": {
               "duration": 0,
               "redraw": true
              },
              "fromcurrent": true,
              "mode": "immediate",
              "transition": {
               "duration": 0,
               "easing": "linear"
              }
             }
            ],
            "label": "2020-06-28",
            "method": "animate"
           },
           {
            "args": [
             [
              "2020-06-29"
             ],
             {
              "frame": {
               "duration": 0,
               "redraw": true
              },
              "fromcurrent": true,
              "mode": "immediate",
              "transition": {
               "duration": 0,
               "easing": "linear"
              }
             }
            ],
            "label": "2020-06-29",
            "method": "animate"
           },
           {
            "args": [
             [
              "2020-06-30"
             ],
             {
              "frame": {
               "duration": 0,
               "redraw": true
              },
              "fromcurrent": true,
              "mode": "immediate",
              "transition": {
               "duration": 0,
               "easing": "linear"
              }
             }
            ],
            "label": "2020-06-30",
            "method": "animate"
           },
           {
            "args": [
             [
              "2020-07-01"
             ],
             {
              "frame": {
               "duration": 0,
               "redraw": true
              },
              "fromcurrent": true,
              "mode": "immediate",
              "transition": {
               "duration": 0,
               "easing": "linear"
              }
             }
            ],
            "label": "2020-07-01",
            "method": "animate"
           },
           {
            "args": [
             [
              "2020-07-02"
             ],
             {
              "frame": {
               "duration": 0,
               "redraw": true
              },
              "fromcurrent": true,
              "mode": "immediate",
              "transition": {
               "duration": 0,
               "easing": "linear"
              }
             }
            ],
            "label": "2020-07-02",
            "method": "animate"
           },
           {
            "args": [
             [
              "2020-07-03"
             ],
             {
              "frame": {
               "duration": 0,
               "redraw": true
              },
              "fromcurrent": true,
              "mode": "immediate",
              "transition": {
               "duration": 0,
               "easing": "linear"
              }
             }
            ],
            "label": "2020-07-03",
            "method": "animate"
           },
           {
            "args": [
             [
              "2020-07-04"
             ],
             {
              "frame": {
               "duration": 0,
               "redraw": true
              },
              "fromcurrent": true,
              "mode": "immediate",
              "transition": {
               "duration": 0,
               "easing": "linear"
              }
             }
            ],
            "label": "2020-07-04",
            "method": "animate"
           },
           {
            "args": [
             [
              "2020-07-05"
             ],
             {
              "frame": {
               "duration": 0,
               "redraw": true
              },
              "fromcurrent": true,
              "mode": "immediate",
              "transition": {
               "duration": 0,
               "easing": "linear"
              }
             }
            ],
            "label": "2020-07-05",
            "method": "animate"
           },
           {
            "args": [
             [
              "2020-07-06"
             ],
             {
              "frame": {
               "duration": 0,
               "redraw": true
              },
              "fromcurrent": true,
              "mode": "immediate",
              "transition": {
               "duration": 0,
               "easing": "linear"
              }
             }
            ],
            "label": "2020-07-06",
            "method": "animate"
           },
           {
            "args": [
             [
              "2020-07-07"
             ],
             {
              "frame": {
               "duration": 0,
               "redraw": true
              },
              "fromcurrent": true,
              "mode": "immediate",
              "transition": {
               "duration": 0,
               "easing": "linear"
              }
             }
            ],
            "label": "2020-07-07",
            "method": "animate"
           },
           {
            "args": [
             [
              "2020-07-08"
             ],
             {
              "frame": {
               "duration": 0,
               "redraw": true
              },
              "fromcurrent": true,
              "mode": "immediate",
              "transition": {
               "duration": 0,
               "easing": "linear"
              }
             }
            ],
            "label": "2020-07-08",
            "method": "animate"
           },
           {
            "args": [
             [
              "2020-07-09"
             ],
             {
              "frame": {
               "duration": 0,
               "redraw": true
              },
              "fromcurrent": true,
              "mode": "immediate",
              "transition": {
               "duration": 0,
               "easing": "linear"
              }
             }
            ],
            "label": "2020-07-09",
            "method": "animate"
           },
           {
            "args": [
             [
              "2020-07-10"
             ],
             {
              "frame": {
               "duration": 0,
               "redraw": true
              },
              "fromcurrent": true,
              "mode": "immediate",
              "transition": {
               "duration": 0,
               "easing": "linear"
              }
             }
            ],
            "label": "2020-07-10",
            "method": "animate"
           },
           {
            "args": [
             [
              "2020-07-11"
             ],
             {
              "frame": {
               "duration": 0,
               "redraw": true
              },
              "fromcurrent": true,
              "mode": "immediate",
              "transition": {
               "duration": 0,
               "easing": "linear"
              }
             }
            ],
            "label": "2020-07-11",
            "method": "animate"
           },
           {
            "args": [
             [
              "2020-07-12"
             ],
             {
              "frame": {
               "duration": 0,
               "redraw": true
              },
              "fromcurrent": true,
              "mode": "immediate",
              "transition": {
               "duration": 0,
               "easing": "linear"
              }
             }
            ],
            "label": "2020-07-12",
            "method": "animate"
           },
           {
            "args": [
             [
              "2020-07-13"
             ],
             {
              "frame": {
               "duration": 0,
               "redraw": true
              },
              "fromcurrent": true,
              "mode": "immediate",
              "transition": {
               "duration": 0,
               "easing": "linear"
              }
             }
            ],
            "label": "2020-07-13",
            "method": "animate"
           },
           {
            "args": [
             [
              "2020-07-14"
             ],
             {
              "frame": {
               "duration": 0,
               "redraw": true
              },
              "fromcurrent": true,
              "mode": "immediate",
              "transition": {
               "duration": 0,
               "easing": "linear"
              }
             }
            ],
            "label": "2020-07-14",
            "method": "animate"
           },
           {
            "args": [
             [
              "2020-07-15"
             ],
             {
              "frame": {
               "duration": 0,
               "redraw": true
              },
              "fromcurrent": true,
              "mode": "immediate",
              "transition": {
               "duration": 0,
               "easing": "linear"
              }
             }
            ],
            "label": "2020-07-15",
            "method": "animate"
           },
           {
            "args": [
             [
              "2020-07-16"
             ],
             {
              "frame": {
               "duration": 0,
               "redraw": true
              },
              "fromcurrent": true,
              "mode": "immediate",
              "transition": {
               "duration": 0,
               "easing": "linear"
              }
             }
            ],
            "label": "2020-07-16",
            "method": "animate"
           },
           {
            "args": [
             [
              "2020-07-17"
             ],
             {
              "frame": {
               "duration": 0,
               "redraw": true
              },
              "fromcurrent": true,
              "mode": "immediate",
              "transition": {
               "duration": 0,
               "easing": "linear"
              }
             }
            ],
            "label": "2020-07-17",
            "method": "animate"
           },
           {
            "args": [
             [
              "2020-07-18"
             ],
             {
              "frame": {
               "duration": 0,
               "redraw": true
              },
              "fromcurrent": true,
              "mode": "immediate",
              "transition": {
               "duration": 0,
               "easing": "linear"
              }
             }
            ],
            "label": "2020-07-18",
            "method": "animate"
           },
           {
            "args": [
             [
              "2020-07-19"
             ],
             {
              "frame": {
               "duration": 0,
               "redraw": true
              },
              "fromcurrent": true,
              "mode": "immediate",
              "transition": {
               "duration": 0,
               "easing": "linear"
              }
             }
            ],
            "label": "2020-07-19",
            "method": "animate"
           },
           {
            "args": [
             [
              "2020-07-20"
             ],
             {
              "frame": {
               "duration": 0,
               "redraw": true
              },
              "fromcurrent": true,
              "mode": "immediate",
              "transition": {
               "duration": 0,
               "easing": "linear"
              }
             }
            ],
            "label": "2020-07-20",
            "method": "animate"
           },
           {
            "args": [
             [
              "2020-07-21"
             ],
             {
              "frame": {
               "duration": 0,
               "redraw": true
              },
              "fromcurrent": true,
              "mode": "immediate",
              "transition": {
               "duration": 0,
               "easing": "linear"
              }
             }
            ],
            "label": "2020-07-21",
            "method": "animate"
           },
           {
            "args": [
             [
              "2020-07-22"
             ],
             {
              "frame": {
               "duration": 0,
               "redraw": true
              },
              "fromcurrent": true,
              "mode": "immediate",
              "transition": {
               "duration": 0,
               "easing": "linear"
              }
             }
            ],
            "label": "2020-07-22",
            "method": "animate"
           },
           {
            "args": [
             [
              "2020-07-23"
             ],
             {
              "frame": {
               "duration": 0,
               "redraw": true
              },
              "fromcurrent": true,
              "mode": "immediate",
              "transition": {
               "duration": 0,
               "easing": "linear"
              }
             }
            ],
            "label": "2020-07-23",
            "method": "animate"
           },
           {
            "args": [
             [
              "2020-07-24"
             ],
             {
              "frame": {
               "duration": 0,
               "redraw": true
              },
              "fromcurrent": true,
              "mode": "immediate",
              "transition": {
               "duration": 0,
               "easing": "linear"
              }
             }
            ],
            "label": "2020-07-24",
            "method": "animate"
           },
           {
            "args": [
             [
              "2020-07-25"
             ],
             {
              "frame": {
               "duration": 0,
               "redraw": true
              },
              "fromcurrent": true,
              "mode": "immediate",
              "transition": {
               "duration": 0,
               "easing": "linear"
              }
             }
            ],
            "label": "2020-07-25",
            "method": "animate"
           },
           {
            "args": [
             [
              "2020-07-26"
             ],
             {
              "frame": {
               "duration": 0,
               "redraw": true
              },
              "fromcurrent": true,
              "mode": "immediate",
              "transition": {
               "duration": 0,
               "easing": "linear"
              }
             }
            ],
            "label": "2020-07-26",
            "method": "animate"
           },
           {
            "args": [
             [
              "2020-07-27"
             ],
             {
              "frame": {
               "duration": 0,
               "redraw": true
              },
              "fromcurrent": true,
              "mode": "immediate",
              "transition": {
               "duration": 0,
               "easing": "linear"
              }
             }
            ],
            "label": "2020-07-27",
            "method": "animate"
           },
           {
            "args": [
             [
              "2020-07-28"
             ],
             {
              "frame": {
               "duration": 0,
               "redraw": true
              },
              "fromcurrent": true,
              "mode": "immediate",
              "transition": {
               "duration": 0,
               "easing": "linear"
              }
             }
            ],
            "label": "2020-07-28",
            "method": "animate"
           },
           {
            "args": [
             [
              "2020-07-29"
             ],
             {
              "frame": {
               "duration": 0,
               "redraw": true
              },
              "fromcurrent": true,
              "mode": "immediate",
              "transition": {
               "duration": 0,
               "easing": "linear"
              }
             }
            ],
            "label": "2020-07-29",
            "method": "animate"
           },
           {
            "args": [
             [
              "2020-07-30"
             ],
             {
              "frame": {
               "duration": 0,
               "redraw": true
              },
              "fromcurrent": true,
              "mode": "immediate",
              "transition": {
               "duration": 0,
               "easing": "linear"
              }
             }
            ],
            "label": "2020-07-30",
            "method": "animate"
           },
           {
            "args": [
             [
              "2020-07-31"
             ],
             {
              "frame": {
               "duration": 0,
               "redraw": true
              },
              "fromcurrent": true,
              "mode": "immediate",
              "transition": {
               "duration": 0,
               "easing": "linear"
              }
             }
            ],
            "label": "2020-07-31",
            "method": "animate"
           },
           {
            "args": [
             [
              "2020-08-01"
             ],
             {
              "frame": {
               "duration": 0,
               "redraw": true
              },
              "fromcurrent": true,
              "mode": "immediate",
              "transition": {
               "duration": 0,
               "easing": "linear"
              }
             }
            ],
            "label": "2020-08-01",
            "method": "animate"
           },
           {
            "args": [
             [
              "2020-08-02"
             ],
             {
              "frame": {
               "duration": 0,
               "redraw": true
              },
              "fromcurrent": true,
              "mode": "immediate",
              "transition": {
               "duration": 0,
               "easing": "linear"
              }
             }
            ],
            "label": "2020-08-02",
            "method": "animate"
           },
           {
            "args": [
             [
              "2020-08-03"
             ],
             {
              "frame": {
               "duration": 0,
               "redraw": true
              },
              "fromcurrent": true,
              "mode": "immediate",
              "transition": {
               "duration": 0,
               "easing": "linear"
              }
             }
            ],
            "label": "2020-08-03",
            "method": "animate"
           },
           {
            "args": [
             [
              "2020-08-04"
             ],
             {
              "frame": {
               "duration": 0,
               "redraw": true
              },
              "fromcurrent": true,
              "mode": "immediate",
              "transition": {
               "duration": 0,
               "easing": "linear"
              }
             }
            ],
            "label": "2020-08-04",
            "method": "animate"
           },
           {
            "args": [
             [
              "2020-08-05"
             ],
             {
              "frame": {
               "duration": 0,
               "redraw": true
              },
              "fromcurrent": true,
              "mode": "immediate",
              "transition": {
               "duration": 0,
               "easing": "linear"
              }
             }
            ],
            "label": "2020-08-05",
            "method": "animate"
           },
           {
            "args": [
             [
              "2020-08-06"
             ],
             {
              "frame": {
               "duration": 0,
               "redraw": true
              },
              "fromcurrent": true,
              "mode": "immediate",
              "transition": {
               "duration": 0,
               "easing": "linear"
              }
             }
            ],
            "label": "2020-08-06",
            "method": "animate"
           },
           {
            "args": [
             [
              "2020-08-07"
             ],
             {
              "frame": {
               "duration": 0,
               "redraw": true
              },
              "fromcurrent": true,
              "mode": "immediate",
              "transition": {
               "duration": 0,
               "easing": "linear"
              }
             }
            ],
            "label": "2020-08-07",
            "method": "animate"
           },
           {
            "args": [
             [
              "2020-08-08"
             ],
             {
              "frame": {
               "duration": 0,
               "redraw": true
              },
              "fromcurrent": true,
              "mode": "immediate",
              "transition": {
               "duration": 0,
               "easing": "linear"
              }
             }
            ],
            "label": "2020-08-08",
            "method": "animate"
           },
           {
            "args": [
             [
              "2020-08-09"
             ],
             {
              "frame": {
               "duration": 0,
               "redraw": true
              },
              "fromcurrent": true,
              "mode": "immediate",
              "transition": {
               "duration": 0,
               "easing": "linear"
              }
             }
            ],
            "label": "2020-08-09",
            "method": "animate"
           },
           {
            "args": [
             [
              "2020-08-10"
             ],
             {
              "frame": {
               "duration": 0,
               "redraw": true
              },
              "fromcurrent": true,
              "mode": "immediate",
              "transition": {
               "duration": 0,
               "easing": "linear"
              }
             }
            ],
            "label": "2020-08-10",
            "method": "animate"
           },
           {
            "args": [
             [
              "2020-08-11"
             ],
             {
              "frame": {
               "duration": 0,
               "redraw": true
              },
              "fromcurrent": true,
              "mode": "immediate",
              "transition": {
               "duration": 0,
               "easing": "linear"
              }
             }
            ],
            "label": "2020-08-11",
            "method": "animate"
           },
           {
            "args": [
             [
              "2020-08-12"
             ],
             {
              "frame": {
               "duration": 0,
               "redraw": true
              },
              "fromcurrent": true,
              "mode": "immediate",
              "transition": {
               "duration": 0,
               "easing": "linear"
              }
             }
            ],
            "label": "2020-08-12",
            "method": "animate"
           },
           {
            "args": [
             [
              "2020-08-13"
             ],
             {
              "frame": {
               "duration": 0,
               "redraw": true
              },
              "fromcurrent": true,
              "mode": "immediate",
              "transition": {
               "duration": 0,
               "easing": "linear"
              }
             }
            ],
            "label": "2020-08-13",
            "method": "animate"
           },
           {
            "args": [
             [
              "2020-08-14"
             ],
             {
              "frame": {
               "duration": 0,
               "redraw": true
              },
              "fromcurrent": true,
              "mode": "immediate",
              "transition": {
               "duration": 0,
               "easing": "linear"
              }
             }
            ],
            "label": "2020-08-14",
            "method": "animate"
           },
           {
            "args": [
             [
              "2020-08-15"
             ],
             {
              "frame": {
               "duration": 0,
               "redraw": true
              },
              "fromcurrent": true,
              "mode": "immediate",
              "transition": {
               "duration": 0,
               "easing": "linear"
              }
             }
            ],
            "label": "2020-08-15",
            "method": "animate"
           },
           {
            "args": [
             [
              "2020-08-16"
             ],
             {
              "frame": {
               "duration": 0,
               "redraw": true
              },
              "fromcurrent": true,
              "mode": "immediate",
              "transition": {
               "duration": 0,
               "easing": "linear"
              }
             }
            ],
            "label": "2020-08-16",
            "method": "animate"
           },
           {
            "args": [
             [
              "2020-08-17"
             ],
             {
              "frame": {
               "duration": 0,
               "redraw": true
              },
              "fromcurrent": true,
              "mode": "immediate",
              "transition": {
               "duration": 0,
               "easing": "linear"
              }
             }
            ],
            "label": "2020-08-17",
            "method": "animate"
           },
           {
            "args": [
             [
              "2020-08-18"
             ],
             {
              "frame": {
               "duration": 0,
               "redraw": true
              },
              "fromcurrent": true,
              "mode": "immediate",
              "transition": {
               "duration": 0,
               "easing": "linear"
              }
             }
            ],
            "label": "2020-08-18",
            "method": "animate"
           },
           {
            "args": [
             [
              "2020-08-19"
             ],
             {
              "frame": {
               "duration": 0,
               "redraw": true
              },
              "fromcurrent": true,
              "mode": "immediate",
              "transition": {
               "duration": 0,
               "easing": "linear"
              }
             }
            ],
            "label": "2020-08-19",
            "method": "animate"
           },
           {
            "args": [
             [
              "2020-08-20"
             ],
             {
              "frame": {
               "duration": 0,
               "redraw": true
              },
              "fromcurrent": true,
              "mode": "immediate",
              "transition": {
               "duration": 0,
               "easing": "linear"
              }
             }
            ],
            "label": "2020-08-20",
            "method": "animate"
           },
           {
            "args": [
             [
              "2020-08-21"
             ],
             {
              "frame": {
               "duration": 0,
               "redraw": true
              },
              "fromcurrent": true,
              "mode": "immediate",
              "transition": {
               "duration": 0,
               "easing": "linear"
              }
             }
            ],
            "label": "2020-08-21",
            "method": "animate"
           },
           {
            "args": [
             [
              "2020-08-22"
             ],
             {
              "frame": {
               "duration": 0,
               "redraw": true
              },
              "fromcurrent": true,
              "mode": "immediate",
              "transition": {
               "duration": 0,
               "easing": "linear"
              }
             }
            ],
            "label": "2020-08-22",
            "method": "animate"
           },
           {
            "args": [
             [
              "2020-08-23"
             ],
             {
              "frame": {
               "duration": 0,
               "redraw": true
              },
              "fromcurrent": true,
              "mode": "immediate",
              "transition": {
               "duration": 0,
               "easing": "linear"
              }
             }
            ],
            "label": "2020-08-23",
            "method": "animate"
           },
           {
            "args": [
             [
              "2020-08-24"
             ],
             {
              "frame": {
               "duration": 0,
               "redraw": true
              },
              "fromcurrent": true,
              "mode": "immediate",
              "transition": {
               "duration": 0,
               "easing": "linear"
              }
             }
            ],
            "label": "2020-08-24",
            "method": "animate"
           },
           {
            "args": [
             [
              "2020-08-25"
             ],
             {
              "frame": {
               "duration": 0,
               "redraw": true
              },
              "fromcurrent": true,
              "mode": "immediate",
              "transition": {
               "duration": 0,
               "easing": "linear"
              }
             }
            ],
            "label": "2020-08-25",
            "method": "animate"
           },
           {
            "args": [
             [
              "2020-08-26"
             ],
             {
              "frame": {
               "duration": 0,
               "redraw": true
              },
              "fromcurrent": true,
              "mode": "immediate",
              "transition": {
               "duration": 0,
               "easing": "linear"
              }
             }
            ],
            "label": "2020-08-26",
            "method": "animate"
           },
           {
            "args": [
             [
              "2020-08-27"
             ],
             {
              "frame": {
               "duration": 0,
               "redraw": true
              },
              "fromcurrent": true,
              "mode": "immediate",
              "transition": {
               "duration": 0,
               "easing": "linear"
              }
             }
            ],
            "label": "2020-08-27",
            "method": "animate"
           },
           {
            "args": [
             [
              "2020-08-28"
             ],
             {
              "frame": {
               "duration": 0,
               "redraw": true
              },
              "fromcurrent": true,
              "mode": "immediate",
              "transition": {
               "duration": 0,
               "easing": "linear"
              }
             }
            ],
            "label": "2020-08-28",
            "method": "animate"
           },
           {
            "args": [
             [
              "2020-08-29"
             ],
             {
              "frame": {
               "duration": 0,
               "redraw": true
              },
              "fromcurrent": true,
              "mode": "immediate",
              "transition": {
               "duration": 0,
               "easing": "linear"
              }
             }
            ],
            "label": "2020-08-29",
            "method": "animate"
           },
           {
            "args": [
             [
              "2020-08-30"
             ],
             {
              "frame": {
               "duration": 0,
               "redraw": true
              },
              "fromcurrent": true,
              "mode": "immediate",
              "transition": {
               "duration": 0,
               "easing": "linear"
              }
             }
            ],
            "label": "2020-08-30",
            "method": "animate"
           },
           {
            "args": [
             [
              "2020-08-31"
             ],
             {
              "frame": {
               "duration": 0,
               "redraw": true
              },
              "fromcurrent": true,
              "mode": "immediate",
              "transition": {
               "duration": 0,
               "easing": "linear"
              }
             }
            ],
            "label": "2020-08-31",
            "method": "animate"
           },
           {
            "args": [
             [
              "2020-09-01"
             ],
             {
              "frame": {
               "duration": 0,
               "redraw": true
              },
              "fromcurrent": true,
              "mode": "immediate",
              "transition": {
               "duration": 0,
               "easing": "linear"
              }
             }
            ],
            "label": "2020-09-01",
            "method": "animate"
           },
           {
            "args": [
             [
              "2020-09-02"
             ],
             {
              "frame": {
               "duration": 0,
               "redraw": true
              },
              "fromcurrent": true,
              "mode": "immediate",
              "transition": {
               "duration": 0,
               "easing": "linear"
              }
             }
            ],
            "label": "2020-09-02",
            "method": "animate"
           },
           {
            "args": [
             [
              "2020-09-03"
             ],
             {
              "frame": {
               "duration": 0,
               "redraw": true
              },
              "fromcurrent": true,
              "mode": "immediate",
              "transition": {
               "duration": 0,
               "easing": "linear"
              }
             }
            ],
            "label": "2020-09-03",
            "method": "animate"
           },
           {
            "args": [
             [
              "2020-09-04"
             ],
             {
              "frame": {
               "duration": 0,
               "redraw": true
              },
              "fromcurrent": true,
              "mode": "immediate",
              "transition": {
               "duration": 0,
               "easing": "linear"
              }
             }
            ],
            "label": "2020-09-04",
            "method": "animate"
           },
           {
            "args": [
             [
              "2020-09-05"
             ],
             {
              "frame": {
               "duration": 0,
               "redraw": true
              },
              "fromcurrent": true,
              "mode": "immediate",
              "transition": {
               "duration": 0,
               "easing": "linear"
              }
             }
            ],
            "label": "2020-09-05",
            "method": "animate"
           },
           {
            "args": [
             [
              "2020-09-06"
             ],
             {
              "frame": {
               "duration": 0,
               "redraw": true
              },
              "fromcurrent": true,
              "mode": "immediate",
              "transition": {
               "duration": 0,
               "easing": "linear"
              }
             }
            ],
            "label": "2020-09-06",
            "method": "animate"
           },
           {
            "args": [
             [
              "2020-09-07"
             ],
             {
              "frame": {
               "duration": 0,
               "redraw": true
              },
              "fromcurrent": true,
              "mode": "immediate",
              "transition": {
               "duration": 0,
               "easing": "linear"
              }
             }
            ],
            "label": "2020-09-07",
            "method": "animate"
           },
           {
            "args": [
             [
              "2020-09-08"
             ],
             {
              "frame": {
               "duration": 0,
               "redraw": true
              },
              "fromcurrent": true,
              "mode": "immediate",
              "transition": {
               "duration": 0,
               "easing": "linear"
              }
             }
            ],
            "label": "2020-09-08",
            "method": "animate"
           },
           {
            "args": [
             [
              "2020-09-09"
             ],
             {
              "frame": {
               "duration": 0,
               "redraw": true
              },
              "fromcurrent": true,
              "mode": "immediate",
              "transition": {
               "duration": 0,
               "easing": "linear"
              }
             }
            ],
            "label": "2020-09-09",
            "method": "animate"
           },
           {
            "args": [
             [
              "2020-09-10"
             ],
             {
              "frame": {
               "duration": 0,
               "redraw": true
              },
              "fromcurrent": true,
              "mode": "immediate",
              "transition": {
               "duration": 0,
               "easing": "linear"
              }
             }
            ],
            "label": "2020-09-10",
            "method": "animate"
           },
           {
            "args": [
             [
              "2020-09-11"
             ],
             {
              "frame": {
               "duration": 0,
               "redraw": true
              },
              "fromcurrent": true,
              "mode": "immediate",
              "transition": {
               "duration": 0,
               "easing": "linear"
              }
             }
            ],
            "label": "2020-09-11",
            "method": "animate"
           },
           {
            "args": [
             [
              "2020-09-12"
             ],
             {
              "frame": {
               "duration": 0,
               "redraw": true
              },
              "fromcurrent": true,
              "mode": "immediate",
              "transition": {
               "duration": 0,
               "easing": "linear"
              }
             }
            ],
            "label": "2020-09-12",
            "method": "animate"
           },
           {
            "args": [
             [
              "2020-09-13"
             ],
             {
              "frame": {
               "duration": 0,
               "redraw": true
              },
              "fromcurrent": true,
              "mode": "immediate",
              "transition": {
               "duration": 0,
               "easing": "linear"
              }
             }
            ],
            "label": "2020-09-13",
            "method": "animate"
           },
           {
            "args": [
             [
              "2020-09-14"
             ],
             {
              "frame": {
               "duration": 0,
               "redraw": true
              },
              "fromcurrent": true,
              "mode": "immediate",
              "transition": {
               "duration": 0,
               "easing": "linear"
              }
             }
            ],
            "label": "2020-09-14",
            "method": "animate"
           },
           {
            "args": [
             [
              "2020-09-15"
             ],
             {
              "frame": {
               "duration": 0,
               "redraw": true
              },
              "fromcurrent": true,
              "mode": "immediate",
              "transition": {
               "duration": 0,
               "easing": "linear"
              }
             }
            ],
            "label": "2020-09-15",
            "method": "animate"
           },
           {
            "args": [
             [
              "2020-09-16"
             ],
             {
              "frame": {
               "duration": 0,
               "redraw": true
              },
              "fromcurrent": true,
              "mode": "immediate",
              "transition": {
               "duration": 0,
               "easing": "linear"
              }
             }
            ],
            "label": "2020-09-16",
            "method": "animate"
           },
           {
            "args": [
             [
              "2020-09-17"
             ],
             {
              "frame": {
               "duration": 0,
               "redraw": true
              },
              "fromcurrent": true,
              "mode": "immediate",
              "transition": {
               "duration": 0,
               "easing": "linear"
              }
             }
            ],
            "label": "2020-09-17",
            "method": "animate"
           },
           {
            "args": [
             [
              "2020-09-18"
             ],
             {
              "frame": {
               "duration": 0,
               "redraw": true
              },
              "fromcurrent": true,
              "mode": "immediate",
              "transition": {
               "duration": 0,
               "easing": "linear"
              }
             }
            ],
            "label": "2020-09-18",
            "method": "animate"
           },
           {
            "args": [
             [
              "2020-09-19"
             ],
             {
              "frame": {
               "duration": 0,
               "redraw": true
              },
              "fromcurrent": true,
              "mode": "immediate",
              "transition": {
               "duration": 0,
               "easing": "linear"
              }
             }
            ],
            "label": "2020-09-19",
            "method": "animate"
           },
           {
            "args": [
             [
              "2020-09-20"
             ],
             {
              "frame": {
               "duration": 0,
               "redraw": true
              },
              "fromcurrent": true,
              "mode": "immediate",
              "transition": {
               "duration": 0,
               "easing": "linear"
              }
             }
            ],
            "label": "2020-09-20",
            "method": "animate"
           },
           {
            "args": [
             [
              "2020-09-21"
             ],
             {
              "frame": {
               "duration": 0,
               "redraw": true
              },
              "fromcurrent": true,
              "mode": "immediate",
              "transition": {
               "duration": 0,
               "easing": "linear"
              }
             }
            ],
            "label": "2020-09-21",
            "method": "animate"
           },
           {
            "args": [
             [
              "2020-09-22"
             ],
             {
              "frame": {
               "duration": 0,
               "redraw": true
              },
              "fromcurrent": true,
              "mode": "immediate",
              "transition": {
               "duration": 0,
               "easing": "linear"
              }
             }
            ],
            "label": "2020-09-22",
            "method": "animate"
           },
           {
            "args": [
             [
              "2020-09-23"
             ],
             {
              "frame": {
               "duration": 0,
               "redraw": true
              },
              "fromcurrent": true,
              "mode": "immediate",
              "transition": {
               "duration": 0,
               "easing": "linear"
              }
             }
            ],
            "label": "2020-09-23",
            "method": "animate"
           },
           {
            "args": [
             [
              "2020-09-24"
             ],
             {
              "frame": {
               "duration": 0,
               "redraw": true
              },
              "fromcurrent": true,
              "mode": "immediate",
              "transition": {
               "duration": 0,
               "easing": "linear"
              }
             }
            ],
            "label": "2020-09-24",
            "method": "animate"
           },
           {
            "args": [
             [
              "2020-09-25"
             ],
             {
              "frame": {
               "duration": 0,
               "redraw": true
              },
              "fromcurrent": true,
              "mode": "immediate",
              "transition": {
               "duration": 0,
               "easing": "linear"
              }
             }
            ],
            "label": "2020-09-25",
            "method": "animate"
           },
           {
            "args": [
             [
              "2020-09-26"
             ],
             {
              "frame": {
               "duration": 0,
               "redraw": true
              },
              "fromcurrent": true,
              "mode": "immediate",
              "transition": {
               "duration": 0,
               "easing": "linear"
              }
             }
            ],
            "label": "2020-09-26",
            "method": "animate"
           },
           {
            "args": [
             [
              "2020-09-27"
             ],
             {
              "frame": {
               "duration": 0,
               "redraw": true
              },
              "fromcurrent": true,
              "mode": "immediate",
              "transition": {
               "duration": 0,
               "easing": "linear"
              }
             }
            ],
            "label": "2020-09-27",
            "method": "animate"
           },
           {
            "args": [
             [
              "2020-09-28"
             ],
             {
              "frame": {
               "duration": 0,
               "redraw": true
              },
              "fromcurrent": true,
              "mode": "immediate",
              "transition": {
               "duration": 0,
               "easing": "linear"
              }
             }
            ],
            "label": "2020-09-28",
            "method": "animate"
           },
           {
            "args": [
             [
              "2020-09-29"
             ],
             {
              "frame": {
               "duration": 0,
               "redraw": true
              },
              "fromcurrent": true,
              "mode": "immediate",
              "transition": {
               "duration": 0,
               "easing": "linear"
              }
             }
            ],
            "label": "2020-09-29",
            "method": "animate"
           },
           {
            "args": [
             [
              "2020-09-30"
             ],
             {
              "frame": {
               "duration": 0,
               "redraw": true
              },
              "fromcurrent": true,
              "mode": "immediate",
              "transition": {
               "duration": 0,
               "easing": "linear"
              }
             }
            ],
            "label": "2020-09-30",
            "method": "animate"
           },
           {
            "args": [
             [
              "2020-10-01"
             ],
             {
              "frame": {
               "duration": 0,
               "redraw": true
              },
              "fromcurrent": true,
              "mode": "immediate",
              "transition": {
               "duration": 0,
               "easing": "linear"
              }
             }
            ],
            "label": "2020-10-01",
            "method": "animate"
           },
           {
            "args": [
             [
              "2020-03-26"
             ],
             {
              "frame": {
               "duration": 0,
               "redraw": true
              },
              "fromcurrent": true,
              "mode": "immediate",
              "transition": {
               "duration": 0,
               "easing": "linear"
              }
             }
            ],
            "label": "2020-03-26",
            "method": "animate"
           },
           {
            "args": [
             [
              "2020-03-27"
             ],
             {
              "frame": {
               "duration": 0,
               "redraw": true
              },
              "fromcurrent": true,
              "mode": "immediate",
              "transition": {
               "duration": 0,
               "easing": "linear"
              }
             }
            ],
            "label": "2020-03-27",
            "method": "animate"
           },
           {
            "args": [
             [
              "2020-03-28"
             ],
             {
              "frame": {
               "duration": 0,
               "redraw": true
              },
              "fromcurrent": true,
              "mode": "immediate",
              "transition": {
               "duration": 0,
               "easing": "linear"
              }
             }
            ],
            "label": "2020-03-28",
            "method": "animate"
           },
           {
            "args": [
             [
              "2020-03-29"
             ],
             {
              "frame": {
               "duration": 0,
               "redraw": true
              },
              "fromcurrent": true,
              "mode": "immediate",
              "transition": {
               "duration": 0,
               "easing": "linear"
              }
             }
            ],
            "label": "2020-03-29",
            "method": "animate"
           },
           {
            "args": [
             [
              "2020-03-30"
             ],
             {
              "frame": {
               "duration": 0,
               "redraw": true
              },
              "fromcurrent": true,
              "mode": "immediate",
              "transition": {
               "duration": 0,
               "easing": "linear"
              }
             }
            ],
            "label": "2020-03-30",
            "method": "animate"
           },
           {
            "args": [
             [
              "2020-03-24"
             ],
             {
              "frame": {
               "duration": 0,
               "redraw": true
              },
              "fromcurrent": true,
              "mode": "immediate",
              "transition": {
               "duration": 0,
               "easing": "linear"
              }
             }
            ],
            "label": "2020-03-24",
            "method": "animate"
           },
           {
            "args": [
             [
              "2020-03-25"
             ],
             {
              "frame": {
               "duration": 0,
               "redraw": true
              },
              "fromcurrent": true,
              "mode": "immediate",
              "transition": {
               "duration": 0,
               "easing": "linear"
              }
             }
            ],
            "label": "2020-03-25",
            "method": "animate"
           },
           {
            "args": [
             [
              "2020-03-07"
             ],
             {
              "frame": {
               "duration": 0,
               "redraw": true
              },
              "fromcurrent": true,
              "mode": "immediate",
              "transition": {
               "duration": 0,
               "easing": "linear"
              }
             }
            ],
            "label": "2020-03-07",
            "method": "animate"
           },
           {
            "args": [
             [
              "2020-03-08"
             ],
             {
              "frame": {
               "duration": 0,
               "redraw": true
              },
              "fromcurrent": true,
              "mode": "immediate",
              "transition": {
               "duration": 0,
               "easing": "linear"
              }
             }
            ],
            "label": "2020-03-08",
            "method": "animate"
           },
           {
            "args": [
             [
              "2020-03-09"
             ],
             {
              "frame": {
               "duration": 0,
               "redraw": true
              },
              "fromcurrent": true,
              "mode": "immediate",
              "transition": {
               "duration": 0,
               "easing": "linear"
              }
             }
            ],
            "label": "2020-03-09",
            "method": "animate"
           },
           {
            "args": [
             [
              "2020-03-10"
             ],
             {
              "frame": {
               "duration": 0,
               "redraw": true
              },
              "fromcurrent": true,
              "mode": "immediate",
              "transition": {
               "duration": 0,
               "easing": "linear"
              }
             }
            ],
            "label": "2020-03-10",
            "method": "animate"
           },
           {
            "args": [
             [
              "2020-03-11"
             ],
             {
              "frame": {
               "duration": 0,
               "redraw": true
              },
              "fromcurrent": true,
              "mode": "immediate",
              "transition": {
               "duration": 0,
               "easing": "linear"
              }
             }
            ],
            "label": "2020-03-11",
            "method": "animate"
           },
           {
            "args": [
             [
              "2020-03-12"
             ],
             {
              "frame": {
               "duration": 0,
               "redraw": true
              },
              "fromcurrent": true,
              "mode": "immediate",
              "transition": {
               "duration": 0,
               "easing": "linear"
              }
             }
            ],
            "label": "2020-03-12",
            "method": "animate"
           },
           {
            "args": [
             [
              "2020-03-13"
             ],
             {
              "frame": {
               "duration": 0,
               "redraw": true
              },
              "fromcurrent": true,
              "mode": "immediate",
              "transition": {
               "duration": 0,
               "easing": "linear"
              }
             }
            ],
            "label": "2020-03-13",
            "method": "animate"
           },
           {
            "args": [
             [
              "2020-03-14"
             ],
             {
              "frame": {
               "duration": 0,
               "redraw": true
              },
              "fromcurrent": true,
              "mode": "immediate",
              "transition": {
               "duration": 0,
               "easing": "linear"
              }
             }
            ],
            "label": "2020-03-14",
            "method": "animate"
           },
           {
            "args": [
             [
              "2020-03-15"
             ],
             {
              "frame": {
               "duration": 0,
               "redraw": true
              },
              "fromcurrent": true,
              "mode": "immediate",
              "transition": {
               "duration": 0,
               "easing": "linear"
              }
             }
            ],
            "label": "2020-03-15",
            "method": "animate"
           },
           {
            "args": [
             [
              "2020-03-16"
             ],
             {
              "frame": {
               "duration": 0,
               "redraw": true
              },
              "fromcurrent": true,
              "mode": "immediate",
              "transition": {
               "duration": 0,
               "easing": "linear"
              }
             }
            ],
            "label": "2020-03-16",
            "method": "animate"
           },
           {
            "args": [
             [
              "2020-03-17"
             ],
             {
              "frame": {
               "duration": 0,
               "redraw": true
              },
              "fromcurrent": true,
              "mode": "immediate",
              "transition": {
               "duration": 0,
               "easing": "linear"
              }
             }
            ],
            "label": "2020-03-17",
            "method": "animate"
           },
           {
            "args": [
             [
              "2020-03-18"
             ],
             {
              "frame": {
               "duration": 0,
               "redraw": true
              },
              "fromcurrent": true,
              "mode": "immediate",
              "transition": {
               "duration": 0,
               "easing": "linear"
              }
             }
            ],
            "label": "2020-03-18",
            "method": "animate"
           },
           {
            "args": [
             [
              "2020-03-19"
             ],
             {
              "frame": {
               "duration": 0,
               "redraw": true
              },
              "fromcurrent": true,
              "mode": "immediate",
              "transition": {
               "duration": 0,
               "easing": "linear"
              }
             }
            ],
            "label": "2020-03-19",
            "method": "animate"
           },
           {
            "args": [
             [
              "2020-03-20"
             ],
             {
              "frame": {
               "duration": 0,
               "redraw": true
              },
              "fromcurrent": true,
              "mode": "immediate",
              "transition": {
               "duration": 0,
               "easing": "linear"
              }
             }
            ],
            "label": "2020-03-20",
            "method": "animate"
           },
           {
            "args": [
             [
              "2020-03-21"
             ],
             {
              "frame": {
               "duration": 0,
               "redraw": true
              },
              "fromcurrent": true,
              "mode": "immediate",
              "transition": {
               "duration": 0,
               "easing": "linear"
              }
             }
            ],
            "label": "2020-03-21",
            "method": "animate"
           },
           {
            "args": [
             [
              "2020-03-22"
             ],
             {
              "frame": {
               "duration": 0,
               "redraw": true
              },
              "fromcurrent": true,
              "mode": "immediate",
              "transition": {
               "duration": 0,
               "easing": "linear"
              }
             }
            ],
            "label": "2020-03-22",
            "method": "animate"
           },
           {
            "args": [
             [
              "2020-03-23"
             ],
             {
              "frame": {
               "duration": 0,
               "redraw": true
              },
              "fromcurrent": true,
              "mode": "immediate",
              "transition": {
               "duration": 0,
               "easing": "linear"
              }
             }
            ],
            "label": "2020-03-23",
            "method": "animate"
           }
          ],
          "x": 0.1,
          "xanchor": "left",
          "y": 0,
          "yanchor": "top"
         }
        ],
        "template": {
         "data": {
          "bar": [
           {
            "error_x": {
             "color": "#2a3f5f"
            },
            "error_y": {
             "color": "#2a3f5f"
            },
            "marker": {
             "line": {
              "color": "#E5ECF6",
              "width": 0.5
             }
            },
            "type": "bar"
           }
          ],
          "barpolar": [
           {
            "marker": {
             "line": {
              "color": "#E5ECF6",
              "width": 0.5
             }
            },
            "type": "barpolar"
           }
          ],
          "carpet": [
           {
            "aaxis": {
             "endlinecolor": "#2a3f5f",
             "gridcolor": "white",
             "linecolor": "white",
             "minorgridcolor": "white",
             "startlinecolor": "#2a3f5f"
            },
            "baxis": {
             "endlinecolor": "#2a3f5f",
             "gridcolor": "white",
             "linecolor": "white",
             "minorgridcolor": "white",
             "startlinecolor": "#2a3f5f"
            },
            "type": "carpet"
           }
          ],
          "choropleth": [
           {
            "colorbar": {
             "outlinewidth": 0,
             "ticks": ""
            },
            "type": "choropleth"
           }
          ],
          "contour": [
           {
            "colorbar": {
             "outlinewidth": 0,
             "ticks": ""
            },
            "colorscale": [
             [
              0,
              "#0d0887"
             ],
             [
              0.1111111111111111,
              "#46039f"
             ],
             [
              0.2222222222222222,
              "#7201a8"
             ],
             [
              0.3333333333333333,
              "#9c179e"
             ],
             [
              0.4444444444444444,
              "#bd3786"
             ],
             [
              0.5555555555555556,
              "#d8576b"
             ],
             [
              0.6666666666666666,
              "#ed7953"
             ],
             [
              0.7777777777777778,
              "#fb9f3a"
             ],
             [
              0.8888888888888888,
              "#fdca26"
             ],
             [
              1,
              "#f0f921"
             ]
            ],
            "type": "contour"
           }
          ],
          "contourcarpet": [
           {
            "colorbar": {
             "outlinewidth": 0,
             "ticks": ""
            },
            "type": "contourcarpet"
           }
          ],
          "heatmap": [
           {
            "colorbar": {
             "outlinewidth": 0,
             "ticks": ""
            },
            "colorscale": [
             [
              0,
              "#0d0887"
             ],
             [
              0.1111111111111111,
              "#46039f"
             ],
             [
              0.2222222222222222,
              "#7201a8"
             ],
             [
              0.3333333333333333,
              "#9c179e"
             ],
             [
              0.4444444444444444,
              "#bd3786"
             ],
             [
              0.5555555555555556,
              "#d8576b"
             ],
             [
              0.6666666666666666,
              "#ed7953"
             ],
             [
              0.7777777777777778,
              "#fb9f3a"
             ],
             [
              0.8888888888888888,
              "#fdca26"
             ],
             [
              1,
              "#f0f921"
             ]
            ],
            "type": "heatmap"
           }
          ],
          "heatmapgl": [
           {
            "colorbar": {
             "outlinewidth": 0,
             "ticks": ""
            },
            "colorscale": [
             [
              0,
              "#0d0887"
             ],
             [
              0.1111111111111111,
              "#46039f"
             ],
             [
              0.2222222222222222,
              "#7201a8"
             ],
             [
              0.3333333333333333,
              "#9c179e"
             ],
             [
              0.4444444444444444,
              "#bd3786"
             ],
             [
              0.5555555555555556,
              "#d8576b"
             ],
             [
              0.6666666666666666,
              "#ed7953"
             ],
             [
              0.7777777777777778,
              "#fb9f3a"
             ],
             [
              0.8888888888888888,
              "#fdca26"
             ],
             [
              1,
              "#f0f921"
             ]
            ],
            "type": "heatmapgl"
           }
          ],
          "histogram": [
           {
            "marker": {
             "colorbar": {
              "outlinewidth": 0,
              "ticks": ""
             }
            },
            "type": "histogram"
           }
          ],
          "histogram2d": [
           {
            "colorbar": {
             "outlinewidth": 0,
             "ticks": ""
            },
            "colorscale": [
             [
              0,
              "#0d0887"
             ],
             [
              0.1111111111111111,
              "#46039f"
             ],
             [
              0.2222222222222222,
              "#7201a8"
             ],
             [
              0.3333333333333333,
              "#9c179e"
             ],
             [
              0.4444444444444444,
              "#bd3786"
             ],
             [
              0.5555555555555556,
              "#d8576b"
             ],
             [
              0.6666666666666666,
              "#ed7953"
             ],
             [
              0.7777777777777778,
              "#fb9f3a"
             ],
             [
              0.8888888888888888,
              "#fdca26"
             ],
             [
              1,
              "#f0f921"
             ]
            ],
            "type": "histogram2d"
           }
          ],
          "histogram2dcontour": [
           {
            "colorbar": {
             "outlinewidth": 0,
             "ticks": ""
            },
            "colorscale": [
             [
              0,
              "#0d0887"
             ],
             [
              0.1111111111111111,
              "#46039f"
             ],
             [
              0.2222222222222222,
              "#7201a8"
             ],
             [
              0.3333333333333333,
              "#9c179e"
             ],
             [
              0.4444444444444444,
              "#bd3786"
             ],
             [
              0.5555555555555556,
              "#d8576b"
             ],
             [
              0.6666666666666666,
              "#ed7953"
             ],
             [
              0.7777777777777778,
              "#fb9f3a"
             ],
             [
              0.8888888888888888,
              "#fdca26"
             ],
             [
              1,
              "#f0f921"
             ]
            ],
            "type": "histogram2dcontour"
           }
          ],
          "mesh3d": [
           {
            "colorbar": {
             "outlinewidth": 0,
             "ticks": ""
            },
            "type": "mesh3d"
           }
          ],
          "parcoords": [
           {
            "line": {
             "colorbar": {
              "outlinewidth": 0,
              "ticks": ""
             }
            },
            "type": "parcoords"
           }
          ],
          "pie": [
           {
            "automargin": true,
            "type": "pie"
           }
          ],
          "scatter": [
           {
            "marker": {
             "colorbar": {
              "outlinewidth": 0,
              "ticks": ""
             }
            },
            "type": "scatter"
           }
          ],
          "scatter3d": [
           {
            "line": {
             "colorbar": {
              "outlinewidth": 0,
              "ticks": ""
             }
            },
            "marker": {
             "colorbar": {
              "outlinewidth": 0,
              "ticks": ""
             }
            },
            "type": "scatter3d"
           }
          ],
          "scattercarpet": [
           {
            "marker": {
             "colorbar": {
              "outlinewidth": 0,
              "ticks": ""
             }
            },
            "type": "scattercarpet"
           }
          ],
          "scattergeo": [
           {
            "marker": {
             "colorbar": {
              "outlinewidth": 0,
              "ticks": ""
             }
            },
            "type": "scattergeo"
           }
          ],
          "scattergl": [
           {
            "marker": {
             "colorbar": {
              "outlinewidth": 0,
              "ticks": ""
             }
            },
            "type": "scattergl"
           }
          ],
          "scattermapbox": [
           {
            "marker": {
             "colorbar": {
              "outlinewidth": 0,
              "ticks": ""
             }
            },
            "type": "scattermapbox"
           }
          ],
          "scatterpolar": [
           {
            "marker": {
             "colorbar": {
              "outlinewidth": 0,
              "ticks": ""
             }
            },
            "type": "scatterpolar"
           }
          ],
          "scatterpolargl": [
           {
            "marker": {
             "colorbar": {
              "outlinewidth": 0,
              "ticks": ""
             }
            },
            "type": "scatterpolargl"
           }
          ],
          "scatterternary": [
           {
            "marker": {
             "colorbar": {
              "outlinewidth": 0,
              "ticks": ""
             }
            },
            "type": "scatterternary"
           }
          ],
          "surface": [
           {
            "colorbar": {
             "outlinewidth": 0,
             "ticks": ""
            },
            "colorscale": [
             [
              0,
              "#0d0887"
             ],
             [
              0.1111111111111111,
              "#46039f"
             ],
             [
              0.2222222222222222,
              "#7201a8"
             ],
             [
              0.3333333333333333,
              "#9c179e"
             ],
             [
              0.4444444444444444,
              "#bd3786"
             ],
             [
              0.5555555555555556,
              "#d8576b"
             ],
             [
              0.6666666666666666,
              "#ed7953"
             ],
             [
              0.7777777777777778,
              "#fb9f3a"
             ],
             [
              0.8888888888888888,
              "#fdca26"
             ],
             [
              1,
              "#f0f921"
             ]
            ],
            "type": "surface"
           }
          ],
          "table": [
           {
            "cells": {
             "fill": {
              "color": "#EBF0F8"
             },
             "line": {
              "color": "white"
             }
            },
            "header": {
             "fill": {
              "color": "#C8D4E3"
             },
             "line": {
              "color": "white"
             }
            },
            "type": "table"
           }
          ]
         },
         "layout": {
          "annotationdefaults": {
           "arrowcolor": "#2a3f5f",
           "arrowhead": 0,
           "arrowwidth": 1
          },
          "coloraxis": {
           "colorbar": {
            "outlinewidth": 0,
            "ticks": ""
           }
          },
          "colorscale": {
           "diverging": [
            [
             0,
             "#8e0152"
            ],
            [
             0.1,
             "#c51b7d"
            ],
            [
             0.2,
             "#de77ae"
            ],
            [
             0.3,
             "#f1b6da"
            ],
            [
             0.4,
             "#fde0ef"
            ],
            [
             0.5,
             "#f7f7f7"
            ],
            [
             0.6,
             "#e6f5d0"
            ],
            [
             0.7,
             "#b8e186"
            ],
            [
             0.8,
             "#7fbc41"
            ],
            [
             0.9,
             "#4d9221"
            ],
            [
             1,
             "#276419"
            ]
           ],
           "sequential": [
            [
             0,
             "#0d0887"
            ],
            [
             0.1111111111111111,
             "#46039f"
            ],
            [
             0.2222222222222222,
             "#7201a8"
            ],
            [
             0.3333333333333333,
             "#9c179e"
            ],
            [
             0.4444444444444444,
             "#bd3786"
            ],
            [
             0.5555555555555556,
             "#d8576b"
            ],
            [
             0.6666666666666666,
             "#ed7953"
            ],
            [
             0.7777777777777778,
             "#fb9f3a"
            ],
            [
             0.8888888888888888,
             "#fdca26"
            ],
            [
             1,
             "#f0f921"
            ]
           ],
           "sequentialminus": [
            [
             0,
             "#0d0887"
            ],
            [
             0.1111111111111111,
             "#46039f"
            ],
            [
             0.2222222222222222,
             "#7201a8"
            ],
            [
             0.3333333333333333,
             "#9c179e"
            ],
            [
             0.4444444444444444,
             "#bd3786"
            ],
            [
             0.5555555555555556,
             "#d8576b"
            ],
            [
             0.6666666666666666,
             "#ed7953"
            ],
            [
             0.7777777777777778,
             "#fb9f3a"
            ],
            [
             0.8888888888888888,
             "#fdca26"
            ],
            [
             1,
             "#f0f921"
            ]
           ]
          },
          "colorway": [
           "#636efa",
           "#EF553B",
           "#00cc96",
           "#ab63fa",
           "#FFA15A",
           "#19d3f3",
           "#FF6692",
           "#B6E880",
           "#FF97FF",
           "#FECB52"
          ],
          "font": {
           "color": "#2a3f5f"
          },
          "geo": {
           "bgcolor": "white",
           "lakecolor": "white",
           "landcolor": "#E5ECF6",
           "showlakes": true,
           "showland": true,
           "subunitcolor": "white"
          },
          "hoverlabel": {
           "align": "left"
          },
          "hovermode": "closest",
          "mapbox": {
           "style": "light"
          },
          "paper_bgcolor": "white",
          "plot_bgcolor": "#E5ECF6",
          "polar": {
           "angularaxis": {
            "gridcolor": "white",
            "linecolor": "white",
            "ticks": ""
           },
           "bgcolor": "#E5ECF6",
           "radialaxis": {
            "gridcolor": "white",
            "linecolor": "white",
            "ticks": ""
           }
          },
          "scene": {
           "xaxis": {
            "backgroundcolor": "#E5ECF6",
            "gridcolor": "white",
            "gridwidth": 2,
            "linecolor": "white",
            "showbackground": true,
            "ticks": "",
            "zerolinecolor": "white"
           },
           "yaxis": {
            "backgroundcolor": "#E5ECF6",
            "gridcolor": "white",
            "gridwidth": 2,
            "linecolor": "white",
            "showbackground": true,
            "ticks": "",
            "zerolinecolor": "white"
           },
           "zaxis": {
            "backgroundcolor": "#E5ECF6",
            "gridcolor": "white",
            "gridwidth": 2,
            "linecolor": "white",
            "showbackground": true,
            "ticks": "",
            "zerolinecolor": "white"
           }
          },
          "shapedefaults": {
           "line": {
            "color": "#2a3f5f"
           }
          },
          "ternary": {
           "aaxis": {
            "gridcolor": "white",
            "linecolor": "white",
            "ticks": ""
           },
           "baxis": {
            "gridcolor": "white",
            "linecolor": "white",
            "ticks": ""
           },
           "bgcolor": "#E5ECF6",
           "caxis": {
            "gridcolor": "white",
            "linecolor": "white",
            "ticks": ""
           }
          },
          "title": {
           "x": 0.05
          },
          "xaxis": {
           "automargin": true,
           "gridcolor": "white",
           "linecolor": "white",
           "ticks": "",
           "title": {
            "standoff": 15
           },
           "zerolinecolor": "white",
           "zerolinewidth": 2
          },
          "yaxis": {
           "automargin": true,
           "gridcolor": "white",
           "linecolor": "white",
           "ticks": "",
           "title": {
            "standoff": 15
           },
           "zerolinecolor": "white",
           "zerolinewidth": 2
          }
         }
        },
        "updatemenus": [
         {
          "buttons": [
           {
            "args": [
             null,
             {
              "frame": {
               "duration": 500,
               "redraw": true
              },
              "fromcurrent": true,
              "mode": "immediate",
              "transition": {
               "duration": 500,
               "easing": "linear"
              }
             }
            ],
            "label": "&#9654;",
            "method": "animate"
           },
           {
            "args": [
             [
              null
             ],
             {
              "frame": {
               "duration": 0,
               "redraw": true
              },
              "fromcurrent": true,
              "mode": "immediate",
              "transition": {
               "duration": 0,
               "easing": "linear"
              }
             }
            ],
            "label": "&#9724;",
            "method": "animate"
           }
          ],
          "direction": "left",
          "pad": {
           "r": 10,
           "t": 70
          },
          "showactive": false,
          "type": "buttons",
          "x": 0.1,
          "xanchor": "right",
          "y": 0,
          "yanchor": "top"
         }
        ]
       }
      },
      "text/html": [
       "<div>                            <div id=\"589799c0-5ea3-483b-a716-f7fb43f8b836\" class=\"plotly-graph-div\" style=\"height:525px; width:100%;\"></div>            <script type=\"text/javascript\">                require([\"plotly\"], function(Plotly) {                    window.PLOTLYENV=window.PLOTLYENV || {};                                    if (document.getElementById(\"589799c0-5ea3-483b-a716-f7fb43f8b836\")) {                    Plotly.newPlot(                        \"589799c0-5ea3-483b-a716-f7fb43f8b836\",                        [{\"coloraxis\": \"coloraxis\", \"geo\": \"geo\", \"hovertemplate\": \"<b>%{hovertext}</b><br><br>date=2020-03-31<br>open_covid_region_code=%{location}<br>hospitalized_new=%{z}<extra></extra>\", \"hovertext\": [\"South Dakota\", \"Montana\", \"Maine\", \"Idaho\", \"Hawaii\", \"Wyoming\", \"North Dakota\", \"New Hampshire\"], \"locationmode\": \"USA-states\", \"locations\": [\"SD\", \"MT\", \"ME\", \"ID\", \"HI\", \"WY\", \"ND\", \"NH\"], \"name\": \"\", \"type\": \"choropleth\", \"z\": [12.0, 4.0, 8.0, 6.0, 0.0, 0.0, 2.0, 0.0]}],                        {\"coloraxis\": {\"cmax\": 10, \"cmin\": 0, \"colorbar\": {\"title\": {\"text\": \"hospitalized_new\"}}, \"colorscale\": [[0.0, \"rgb(255,245,240)\"], [0.125, \"rgb(254,224,210)\"], [0.25, \"rgb(252,187,161)\"], [0.375, \"rgb(252,146,114)\"], [0.5, \"rgb(251,106,74)\"], [0.625, \"rgb(239,59,44)\"], [0.75, \"rgb(203,24,29)\"], [0.875, \"rgb(165,15,21)\"], [1.0, \"rgb(103,0,13)\"]]}, \"geo\": {\"center\": {}, \"domain\": {\"x\": [0.0, 1.0], \"y\": [0.0, 1.0]}, \"scope\": \"usa\"}, \"legend\": {\"tracegroupgap\": 0}, \"margin\": {\"t\": 60}, \"sliders\": [{\"active\": 0, \"currentvalue\": {\"prefix\": \"date=\"}, \"len\": 0.9, \"pad\": {\"b\": 10, \"t\": 60}, \"steps\": [{\"args\": [[\"2020-03-31\"], {\"frame\": {\"duration\": 0, \"redraw\": true}, \"fromcurrent\": true, \"mode\": \"immediate\", \"transition\": {\"duration\": 0, \"easing\": \"linear\"}}], \"label\": \"2020-03-31\", \"method\": \"animate\"}, {\"args\": [[\"2020-04-01\"], {\"frame\": {\"duration\": 0, \"redraw\": true}, \"fromcurrent\": true, \"mode\": \"immediate\", \"transition\": {\"duration\": 0, \"easing\": \"linear\"}}], \"label\": \"2020-04-01\", \"method\": \"animate\"}, {\"args\": [[\"2020-04-02\"], {\"frame\": {\"duration\": 0, \"redraw\": true}, \"fromcurrent\": true, \"mode\": \"immediate\", \"transition\": {\"duration\": 0, \"easing\": \"linear\"}}], \"label\": \"2020-04-02\", \"method\": \"animate\"}, {\"args\": [[\"2020-04-03\"], {\"frame\": {\"duration\": 0, \"redraw\": true}, \"fromcurrent\": true, \"mode\": \"immediate\", \"transition\": {\"duration\": 0, \"easing\": \"linear\"}}], \"label\": \"2020-04-03\", \"method\": \"animate\"}, {\"args\": [[\"2020-04-04\"], {\"frame\": {\"duration\": 0, \"redraw\": true}, \"fromcurrent\": true, \"mode\": \"immediate\", \"transition\": {\"duration\": 0, \"easing\": \"linear\"}}], \"label\": \"2020-04-04\", \"method\": \"animate\"}, {\"args\": [[\"2020-04-05\"], {\"frame\": {\"duration\": 0, \"redraw\": true}, \"fromcurrent\": true, \"mode\": \"immediate\", \"transition\": {\"duration\": 0, \"easing\": \"linear\"}}], \"label\": \"2020-04-05\", \"method\": \"animate\"}, {\"args\": [[\"2020-04-06\"], {\"frame\": {\"duration\": 0, \"redraw\": true}, \"fromcurrent\": true, \"mode\": \"immediate\", \"transition\": {\"duration\": 0, \"easing\": \"linear\"}}], \"label\": \"2020-04-06\", \"method\": \"animate\"}, {\"args\": [[\"2020-04-07\"], {\"frame\": {\"duration\": 0, \"redraw\": true}, \"fromcurrent\": true, \"mode\": \"immediate\", \"transition\": {\"duration\": 0, \"easing\": \"linear\"}}], \"label\": \"2020-04-07\", \"method\": \"animate\"}, {\"args\": [[\"2020-04-08\"], {\"frame\": {\"duration\": 0, \"redraw\": true}, \"fromcurrent\": true, \"mode\": \"immediate\", \"transition\": {\"duration\": 0, \"easing\": \"linear\"}}], \"label\": \"2020-04-08\", \"method\": \"animate\"}, {\"args\": [[\"2020-04-09\"], {\"frame\": {\"duration\": 0, \"redraw\": true}, \"fromcurrent\": true, \"mode\": \"immediate\", \"transition\": {\"duration\": 0, \"easing\": \"linear\"}}], \"label\": \"2020-04-09\", \"method\": \"animate\"}, {\"args\": [[\"2020-04-10\"], {\"frame\": {\"duration\": 0, \"redraw\": true}, \"fromcurrent\": true, \"mode\": \"immediate\", \"transition\": {\"duration\": 0, \"easing\": \"linear\"}}], \"label\": \"2020-04-10\", \"method\": \"animate\"}, {\"args\": [[\"2020-04-11\"], {\"frame\": {\"duration\": 0, \"redraw\": true}, \"fromcurrent\": true, \"mode\": \"immediate\", \"transition\": {\"duration\": 0, \"easing\": \"linear\"}}], \"label\": \"2020-04-11\", \"method\": \"animate\"}, {\"args\": [[\"2020-04-12\"], {\"frame\": {\"duration\": 0, \"redraw\": true}, \"fromcurrent\": true, \"mode\": \"immediate\", \"transition\": {\"duration\": 0, \"easing\": \"linear\"}}], \"label\": \"2020-04-12\", \"method\": \"animate\"}, {\"args\": [[\"2020-04-13\"], {\"frame\": {\"duration\": 0, \"redraw\": true}, \"fromcurrent\": true, \"mode\": \"immediate\", \"transition\": {\"duration\": 0, \"easing\": \"linear\"}}], \"label\": \"2020-04-13\", \"method\": \"animate\"}, {\"args\": [[\"2020-04-14\"], {\"frame\": {\"duration\": 0, \"redraw\": true}, \"fromcurrent\": true, \"mode\": \"immediate\", \"transition\": {\"duration\": 0, \"easing\": \"linear\"}}], \"label\": \"2020-04-14\", \"method\": \"animate\"}, {\"args\": [[\"2020-04-15\"], {\"frame\": {\"duration\": 0, \"redraw\": true}, \"fromcurrent\": true, \"mode\": \"immediate\", \"transition\": {\"duration\": 0, \"easing\": \"linear\"}}], \"label\": \"2020-04-15\", \"method\": \"animate\"}, {\"args\": [[\"2020-04-16\"], {\"frame\": {\"duration\": 0, \"redraw\": true}, \"fromcurrent\": true, \"mode\": \"immediate\", \"transition\": {\"duration\": 0, \"easing\": \"linear\"}}], \"label\": \"2020-04-16\", \"method\": \"animate\"}, {\"args\": [[\"2020-04-17\"], {\"frame\": {\"duration\": 0, \"redraw\": true}, \"fromcurrent\": true, \"mode\": \"immediate\", \"transition\": {\"duration\": 0, \"easing\": \"linear\"}}], \"label\": \"2020-04-17\", \"method\": \"animate\"}, {\"args\": [[\"2020-04-18\"], {\"frame\": {\"duration\": 0, \"redraw\": true}, \"fromcurrent\": true, \"mode\": \"immediate\", \"transition\": {\"duration\": 0, \"easing\": \"linear\"}}], \"label\": \"2020-04-18\", \"method\": \"animate\"}, {\"args\": [[\"2020-04-19\"], {\"frame\": {\"duration\": 0, \"redraw\": true}, \"fromcurrent\": true, \"mode\": \"immediate\", \"transition\": {\"duration\": 0, \"easing\": \"linear\"}}], \"label\": \"2020-04-19\", \"method\": \"animate\"}, {\"args\": [[\"2020-04-20\"], {\"frame\": {\"duration\": 0, \"redraw\": true}, \"fromcurrent\": true, \"mode\": \"immediate\", \"transition\": {\"duration\": 0, \"easing\": \"linear\"}}], \"label\": \"2020-04-20\", \"method\": \"animate\"}, {\"args\": [[\"2020-04-21\"], {\"frame\": {\"duration\": 0, \"redraw\": true}, \"fromcurrent\": true, \"mode\": \"immediate\", \"transition\": {\"duration\": 0, \"easing\": \"linear\"}}], \"label\": \"2020-04-21\", \"method\": \"animate\"}, {\"args\": [[\"2020-04-22\"], {\"frame\": {\"duration\": 0, \"redraw\": true}, \"fromcurrent\": true, \"mode\": \"immediate\", \"transition\": {\"duration\": 0, \"easing\": \"linear\"}}], \"label\": \"2020-04-22\", \"method\": \"animate\"}, {\"args\": [[\"2020-04-23\"], {\"frame\": {\"duration\": 0, \"redraw\": true}, \"fromcurrent\": true, \"mode\": \"immediate\", \"transition\": {\"duration\": 0, \"easing\": \"linear\"}}], \"label\": \"2020-04-23\", \"method\": \"animate\"}, {\"args\": [[\"2020-04-24\"], {\"frame\": {\"duration\": 0, \"redraw\": true}, \"fromcurrent\": true, \"mode\": \"immediate\", \"transition\": {\"duration\": 0, \"easing\": \"linear\"}}], \"label\": \"2020-04-24\", \"method\": \"animate\"}, {\"args\": [[\"2020-04-25\"], {\"frame\": {\"duration\": 0, \"redraw\": true}, \"fromcurrent\": true, \"mode\": \"immediate\", \"transition\": {\"duration\": 0, \"easing\": \"linear\"}}], \"label\": \"2020-04-25\", \"method\": \"animate\"}, {\"args\": [[\"2020-04-26\"], {\"frame\": {\"duration\": 0, \"redraw\": true}, \"fromcurrent\": true, \"mode\": \"immediate\", \"transition\": {\"duration\": 0, \"easing\": \"linear\"}}], \"label\": \"2020-04-26\", \"method\": \"animate\"}, {\"args\": [[\"2020-04-27\"], {\"frame\": {\"duration\": 0, \"redraw\": true}, \"fromcurrent\": true, \"mode\": \"immediate\", \"transition\": {\"duration\": 0, \"easing\": \"linear\"}}], \"label\": \"2020-04-27\", \"method\": \"animate\"}, {\"args\": [[\"2020-04-28\"], {\"frame\": {\"duration\": 0, \"redraw\": true}, \"fromcurrent\": true, \"mode\": \"immediate\", \"transition\": {\"duration\": 0, \"easing\": \"linear\"}}], \"label\": \"2020-04-28\", \"method\": \"animate\"}, {\"args\": [[\"2020-04-29\"], {\"frame\": {\"duration\": 0, \"redraw\": true}, \"fromcurrent\": true, \"mode\": \"immediate\", \"transition\": {\"duration\": 0, \"easing\": \"linear\"}}], \"label\": \"2020-04-29\", \"method\": \"animate\"}, {\"args\": [[\"2020-04-30\"], {\"frame\": {\"duration\": 0, \"redraw\": true}, \"fromcurrent\": true, \"mode\": \"immediate\", \"transition\": {\"duration\": 0, \"easing\": \"linear\"}}], \"label\": \"2020-04-30\", \"method\": \"animate\"}, {\"args\": [[\"2020-05-01\"], {\"frame\": {\"duration\": 0, \"redraw\": true}, \"fromcurrent\": true, \"mode\": \"immediate\", \"transition\": {\"duration\": 0, \"easing\": \"linear\"}}], \"label\": \"2020-05-01\", \"method\": \"animate\"}, {\"args\": [[\"2020-05-02\"], {\"frame\": {\"duration\": 0, \"redraw\": true}, \"fromcurrent\": true, \"mode\": \"immediate\", \"transition\": {\"duration\": 0, \"easing\": \"linear\"}}], \"label\": \"2020-05-02\", \"method\": \"animate\"}, {\"args\": [[\"2020-05-03\"], {\"frame\": {\"duration\": 0, \"redraw\": true}, \"fromcurrent\": true, \"mode\": \"immediate\", \"transition\": {\"duration\": 0, \"easing\": \"linear\"}}], \"label\": \"2020-05-03\", \"method\": \"animate\"}, {\"args\": [[\"2020-05-04\"], {\"frame\": {\"duration\": 0, \"redraw\": true}, \"fromcurrent\": true, \"mode\": \"immediate\", \"transition\": {\"duration\": 0, \"easing\": \"linear\"}}], \"label\": \"2020-05-04\", \"method\": \"animate\"}, {\"args\": [[\"2020-05-05\"], {\"frame\": {\"duration\": 0, \"redraw\": true}, \"fromcurrent\": true, \"mode\": \"immediate\", \"transition\": {\"duration\": 0, \"easing\": \"linear\"}}], \"label\": \"2020-05-05\", \"method\": \"animate\"}, {\"args\": [[\"2020-05-06\"], {\"frame\": {\"duration\": 0, \"redraw\": true}, \"fromcurrent\": true, \"mode\": \"immediate\", \"transition\": {\"duration\": 0, \"easing\": \"linear\"}}], \"label\": \"2020-05-06\", \"method\": \"animate\"}, {\"args\": [[\"2020-05-07\"], {\"frame\": {\"duration\": 0, \"redraw\": true}, \"fromcurrent\": true, \"mode\": \"immediate\", \"transition\": {\"duration\": 0, \"easing\": \"linear\"}}], \"label\": \"2020-05-07\", \"method\": \"animate\"}, {\"args\": [[\"2020-05-08\"], {\"frame\": {\"duration\": 0, \"redraw\": true}, \"fromcurrent\": true, \"mode\": \"immediate\", \"transition\": {\"duration\": 0, \"easing\": \"linear\"}}], \"label\": \"2020-05-08\", \"method\": \"animate\"}, {\"args\": [[\"2020-05-09\"], {\"frame\": {\"duration\": 0, \"redraw\": true}, \"fromcurrent\": true, \"mode\": \"immediate\", \"transition\": {\"duration\": 0, \"easing\": \"linear\"}}], \"label\": \"2020-05-09\", \"method\": \"animate\"}, {\"args\": [[\"2020-05-10\"], {\"frame\": {\"duration\": 0, \"redraw\": true}, \"fromcurrent\": true, \"mode\": \"immediate\", \"transition\": {\"duration\": 0, \"easing\": \"linear\"}}], \"label\": \"2020-05-10\", \"method\": \"animate\"}, {\"args\": [[\"2020-05-11\"], {\"frame\": {\"duration\": 0, \"redraw\": true}, \"fromcurrent\": true, \"mode\": \"immediate\", \"transition\": {\"duration\": 0, \"easing\": \"linear\"}}], \"label\": \"2020-05-11\", \"method\": \"animate\"}, {\"args\": [[\"2020-05-12\"], {\"frame\": {\"duration\": 0, \"redraw\": true}, \"fromcurrent\": true, \"mode\": \"immediate\", \"transition\": {\"duration\": 0, \"easing\": \"linear\"}}], \"label\": \"2020-05-12\", \"method\": \"animate\"}, {\"args\": [[\"2020-05-13\"], {\"frame\": {\"duration\": 0, \"redraw\": true}, \"fromcurrent\": true, \"mode\": \"immediate\", \"transition\": {\"duration\": 0, \"easing\": \"linear\"}}], \"label\": \"2020-05-13\", \"method\": \"animate\"}, {\"args\": [[\"2020-05-14\"], {\"frame\": {\"duration\": 0, \"redraw\": true}, \"fromcurrent\": true, \"mode\": \"immediate\", \"transition\": {\"duration\": 0, \"easing\": \"linear\"}}], \"label\": \"2020-05-14\", \"method\": \"animate\"}, {\"args\": [[\"2020-05-15\"], {\"frame\": {\"duration\": 0, \"redraw\": true}, \"fromcurrent\": true, \"mode\": \"immediate\", \"transition\": {\"duration\": 0, \"easing\": \"linear\"}}], \"label\": \"2020-05-15\", \"method\": \"animate\"}, {\"args\": [[\"2020-05-16\"], {\"frame\": {\"duration\": 0, \"redraw\": true}, \"fromcurrent\": true, \"mode\": \"immediate\", \"transition\": {\"duration\": 0, \"easing\": \"linear\"}}], \"label\": \"2020-05-16\", \"method\": \"animate\"}, {\"args\": [[\"2020-05-17\"], {\"frame\": {\"duration\": 0, \"redraw\": true}, \"fromcurrent\": true, \"mode\": \"immediate\", \"transition\": {\"duration\": 0, \"easing\": \"linear\"}}], \"label\": \"2020-05-17\", \"method\": \"animate\"}, {\"args\": [[\"2020-05-18\"], {\"frame\": {\"duration\": 0, \"redraw\": true}, \"fromcurrent\": true, \"mode\": \"immediate\", \"transition\": {\"duration\": 0, \"easing\": \"linear\"}}], \"label\": \"2020-05-18\", \"method\": \"animate\"}, {\"args\": [[\"2020-05-19\"], {\"frame\": {\"duration\": 0, \"redraw\": true}, \"fromcurrent\": true, \"mode\": \"immediate\", \"transition\": {\"duration\": 0, \"easing\": \"linear\"}}], \"label\": \"2020-05-19\", \"method\": \"animate\"}, {\"args\": [[\"2020-05-20\"], {\"frame\": {\"duration\": 0, \"redraw\": true}, \"fromcurrent\": true, \"mode\": \"immediate\", \"transition\": {\"duration\": 0, \"easing\": \"linear\"}}], \"label\": \"2020-05-20\", \"method\": \"animate\"}, {\"args\": [[\"2020-05-21\"], {\"frame\": {\"duration\": 0, \"redraw\": true}, \"fromcurrent\": true, \"mode\": \"immediate\", \"transition\": {\"duration\": 0, \"easing\": \"linear\"}}], \"label\": \"2020-05-21\", \"method\": \"animate\"}, {\"args\": [[\"2020-05-22\"], {\"frame\": {\"duration\": 0, \"redraw\": true}, \"fromcurrent\": true, \"mode\": \"immediate\", \"transition\": {\"duration\": 0, \"easing\": \"linear\"}}], \"label\": \"2020-05-22\", \"method\": \"animate\"}, {\"args\": [[\"2020-05-23\"], {\"frame\": {\"duration\": 0, \"redraw\": true}, \"fromcurrent\": true, \"mode\": \"immediate\", \"transition\": {\"duration\": 0, \"easing\": \"linear\"}}], \"label\": \"2020-05-23\", \"method\": \"animate\"}, {\"args\": [[\"2020-05-24\"], {\"frame\": {\"duration\": 0, \"redraw\": true}, \"fromcurrent\": true, \"mode\": \"immediate\", \"transition\": {\"duration\": 0, \"easing\": \"linear\"}}], \"label\": \"2020-05-24\", \"method\": \"animate\"}, {\"args\": [[\"2020-05-25\"], {\"frame\": {\"duration\": 0, \"redraw\": true}, \"fromcurrent\": true, \"mode\": \"immediate\", \"transition\": {\"duration\": 0, \"easing\": \"linear\"}}], \"label\": \"2020-05-25\", \"method\": \"animate\"}, {\"args\": [[\"2020-05-26\"], {\"frame\": {\"duration\": 0, \"redraw\": true}, \"fromcurrent\": true, \"mode\": \"immediate\", \"transition\": {\"duration\": 0, \"easing\": \"linear\"}}], \"label\": \"2020-05-26\", \"method\": \"animate\"}, {\"args\": [[\"2020-05-27\"], {\"frame\": {\"duration\": 0, \"redraw\": true}, \"fromcurrent\": true, \"mode\": \"immediate\", \"transition\": {\"duration\": 0, \"easing\": \"linear\"}}], \"label\": \"2020-05-27\", \"method\": \"animate\"}, {\"args\": [[\"2020-05-28\"], {\"frame\": {\"duration\": 0, \"redraw\": true}, \"fromcurrent\": true, \"mode\": \"immediate\", \"transition\": {\"duration\": 0, \"easing\": \"linear\"}}], \"label\": \"2020-05-28\", \"method\": \"animate\"}, {\"args\": [[\"2020-05-29\"], {\"frame\": {\"duration\": 0, \"redraw\": true}, \"fromcurrent\": true, \"mode\": \"immediate\", \"transition\": {\"duration\": 0, \"easing\": \"linear\"}}], \"label\": \"2020-05-29\", \"method\": \"animate\"}, {\"args\": [[\"2020-05-30\"], {\"frame\": {\"duration\": 0, \"redraw\": true}, \"fromcurrent\": true, \"mode\": \"immediate\", \"transition\": {\"duration\": 0, \"easing\": \"linear\"}}], \"label\": \"2020-05-30\", \"method\": \"animate\"}, {\"args\": [[\"2020-05-31\"], {\"frame\": {\"duration\": 0, \"redraw\": true}, \"fromcurrent\": true, \"mode\": \"immediate\", \"transition\": {\"duration\": 0, \"easing\": \"linear\"}}], \"label\": \"2020-05-31\", \"method\": \"animate\"}, {\"args\": [[\"2020-06-01\"], {\"frame\": {\"duration\": 0, \"redraw\": true}, \"fromcurrent\": true, \"mode\": \"immediate\", \"transition\": {\"duration\": 0, \"easing\": \"linear\"}}], \"label\": \"2020-06-01\", \"method\": \"animate\"}, {\"args\": [[\"2020-06-02\"], {\"frame\": {\"duration\": 0, \"redraw\": true}, \"fromcurrent\": true, \"mode\": \"immediate\", \"transition\": {\"duration\": 0, \"easing\": \"linear\"}}], \"label\": \"2020-06-02\", \"method\": \"animate\"}, {\"args\": [[\"2020-06-03\"], {\"frame\": {\"duration\": 0, \"redraw\": true}, \"fromcurrent\": true, \"mode\": \"immediate\", \"transition\": {\"duration\": 0, \"easing\": \"linear\"}}], \"label\": \"2020-06-03\", \"method\": \"animate\"}, {\"args\": [[\"2020-06-04\"], {\"frame\": {\"duration\": 0, \"redraw\": true}, \"fromcurrent\": true, \"mode\": \"immediate\", \"transition\": {\"duration\": 0, \"easing\": \"linear\"}}], \"label\": \"2020-06-04\", \"method\": \"animate\"}, {\"args\": [[\"2020-06-05\"], {\"frame\": {\"duration\": 0, \"redraw\": true}, \"fromcurrent\": true, \"mode\": \"immediate\", \"transition\": {\"duration\": 0, \"easing\": \"linear\"}}], \"label\": \"2020-06-05\", \"method\": \"animate\"}, {\"args\": [[\"2020-06-06\"], {\"frame\": {\"duration\": 0, \"redraw\": true}, \"fromcurrent\": true, \"mode\": \"immediate\", \"transition\": {\"duration\": 0, \"easing\": \"linear\"}}], \"label\": \"2020-06-06\", \"method\": \"animate\"}, {\"args\": [[\"2020-06-07\"], {\"frame\": {\"duration\": 0, \"redraw\": true}, \"fromcurrent\": true, \"mode\": \"immediate\", \"transition\": {\"duration\": 0, \"easing\": \"linear\"}}], \"label\": \"2020-06-07\", \"method\": \"animate\"}, {\"args\": [[\"2020-06-08\"], {\"frame\": {\"duration\": 0, \"redraw\": true}, \"fromcurrent\": true, \"mode\": \"immediate\", \"transition\": {\"duration\": 0, \"easing\": \"linear\"}}], \"label\": \"2020-06-08\", \"method\": \"animate\"}, {\"args\": [[\"2020-06-09\"], {\"frame\": {\"duration\": 0, \"redraw\": true}, \"fromcurrent\": true, \"mode\": \"immediate\", \"transition\": {\"duration\": 0, \"easing\": \"linear\"}}], \"label\": \"2020-06-09\", \"method\": \"animate\"}, {\"args\": [[\"2020-06-10\"], {\"frame\": {\"duration\": 0, \"redraw\": true}, \"fromcurrent\": true, \"mode\": \"immediate\", \"transition\": {\"duration\": 0, \"easing\": \"linear\"}}], \"label\": \"2020-06-10\", \"method\": \"animate\"}, {\"args\": [[\"2020-06-11\"], {\"frame\": {\"duration\": 0, \"redraw\": true}, \"fromcurrent\": true, \"mode\": \"immediate\", \"transition\": {\"duration\": 0, \"easing\": \"linear\"}}], \"label\": \"2020-06-11\", \"method\": \"animate\"}, {\"args\": [[\"2020-06-12\"], {\"frame\": {\"duration\": 0, \"redraw\": true}, \"fromcurrent\": true, \"mode\": \"immediate\", \"transition\": {\"duration\": 0, \"easing\": \"linear\"}}], \"label\": \"2020-06-12\", \"method\": \"animate\"}, {\"args\": [[\"2020-06-13\"], {\"frame\": {\"duration\": 0, \"redraw\": true}, \"fromcurrent\": true, \"mode\": \"immediate\", \"transition\": {\"duration\": 0, \"easing\": \"linear\"}}], \"label\": \"2020-06-13\", \"method\": \"animate\"}, {\"args\": [[\"2020-06-14\"], {\"frame\": {\"duration\": 0, \"redraw\": true}, \"fromcurrent\": true, \"mode\": \"immediate\", \"transition\": {\"duration\": 0, \"easing\": \"linear\"}}], \"label\": \"2020-06-14\", \"method\": \"animate\"}, {\"args\": [[\"2020-06-15\"], {\"frame\": {\"duration\": 0, \"redraw\": true}, \"fromcurrent\": true, \"mode\": \"immediate\", \"transition\": {\"duration\": 0, \"easing\": \"linear\"}}], \"label\": \"2020-06-15\", \"method\": \"animate\"}, {\"args\": [[\"2020-06-16\"], {\"frame\": {\"duration\": 0, \"redraw\": true}, \"fromcurrent\": true, \"mode\": \"immediate\", \"transition\": {\"duration\": 0, \"easing\": \"linear\"}}], \"label\": \"2020-06-16\", \"method\": \"animate\"}, {\"args\": [[\"2020-06-17\"], {\"frame\": {\"duration\": 0, \"redraw\": true}, \"fromcurrent\": true, \"mode\": \"immediate\", \"transition\": {\"duration\": 0, \"easing\": \"linear\"}}], \"label\": \"2020-06-17\", \"method\": \"animate\"}, {\"args\": [[\"2020-06-18\"], {\"frame\": {\"duration\": 0, \"redraw\": true}, \"fromcurrent\": true, \"mode\": \"immediate\", \"transition\": {\"duration\": 0, \"easing\": \"linear\"}}], \"label\": \"2020-06-18\", \"method\": \"animate\"}, {\"args\": [[\"2020-06-19\"], {\"frame\": {\"duration\": 0, \"redraw\": true}, \"fromcurrent\": true, \"mode\": \"immediate\", \"transition\": {\"duration\": 0, \"easing\": \"linear\"}}], \"label\": \"2020-06-19\", \"method\": \"animate\"}, {\"args\": [[\"2020-06-20\"], {\"frame\": {\"duration\": 0, \"redraw\": true}, \"fromcurrent\": true, \"mode\": \"immediate\", \"transition\": {\"duration\": 0, \"easing\": \"linear\"}}], \"label\": \"2020-06-20\", \"method\": \"animate\"}, {\"args\": [[\"2020-06-21\"], {\"frame\": {\"duration\": 0, \"redraw\": true}, \"fromcurrent\": true, \"mode\": \"immediate\", \"transition\": {\"duration\": 0, \"easing\": \"linear\"}}], \"label\": \"2020-06-21\", \"method\": \"animate\"}, {\"args\": [[\"2020-06-22\"], {\"frame\": {\"duration\": 0, \"redraw\": true}, \"fromcurrent\": true, \"mode\": \"immediate\", \"transition\": {\"duration\": 0, \"easing\": \"linear\"}}], \"label\": \"2020-06-22\", \"method\": \"animate\"}, {\"args\": [[\"2020-06-23\"], {\"frame\": {\"duration\": 0, \"redraw\": true}, \"fromcurrent\": true, \"mode\": \"immediate\", \"transition\": {\"duration\": 0, \"easing\": \"linear\"}}], \"label\": \"2020-06-23\", \"method\": \"animate\"}, {\"args\": [[\"2020-06-24\"], {\"frame\": {\"duration\": 0, \"redraw\": true}, \"fromcurrent\": true, \"mode\": \"immediate\", \"transition\": {\"duration\": 0, \"easing\": \"linear\"}}], \"label\": \"2020-06-24\", \"method\": \"animate\"}, {\"args\": [[\"2020-06-25\"], {\"frame\": {\"duration\": 0, \"redraw\": true}, \"fromcurrent\": true, \"mode\": \"immediate\", \"transition\": {\"duration\": 0, \"easing\": \"linear\"}}], \"label\": \"2020-06-25\", \"method\": \"animate\"}, {\"args\": [[\"2020-06-26\"], {\"frame\": {\"duration\": 0, \"redraw\": true}, \"fromcurrent\": true, \"mode\": \"immediate\", \"transition\": {\"duration\": 0, \"easing\": \"linear\"}}], \"label\": \"2020-06-26\", \"method\": \"animate\"}, {\"args\": [[\"2020-06-27\"], {\"frame\": {\"duration\": 0, \"redraw\": true}, \"fromcurrent\": true, \"mode\": \"immediate\", \"transition\": {\"duration\": 0, \"easing\": \"linear\"}}], \"label\": \"2020-06-27\", \"method\": \"animate\"}, {\"args\": [[\"2020-06-28\"], {\"frame\": {\"duration\": 0, \"redraw\": true}, \"fromcurrent\": true, \"mode\": \"immediate\", \"transition\": {\"duration\": 0, \"easing\": \"linear\"}}], \"label\": \"2020-06-28\", \"method\": \"animate\"}, {\"args\": [[\"2020-06-29\"], {\"frame\": {\"duration\": 0, \"redraw\": true}, \"fromcurrent\": true, \"mode\": \"immediate\", \"transition\": {\"duration\": 0, \"easing\": \"linear\"}}], \"label\": \"2020-06-29\", \"method\": \"animate\"}, {\"args\": [[\"2020-06-30\"], {\"frame\": {\"duration\": 0, \"redraw\": true}, \"fromcurrent\": true, \"mode\": \"immediate\", \"transition\": {\"duration\": 0, \"easing\": \"linear\"}}], \"label\": \"2020-06-30\", \"method\": \"animate\"}, {\"args\": [[\"2020-07-01\"], {\"frame\": {\"duration\": 0, \"redraw\": true}, \"fromcurrent\": true, \"mode\": \"immediate\", \"transition\": {\"duration\": 0, \"easing\": \"linear\"}}], \"label\": \"2020-07-01\", \"method\": \"animate\"}, {\"args\": [[\"2020-07-02\"], {\"frame\": {\"duration\": 0, \"redraw\": true}, \"fromcurrent\": true, \"mode\": \"immediate\", \"transition\": {\"duration\": 0, \"easing\": \"linear\"}}], \"label\": \"2020-07-02\", \"method\": \"animate\"}, {\"args\": [[\"2020-07-03\"], {\"frame\": {\"duration\": 0, \"redraw\": true}, \"fromcurrent\": true, \"mode\": \"immediate\", \"transition\": {\"duration\": 0, \"easing\": \"linear\"}}], \"label\": \"2020-07-03\", \"method\": \"animate\"}, {\"args\": [[\"2020-07-04\"], {\"frame\": {\"duration\": 0, \"redraw\": true}, \"fromcurrent\": true, \"mode\": \"immediate\", \"transition\": {\"duration\": 0, \"easing\": \"linear\"}}], \"label\": \"2020-07-04\", \"method\": \"animate\"}, {\"args\": [[\"2020-07-05\"], {\"frame\": {\"duration\": 0, \"redraw\": true}, \"fromcurrent\": true, \"mode\": \"immediate\", \"transition\": {\"duration\": 0, \"easing\": \"linear\"}}], \"label\": \"2020-07-05\", \"method\": \"animate\"}, {\"args\": [[\"2020-07-06\"], {\"frame\": {\"duration\": 0, \"redraw\": true}, \"fromcurrent\": true, \"mode\": \"immediate\", \"transition\": {\"duration\": 0, \"easing\": \"linear\"}}], \"label\": \"2020-07-06\", \"method\": \"animate\"}, {\"args\": [[\"2020-07-07\"], {\"frame\": {\"duration\": 0, \"redraw\": true}, \"fromcurrent\": true, \"mode\": \"immediate\", \"transition\": {\"duration\": 0, \"easing\": \"linear\"}}], \"label\": \"2020-07-07\", \"method\": \"animate\"}, {\"args\": [[\"2020-07-08\"], {\"frame\": {\"duration\": 0, \"redraw\": true}, \"fromcurrent\": true, \"mode\": \"immediate\", \"transition\": {\"duration\": 0, \"easing\": \"linear\"}}], \"label\": \"2020-07-08\", \"method\": \"animate\"}, {\"args\": [[\"2020-07-09\"], {\"frame\": {\"duration\": 0, \"redraw\": true}, \"fromcurrent\": true, \"mode\": \"immediate\", \"transition\": {\"duration\": 0, \"easing\": \"linear\"}}], \"label\": \"2020-07-09\", \"method\": \"animate\"}, {\"args\": [[\"2020-07-10\"], {\"frame\": {\"duration\": 0, \"redraw\": true}, \"fromcurrent\": true, \"mode\": \"immediate\", \"transition\": {\"duration\": 0, \"easing\": \"linear\"}}], \"label\": \"2020-07-10\", \"method\": \"animate\"}, {\"args\": [[\"2020-07-11\"], {\"frame\": {\"duration\": 0, \"redraw\": true}, \"fromcurrent\": true, \"mode\": \"immediate\", \"transition\": {\"duration\": 0, \"easing\": \"linear\"}}], \"label\": \"2020-07-11\", \"method\": \"animate\"}, {\"args\": [[\"2020-07-12\"], {\"frame\": {\"duration\": 0, \"redraw\": true}, \"fromcurrent\": true, \"mode\": \"immediate\", \"transition\": {\"duration\": 0, \"easing\": \"linear\"}}], \"label\": \"2020-07-12\", \"method\": \"animate\"}, {\"args\": [[\"2020-07-13\"], {\"frame\": {\"duration\": 0, \"redraw\": true}, \"fromcurrent\": true, \"mode\": \"immediate\", \"transition\": {\"duration\": 0, \"easing\": \"linear\"}}], \"label\": \"2020-07-13\", \"method\": \"animate\"}, {\"args\": [[\"2020-07-14\"], {\"frame\": {\"duration\": 0, \"redraw\": true}, \"fromcurrent\": true, \"mode\": \"immediate\", \"transition\": {\"duration\": 0, \"easing\": \"linear\"}}], \"label\": \"2020-07-14\", \"method\": \"animate\"}, {\"args\": [[\"2020-07-15\"], {\"frame\": {\"duration\": 0, \"redraw\": true}, \"fromcurrent\": true, \"mode\": \"immediate\", \"transition\": {\"duration\": 0, \"easing\": \"linear\"}}], \"label\": \"2020-07-15\", \"method\": \"animate\"}, {\"args\": [[\"2020-07-16\"], {\"frame\": {\"duration\": 0, \"redraw\": true}, \"fromcurrent\": true, \"mode\": \"immediate\", \"transition\": {\"duration\": 0, \"easing\": \"linear\"}}], \"label\": \"2020-07-16\", \"method\": \"animate\"}, {\"args\": [[\"2020-07-17\"], {\"frame\": {\"duration\": 0, \"redraw\": true}, \"fromcurrent\": true, \"mode\": \"immediate\", \"transition\": {\"duration\": 0, \"easing\": \"linear\"}}], \"label\": \"2020-07-17\", \"method\": \"animate\"}, {\"args\": [[\"2020-07-18\"], {\"frame\": {\"duration\": 0, \"redraw\": true}, \"fromcurrent\": true, \"mode\": \"immediate\", \"transition\": {\"duration\": 0, \"easing\": \"linear\"}}], \"label\": \"2020-07-18\", \"method\": \"animate\"}, {\"args\": [[\"2020-07-19\"], {\"frame\": {\"duration\": 0, \"redraw\": true}, \"fromcurrent\": true, \"mode\": \"immediate\", \"transition\": {\"duration\": 0, \"easing\": \"linear\"}}], \"label\": \"2020-07-19\", \"method\": \"animate\"}, {\"args\": [[\"2020-07-20\"], {\"frame\": {\"duration\": 0, \"redraw\": true}, \"fromcurrent\": true, \"mode\": \"immediate\", \"transition\": {\"duration\": 0, \"easing\": \"linear\"}}], \"label\": \"2020-07-20\", \"method\": \"animate\"}, {\"args\": [[\"2020-07-21\"], {\"frame\": {\"duration\": 0, \"redraw\": true}, \"fromcurrent\": true, \"mode\": \"immediate\", \"transition\": {\"duration\": 0, \"easing\": \"linear\"}}], \"label\": \"2020-07-21\", \"method\": \"animate\"}, {\"args\": [[\"2020-07-22\"], {\"frame\": {\"duration\": 0, \"redraw\": true}, \"fromcurrent\": true, \"mode\": \"immediate\", \"transition\": {\"duration\": 0, \"easing\": \"linear\"}}], \"label\": \"2020-07-22\", \"method\": \"animate\"}, {\"args\": [[\"2020-07-23\"], {\"frame\": {\"duration\": 0, \"redraw\": true}, \"fromcurrent\": true, \"mode\": \"immediate\", \"transition\": {\"duration\": 0, \"easing\": \"linear\"}}], \"label\": \"2020-07-23\", \"method\": \"animate\"}, {\"args\": [[\"2020-07-24\"], {\"frame\": {\"duration\": 0, \"redraw\": true}, \"fromcurrent\": true, \"mode\": \"immediate\", \"transition\": {\"duration\": 0, \"easing\": \"linear\"}}], \"label\": \"2020-07-24\", \"method\": \"animate\"}, {\"args\": [[\"2020-07-25\"], {\"frame\": {\"duration\": 0, \"redraw\": true}, \"fromcurrent\": true, \"mode\": \"immediate\", \"transition\": {\"duration\": 0, \"easing\": \"linear\"}}], \"label\": \"2020-07-25\", \"method\": \"animate\"}, {\"args\": [[\"2020-07-26\"], {\"frame\": {\"duration\": 0, \"redraw\": true}, \"fromcurrent\": true, \"mode\": \"immediate\", \"transition\": {\"duration\": 0, \"easing\": \"linear\"}}], \"label\": \"2020-07-26\", \"method\": \"animate\"}, {\"args\": [[\"2020-07-27\"], {\"frame\": {\"duration\": 0, \"redraw\": true}, \"fromcurrent\": true, \"mode\": \"immediate\", \"transition\": {\"duration\": 0, \"easing\": \"linear\"}}], \"label\": \"2020-07-27\", \"method\": \"animate\"}, {\"args\": [[\"2020-07-28\"], {\"frame\": {\"duration\": 0, \"redraw\": true}, \"fromcurrent\": true, \"mode\": \"immediate\", \"transition\": {\"duration\": 0, \"easing\": \"linear\"}}], \"label\": \"2020-07-28\", \"method\": \"animate\"}, {\"args\": [[\"2020-07-29\"], {\"frame\": {\"duration\": 0, \"redraw\": true}, \"fromcurrent\": true, \"mode\": \"immediate\", \"transition\": {\"duration\": 0, \"easing\": \"linear\"}}], \"label\": \"2020-07-29\", \"method\": \"animate\"}, {\"args\": [[\"2020-07-30\"], {\"frame\": {\"duration\": 0, \"redraw\": true}, \"fromcurrent\": true, \"mode\": \"immediate\", \"transition\": {\"duration\": 0, \"easing\": \"linear\"}}], \"label\": \"2020-07-30\", \"method\": \"animate\"}, {\"args\": [[\"2020-07-31\"], {\"frame\": {\"duration\": 0, \"redraw\": true}, \"fromcurrent\": true, \"mode\": \"immediate\", \"transition\": {\"duration\": 0, \"easing\": \"linear\"}}], \"label\": \"2020-07-31\", \"method\": \"animate\"}, {\"args\": [[\"2020-08-01\"], {\"frame\": {\"duration\": 0, \"redraw\": true}, \"fromcurrent\": true, \"mode\": \"immediate\", \"transition\": {\"duration\": 0, \"easing\": \"linear\"}}], \"label\": \"2020-08-01\", \"method\": \"animate\"}, {\"args\": [[\"2020-08-02\"], {\"frame\": {\"duration\": 0, \"redraw\": true}, \"fromcurrent\": true, \"mode\": \"immediate\", \"transition\": {\"duration\": 0, \"easing\": \"linear\"}}], \"label\": \"2020-08-02\", \"method\": \"animate\"}, {\"args\": [[\"2020-08-03\"], {\"frame\": {\"duration\": 0, \"redraw\": true}, \"fromcurrent\": true, \"mode\": \"immediate\", \"transition\": {\"duration\": 0, \"easing\": \"linear\"}}], \"label\": \"2020-08-03\", \"method\": \"animate\"}, {\"args\": [[\"2020-08-04\"], {\"frame\": {\"duration\": 0, \"redraw\": true}, \"fromcurrent\": true, \"mode\": \"immediate\", \"transition\": {\"duration\": 0, \"easing\": \"linear\"}}], \"label\": \"2020-08-04\", \"method\": \"animate\"}, {\"args\": [[\"2020-08-05\"], {\"frame\": {\"duration\": 0, \"redraw\": true}, \"fromcurrent\": true, \"mode\": \"immediate\", \"transition\": {\"duration\": 0, \"easing\": \"linear\"}}], \"label\": \"2020-08-05\", \"method\": \"animate\"}, {\"args\": [[\"2020-08-06\"], {\"frame\": {\"duration\": 0, \"redraw\": true}, \"fromcurrent\": true, \"mode\": \"immediate\", \"transition\": {\"duration\": 0, \"easing\": \"linear\"}}], \"label\": \"2020-08-06\", \"method\": \"animate\"}, {\"args\": [[\"2020-08-07\"], {\"frame\": {\"duration\": 0, \"redraw\": true}, \"fromcurrent\": true, \"mode\": \"immediate\", \"transition\": {\"duration\": 0, \"easing\": \"linear\"}}], \"label\": \"2020-08-07\", \"method\": \"animate\"}, {\"args\": [[\"2020-08-08\"], {\"frame\": {\"duration\": 0, \"redraw\": true}, \"fromcurrent\": true, \"mode\": \"immediate\", \"transition\": {\"duration\": 0, \"easing\": \"linear\"}}], \"label\": \"2020-08-08\", \"method\": \"animate\"}, {\"args\": [[\"2020-08-09\"], {\"frame\": {\"duration\": 0, \"redraw\": true}, \"fromcurrent\": true, \"mode\": \"immediate\", \"transition\": {\"duration\": 0, \"easing\": \"linear\"}}], \"label\": \"2020-08-09\", \"method\": \"animate\"}, {\"args\": [[\"2020-08-10\"], {\"frame\": {\"duration\": 0, \"redraw\": true}, \"fromcurrent\": true, \"mode\": \"immediate\", \"transition\": {\"duration\": 0, \"easing\": \"linear\"}}], \"label\": \"2020-08-10\", \"method\": \"animate\"}, {\"args\": [[\"2020-08-11\"], {\"frame\": {\"duration\": 0, \"redraw\": true}, \"fromcurrent\": true, \"mode\": \"immediate\", \"transition\": {\"duration\": 0, \"easing\": \"linear\"}}], \"label\": \"2020-08-11\", \"method\": \"animate\"}, {\"args\": [[\"2020-08-12\"], {\"frame\": {\"duration\": 0, \"redraw\": true}, \"fromcurrent\": true, \"mode\": \"immediate\", \"transition\": {\"duration\": 0, \"easing\": \"linear\"}}], \"label\": \"2020-08-12\", \"method\": \"animate\"}, {\"args\": [[\"2020-08-13\"], {\"frame\": {\"duration\": 0, \"redraw\": true}, \"fromcurrent\": true, \"mode\": \"immediate\", \"transition\": {\"duration\": 0, \"easing\": \"linear\"}}], \"label\": \"2020-08-13\", \"method\": \"animate\"}, {\"args\": [[\"2020-08-14\"], {\"frame\": {\"duration\": 0, \"redraw\": true}, \"fromcurrent\": true, \"mode\": \"immediate\", \"transition\": {\"duration\": 0, \"easing\": \"linear\"}}], \"label\": \"2020-08-14\", \"method\": \"animate\"}, {\"args\": [[\"2020-08-15\"], {\"frame\": {\"duration\": 0, \"redraw\": true}, \"fromcurrent\": true, \"mode\": \"immediate\", \"transition\": {\"duration\": 0, \"easing\": \"linear\"}}], \"label\": \"2020-08-15\", \"method\": \"animate\"}, {\"args\": [[\"2020-08-16\"], {\"frame\": {\"duration\": 0, \"redraw\": true}, \"fromcurrent\": true, \"mode\": \"immediate\", \"transition\": {\"duration\": 0, \"easing\": \"linear\"}}], \"label\": \"2020-08-16\", \"method\": \"animate\"}, {\"args\": [[\"2020-08-17\"], {\"frame\": {\"duration\": 0, \"redraw\": true}, \"fromcurrent\": true, \"mode\": \"immediate\", \"transition\": {\"duration\": 0, \"easing\": \"linear\"}}], \"label\": \"2020-08-17\", \"method\": \"animate\"}, {\"args\": [[\"2020-08-18\"], {\"frame\": {\"duration\": 0, \"redraw\": true}, \"fromcurrent\": true, \"mode\": \"immediate\", \"transition\": {\"duration\": 0, \"easing\": \"linear\"}}], \"label\": \"2020-08-18\", \"method\": \"animate\"}, {\"args\": [[\"2020-08-19\"], {\"frame\": {\"duration\": 0, \"redraw\": true}, \"fromcurrent\": true, \"mode\": \"immediate\", \"transition\": {\"duration\": 0, \"easing\": \"linear\"}}], \"label\": \"2020-08-19\", \"method\": \"animate\"}, {\"args\": [[\"2020-08-20\"], {\"frame\": {\"duration\": 0, \"redraw\": true}, \"fromcurrent\": true, \"mode\": \"immediate\", \"transition\": {\"duration\": 0, \"easing\": \"linear\"}}], \"label\": \"2020-08-20\", \"method\": \"animate\"}, {\"args\": [[\"2020-08-21\"], {\"frame\": {\"duration\": 0, \"redraw\": true}, \"fromcurrent\": true, \"mode\": \"immediate\", \"transition\": {\"duration\": 0, \"easing\": \"linear\"}}], \"label\": \"2020-08-21\", \"method\": \"animate\"}, {\"args\": [[\"2020-08-22\"], {\"frame\": {\"duration\": 0, \"redraw\": true}, \"fromcurrent\": true, \"mode\": \"immediate\", \"transition\": {\"duration\": 0, \"easing\": \"linear\"}}], \"label\": \"2020-08-22\", \"method\": \"animate\"}, {\"args\": [[\"2020-08-23\"], {\"frame\": {\"duration\": 0, \"redraw\": true}, \"fromcurrent\": true, \"mode\": \"immediate\", \"transition\": {\"duration\": 0, \"easing\": \"linear\"}}], \"label\": \"2020-08-23\", \"method\": \"animate\"}, {\"args\": [[\"2020-08-24\"], {\"frame\": {\"duration\": 0, \"redraw\": true}, \"fromcurrent\": true, \"mode\": \"immediate\", \"transition\": {\"duration\": 0, \"easing\": \"linear\"}}], \"label\": \"2020-08-24\", \"method\": \"animate\"}, {\"args\": [[\"2020-08-25\"], {\"frame\": {\"duration\": 0, \"redraw\": true}, \"fromcurrent\": true, \"mode\": \"immediate\", \"transition\": {\"duration\": 0, \"easing\": \"linear\"}}], \"label\": \"2020-08-25\", \"method\": \"animate\"}, {\"args\": [[\"2020-08-26\"], {\"frame\": {\"duration\": 0, \"redraw\": true}, \"fromcurrent\": true, \"mode\": \"immediate\", \"transition\": {\"duration\": 0, \"easing\": \"linear\"}}], \"label\": \"2020-08-26\", \"method\": \"animate\"}, {\"args\": [[\"2020-08-27\"], {\"frame\": {\"duration\": 0, \"redraw\": true}, \"fromcurrent\": true, \"mode\": \"immediate\", \"transition\": {\"duration\": 0, \"easing\": \"linear\"}}], \"label\": \"2020-08-27\", \"method\": \"animate\"}, {\"args\": [[\"2020-08-28\"], {\"frame\": {\"duration\": 0, \"redraw\": true}, \"fromcurrent\": true, \"mode\": \"immediate\", \"transition\": {\"duration\": 0, \"easing\": \"linear\"}}], \"label\": \"2020-08-28\", \"method\": \"animate\"}, {\"args\": [[\"2020-08-29\"], {\"frame\": {\"duration\": 0, \"redraw\": true}, \"fromcurrent\": true, \"mode\": \"immediate\", \"transition\": {\"duration\": 0, \"easing\": \"linear\"}}], \"label\": \"2020-08-29\", \"method\": \"animate\"}, {\"args\": [[\"2020-08-30\"], {\"frame\": {\"duration\": 0, \"redraw\": true}, \"fromcurrent\": true, \"mode\": \"immediate\", \"transition\": {\"duration\": 0, \"easing\": \"linear\"}}], \"label\": \"2020-08-30\", \"method\": \"animate\"}, {\"args\": [[\"2020-08-31\"], {\"frame\": {\"duration\": 0, \"redraw\": true}, \"fromcurrent\": true, \"mode\": \"immediate\", \"transition\": {\"duration\": 0, \"easing\": \"linear\"}}], \"label\": \"2020-08-31\", \"method\": \"animate\"}, {\"args\": [[\"2020-09-01\"], {\"frame\": {\"duration\": 0, \"redraw\": true}, \"fromcurrent\": true, \"mode\": \"immediate\", \"transition\": {\"duration\": 0, \"easing\": \"linear\"}}], \"label\": \"2020-09-01\", \"method\": \"animate\"}, {\"args\": [[\"2020-09-02\"], {\"frame\": {\"duration\": 0, \"redraw\": true}, \"fromcurrent\": true, \"mode\": \"immediate\", \"transition\": {\"duration\": 0, \"easing\": \"linear\"}}], \"label\": \"2020-09-02\", \"method\": \"animate\"}, {\"args\": [[\"2020-09-03\"], {\"frame\": {\"duration\": 0, \"redraw\": true}, \"fromcurrent\": true, \"mode\": \"immediate\", \"transition\": {\"duration\": 0, \"easing\": \"linear\"}}], \"label\": \"2020-09-03\", \"method\": \"animate\"}, {\"args\": [[\"2020-09-04\"], {\"frame\": {\"duration\": 0, \"redraw\": true}, \"fromcurrent\": true, \"mode\": \"immediate\", \"transition\": {\"duration\": 0, \"easing\": \"linear\"}}], \"label\": \"2020-09-04\", \"method\": \"animate\"}, {\"args\": [[\"2020-09-05\"], {\"frame\": {\"duration\": 0, \"redraw\": true}, \"fromcurrent\": true, \"mode\": \"immediate\", \"transition\": {\"duration\": 0, \"easing\": \"linear\"}}], \"label\": \"2020-09-05\", \"method\": \"animate\"}, {\"args\": [[\"2020-09-06\"], {\"frame\": {\"duration\": 0, \"redraw\": true}, \"fromcurrent\": true, \"mode\": \"immediate\", \"transition\": {\"duration\": 0, \"easing\": \"linear\"}}], \"label\": \"2020-09-06\", \"method\": \"animate\"}, {\"args\": [[\"2020-09-07\"], {\"frame\": {\"duration\": 0, \"redraw\": true}, \"fromcurrent\": true, \"mode\": \"immediate\", \"transition\": {\"duration\": 0, \"easing\": \"linear\"}}], \"label\": \"2020-09-07\", \"method\": \"animate\"}, {\"args\": [[\"2020-09-08\"], {\"frame\": {\"duration\": 0, \"redraw\": true}, \"fromcurrent\": true, \"mode\": \"immediate\", \"transition\": {\"duration\": 0, \"easing\": \"linear\"}}], \"label\": \"2020-09-08\", \"method\": \"animate\"}, {\"args\": [[\"2020-09-09\"], {\"frame\": {\"duration\": 0, \"redraw\": true}, \"fromcurrent\": true, \"mode\": \"immediate\", \"transition\": {\"duration\": 0, \"easing\": \"linear\"}}], \"label\": \"2020-09-09\", \"method\": \"animate\"}, {\"args\": [[\"2020-09-10\"], {\"frame\": {\"duration\": 0, \"redraw\": true}, \"fromcurrent\": true, \"mode\": \"immediate\", \"transition\": {\"duration\": 0, \"easing\": \"linear\"}}], \"label\": \"2020-09-10\", \"method\": \"animate\"}, {\"args\": [[\"2020-09-11\"], {\"frame\": {\"duration\": 0, \"redraw\": true}, \"fromcurrent\": true, \"mode\": \"immediate\", \"transition\": {\"duration\": 0, \"easing\": \"linear\"}}], \"label\": \"2020-09-11\", \"method\": \"animate\"}, {\"args\": [[\"2020-09-12\"], {\"frame\": {\"duration\": 0, \"redraw\": true}, \"fromcurrent\": true, \"mode\": \"immediate\", \"transition\": {\"duration\": 0, \"easing\": \"linear\"}}], \"label\": \"2020-09-12\", \"method\": \"animate\"}, {\"args\": [[\"2020-09-13\"], {\"frame\": {\"duration\": 0, \"redraw\": true}, \"fromcurrent\": true, \"mode\": \"immediate\", \"transition\": {\"duration\": 0, \"easing\": \"linear\"}}], \"label\": \"2020-09-13\", \"method\": \"animate\"}, {\"args\": [[\"2020-09-14\"], {\"frame\": {\"duration\": 0, \"redraw\": true}, \"fromcurrent\": true, \"mode\": \"immediate\", \"transition\": {\"duration\": 0, \"easing\": \"linear\"}}], \"label\": \"2020-09-14\", \"method\": \"animate\"}, {\"args\": [[\"2020-09-15\"], {\"frame\": {\"duration\": 0, \"redraw\": true}, \"fromcurrent\": true, \"mode\": \"immediate\", \"transition\": {\"duration\": 0, \"easing\": \"linear\"}}], \"label\": \"2020-09-15\", \"method\": \"animate\"}, {\"args\": [[\"2020-09-16\"], {\"frame\": {\"duration\": 0, \"redraw\": true}, \"fromcurrent\": true, \"mode\": \"immediate\", \"transition\": {\"duration\": 0, \"easing\": \"linear\"}}], \"label\": \"2020-09-16\", \"method\": \"animate\"}, {\"args\": [[\"2020-09-17\"], {\"frame\": {\"duration\": 0, \"redraw\": true}, \"fromcurrent\": true, \"mode\": \"immediate\", \"transition\": {\"duration\": 0, \"easing\": \"linear\"}}], \"label\": \"2020-09-17\", \"method\": \"animate\"}, {\"args\": [[\"2020-09-18\"], {\"frame\": {\"duration\": 0, \"redraw\": true}, \"fromcurrent\": true, \"mode\": \"immediate\", \"transition\": {\"duration\": 0, \"easing\": \"linear\"}}], \"label\": \"2020-09-18\", \"method\": \"animate\"}, {\"args\": [[\"2020-09-19\"], {\"frame\": {\"duration\": 0, \"redraw\": true}, \"fromcurrent\": true, \"mode\": \"immediate\", \"transition\": {\"duration\": 0, \"easing\": \"linear\"}}], \"label\": \"2020-09-19\", \"method\": \"animate\"}, {\"args\": [[\"2020-09-20\"], {\"frame\": {\"duration\": 0, \"redraw\": true}, \"fromcurrent\": true, \"mode\": \"immediate\", \"transition\": {\"duration\": 0, \"easing\": \"linear\"}}], \"label\": \"2020-09-20\", \"method\": \"animate\"}, {\"args\": [[\"2020-09-21\"], {\"frame\": {\"duration\": 0, \"redraw\": true}, \"fromcurrent\": true, \"mode\": \"immediate\", \"transition\": {\"duration\": 0, \"easing\": \"linear\"}}], \"label\": \"2020-09-21\", \"method\": \"animate\"}, {\"args\": [[\"2020-09-22\"], {\"frame\": {\"duration\": 0, \"redraw\": true}, \"fromcurrent\": true, \"mode\": \"immediate\", \"transition\": {\"duration\": 0, \"easing\": \"linear\"}}], \"label\": \"2020-09-22\", \"method\": \"animate\"}, {\"args\": [[\"2020-09-23\"], {\"frame\": {\"duration\": 0, \"redraw\": true}, \"fromcurrent\": true, \"mode\": \"immediate\", \"transition\": {\"duration\": 0, \"easing\": \"linear\"}}], \"label\": \"2020-09-23\", \"method\": \"animate\"}, {\"args\": [[\"2020-09-24\"], {\"frame\": {\"duration\": 0, \"redraw\": true}, \"fromcurrent\": true, \"mode\": \"immediate\", \"transition\": {\"duration\": 0, \"easing\": \"linear\"}}], \"label\": \"2020-09-24\", \"method\": \"animate\"}, {\"args\": [[\"2020-09-25\"], {\"frame\": {\"duration\": 0, \"redraw\": true}, \"fromcurrent\": true, \"mode\": \"immediate\", \"transition\": {\"duration\": 0, \"easing\": \"linear\"}}], \"label\": \"2020-09-25\", \"method\": \"animate\"}, {\"args\": [[\"2020-09-26\"], {\"frame\": {\"duration\": 0, \"redraw\": true}, \"fromcurrent\": true, \"mode\": \"immediate\", \"transition\": {\"duration\": 0, \"easing\": \"linear\"}}], \"label\": \"2020-09-26\", \"method\": \"animate\"}, {\"args\": [[\"2020-09-27\"], {\"frame\": {\"duration\": 0, \"redraw\": true}, \"fromcurrent\": true, \"mode\": \"immediate\", \"transition\": {\"duration\": 0, \"easing\": \"linear\"}}], \"label\": \"2020-09-27\", \"method\": \"animate\"}, {\"args\": [[\"2020-09-28\"], {\"frame\": {\"duration\": 0, \"redraw\": true}, \"fromcurrent\": true, \"mode\": \"immediate\", \"transition\": {\"duration\": 0, \"easing\": \"linear\"}}], \"label\": \"2020-09-28\", \"method\": \"animate\"}, {\"args\": [[\"2020-09-29\"], {\"frame\": {\"duration\": 0, \"redraw\": true}, \"fromcurrent\": true, \"mode\": \"immediate\", \"transition\": {\"duration\": 0, \"easing\": \"linear\"}}], \"label\": \"2020-09-29\", \"method\": \"animate\"}, {\"args\": [[\"2020-09-30\"], {\"frame\": {\"duration\": 0, \"redraw\": true}, \"fromcurrent\": true, \"mode\": \"immediate\", \"transition\": {\"duration\": 0, \"easing\": \"linear\"}}], \"label\": \"2020-09-30\", \"method\": \"animate\"}, {\"args\": [[\"2020-10-01\"], {\"frame\": {\"duration\": 0, \"redraw\": true}, \"fromcurrent\": true, \"mode\": \"immediate\", \"transition\": {\"duration\": 0, \"easing\": \"linear\"}}], \"label\": \"2020-10-01\", \"method\": \"animate\"}, {\"args\": [[\"2020-03-26\"], {\"frame\": {\"duration\": 0, \"redraw\": true}, \"fromcurrent\": true, \"mode\": \"immediate\", \"transition\": {\"duration\": 0, \"easing\": \"linear\"}}], \"label\": \"2020-03-26\", \"method\": \"animate\"}, {\"args\": [[\"2020-03-27\"], {\"frame\": {\"duration\": 0, \"redraw\": true}, \"fromcurrent\": true, \"mode\": \"immediate\", \"transition\": {\"duration\": 0, \"easing\": \"linear\"}}], \"label\": \"2020-03-27\", \"method\": \"animate\"}, {\"args\": [[\"2020-03-28\"], {\"frame\": {\"duration\": 0, \"redraw\": true}, \"fromcurrent\": true, \"mode\": \"immediate\", \"transition\": {\"duration\": 0, \"easing\": \"linear\"}}], \"label\": \"2020-03-28\", \"method\": \"animate\"}, {\"args\": [[\"2020-03-29\"], {\"frame\": {\"duration\": 0, \"redraw\": true}, \"fromcurrent\": true, \"mode\": \"immediate\", \"transition\": {\"duration\": 0, \"easing\": \"linear\"}}], \"label\": \"2020-03-29\", \"method\": \"animate\"}, {\"args\": [[\"2020-03-30\"], {\"frame\": {\"duration\": 0, \"redraw\": true}, \"fromcurrent\": true, \"mode\": \"immediate\", \"transition\": {\"duration\": 0, \"easing\": \"linear\"}}], \"label\": \"2020-03-30\", \"method\": \"animate\"}, {\"args\": [[\"2020-03-24\"], {\"frame\": {\"duration\": 0, \"redraw\": true}, \"fromcurrent\": true, \"mode\": \"immediate\", \"transition\": {\"duration\": 0, \"easing\": \"linear\"}}], \"label\": \"2020-03-24\", \"method\": \"animate\"}, {\"args\": [[\"2020-03-25\"], {\"frame\": {\"duration\": 0, \"redraw\": true}, \"fromcurrent\": true, \"mode\": \"immediate\", \"transition\": {\"duration\": 0, \"easing\": \"linear\"}}], \"label\": \"2020-03-25\", \"method\": \"animate\"}, {\"args\": [[\"2020-03-07\"], {\"frame\": {\"duration\": 0, \"redraw\": true}, \"fromcurrent\": true, \"mode\": \"immediate\", \"transition\": {\"duration\": 0, \"easing\": \"linear\"}}], \"label\": \"2020-03-07\", \"method\": \"animate\"}, {\"args\": [[\"2020-03-08\"], {\"frame\": {\"duration\": 0, \"redraw\": true}, \"fromcurrent\": true, \"mode\": \"immediate\", \"transition\": {\"duration\": 0, \"easing\": \"linear\"}}], \"label\": \"2020-03-08\", \"method\": \"animate\"}, {\"args\": [[\"2020-03-09\"], {\"frame\": {\"duration\": 0, \"redraw\": true}, \"fromcurrent\": true, \"mode\": \"immediate\", \"transition\": {\"duration\": 0, \"easing\": \"linear\"}}], \"label\": \"2020-03-09\", \"method\": \"animate\"}, {\"args\": [[\"2020-03-10\"], {\"frame\": {\"duration\": 0, \"redraw\": true}, \"fromcurrent\": true, \"mode\": \"immediate\", \"transition\": {\"duration\": 0, \"easing\": \"linear\"}}], \"label\": \"2020-03-10\", \"method\": \"animate\"}, {\"args\": [[\"2020-03-11\"], {\"frame\": {\"duration\": 0, \"redraw\": true}, \"fromcurrent\": true, \"mode\": \"immediate\", \"transition\": {\"duration\": 0, \"easing\": \"linear\"}}], \"label\": \"2020-03-11\", \"method\": \"animate\"}, {\"args\": [[\"2020-03-12\"], {\"frame\": {\"duration\": 0, \"redraw\": true}, \"fromcurrent\": true, \"mode\": \"immediate\", \"transition\": {\"duration\": 0, \"easing\": \"linear\"}}], \"label\": \"2020-03-12\", \"method\": \"animate\"}, {\"args\": [[\"2020-03-13\"], {\"frame\": {\"duration\": 0, \"redraw\": true}, \"fromcurrent\": true, \"mode\": \"immediate\", \"transition\": {\"duration\": 0, \"easing\": \"linear\"}}], \"label\": \"2020-03-13\", \"method\": \"animate\"}, {\"args\": [[\"2020-03-14\"], {\"frame\": {\"duration\": 0, \"redraw\": true}, \"fromcurrent\": true, \"mode\": \"immediate\", \"transition\": {\"duration\": 0, \"easing\": \"linear\"}}], \"label\": \"2020-03-14\", \"method\": \"animate\"}, {\"args\": [[\"2020-03-15\"], {\"frame\": {\"duration\": 0, \"redraw\": true}, \"fromcurrent\": true, \"mode\": \"immediate\", \"transition\": {\"duration\": 0, \"easing\": \"linear\"}}], \"label\": \"2020-03-15\", \"method\": \"animate\"}, {\"args\": [[\"2020-03-16\"], {\"frame\": {\"duration\": 0, \"redraw\": true}, \"fromcurrent\": true, \"mode\": \"immediate\", \"transition\": {\"duration\": 0, \"easing\": \"linear\"}}], \"label\": \"2020-03-16\", \"method\": \"animate\"}, {\"args\": [[\"2020-03-17\"], {\"frame\": {\"duration\": 0, \"redraw\": true}, \"fromcurrent\": true, \"mode\": \"immediate\", \"transition\": {\"duration\": 0, \"easing\": \"linear\"}}], \"label\": \"2020-03-17\", \"method\": \"animate\"}, {\"args\": [[\"2020-03-18\"], {\"frame\": {\"duration\": 0, \"redraw\": true}, \"fromcurrent\": true, \"mode\": \"immediate\", \"transition\": {\"duration\": 0, \"easing\": \"linear\"}}], \"label\": \"2020-03-18\", \"method\": \"animate\"}, {\"args\": [[\"2020-03-19\"], {\"frame\": {\"duration\": 0, \"redraw\": true}, \"fromcurrent\": true, \"mode\": \"immediate\", \"transition\": {\"duration\": 0, \"easing\": \"linear\"}}], \"label\": \"2020-03-19\", \"method\": \"animate\"}, {\"args\": [[\"2020-03-20\"], {\"frame\": {\"duration\": 0, \"redraw\": true}, \"fromcurrent\": true, \"mode\": \"immediate\", \"transition\": {\"duration\": 0, \"easing\": \"linear\"}}], \"label\": \"2020-03-20\", \"method\": \"animate\"}, {\"args\": [[\"2020-03-21\"], {\"frame\": {\"duration\": 0, \"redraw\": true}, \"fromcurrent\": true, \"mode\": \"immediate\", \"transition\": {\"duration\": 0, \"easing\": \"linear\"}}], \"label\": \"2020-03-21\", \"method\": \"animate\"}, {\"args\": [[\"2020-03-22\"], {\"frame\": {\"duration\": 0, \"redraw\": true}, \"fromcurrent\": true, \"mode\": \"immediate\", \"transition\": {\"duration\": 0, \"easing\": \"linear\"}}], \"label\": \"2020-03-22\", \"method\": \"animate\"}, {\"args\": [[\"2020-03-23\"], {\"frame\": {\"duration\": 0, \"redraw\": true}, \"fromcurrent\": true, \"mode\": \"immediate\", \"transition\": {\"duration\": 0, \"easing\": \"linear\"}}], \"label\": \"2020-03-23\", \"method\": \"animate\"}], \"x\": 0.1, \"xanchor\": \"left\", \"y\": 0, \"yanchor\": \"top\"}], \"template\": {\"data\": {\"bar\": [{\"error_x\": {\"color\": \"#2a3f5f\"}, \"error_y\": {\"color\": \"#2a3f5f\"}, \"marker\": {\"line\": {\"color\": \"#E5ECF6\", \"width\": 0.5}}, \"type\": \"bar\"}], \"barpolar\": [{\"marker\": {\"line\": {\"color\": \"#E5ECF6\", \"width\": 0.5}}, \"type\": \"barpolar\"}], \"carpet\": [{\"aaxis\": {\"endlinecolor\": \"#2a3f5f\", \"gridcolor\": \"white\", \"linecolor\": \"white\", \"minorgridcolor\": \"white\", \"startlinecolor\": \"#2a3f5f\"}, \"baxis\": {\"endlinecolor\": \"#2a3f5f\", \"gridcolor\": \"white\", \"linecolor\": \"white\", \"minorgridcolor\": \"white\", \"startlinecolor\": \"#2a3f5f\"}, \"type\": \"carpet\"}], \"choropleth\": [{\"colorbar\": {\"outlinewidth\": 0, \"ticks\": \"\"}, \"type\": \"choropleth\"}], \"contour\": [{\"colorbar\": {\"outlinewidth\": 0, \"ticks\": \"\"}, \"colorscale\": [[0.0, \"#0d0887\"], [0.1111111111111111, \"#46039f\"], [0.2222222222222222, \"#7201a8\"], [0.3333333333333333, \"#9c179e\"], [0.4444444444444444, \"#bd3786\"], [0.5555555555555556, \"#d8576b\"], [0.6666666666666666, \"#ed7953\"], [0.7777777777777778, \"#fb9f3a\"], [0.8888888888888888, \"#fdca26\"], [1.0, \"#f0f921\"]], \"type\": \"contour\"}], \"contourcarpet\": [{\"colorbar\": {\"outlinewidth\": 0, \"ticks\": \"\"}, \"type\": \"contourcarpet\"}], \"heatmap\": [{\"colorbar\": {\"outlinewidth\": 0, \"ticks\": \"\"}, \"colorscale\": [[0.0, \"#0d0887\"], [0.1111111111111111, \"#46039f\"], [0.2222222222222222, \"#7201a8\"], [0.3333333333333333, \"#9c179e\"], [0.4444444444444444, \"#bd3786\"], [0.5555555555555556, \"#d8576b\"], [0.6666666666666666, \"#ed7953\"], [0.7777777777777778, \"#fb9f3a\"], [0.8888888888888888, \"#fdca26\"], [1.0, \"#f0f921\"]], \"type\": \"heatmap\"}], \"heatmapgl\": [{\"colorbar\": {\"outlinewidth\": 0, \"ticks\": \"\"}, \"colorscale\": [[0.0, \"#0d0887\"], [0.1111111111111111, \"#46039f\"], [0.2222222222222222, \"#7201a8\"], [0.3333333333333333, \"#9c179e\"], [0.4444444444444444, \"#bd3786\"], [0.5555555555555556, \"#d8576b\"], [0.6666666666666666, \"#ed7953\"], [0.7777777777777778, \"#fb9f3a\"], [0.8888888888888888, \"#fdca26\"], [1.0, \"#f0f921\"]], \"type\": \"heatmapgl\"}], \"histogram\": [{\"marker\": {\"colorbar\": {\"outlinewidth\": 0, \"ticks\": \"\"}}, \"type\": \"histogram\"}], \"histogram2d\": [{\"colorbar\": {\"outlinewidth\": 0, \"ticks\": \"\"}, \"colorscale\": [[0.0, \"#0d0887\"], [0.1111111111111111, \"#46039f\"], [0.2222222222222222, \"#7201a8\"], [0.3333333333333333, \"#9c179e\"], [0.4444444444444444, \"#bd3786\"], [0.5555555555555556, \"#d8576b\"], [0.6666666666666666, \"#ed7953\"], [0.7777777777777778, \"#fb9f3a\"], [0.8888888888888888, \"#fdca26\"], [1.0, \"#f0f921\"]], \"type\": \"histogram2d\"}], \"histogram2dcontour\": [{\"colorbar\": {\"outlinewidth\": 0, \"ticks\": \"\"}, \"colorscale\": [[0.0, \"#0d0887\"], [0.1111111111111111, \"#46039f\"], [0.2222222222222222, \"#7201a8\"], [0.3333333333333333, \"#9c179e\"], [0.4444444444444444, \"#bd3786\"], [0.5555555555555556, \"#d8576b\"], [0.6666666666666666, \"#ed7953\"], [0.7777777777777778, \"#fb9f3a\"], [0.8888888888888888, \"#fdca26\"], [1.0, \"#f0f921\"]], \"type\": \"histogram2dcontour\"}], \"mesh3d\": [{\"colorbar\": {\"outlinewidth\": 0, \"ticks\": \"\"}, \"type\": \"mesh3d\"}], \"parcoords\": [{\"line\": {\"colorbar\": {\"outlinewidth\": 0, \"ticks\": \"\"}}, \"type\": \"parcoords\"}], \"pie\": [{\"automargin\": true, \"type\": \"pie\"}], \"scatter\": [{\"marker\": {\"colorbar\": {\"outlinewidth\": 0, \"ticks\": \"\"}}, \"type\": \"scatter\"}], \"scatter3d\": [{\"line\": {\"colorbar\": {\"outlinewidth\": 0, \"ticks\": \"\"}}, \"marker\": {\"colorbar\": {\"outlinewidth\": 0, \"ticks\": \"\"}}, \"type\": \"scatter3d\"}], \"scattercarpet\": [{\"marker\": {\"colorbar\": {\"outlinewidth\": 0, \"ticks\": \"\"}}, \"type\": \"scattercarpet\"}], \"scattergeo\": [{\"marker\": {\"colorbar\": {\"outlinewidth\": 0, \"ticks\": \"\"}}, \"type\": \"scattergeo\"}], \"scattergl\": [{\"marker\": {\"colorbar\": {\"outlinewidth\": 0, \"ticks\": \"\"}}, \"type\": \"scattergl\"}], \"scattermapbox\": [{\"marker\": {\"colorbar\": {\"outlinewidth\": 0, \"ticks\": \"\"}}, \"type\": \"scattermapbox\"}], \"scatterpolar\": [{\"marker\": {\"colorbar\": {\"outlinewidth\": 0, \"ticks\": \"\"}}, \"type\": \"scatterpolar\"}], \"scatterpolargl\": [{\"marker\": {\"colorbar\": {\"outlinewidth\": 0, \"ticks\": \"\"}}, \"type\": \"scatterpolargl\"}], \"scatterternary\": [{\"marker\": {\"colorbar\": {\"outlinewidth\": 0, \"ticks\": \"\"}}, \"type\": \"scatterternary\"}], \"surface\": [{\"colorbar\": {\"outlinewidth\": 0, \"ticks\": \"\"}, \"colorscale\": [[0.0, \"#0d0887\"], [0.1111111111111111, \"#46039f\"], [0.2222222222222222, \"#7201a8\"], [0.3333333333333333, \"#9c179e\"], [0.4444444444444444, \"#bd3786\"], [0.5555555555555556, \"#d8576b\"], [0.6666666666666666, \"#ed7953\"], [0.7777777777777778, \"#fb9f3a\"], [0.8888888888888888, \"#fdca26\"], [1.0, \"#f0f921\"]], \"type\": \"surface\"}], \"table\": [{\"cells\": {\"fill\": {\"color\": \"#EBF0F8\"}, \"line\": {\"color\": \"white\"}}, \"header\": {\"fill\": {\"color\": \"#C8D4E3\"}, \"line\": {\"color\": \"white\"}}, \"type\": \"table\"}]}, \"layout\": {\"annotationdefaults\": {\"arrowcolor\": \"#2a3f5f\", \"arrowhead\": 0, \"arrowwidth\": 1}, \"coloraxis\": {\"colorbar\": {\"outlinewidth\": 0, \"ticks\": \"\"}}, \"colorscale\": {\"diverging\": [[0, \"#8e0152\"], [0.1, \"#c51b7d\"], [0.2, \"#de77ae\"], [0.3, \"#f1b6da\"], [0.4, \"#fde0ef\"], [0.5, \"#f7f7f7\"], [0.6, \"#e6f5d0\"], [0.7, \"#b8e186\"], [0.8, \"#7fbc41\"], [0.9, \"#4d9221\"], [1, \"#276419\"]], \"sequential\": [[0.0, \"#0d0887\"], [0.1111111111111111, \"#46039f\"], [0.2222222222222222, \"#7201a8\"], [0.3333333333333333, \"#9c179e\"], [0.4444444444444444, \"#bd3786\"], [0.5555555555555556, \"#d8576b\"], [0.6666666666666666, \"#ed7953\"], [0.7777777777777778, \"#fb9f3a\"], [0.8888888888888888, \"#fdca26\"], [1.0, \"#f0f921\"]], \"sequentialminus\": [[0.0, \"#0d0887\"], [0.1111111111111111, \"#46039f\"], [0.2222222222222222, \"#7201a8\"], [0.3333333333333333, \"#9c179e\"], [0.4444444444444444, \"#bd3786\"], [0.5555555555555556, \"#d8576b\"], [0.6666666666666666, \"#ed7953\"], [0.7777777777777778, \"#fb9f3a\"], [0.8888888888888888, \"#fdca26\"], [1.0, \"#f0f921\"]]}, \"colorway\": [\"#636efa\", \"#EF553B\", \"#00cc96\", \"#ab63fa\", \"#FFA15A\", \"#19d3f3\", \"#FF6692\", \"#B6E880\", \"#FF97FF\", \"#FECB52\"], \"font\": {\"color\": \"#2a3f5f\"}, \"geo\": {\"bgcolor\": \"white\", \"lakecolor\": \"white\", \"landcolor\": \"#E5ECF6\", \"showlakes\": true, \"showland\": true, \"subunitcolor\": \"white\"}, \"hoverlabel\": {\"align\": \"left\"}, \"hovermode\": \"closest\", \"mapbox\": {\"style\": \"light\"}, \"paper_bgcolor\": \"white\", \"plot_bgcolor\": \"#E5ECF6\", \"polar\": {\"angularaxis\": {\"gridcolor\": \"white\", \"linecolor\": \"white\", \"ticks\": \"\"}, \"bgcolor\": \"#E5ECF6\", \"radialaxis\": {\"gridcolor\": \"white\", \"linecolor\": \"white\", \"ticks\": \"\"}}, \"scene\": {\"xaxis\": {\"backgroundcolor\": \"#E5ECF6\", \"gridcolor\": \"white\", \"gridwidth\": 2, \"linecolor\": \"white\", \"showbackground\": true, \"ticks\": \"\", \"zerolinecolor\": \"white\"}, \"yaxis\": {\"backgroundcolor\": \"#E5ECF6\", \"gridcolor\": \"white\", \"gridwidth\": 2, \"linecolor\": \"white\", \"showbackground\": true, \"ticks\": \"\", \"zerolinecolor\": \"white\"}, \"zaxis\": {\"backgroundcolor\": \"#E5ECF6\", \"gridcolor\": \"white\", \"gridwidth\": 2, \"linecolor\": \"white\", \"showbackground\": true, \"ticks\": \"\", \"zerolinecolor\": \"white\"}}, \"shapedefaults\": {\"line\": {\"color\": \"#2a3f5f\"}}, \"ternary\": {\"aaxis\": {\"gridcolor\": \"white\", \"linecolor\": \"white\", \"ticks\": \"\"}, \"baxis\": {\"gridcolor\": \"white\", \"linecolor\": \"white\", \"ticks\": \"\"}, \"bgcolor\": \"#E5ECF6\", \"caxis\": {\"gridcolor\": \"white\", \"linecolor\": \"white\", \"ticks\": \"\"}}, \"title\": {\"x\": 0.05}, \"xaxis\": {\"automargin\": true, \"gridcolor\": \"white\", \"linecolor\": \"white\", \"ticks\": \"\", \"title\": {\"standoff\": 15}, \"zerolinecolor\": \"white\", \"zerolinewidth\": 2}, \"yaxis\": {\"automargin\": true, \"gridcolor\": \"white\", \"linecolor\": \"white\", \"ticks\": \"\", \"title\": {\"standoff\": 15}, \"zerolinecolor\": \"white\", \"zerolinewidth\": 2}}}, \"updatemenus\": [{\"buttons\": [{\"args\": [null, {\"frame\": {\"duration\": 500, \"redraw\": true}, \"fromcurrent\": true, \"mode\": \"immediate\", \"transition\": {\"duration\": 500, \"easing\": \"linear\"}}], \"label\": \"&#9654;\", \"method\": \"animate\"}, {\"args\": [[null], {\"frame\": {\"duration\": 0, \"redraw\": true}, \"fromcurrent\": true, \"mode\": \"immediate\", \"transition\": {\"duration\": 0, \"easing\": \"linear\"}}], \"label\": \"&#9724;\", \"method\": \"animate\"}], \"direction\": \"left\", \"pad\": {\"r\": 10, \"t\": 70}, \"showactive\": false, \"type\": \"buttons\", \"x\": 0.1, \"xanchor\": \"right\", \"y\": 0, \"yanchor\": \"top\"}]},                        {\"responsive\": true}                    ).then(function(){\n",
       "                            Plotly.addFrames('589799c0-5ea3-483b-a716-f7fb43f8b836', [{\"data\": [{\"coloraxis\": \"coloraxis\", \"geo\": \"geo\", \"hovertemplate\": \"<b>%{hovertext}</b><br><br>date=2020-03-31<br>open_covid_region_code=%{location}<br>hospitalized_new=%{z}<extra></extra>\", \"hovertext\": [\"South Dakota\", \"Montana\", \"Maine\", \"Idaho\", \"Hawaii\", \"Wyoming\", \"North Dakota\", \"New Hampshire\"], \"locationmode\": \"USA-states\", \"locations\": [\"SD\", \"MT\", \"ME\", \"ID\", \"HI\", \"WY\", \"ND\", \"NH\"], \"name\": \"\", \"z\": [12.0, 4.0, 8.0, 6.0, 0.0, 0.0, 2.0, 0.0], \"type\": \"choropleth\"}], \"name\": \"2020-03-31\"}, {\"data\": [{\"coloraxis\": \"coloraxis\", \"geo\": \"geo\", \"hovertemplate\": \"<b>%{hovertext}</b><br><br>date=2020-04-01<br>open_covid_region_code=%{location}<br>hospitalized_new=%{z}<extra></extra>\", \"hovertext\": [\"South Dakota\", \"Montana\", \"Maine\", \"Idaho\", \"Hawaii\", \"Wyoming\", \"North Dakota\", \"New Hampshire\"], \"locationmode\": \"USA-states\", \"locations\": [\"SD\", \"MT\", \"ME\", \"ID\", \"HI\", \"WY\", \"ND\", \"NH\"], \"name\": \"\", \"z\": [0.0, 3.0, 6.0, 1.0, 1.0, 1.0, 2.0, 11.0], \"type\": \"choropleth\"}], \"name\": \"2020-04-01\"}, {\"data\": [{\"coloraxis\": \"coloraxis\", \"geo\": \"geo\", \"hovertemplate\": \"<b>%{hovertext}</b><br><br>date=2020-04-02<br>open_covid_region_code=%{location}<br>hospitalized_new=%{z}<extra></extra>\", \"hovertext\": [\"South Dakota\", \"Montana\", \"Maine\", \"Idaho\", \"Hawaii\", \"Wyoming\", \"North Dakota\", \"New Hampshire\"], \"locationmode\": \"USA-states\", \"locations\": [\"SD\", \"MT\", \"ME\", \"ID\", \"HI\", \"WY\", \"ND\", \"NH\"], \"name\": \"\", \"z\": [5.0, 3.0, 5.0, 3.0, 2.0, 1.0, 5.0, 2.0], \"type\": \"choropleth\"}], \"name\": \"2020-04-02\"}, {\"data\": [{\"coloraxis\": \"coloraxis\", \"geo\": \"geo\", \"hovertemplate\": \"<b>%{hovertext}</b><br><br>date=2020-04-03<br>open_covid_region_code=%{location}<br>hospitalized_new=%{z}<extra></extra>\", \"hovertext\": [\"South Dakota\", \"Montana\", \"Maine\", \"Idaho\", \"Hawaii\", \"Wyoming\", \"North Dakota\", \"New Hampshire\"], \"locationmode\": \"USA-states\", \"locations\": [\"SD\", \"MT\", \"ME\", \"ID\", \"HI\", \"WY\", \"ND\", \"NH\"], \"name\": \"\", \"z\": [0.0, 4.0, 7.0, 7.0, 0.0, 2.0, 1.0, 15.0], \"type\": \"choropleth\"}], \"name\": \"2020-04-03\"}, {\"data\": [{\"coloraxis\": \"coloraxis\", \"geo\": \"geo\", \"hovertemplate\": \"<b>%{hovertext}</b><br><br>date=2020-04-04<br>open_covid_region_code=%{location}<br>hospitalized_new=%{z}<extra></extra>\", \"hovertext\": [\"South Dakota\", \"Montana\", \"Maine\", \"Idaho\", \"Hawaii\", \"Wyoming\", \"North Dakota\", \"New Hampshire\"], \"locationmode\": \"USA-states\", \"locations\": [\"SD\", \"MT\", \"ME\", \"ID\", \"HI\", \"WY\", \"ND\", \"NH\"], \"name\": \"\", \"z\": [2.0, 0.0, 8.0, 6.0, 3.0, 2.0, 1.0, 7.0], \"type\": \"choropleth\"}], \"name\": \"2020-04-04\"}, {\"data\": [{\"coloraxis\": \"coloraxis\", \"geo\": \"geo\", \"hovertemplate\": \"<b>%{hovertext}</b><br><br>date=2020-04-05<br>open_covid_region_code=%{location}<br>hospitalized_new=%{z}<extra></extra>\", \"hovertext\": [\"South Dakota\", \"Montana\", \"Maine\", \"Idaho\", \"Hawaii\", \"Wyoming\", \"North Dakota\", \"New Hampshire\"], \"locationmode\": \"USA-states\", \"locations\": [\"SD\", \"MT\", \"ME\", \"ID\", \"HI\", \"WY\", \"ND\", \"NH\"], \"name\": \"\", \"z\": [3.0, 0.0, 3.0, 4.0, 1.0, 0.0, 1.0, 6.0], \"type\": \"choropleth\"}], \"name\": \"2020-04-05\"}, {\"data\": [{\"coloraxis\": \"coloraxis\", \"geo\": \"geo\", \"hovertemplate\": \"<b>%{hovertext}</b><br><br>date=2020-04-06<br>open_covid_region_code=%{location}<br>hospitalized_new=%{z}<extra></extra>\", \"hovertext\": [\"South Dakota\", \"Montana\", \"Maine\", \"Idaho\", \"Hawaii\", \"Wyoming\", \"North Dakota\", \"New Hampshire\"], \"locationmode\": \"USA-states\", \"locations\": [\"SD\", \"MT\", \"ME\", \"ID\", \"HI\", \"WY\", \"ND\", \"NH\"], \"name\": \"\", \"z\": [1.0, 0.0, 6.0, 11.0, 2.0, 0.0, 1.0, 6.0], \"type\": \"choropleth\"}], \"name\": \"2020-04-06\"}, {\"data\": [{\"coloraxis\": \"coloraxis\", \"geo\": \"geo\", \"hovertemplate\": \"<b>%{hovertext}</b><br><br>date=2020-04-07<br>open_covid_region_code=%{location}<br>hospitalized_new=%{z}<extra></extra>\", \"hovertext\": [\"South Dakota\", \"Montana\", \"Maine\", \"Idaho\", \"Hawaii\", \"Wyoming\", \"North Dakota\", \"New Hampshire\"], \"locationmode\": \"USA-states\", \"locations\": [\"SD\", \"MT\", \"ME\", \"ID\", \"HI\", \"WY\", \"ND\", \"NH\"], \"name\": \"\", \"z\": [0.0, 4.0, 7.0, 6.0, 5.0, 10.0, 1.0, 11.0], \"type\": \"choropleth\"}], \"name\": \"2020-04-07\"}, {\"data\": [{\"coloraxis\": \"coloraxis\", \"geo\": \"geo\", \"hovertemplate\": \"<b>%{hovertext}</b><br><br>date=2020-04-08<br>open_covid_region_code=%{location}<br>hospitalized_new=%{z}<extra></extra>\", \"hovertext\": [\"South Dakota\", \"Montana\", \"Maine\", \"Idaho\", \"Hawaii\", \"Wyoming\", \"North Dakota\", \"New Hampshire\"], \"locationmode\": \"USA-states\", \"locations\": [\"SD\", \"MT\", \"ME\", \"ID\", \"HI\", \"WY\", \"ND\", \"NH\"], \"name\": \"\", \"z\": [3.0, 3.0, 2.0, 10.0, 16.0, 0.0, 1.0, 15.0], \"type\": \"choropleth\"}], \"name\": \"2020-04-08\"}, {\"data\": [{\"coloraxis\": \"coloraxis\", \"geo\": \"geo\", \"hovertemplate\": \"<b>%{hovertext}</b><br><br>date=2020-04-09<br>open_covid_region_code=%{location}<br>hospitalized_new=%{z}<extra></extra>\", \"hovertext\": [\"South Dakota\", \"Montana\", \"Maine\", \"Idaho\", \"Hawaii\", \"Wyoming\", \"North Dakota\", \"New Hampshire\"], \"locationmode\": \"USA-states\", \"locations\": [\"SD\", \"MT\", \"ME\", \"ID\", \"HI\", \"WY\", \"ND\", \"NH\"], \"name\": \"\", \"z\": [1.0, 5.0, 4.0, 20.0, 0.0, 1.0, 0.0, 0.0], \"type\": \"choropleth\"}], \"name\": \"2020-04-09\"}, {\"data\": [{\"coloraxis\": \"coloraxis\", \"geo\": \"geo\", \"hovertemplate\": \"<b>%{hovertext}</b><br><br>date=2020-04-10<br>open_covid_region_code=%{location}<br>hospitalized_new=%{z}<extra></extra>\", \"hovertext\": [\"South Dakota\", \"Montana\", \"Maine\", \"Idaho\", \"Hawaii\", \"Wyoming\", \"North Dakota\", \"New Hampshire\"], \"locationmode\": \"USA-states\", \"locations\": [\"SD\", \"MT\", \"ME\", \"ID\", \"HI\", \"WY\", \"ND\", \"NH\"], \"name\": \"\", \"z\": [2.0, 5.0, 6.0, 14.0, 0.0, 3.0, 2.0, 6.0], \"type\": \"choropleth\"}], \"name\": \"2020-04-10\"}, {\"data\": [{\"coloraxis\": \"coloraxis\", \"geo\": \"geo\", \"hovertemplate\": \"<b>%{hovertext}</b><br><br>date=2020-04-11<br>open_covid_region_code=%{location}<br>hospitalized_new=%{z}<extra></extra>\", \"hovertext\": [\"South Dakota\", \"Montana\", \"Maine\", \"Idaho\", \"Hawaii\", \"Wyoming\", \"North Dakota\", \"New Hampshire\"], \"locationmode\": \"USA-states\", \"locations\": [\"SD\", \"MT\", \"ME\", \"ID\", \"HI\", \"WY\", \"ND\", \"NH\"], \"name\": \"\", \"z\": [4.0, 5.0, 3.0, 1.0, 1.0, 0.0, 0.0, 10.0], \"type\": \"choropleth\"}], \"name\": \"2020-04-11\"}, {\"data\": [{\"coloraxis\": \"coloraxis\", \"geo\": \"geo\", \"hovertemplate\": \"<b>%{hovertext}</b><br><br>date=2020-04-12<br>open_covid_region_code=%{location}<br>hospitalized_new=%{z}<extra></extra>\", \"hovertext\": [\"South Dakota\", \"Montana\", \"Maine\", \"Idaho\", \"Hawaii\", \"Wyoming\", \"North Dakota\", \"New Hampshire\"], \"locationmode\": \"USA-states\", \"locations\": [\"SD\", \"MT\", \"ME\", \"ID\", \"HI\", \"WY\", \"ND\", \"NH\"], \"name\": \"\", \"z\": [10.0, 1.0, 6.0, 3.0, 1.0, 3.0, 3.0, 12.0], \"type\": \"choropleth\"}], \"name\": \"2020-04-12\"}, {\"data\": [{\"coloraxis\": \"coloraxis\", \"geo\": \"geo\", \"hovertemplate\": \"<b>%{hovertext}</b><br><br>date=2020-04-13<br>open_covid_region_code=%{location}<br>hospitalized_new=%{z}<extra></extra>\", \"hovertext\": [\"South Dakota\", \"Montana\", \"Maine\", \"Idaho\", \"Hawaii\", \"Wyoming\", \"North Dakota\", \"New Hampshire\", \"Rhode Island\"], \"locationmode\": \"USA-states\", \"locations\": [\"SD\", \"MT\", \"ME\", \"ID\", \"HI\", \"WY\", \"ND\", \"NH\", \"RI\"], \"name\": \"\", \"z\": [1.0, 0.0, 4.0, 1.0, 0.0, 1.0, 1.0, 6.0, 331.0], \"type\": \"choropleth\"}], \"name\": \"2020-04-13\"}, {\"data\": [{\"coloraxis\": \"coloraxis\", \"geo\": \"geo\", \"hovertemplate\": \"<b>%{hovertext}</b><br><br>date=2020-04-14<br>open_covid_region_code=%{location}<br>hospitalized_new=%{z}<extra></extra>\", \"hovertext\": [\"South Dakota\", \"Montana\", \"Maine\", \"Idaho\", \"New Mexico\", \"Hawaii\", \"Wyoming\", \"North Dakota\", \"New Hampshire\", \"Rhode Island\"], \"locationmode\": \"USA-states\", \"locations\": [\"SD\", \"MT\", \"ME\", \"ID\", \"NM\", \"HI\", \"WY\", \"ND\", \"NH\", \"RI\"], \"name\": \"\", \"z\": [1.0, 3.0, 0.0, 3.0, 181.0, 0.0, 2.0, 2.0, 0.0, 0.0], \"type\": \"choropleth\"}], \"name\": \"2020-04-14\"}, {\"data\": [{\"coloraxis\": \"coloraxis\", \"geo\": \"geo\", \"hovertemplate\": \"<b>%{hovertext}</b><br><br>date=2020-04-15<br>open_covid_region_code=%{location}<br>hospitalized_new=%{z}<extra></extra>\", \"hovertext\": [\"South Dakota\", \"Montana\", \"Maine\", \"Idaho\", \"New Mexico\", \"Hawaii\", \"Wyoming\", \"North Dakota\", \"New Hampshire\", \"Rhode Island\"], \"locationmode\": \"USA-states\", \"locations\": [\"SD\", \"MT\", \"ME\", \"ID\", \"NM\", \"HI\", \"WY\", \"ND\", \"NH\", \"RI\"], \"name\": \"\", \"z\": [6.0, 1.0, 2.0, 6.0, 0.0, 1.0, 0.0, 2.0, 26.0, 0.0], \"type\": \"choropleth\"}], \"name\": \"2020-04-15\"}, {\"data\": [{\"coloraxis\": \"coloraxis\", \"geo\": \"geo\", \"hovertemplate\": \"<b>%{hovertext}</b><br><br>date=2020-04-16<br>open_covid_region_code=%{location}<br>hospitalized_new=%{z}<extra></extra>\", \"hovertext\": [\"South Dakota\", \"Montana\", \"Maine\", \"Idaho\", \"New Mexico\", \"Hawaii\", \"Wyoming\", \"North Dakota\", \"New Hampshire\", \"Rhode Island\"], \"locationmode\": \"USA-states\", \"locations\": [\"SD\", \"MT\", \"ME\", \"ID\", \"NM\", \"HI\", \"WY\", \"ND\", \"NH\", \"RI\"], \"name\": \"\", \"z\": [4.0, 1.0, 4.0, 2.0, 34.0, 0.0, 0.0, 1.0, 0.0, 0.0], \"type\": \"choropleth\"}], \"name\": \"2020-04-16\"}, {\"data\": [{\"coloraxis\": \"coloraxis\", \"geo\": \"geo\", \"hovertemplate\": \"<b>%{hovertext}</b><br><br>date=2020-04-17<br>open_covid_region_code=%{location}<br>hospitalized_new=%{z}<extra></extra>\", \"hovertext\": [\"South Dakota\", \"Montana\", \"Maine\", \"Idaho\", \"New Mexico\", \"Hawaii\", \"Wyoming\", \"North Dakota\", \"New Hampshire\", \"Rhode Island\"], \"locationmode\": \"USA-states\", \"locations\": [\"SD\", \"MT\", \"ME\", \"ID\", \"NM\", \"HI\", \"WY\", \"ND\", \"NH\", \"RI\"], \"name\": \"\", \"z\": [8.0, 2.0, 3.0, 5.0, 15.0, 0.0, 0.0, 2.0, 12.0, 0.0], \"type\": \"choropleth\"}], \"name\": \"2020-04-17\"}, {\"data\": [{\"coloraxis\": \"coloraxis\", \"geo\": \"geo\", \"hovertemplate\": \"<b>%{hovertext}</b><br><br>date=2020-04-18<br>open_covid_region_code=%{location}<br>hospitalized_new=%{z}<extra></extra>\", \"hovertext\": [\"South Dakota\", \"Montana\", \"Maine\", \"Idaho\", \"New Mexico\", \"Hawaii\", \"Wyoming\", \"North Dakota\", \"New Hampshire\", \"Rhode Island\"], \"locationmode\": \"USA-states\", \"locations\": [\"SD\", \"MT\", \"ME\", \"ID\", \"NM\", \"HI\", \"WY\", \"ND\", \"NH\", \"RI\"], \"name\": \"\", \"z\": [5.0, 1.0, 3.0, 3.0, 12.0, 3.0, 7.0, 0.0, 0.0, 247.0], \"type\": \"choropleth\"}], \"name\": \"2020-04-18\"}, {\"data\": [{\"coloraxis\": \"coloraxis\", \"geo\": \"geo\", \"hovertemplate\": \"<b>%{hovertext}</b><br><br>date=2020-04-19<br>open_covid_region_code=%{location}<br>hospitalized_new=%{z}<extra></extra>\", \"hovertext\": [\"South Dakota\", \"Montana\", \"Maine\", \"Idaho\", \"New Mexico\", \"Hawaii\", \"Wyoming\", \"North Dakota\", \"New Hampshire\", \"Rhode Island\"], \"locationmode\": \"USA-states\", \"locations\": [\"SD\", \"MT\", \"ME\", \"ID\", \"NM\", \"HI\", \"WY\", \"ND\", \"NH\", \"RI\"], \"name\": \"\", \"z\": [6.0, 0.0, 0.0, 0.0, 16.0, 3.0, 0.0, 4.0, 2.0, 27.0], \"type\": \"choropleth\"}], \"name\": \"2020-04-19\"}, {\"data\": [{\"coloraxis\": \"coloraxis\", \"geo\": \"geo\", \"hovertemplate\": \"<b>%{hovertext}</b><br><br>date=2020-04-20<br>open_covid_region_code=%{location}<br>hospitalized_new=%{z}<extra></extra>\", \"hovertext\": [\"South Dakota\", \"Montana\", \"Maine\", \"Idaho\", \"New Mexico\", \"Hawaii\", \"Wyoming\", \"North Dakota\", \"New Hampshire\", \"Rhode Island\"], \"locationmode\": \"USA-states\", \"locations\": [\"SD\", \"MT\", \"ME\", \"ID\", \"NM\", \"HI\", \"WY\", \"ND\", \"NH\", \"RI\"], \"name\": \"\", \"z\": [13.0, 2.0, 2.0, 0.0, 16.0, 1.0, 1.0, 2.0, 6.0, 24.0], \"type\": \"choropleth\"}], \"name\": \"2020-04-20\"}, {\"data\": [{\"coloraxis\": \"coloraxis\", \"geo\": \"geo\", \"hovertemplate\": \"<b>%{hovertext}</b><br><br>date=2020-04-21<br>open_covid_region_code=%{location}<br>hospitalized_new=%{z}<extra></extra>\", \"hovertext\": [\"South Dakota\", \"Montana\", \"Maine\", \"Idaho\", \"New Mexico\", \"Hawaii\", \"Wyoming\", \"North Dakota\", \"New Hampshire\", \"Rhode Island\"], \"locationmode\": \"USA-states\", \"locations\": [\"SD\", \"MT\", \"ME\", \"ID\", \"NM\", \"HI\", \"WY\", \"ND\", \"NH\", \"RI\"], \"name\": \"\", \"z\": [13.0, 2.0, 1.0, 6.0, 17.0, 3.0, 1.0, 1.0, 8.0, 45.0], \"type\": \"choropleth\"}], \"name\": \"2020-04-21\"}, {\"data\": [{\"coloraxis\": \"coloraxis\", \"geo\": \"geo\", \"hovertemplate\": \"<b>%{hovertext}</b><br><br>date=2020-04-22<br>open_covid_region_code=%{location}<br>hospitalized_new=%{z}<extra></extra>\", \"hovertext\": [\"South Dakota\", \"Montana\", \"Maine\", \"Idaho\", \"New Mexico\", \"Hawaii\", \"Wyoming\", \"North Dakota\", \"New Hampshire\", \"Rhode Island\"], \"locationmode\": \"USA-states\", \"locations\": [\"SD\", \"MT\", \"ME\", \"ID\", \"NM\", \"HI\", \"WY\", \"ND\", \"NH\", \"RI\"], \"name\": \"\", \"z\": [11.0, 0.0, 5.0, 1.0, 15.0, 1.0, 0.0, 8.0, 0.0, 43.0], \"type\": \"choropleth\"}], \"name\": \"2020-04-22\"}, {\"data\": [{\"coloraxis\": \"coloraxis\", \"geo\": \"geo\", \"hovertemplate\": \"<b>%{hovertext}</b><br><br>date=2020-04-23<br>open_covid_region_code=%{location}<br>hospitalized_new=%{z}<extra></extra>\", \"hovertext\": [\"South Dakota\", \"Montana\", \"Maine\", \"Idaho\", \"New Mexico\", \"Hawaii\", \"Wyoming\", \"North Dakota\", \"New Hampshire\", \"Rhode Island\"], \"locationmode\": \"USA-states\", \"locations\": [\"SD\", \"MT\", \"ME\", \"ID\", \"NM\", \"HI\", \"WY\", \"ND\", \"NH\", \"RI\"], \"name\": \"\", \"z\": [8.0, 0.0, 6.0, 4.0, 25.0, 7.0, 0.0, 3.0, 7.0, 40.0], \"type\": \"choropleth\"}], \"name\": \"2020-04-23\"}, {\"data\": [{\"coloraxis\": \"coloraxis\", \"geo\": \"geo\", \"hovertemplate\": \"<b>%{hovertext}</b><br><br>date=2020-04-24<br>open_covid_region_code=%{location}<br>hospitalized_new=%{z}<extra></extra>\", \"hovertext\": [\"South Dakota\", \"Montana\", \"Maine\", \"Idaho\", \"New Mexico\", \"Hawaii\", \"Wyoming\", \"North Dakota\", \"New Hampshire\", \"Rhode Island\"], \"locationmode\": \"USA-states\", \"locations\": [\"SD\", \"MT\", \"ME\", \"ID\", \"NM\", \"HI\", \"WY\", \"ND\", \"NH\", \"RI\"], \"name\": \"\", \"z\": [5.0, 0.0, 2.0, 4.0, 36.0, 0.0, 2.0, 2.0, 5.0, -181.0], \"type\": \"choropleth\"}], \"name\": \"2020-04-24\"}, {\"data\": [{\"coloraxis\": \"coloraxis\", \"geo\": \"geo\", \"hovertemplate\": \"<b>%{hovertext}</b><br><br>date=2020-04-25<br>open_covid_region_code=%{location}<br>hospitalized_new=%{z}<extra></extra>\", \"hovertext\": [\"South Dakota\", \"Montana\", \"Maine\", \"Idaho\", \"New Mexico\", \"Hawaii\", \"Wyoming\", \"North Dakota\", \"New Hampshire\", \"Rhode Island\"], \"locationmode\": \"USA-states\", \"locations\": [\"SD\", \"MT\", \"ME\", \"ID\", \"NM\", \"HI\", \"WY\", \"ND\", \"NH\", \"RI\"], \"name\": \"\", \"z\": [4.0, 2.0, 4.0, 2.0, 45.0, 4.0, 0.0, 3.0, 6.0, 0.0], \"type\": \"choropleth\"}], \"name\": \"2020-04-25\"}, {\"data\": [{\"coloraxis\": \"coloraxis\", \"geo\": \"geo\", \"hovertemplate\": \"<b>%{hovertext}</b><br><br>date=2020-04-26<br>open_covid_region_code=%{location}<br>hospitalized_new=%{z}<extra></extra>\", \"hovertext\": [\"South Dakota\", \"Montana\", \"Maine\", \"Idaho\", \"New Mexico\", \"Hawaii\", \"Wyoming\", \"North Dakota\", \"New Hampshire\", \"Rhode Island\"], \"locationmode\": \"USA-states\", \"locations\": [\"SD\", \"MT\", \"ME\", \"ID\", \"NM\", \"HI\", \"WY\", \"ND\", \"NH\", \"RI\"], \"name\": \"\", \"z\": [7.0, 0.0, 3.0, 1.0, 0.0, 1.0, 0.0, 1.0, 14.0, 115.0], \"type\": \"choropleth\"}], \"name\": \"2020-04-26\"}, {\"data\": [{\"coloraxis\": \"coloraxis\", \"geo\": \"geo\", \"hovertemplate\": \"<b>%{hovertext}</b><br><br>date=2020-04-27<br>open_covid_region_code=%{location}<br>hospitalized_new=%{z}<extra></extra>\", \"hovertext\": [\"South Dakota\", \"Montana\", \"Maine\", \"Idaho\", \"New Mexico\", \"Hawaii\", \"Wyoming\", \"North Dakota\", \"New Hampshire\", \"Rhode Island\"], \"locationmode\": \"USA-states\", \"locations\": [\"SD\", \"MT\", \"ME\", \"ID\", \"NM\", \"HI\", \"WY\", \"ND\", \"NH\", \"RI\"], \"name\": \"\", \"z\": [15.0, 0.0, 2.0, 0.0, 0.0, 0.0, 0.0, 6.0, 4.0, 27.0], \"type\": \"choropleth\"}], \"name\": \"2020-04-27\"}, {\"data\": [{\"coloraxis\": \"coloraxis\", \"geo\": \"geo\", \"hovertemplate\": \"<b>%{hovertext}</b><br><br>date=2020-04-28<br>open_covid_region_code=%{location}<br>hospitalized_new=%{z}<extra></extra>\", \"hovertext\": [\"South Dakota\", \"Montana\", \"Maine\", \"Idaho\", \"New Mexico\", \"Hawaii\", \"Wyoming\", \"North Dakota\", \"New Hampshire\", \"Rhode Island\"], \"locationmode\": \"USA-states\", \"locations\": [\"SD\", \"MT\", \"ME\", \"ID\", \"NM\", \"HI\", \"WY\", \"ND\", \"NH\", \"RI\"], \"name\": \"\", \"z\": [7.0, 0.0, 2.0, 3.0, 69.0, 0.0, 2.0, 2.0, 4.0, 14.0], \"type\": \"choropleth\"}], \"name\": \"2020-04-28\"}, {\"data\": [{\"coloraxis\": \"coloraxis\", \"geo\": \"geo\", \"hovertemplate\": \"<b>%{hovertext}</b><br><br>date=2020-04-29<br>open_covid_region_code=%{location}<br>hospitalized_new=%{z}<extra></extra>\", \"hovertext\": [\"South Dakota\", \"Montana\", \"Maine\", \"Idaho\", \"New Mexico\", \"Hawaii\", \"Wyoming\", \"North Dakota\", \"New Hampshire\", \"Rhode Island\"], \"locationmode\": \"USA-states\", \"locations\": [\"SD\", \"MT\", \"ME\", \"ID\", \"NM\", \"HI\", \"WY\", \"ND\", \"NH\", \"RI\"], \"name\": \"\", \"z\": [8.0, 0.0, 3.0, 1.0, 28.0, 1.0, 0.0, 3.0, 3.0, 18.0], \"type\": \"choropleth\"}], \"name\": \"2020-04-29\"}, {\"data\": [{\"coloraxis\": \"coloraxis\", \"geo\": \"geo\", \"hovertemplate\": \"<b>%{hovertext}</b><br><br>date=2020-04-30<br>open_covid_region_code=%{location}<br>hospitalized_new=%{z}<extra></extra>\", \"hovertext\": [\"South Dakota\", \"Montana\", \"Maine\", \"Idaho\", \"New Mexico\", \"Hawaii\", \"Wyoming\", \"North Dakota\", \"New Hampshire\", \"Rhode Island\"], \"locationmode\": \"USA-states\", \"locations\": [\"SD\", \"MT\", \"ME\", \"ID\", \"NM\", \"HI\", \"WY\", \"ND\", \"NH\", \"RI\"], \"name\": \"\", \"z\": [8.0, 0.0, 4.0, 2.0, 27.0, 0.0, 0.0, 3.0, 10.0, 146.0], \"type\": \"choropleth\"}], \"name\": \"2020-04-30\"}, {\"data\": [{\"coloraxis\": \"coloraxis\", \"geo\": \"geo\", \"hovertemplate\": \"<b>%{hovertext}</b><br><br>date=2020-05-01<br>open_covid_region_code=%{location}<br>hospitalized_new=%{z}<extra></extra>\", \"hovertext\": [\"South Dakota\", \"Montana\", \"Maine\", \"Idaho\", \"New Mexico\", \"Hawaii\", \"Wyoming\", \"North Dakota\", \"New Hampshire\", \"Rhode Island\"], \"locationmode\": \"USA-states\", \"locations\": [\"SD\", \"MT\", \"ME\", \"ID\", \"NM\", \"HI\", \"WY\", \"ND\", \"NH\", \"RI\"], \"name\": \"\", \"z\": [6.0, 0.0, 7.0, 3.0, 0.0, 1.0, 0.0, 1.0, 3.0, 41.0], \"type\": \"choropleth\"}], \"name\": \"2020-05-01\"}, {\"data\": [{\"coloraxis\": \"coloraxis\", \"geo\": \"geo\", \"hovertemplate\": \"<b>%{hovertext}</b><br><br>date=2020-05-02<br>open_covid_region_code=%{location}<br>hospitalized_new=%{z}<extra></extra>\", \"hovertext\": [\"South Dakota\", \"Montana\", \"Maine\", \"Idaho\", \"New Mexico\", \"Hawaii\", \"Wyoming\", \"North Dakota\", \"New Hampshire\", \"Rhode Island\"], \"locationmode\": \"USA-states\", \"locations\": [\"SD\", \"MT\", \"ME\", \"ID\", \"NM\", \"HI\", \"WY\", \"ND\", \"NH\", \"RI\"], \"name\": \"\", \"z\": [8.0, 0.0, 4.0, 0.0, 51.0, 2.0, 2.0, 4.0, 8.0, 40.0], \"type\": \"choropleth\"}], \"name\": \"2020-05-02\"}, {\"data\": [{\"coloraxis\": \"coloraxis\", \"geo\": \"geo\", \"hovertemplate\": \"<b>%{hovertext}</b><br><br>date=2020-05-03<br>open_covid_region_code=%{location}<br>hospitalized_new=%{z}<extra></extra>\", \"hovertext\": [\"South Dakota\", \"Montana\", \"Maine\", \"Idaho\", \"New Mexico\", \"Hawaii\", \"Wyoming\", \"North Dakota\", \"New Hampshire\", \"Rhode Island\"], \"locationmode\": \"USA-states\", \"locations\": [\"SD\", \"MT\", \"ME\", \"ID\", \"NM\", \"HI\", \"WY\", \"ND\", \"NH\", \"RI\"], \"name\": \"\", \"z\": [10.0, 0.0, 2.0, 22.0, 0.0, 0.0, 2.0, 0.0, 7.0, 36.0], \"type\": \"choropleth\"}], \"name\": \"2020-05-03\"}, {\"data\": [{\"coloraxis\": \"coloraxis\", \"geo\": \"geo\", \"hovertemplate\": \"<b>%{hovertext}</b><br><br>date=2020-05-04<br>open_covid_region_code=%{location}<br>hospitalized_new=%{z}<extra></extra>\", \"hovertext\": [\"South Dakota\", \"Montana\", \"Maine\", \"Idaho\", \"New Mexico\", \"Hawaii\", \"Wyoming\", \"North Dakota\", \"New Hampshire\", \"Rhode Island\"], \"locationmode\": \"USA-states\", \"locations\": [\"SD\", \"MT\", \"ME\", \"ID\", \"NM\", \"HI\", \"WY\", \"ND\", \"NH\", \"RI\"], \"name\": \"\", \"z\": [14.0, 1.0, 3.0, 0.0, 0.0, 1.0, 0.0, 4.0, 9.0, 48.0], \"type\": \"choropleth\"}], \"name\": \"2020-05-04\"}, {\"data\": [{\"coloraxis\": \"coloraxis\", \"geo\": \"geo\", \"hovertemplate\": \"<b>%{hovertext}</b><br><br>date=2020-05-05<br>open_covid_region_code=%{location}<br>hospitalized_new=%{z}<extra></extra>\", \"hovertext\": [\"South Dakota\", \"Montana\", \"Maine\", \"Idaho\", \"New Mexico\", \"Hawaii\", \"Wyoming\", \"North Dakota\", \"New Hampshire\", \"Rhode Island\"], \"locationmode\": \"USA-states\", \"locations\": [\"SD\", \"MT\", \"ME\", \"ID\", \"NM\", \"HI\", \"WY\", \"ND\", \"NH\", \"RI\"], \"name\": \"\", \"z\": [9.0, 0.0, 1.0, 1.0, 80.0, 0.0, 0.0, 1.0, 0.0, 31.0], \"type\": \"choropleth\"}], \"name\": \"2020-05-05\"}, {\"data\": [{\"coloraxis\": \"coloraxis\", \"geo\": \"geo\", \"hovertemplate\": \"<b>%{hovertext}</b><br><br>date=2020-05-06<br>open_covid_region_code=%{location}<br>hospitalized_new=%{z}<extra></extra>\", \"hovertext\": [\"South Dakota\", \"Montana\", \"Maine\", \"Idaho\", \"New Mexico\", \"Hawaii\", \"Wyoming\", \"North Dakota\", \"New Hampshire\", \"Rhode Island\"], \"locationmode\": \"USA-states\", \"locations\": [\"SD\", \"MT\", \"ME\", \"ID\", \"NM\", \"HI\", \"WY\", \"ND\", \"NH\", \"RI\"], \"name\": \"\", \"z\": [10.0, 0.0, 4.0, 2.0, 20.0, 0.0, 0.0, 2.0, 9.0, 31.0], \"type\": \"choropleth\"}], \"name\": \"2020-05-06\"}, {\"data\": [{\"coloraxis\": \"coloraxis\", \"geo\": \"geo\", \"hovertemplate\": \"<b>%{hovertext}</b><br><br>date=2020-05-07<br>open_covid_region_code=%{location}<br>hospitalized_new=%{z}<extra></extra>\", \"hovertext\": [\"South Dakota\", \"Montana\", \"Maine\", \"Idaho\", \"New Mexico\", \"Hawaii\", \"Wyoming\", \"North Dakota\", \"New Hampshire\", \"Rhode Island\"], \"locationmode\": \"USA-states\", \"locations\": [\"SD\", \"MT\", \"ME\", \"ID\", \"NM\", \"HI\", \"WY\", \"ND\", \"NH\", \"RI\"], \"name\": \"\", \"z\": [6.0, 0.0, 1.0, 2.0, 0.0, 1.0, -1.0, 5.0, 12.0, 30.0], \"type\": \"choropleth\"}], \"name\": \"2020-05-07\"}, {\"data\": [{\"coloraxis\": \"coloraxis\", \"geo\": \"geo\", \"hovertemplate\": \"<b>%{hovertext}</b><br><br>date=2020-05-08<br>open_covid_region_code=%{location}<br>hospitalized_new=%{z}<extra></extra>\", \"hovertext\": [\"South Dakota\", \"Montana\", \"Maine\", \"Idaho\", \"New Mexico\", \"Hawaii\", \"Wyoming\", \"North Dakota\", \"New Hampshire\", \"Rhode Island\"], \"locationmode\": \"USA-states\", \"locations\": [\"SD\", \"MT\", \"ME\", \"ID\", \"NM\", \"HI\", \"WY\", \"ND\", \"NH\", \"RI\"], \"name\": \"\", \"z\": [11.0, 0.0, 2.0, 1.0, 73.0, 0.0, 1.0, 2.0, 1.0, 34.0], \"type\": \"choropleth\"}], \"name\": \"2020-05-08\"}, {\"data\": [{\"coloraxis\": \"coloraxis\", \"geo\": \"geo\", \"hovertemplate\": \"<b>%{hovertext}</b><br><br>date=2020-05-09<br>open_covid_region_code=%{location}<br>hospitalized_new=%{z}<extra></extra>\", \"hovertext\": [\"South Dakota\", \"Montana\", \"Maine\", \"Idaho\", \"New Mexico\", \"Hawaii\", \"Wyoming\", \"North Dakota\", \"New Hampshire\", \"Rhode Island\"], \"locationmode\": \"USA-states\", \"locations\": [\"SD\", \"MT\", \"ME\", \"ID\", \"NM\", \"HI\", \"WY\", \"ND\", \"NH\", \"RI\"], \"name\": \"\", \"z\": [6.0, 0.0, 4.0, 0.0, 29.0, 7.0, 4.0, 6.0, 1.0, 31.0], \"type\": \"choropleth\"}], \"name\": \"2020-05-09\"}, {\"data\": [{\"coloraxis\": \"coloraxis\", \"geo\": \"geo\", \"hovertemplate\": \"<b>%{hovertext}</b><br><br>date=2020-05-10<br>open_covid_region_code=%{location}<br>hospitalized_new=%{z}<extra></extra>\", \"hovertext\": [\"South Dakota\", \"Montana\", \"Maine\", \"Idaho\", \"New Mexico\", \"Hawaii\", \"Wyoming\", \"North Dakota\", \"New Hampshire\", \"Rhode Island\"], \"locationmode\": \"USA-states\", \"locations\": [\"SD\", \"MT\", \"ME\", \"ID\", \"NM\", \"HI\", \"WY\", \"ND\", \"NH\", \"RI\"], \"name\": \"\", \"z\": [8.0, 0.0, 1.0, 1.0, 0.0, 0.0, 1.0, 0.0, 4.0, 33.0], \"type\": \"choropleth\"}], \"name\": \"2020-05-10\"}, {\"data\": [{\"coloraxis\": \"coloraxis\", \"geo\": \"geo\", \"hovertemplate\": \"<b>%{hovertext}</b><br><br>date=2020-05-11<br>open_covid_region_code=%{location}<br>hospitalized_new=%{z}<extra></extra>\", \"hovertext\": [\"South Dakota\", \"Montana\", \"Maine\", \"Idaho\", \"New Mexico\", \"Hawaii\", \"Wyoming\", \"North Dakota\", \"New Hampshire\", \"Rhode Island\"], \"locationmode\": \"USA-states\", \"locations\": [\"SD\", \"MT\", \"ME\", \"ID\", \"NM\", \"HI\", \"WY\", \"ND\", \"NH\", \"RI\"], \"name\": \"\", \"z\": [2.0, 0.0, 1.0, 0.0, 0.0, 0.0, 1.0, 5.0, 5.0, 29.0], \"type\": \"choropleth\"}], \"name\": \"2020-05-11\"}, {\"data\": [{\"coloraxis\": \"coloraxis\", \"geo\": \"geo\", \"hovertemplate\": \"<b>%{hovertext}</b><br><br>date=2020-05-12<br>open_covid_region_code=%{location}<br>hospitalized_new=%{z}<extra></extra>\", \"hovertext\": [\"South Dakota\", \"Montana\", \"Maine\", \"Idaho\", \"New Mexico\", \"Hawaii\", \"Wyoming\", \"North Dakota\", \"New Hampshire\", \"Rhode Island\"], \"locationmode\": \"USA-states\", \"locations\": [\"SD\", \"MT\", \"ME\", \"ID\", \"NM\", \"HI\", \"WY\", \"ND\", \"NH\", \"RI\"], \"name\": \"\", \"z\": [8.0, 1.0, 2.0, 3.0, 97.0, 0.0, 1.0, 7.0, 0.0, 27.0], \"type\": \"choropleth\"}], \"name\": \"2020-05-12\"}, {\"data\": [{\"coloraxis\": \"coloraxis\", \"geo\": \"geo\", \"hovertemplate\": \"<b>%{hovertext}</b><br><br>date=2020-05-13<br>open_covid_region_code=%{location}<br>hospitalized_new=%{z}<extra></extra>\", \"hovertext\": [\"South Dakota\", \"Montana\", \"Maine\", \"Idaho\", \"New Mexico\", \"Hawaii\", \"Wyoming\", \"North Dakota\", \"New Hampshire\", \"Rhode Island\"], \"locationmode\": \"USA-states\", \"locations\": [\"SD\", \"MT\", \"ME\", \"ID\", \"NM\", \"HI\", \"WY\", \"ND\", \"NH\", \"RI\"], \"name\": \"\", \"z\": [10.0, 0.0, 2.0, 4.0, 0.0, 0.0, 0.0, 5.0, 1.0, 21.0], \"type\": \"choropleth\"}], \"name\": \"2020-05-13\"}, {\"data\": [{\"coloraxis\": \"coloraxis\", \"geo\": \"geo\", \"hovertemplate\": \"<b>%{hovertext}</b><br><br>date=2020-05-14<br>open_covid_region_code=%{location}<br>hospitalized_new=%{z}<extra></extra>\", \"hovertext\": [\"South Dakota\", \"Montana\", \"Maine\", \"Idaho\", \"New Mexico\", \"Hawaii\", \"Wyoming\", \"North Dakota\", \"New Hampshire\", \"Rhode Island\"], \"locationmode\": \"USA-states\", \"locations\": [\"SD\", \"MT\", \"ME\", \"ID\", \"NM\", \"HI\", \"WY\", \"ND\", \"NH\", \"RI\"], \"name\": \"\", \"z\": [9.0, 0.0, 3.0, -2.0, 0.0, 0.0, 0.0, 2.0, 7.0, 23.0], \"type\": \"choropleth\"}], \"name\": \"2020-05-14\"}, {\"data\": [{\"coloraxis\": \"coloraxis\", \"geo\": \"geo\", \"hovertemplate\": \"<b>%{hovertext}</b><br><br>date=2020-05-15<br>open_covid_region_code=%{location}<br>hospitalized_new=%{z}<extra></extra>\", \"hovertext\": [\"South Dakota\", \"Montana\", \"Maine\", \"Idaho\", \"New Mexico\", \"Hawaii\", \"Wyoming\", \"North Dakota\", \"New Hampshire\", \"Rhode Island\"], \"locationmode\": \"USA-states\", \"locations\": [\"SD\", \"MT\", \"ME\", \"ID\", \"NM\", \"HI\", \"WY\", \"ND\", \"NH\", \"RI\"], \"name\": \"\", \"z\": [6.0, 0.0, 4.0, 0.0, 0.0, 0.0, 1.0, 1.0, 9.0, 21.0], \"type\": \"choropleth\"}], \"name\": \"2020-05-15\"}, {\"data\": [{\"coloraxis\": \"coloraxis\", \"geo\": \"geo\", \"hovertemplate\": \"<b>%{hovertext}</b><br><br>date=2020-05-16<br>open_covid_region_code=%{location}<br>hospitalized_new=%{z}<extra></extra>\", \"hovertext\": [\"South Dakota\", \"Montana\", \"Maine\", \"Idaho\", \"New Mexico\", \"Hawaii\", \"Wyoming\", \"North Dakota\", \"New Hampshire\", \"Rhode Island\"], \"locationmode\": \"USA-states\", \"locations\": [\"SD\", \"MT\", \"ME\", \"ID\", \"NM\", \"HI\", \"WY\", \"ND\", \"NH\", \"RI\"], \"name\": \"\", \"z\": [8.0, 0.0, 3.0, 1.0, 0.0, 0.0, 1.0, 0.0, 0.0, 31.0], \"type\": \"choropleth\"}], \"name\": \"2020-05-16\"}, {\"data\": [{\"coloraxis\": \"coloraxis\", \"geo\": \"geo\", \"hovertemplate\": \"<b>%{hovertext}</b><br><br>date=2020-05-17<br>open_covid_region_code=%{location}<br>hospitalized_new=%{z}<extra></extra>\", \"hovertext\": [\"South Dakota\", \"Montana\", \"Maine\", \"Idaho\", \"New Mexico\", \"Hawaii\", \"Wyoming\", \"North Dakota\", \"New Hampshire\", \"Rhode Island\"], \"locationmode\": \"USA-states\", \"locations\": [\"SD\", \"MT\", \"ME\", \"ID\", \"NM\", \"HI\", \"WY\", \"ND\", \"NH\", \"RI\"], \"name\": \"\", \"z\": [8.0, 0.0, 2.0, 0.0, 0.0, 1.0, 1.0, 0.0, 12.0, 15.0], \"type\": \"choropleth\"}], \"name\": \"2020-05-17\"}, {\"data\": [{\"coloraxis\": \"coloraxis\", \"geo\": \"geo\", \"hovertemplate\": \"<b>%{hovertext}</b><br><br>date=2020-05-18<br>open_covid_region_code=%{location}<br>hospitalized_new=%{z}<extra></extra>\", \"hovertext\": [\"South Dakota\", \"Montana\", \"Maine\", \"Idaho\", \"New Mexico\", \"Hawaii\", \"Wyoming\", \"North Dakota\", \"New Hampshire\", \"Rhode Island\"], \"locationmode\": \"USA-states\", \"locations\": [\"SD\", \"MT\", \"ME\", \"ID\", \"NM\", \"HI\", \"WY\", \"ND\", \"NH\", \"RI\"], \"name\": \"\", \"z\": [4.0, 1.0, 7.0, 0.0, 0.0, 0.0, 3.0, 3.0, 12.0, 20.0], \"type\": \"choropleth\"}], \"name\": \"2020-05-18\"}, {\"data\": [{\"coloraxis\": \"coloraxis\", \"geo\": \"geo\", \"hovertemplate\": \"<b>%{hovertext}</b><br><br>date=2020-05-19<br>open_covid_region_code=%{location}<br>hospitalized_new=%{z}<extra></extra>\", \"hovertext\": [\"South Dakota\", \"Montana\", \"Maine\", \"Idaho\", \"New Mexico\", \"Hawaii\", \"Wyoming\", \"North Dakota\", \"New Hampshire\", \"Rhode Island\"], \"locationmode\": \"USA-states\", \"locations\": [\"SD\", \"MT\", \"ME\", \"ID\", \"NM\", \"HI\", \"WY\", \"ND\", \"NH\", \"RI\"], \"name\": \"\", \"z\": [11.0, 1.0, 2.0, 0.0, 0.0, 0.0, 0.0, 2.0, 9.0, 26.0], \"type\": \"choropleth\"}], \"name\": \"2020-05-19\"}, {\"data\": [{\"coloraxis\": \"coloraxis\", \"geo\": \"geo\", \"hovertemplate\": \"<b>%{hovertext}</b><br><br>date=2020-05-20<br>open_covid_region_code=%{location}<br>hospitalized_new=%{z}<extra></extra>\", \"hovertext\": [\"South Dakota\", \"Montana\", \"Maine\", \"Idaho\", \"New Mexico\", \"Hawaii\", \"Wyoming\", \"North Dakota\", \"New Hampshire\", \"Rhode Island\"], \"locationmode\": \"USA-states\", \"locations\": [\"SD\", \"MT\", \"ME\", \"ID\", \"NM\", \"HI\", \"WY\", \"ND\", \"NH\", \"RI\"], \"name\": \"\", \"z\": [6.0, 0.0, 6.0, 2.0, 253.0, 0.0, 1.0, 7.0, 15.0, 22.0], \"type\": \"choropleth\"}], \"name\": \"2020-05-20\"}, {\"data\": [{\"coloraxis\": \"coloraxis\", \"geo\": \"geo\", \"hovertemplate\": \"<b>%{hovertext}</b><br><br>date=2020-05-21<br>open_covid_region_code=%{location}<br>hospitalized_new=%{z}<extra></extra>\", \"hovertext\": [\"South Dakota\", \"Montana\", \"Maine\", \"Idaho\", \"New Mexico\", \"Hawaii\", \"Wyoming\", \"North Dakota\", \"New Hampshire\", \"Rhode Island\"], \"locationmode\": \"USA-states\", \"locations\": [\"SD\", \"MT\", \"ME\", \"ID\", \"NM\", \"HI\", \"WY\", \"ND\", \"NH\", \"RI\"], \"name\": \"\", \"z\": [9.0, 0.0, 4.0, 6.0, 0.0, 0.0, 1.0, 2.0, 2.0, 20.0], \"type\": \"choropleth\"}], \"name\": \"2020-05-21\"}, {\"data\": [{\"coloraxis\": \"coloraxis\", \"geo\": \"geo\", \"hovertemplate\": \"<b>%{hovertext}</b><br><br>date=2020-05-22<br>open_covid_region_code=%{location}<br>hospitalized_new=%{z}<extra></extra>\", \"hovertext\": [\"South Dakota\", \"Montana\", \"Maine\", \"Idaho\", \"New Mexico\", \"Hawaii\", \"Wyoming\", \"North Dakota\", \"New Hampshire\", \"Rhode Island\"], \"locationmode\": \"USA-states\", \"locations\": [\"SD\", \"MT\", \"ME\", \"ID\", \"NM\", \"HI\", \"WY\", \"ND\", \"NH\", \"RI\"], \"name\": \"\", \"z\": [9.0, 0.0, 5.0, 2.0, 0.0, 1.0, 1.0, 3.0, 8.0, 31.0], \"type\": \"choropleth\"}], \"name\": \"2020-05-22\"}, {\"data\": [{\"coloraxis\": \"coloraxis\", \"geo\": \"geo\", \"hovertemplate\": \"<b>%{hovertext}</b><br><br>date=2020-05-23<br>open_covid_region_code=%{location}<br>hospitalized_new=%{z}<extra></extra>\", \"hovertext\": [\"South Dakota\", \"Montana\", \"Maine\", \"Idaho\", \"New Mexico\", \"Hawaii\", \"Wyoming\", \"North Dakota\", \"New Hampshire\", \"Rhode Island\"], \"locationmode\": \"USA-states\", \"locations\": [\"SD\", \"MT\", \"ME\", \"ID\", \"NM\", \"HI\", \"WY\", \"ND\", \"NH\", \"RI\"], \"name\": \"\", \"z\": [7.0, 0.0, 3.0, 2.0, 0.0, 1.0, 1.0, 3.0, 26.0, 20.0], \"type\": \"choropleth\"}], \"name\": \"2020-05-23\"}, {\"data\": [{\"coloraxis\": \"coloraxis\", \"geo\": \"geo\", \"hovertemplate\": \"<b>%{hovertext}</b><br><br>date=2020-05-24<br>open_covid_region_code=%{location}<br>hospitalized_new=%{z}<extra></extra>\", \"hovertext\": [\"South Dakota\", \"Montana\", \"Maine\", \"Idaho\", \"New Mexico\", \"Hawaii\", \"Wyoming\", \"North Dakota\", \"New Hampshire\", \"Rhode Island\"], \"locationmode\": \"USA-states\", \"locations\": [\"SD\", \"MT\", \"ME\", \"ID\", \"NM\", \"HI\", \"WY\", \"ND\", \"NH\", \"RI\"], \"name\": \"\", \"z\": [6.0, 0.0, 9.0, 0.0, 0.0, 0.0, 1.0, 2.0, 0.0, 23.0], \"type\": \"choropleth\"}], \"name\": \"2020-05-24\"}, {\"data\": [{\"coloraxis\": \"coloraxis\", \"geo\": \"geo\", \"hovertemplate\": \"<b>%{hovertext}</b><br><br>date=2020-05-25<br>open_covid_region_code=%{location}<br>hospitalized_new=%{z}<extra></extra>\", \"hovertext\": [\"South Dakota\", \"Montana\", \"Maine\", \"Idaho\", \"New Mexico\", \"Hawaii\", \"Wyoming\", \"North Dakota\", \"New Hampshire\", \"Rhode Island\"], \"locationmode\": \"USA-states\", \"locations\": [\"SD\", \"MT\", \"ME\", \"ID\", \"NM\", \"HI\", \"WY\", \"ND\", \"NH\", \"RI\"], \"name\": \"\", \"z\": [6.0, 0.0, 5.0, 0.0, 104.0, 0.0, 1.0, 2.0, 0.0, 0.0], \"type\": \"choropleth\"}], \"name\": \"2020-05-25\"}, {\"data\": [{\"coloraxis\": \"coloraxis\", \"geo\": \"geo\", \"hovertemplate\": \"<b>%{hovertext}</b><br><br>date=2020-05-26<br>open_covid_region_code=%{location}<br>hospitalized_new=%{z}<extra></extra>\", \"hovertext\": [\"South Dakota\", \"Montana\", \"Maine\", \"Idaho\", \"New Mexico\", \"Hawaii\", \"Wyoming\", \"North Dakota\", \"New Hampshire\", \"Rhode Island\"], \"locationmode\": \"USA-states\", \"locations\": [\"SD\", \"MT\", \"ME\", \"ID\", \"NM\", \"HI\", \"WY\", \"ND\", \"NH\", \"RI\"], \"name\": \"\", \"z\": [8.0, 0.0, 1.0, 0.0, 21.0, 0.0, 3.0, 2.0, 1.0, 33.0], \"type\": \"choropleth\"}], \"name\": \"2020-05-26\"}, {\"data\": [{\"coloraxis\": \"coloraxis\", \"geo\": \"geo\", \"hovertemplate\": \"<b>%{hovertext}</b><br><br>date=2020-05-27<br>open_covid_region_code=%{location}<br>hospitalized_new=%{z}<extra></extra>\", \"hovertext\": [\"South Dakota\", \"Montana\", \"Maine\", \"Idaho\", \"New Mexico\", \"Hawaii\", \"Wyoming\", \"North Dakota\", \"New Hampshire\", \"Rhode Island\"], \"locationmode\": \"USA-states\", \"locations\": [\"SD\", \"MT\", \"ME\", \"ID\", \"NM\", \"HI\", \"WY\", \"ND\", \"NH\", \"RI\"], \"name\": \"\", \"z\": [13.0, 1.0, 2.0, 6.0, 18.0, -1.0, 0.0, 5.0, 1.0, 11.0], \"type\": \"choropleth\"}], \"name\": \"2020-05-27\"}, {\"data\": [{\"coloraxis\": \"coloraxis\", \"geo\": \"geo\", \"hovertemplate\": \"<b>%{hovertext}</b><br><br>date=2020-05-28<br>open_covid_region_code=%{location}<br>hospitalized_new=%{z}<extra></extra>\", \"hovertext\": [\"South Dakota\", \"Montana\", \"Maine\", \"Idaho\", \"New Mexico\", \"Hawaii\", \"Wyoming\", \"North Dakota\", \"New Hampshire\", \"Rhode Island\"], \"locationmode\": \"USA-states\", \"locations\": [\"SD\", \"MT\", \"ME\", \"ID\", \"NM\", \"HI\", \"WY\", \"ND\", \"NH\", \"RI\"], \"name\": \"\", \"z\": [15.0, 0.0, 4.0, 3.0, 0.0, 0.0, 0.0, 0.0, 5.0, 15.0], \"type\": \"choropleth\"}], \"name\": \"2020-05-28\"}, {\"data\": [{\"coloraxis\": \"coloraxis\", \"geo\": \"geo\", \"hovertemplate\": \"<b>%{hovertext}</b><br><br>date=2020-05-29<br>open_covid_region_code=%{location}<br>hospitalized_new=%{z}<extra></extra>\", \"hovertext\": [\"South Dakota\", \"Montana\", \"Maine\", \"Idaho\", \"New Mexico\", \"Hawaii\", \"Wyoming\", \"North Dakota\", \"New Hampshire\", \"Rhode Island\"], \"locationmode\": \"USA-states\", \"locations\": [\"SD\", \"MT\", \"ME\", \"ID\", \"NM\", \"HI\", \"WY\", \"ND\", \"NH\", \"RI\"], \"name\": \"\", \"z\": [12.0, 1.0, 6.0, 4.0, 35.0, 0.0, 2.0, 3.0, 12.0, 21.0], \"type\": \"choropleth\"}], \"name\": \"2020-05-29\"}, {\"data\": [{\"coloraxis\": \"coloraxis\", \"geo\": \"geo\", \"hovertemplate\": \"<b>%{hovertext}</b><br><br>date=2020-05-30<br>open_covid_region_code=%{location}<br>hospitalized_new=%{z}<extra></extra>\", \"hovertext\": [\"South Dakota\", \"Montana\", \"Maine\", \"Idaho\", \"New Mexico\", \"Hawaii\", \"Wyoming\", \"North Dakota\", \"New Hampshire\", \"Rhode Island\"], \"locationmode\": \"USA-states\", \"locations\": [\"SD\", \"MT\", \"ME\", \"ID\", \"NM\", \"HI\", \"WY\", \"ND\", \"NH\", \"RI\"], \"name\": \"\", \"z\": [9.0, 0.0, 2.0, 2.0, 0.0, 0.0, 1.0, 1.0, 2.0, 22.0], \"type\": \"choropleth\"}], \"name\": \"2020-05-30\"}, {\"data\": [{\"coloraxis\": \"coloraxis\", \"geo\": \"geo\", \"hovertemplate\": \"<b>%{hovertext}</b><br><br>date=2020-05-31<br>open_covid_region_code=%{location}<br>hospitalized_new=%{z}<extra></extra>\", \"hovertext\": [\"South Dakota\", \"Montana\", \"Maine\", \"Idaho\", \"New Mexico\", \"Hawaii\", \"Wyoming\", \"North Dakota\", \"New Hampshire\", \"Rhode Island\"], \"locationmode\": \"USA-states\", \"locations\": [\"SD\", \"MT\", \"ME\", \"ID\", \"NM\", \"HI\", \"WY\", \"ND\", \"NH\", \"RI\"], \"name\": \"\", \"z\": [5.0, 0.0, 11.0, 2.0, 0.0, 0.0, 0.0, 2.0, 9.0, 19.0], \"type\": \"choropleth\"}], \"name\": \"2020-05-31\"}, {\"data\": [{\"coloraxis\": \"coloraxis\", \"geo\": \"geo\", \"hovertemplate\": \"<b>%{hovertext}</b><br><br>date=2020-06-01<br>open_covid_region_code=%{location}<br>hospitalized_new=%{z}<extra></extra>\", \"hovertext\": [\"South Dakota\", \"Montana\", \"Maine\", \"Idaho\", \"New Mexico\", \"Hawaii\", \"Wyoming\", \"North Dakota\", \"New Hampshire\", \"Rhode Island\"], \"locationmode\": \"USA-states\", \"locations\": [\"SD\", \"MT\", \"ME\", \"ID\", \"NM\", \"HI\", \"WY\", \"ND\", \"NH\", \"RI\"], \"name\": \"\", \"z\": [3.0, 0.0, 1.0, 0.0, 0.0, 0.0, 1.0, 2.0, 2.0, 23.0], \"type\": \"choropleth\"}], \"name\": \"2020-06-01\"}, {\"data\": [{\"coloraxis\": \"coloraxis\", \"geo\": \"geo\", \"hovertemplate\": \"<b>%{hovertext}</b><br><br>date=2020-06-02<br>open_covid_region_code=%{location}<br>hospitalized_new=%{z}<extra></extra>\", \"hovertext\": [\"South Dakota\", \"Montana\", \"Maine\", \"Idaho\", \"New Mexico\", \"Hawaii\", \"Wyoming\", \"North Dakota\", \"New Hampshire\", \"Rhode Island\"], \"locationmode\": \"USA-states\", \"locations\": [\"SD\", \"MT\", \"ME\", \"ID\", \"NM\", \"HI\", \"WY\", \"ND\", \"NH\", \"RI\"], \"name\": \"\", \"z\": [8.0, 0.0, 3.0, 5.0, 0.0, 0.0, 0.0, 1.0, 5.0, 19.0], \"type\": \"choropleth\"}], \"name\": \"2020-06-02\"}, {\"data\": [{\"coloraxis\": \"coloraxis\", \"geo\": \"geo\", \"hovertemplate\": \"<b>%{hovertext}</b><br><br>date=2020-06-03<br>open_covid_region_code=%{location}<br>hospitalized_new=%{z}<extra></extra>\", \"hovertext\": [\"South Dakota\", \"Montana\", \"Maine\", \"Idaho\", \"New Mexico\", \"Hawaii\", \"Wyoming\", \"North Dakota\", \"New Hampshire\", \"Rhode Island\", \"Nebraska\"], \"locationmode\": \"USA-states\", \"locations\": [\"SD\", \"MT\", \"ME\", \"ID\", \"NM\", \"HI\", \"WY\", \"ND\", \"NH\", \"RI\", \"NE\"], \"name\": \"\", \"z\": [13.0, 1.0, -2.0, 4.0, 99.0, 0.0, 1.0, 2.0, 6.0, 10.0, 851.0], \"type\": \"choropleth\"}], \"name\": \"2020-06-03\"}, {\"data\": [{\"coloraxis\": \"coloraxis\", \"geo\": \"geo\", \"hovertemplate\": \"<b>%{hovertext}</b><br><br>date=2020-06-04<br>open_covid_region_code=%{location}<br>hospitalized_new=%{z}<extra></extra>\", \"hovertext\": [\"South Dakota\", \"Montana\", \"Maine\", \"Idaho\", \"New Mexico\", \"Hawaii\", \"Wyoming\", \"North Dakota\", \"New Hampshire\", \"Rhode Island\", \"Nebraska\"], \"locationmode\": \"USA-states\", \"locations\": [\"SD\", \"MT\", \"ME\", \"ID\", \"NM\", \"HI\", \"WY\", \"ND\", \"NH\", \"RI\", \"NE\"], \"name\": \"\", \"z\": [8.0, 0.0, 6.0, 2.0, 0.0, 0.0, 0.0, 3.0, 6.0, 12.0, 51.0], \"type\": \"choropleth\"}], \"name\": \"2020-06-04\"}, {\"data\": [{\"coloraxis\": \"coloraxis\", \"geo\": \"geo\", \"hovertemplate\": \"<b>%{hovertext}</b><br><br>date=2020-06-05<br>open_covid_region_code=%{location}<br>hospitalized_new=%{z}<extra></extra>\", \"hovertext\": [\"South Dakota\", \"Montana\", \"Maine\", \"Idaho\", \"New Mexico\", \"Hawaii\", \"Wyoming\", \"North Dakota\", \"New Hampshire\", \"Rhode Island\", \"Nebraska\"], \"locationmode\": \"USA-states\", \"locations\": [\"SD\", \"MT\", \"ME\", \"ID\", \"NM\", \"HI\", \"WY\", \"ND\", \"NH\", \"RI\", \"NE\"], \"name\": \"\", \"z\": [3.0, 0.0, 2.0, 2.0, 0.0, 0.0, 3.0, 5.0, 4.0, 10.0, 3.0], \"type\": \"choropleth\"}], \"name\": \"2020-06-05\"}, {\"data\": [{\"coloraxis\": \"coloraxis\", \"geo\": \"geo\", \"hovertemplate\": \"<b>%{hovertext}</b><br><br>date=2020-06-06<br>open_covid_region_code=%{location}<br>hospitalized_new=%{z}<extra></extra>\", \"hovertext\": [\"South Dakota\", \"Montana\", \"Maine\", \"Idaho\", \"New Mexico\", \"Hawaii\", \"Wyoming\", \"North Dakota\", \"New Hampshire\", \"Rhode Island\", \"Nebraska\"], \"locationmode\": \"USA-states\", \"locations\": [\"SD\", \"MT\", \"ME\", \"ID\", \"NM\", \"HI\", \"WY\", \"ND\", \"NH\", \"RI\", \"NE\"], \"name\": \"\", \"z\": [7.0, 0.0, 3.0, 2.0, 73.0, 0.0, 0.0, 2.0, 15.0, 0.0, 14.0], \"type\": \"choropleth\"}], \"name\": \"2020-06-06\"}, {\"data\": [{\"coloraxis\": \"coloraxis\", \"geo\": \"geo\", \"hovertemplate\": \"<b>%{hovertext}</b><br><br>date=2020-06-07<br>open_covid_region_code=%{location}<br>hospitalized_new=%{z}<extra></extra>\", \"hovertext\": [\"South Dakota\", \"Montana\", \"Maine\", \"Idaho\", \"New Mexico\", \"Hawaii\", \"Wyoming\", \"North Dakota\", \"New Hampshire\", \"Rhode Island\", \"Nebraska\"], \"locationmode\": \"USA-states\", \"locations\": [\"SD\", \"MT\", \"ME\", \"ID\", \"NM\", \"HI\", \"WY\", \"ND\", \"NH\", \"RI\", \"NE\"], \"name\": \"\", \"z\": [4.0, 1.0, 2.0, 3.0, 0.0, 0.0, 0.0, 1.0, 0.0, 0.0, 9.0], \"type\": \"choropleth\"}], \"name\": \"2020-06-07\"}, {\"data\": [{\"coloraxis\": \"coloraxis\", \"geo\": \"geo\", \"hovertemplate\": \"<b>%{hovertext}</b><br><br>date=2020-06-08<br>open_covid_region_code=%{location}<br>hospitalized_new=%{z}<extra></extra>\", \"hovertext\": [\"South Dakota\", \"Montana\", \"Maine\", \"Idaho\", \"New Mexico\", \"Hawaii\", \"Wyoming\", \"North Dakota\", \"New Hampshire\", \"Rhode Island\", \"Nebraska\"], \"locationmode\": \"USA-states\", \"locations\": [\"SD\", \"MT\", \"ME\", \"ID\", \"NM\", \"HI\", \"WY\", \"ND\", \"NH\", \"RI\", \"NE\"], \"name\": \"\", \"z\": [4.0, 0.0, 3.0, 0.0, 44.0, 1.0, 1.0, 1.0, 2.0, 32.0, 7.0], \"type\": \"choropleth\"}], \"name\": \"2020-06-08\"}, {\"data\": [{\"coloraxis\": \"coloraxis\", \"geo\": \"geo\", \"hovertemplate\": \"<b>%{hovertext}</b><br><br>date=2020-06-09<br>open_covid_region_code=%{location}<br>hospitalized_new=%{z}<extra></extra>\", \"hovertext\": [\"South Dakota\", \"Montana\", \"Maine\", \"Idaho\", \"New Mexico\", \"Hawaii\", \"Wyoming\", \"North Dakota\", \"New Hampshire\", \"Rhode Island\", \"Nebraska\"], \"locationmode\": \"USA-states\", \"locations\": [\"SD\", \"MT\", \"ME\", \"ID\", \"NM\", \"HI\", \"WY\", \"ND\", \"NH\", \"RI\", \"NE\"], \"name\": \"\", \"z\": [5.0, 3.0, 1.0, 0.0, 25.0, 0.0, 0.0, 5.0, 3.0, 8.0, 32.0], \"type\": \"choropleth\"}], \"name\": \"2020-06-09\"}, {\"data\": [{\"coloraxis\": \"coloraxis\", \"geo\": \"geo\", \"hovertemplate\": \"<b>%{hovertext}</b><br><br>date=2020-06-10<br>open_covid_region_code=%{location}<br>hospitalized_new=%{z}<extra></extra>\", \"hovertext\": [\"South Dakota\", \"Montana\", \"Maine\", \"Idaho\", \"New Mexico\", \"Hawaii\", \"Wyoming\", \"North Dakota\", \"New Hampshire\", \"Rhode Island\", \"Nebraska\"], \"locationmode\": \"USA-states\", \"locations\": [\"SD\", \"MT\", \"ME\", \"ID\", \"NM\", \"HI\", \"WY\", \"ND\", \"NH\", \"RI\", \"NE\"], \"name\": \"\", \"z\": [16.0, 2.0, 1.0, 2.0, 25.0, 0.0, 1.0, 4.0, 4.0, 13.0, 22.0], \"type\": \"choropleth\"}], \"name\": \"2020-06-10\"}, {\"data\": [{\"coloraxis\": \"coloraxis\", \"geo\": \"geo\", \"hovertemplate\": \"<b>%{hovertext}</b><br><br>date=2020-06-11<br>open_covid_region_code=%{location}<br>hospitalized_new=%{z}<extra></extra>\", \"hovertext\": [\"South Dakota\", \"Montana\", \"Maine\", \"Idaho\", \"New Mexico\", \"Hawaii\", \"Wyoming\", \"North Dakota\", \"New Hampshire\", \"Rhode Island\", \"Nebraska\"], \"locationmode\": \"USA-states\", \"locations\": [\"SD\", \"MT\", \"ME\", \"ID\", \"NM\", \"HI\", \"WY\", \"ND\", \"NH\", \"RI\", \"NE\"], \"name\": \"\", \"z\": [11.0, 0.0, 5.0, 0.0, 0.0, 1.0, 0.0, 0.0, 4.0, 14.0, 11.0], \"type\": \"choropleth\"}], \"name\": \"2020-06-11\"}, {\"data\": [{\"coloraxis\": \"coloraxis\", \"geo\": \"geo\", \"hovertemplate\": \"<b>%{hovertext}</b><br><br>date=2020-06-12<br>open_covid_region_code=%{location}<br>hospitalized_new=%{z}<extra></extra>\", \"hovertext\": [\"South Dakota\", \"Montana\", \"Maine\", \"Idaho\", \"New Mexico\", \"Hawaii\", \"Wyoming\", \"North Dakota\", \"New Hampshire\", \"Rhode Island\", \"Nebraska\"], \"locationmode\": \"USA-states\", \"locations\": [\"SD\", \"MT\", \"ME\", \"ID\", \"NM\", \"HI\", \"WY\", \"ND\", \"NH\", \"RI\", \"NE\"], \"name\": \"\", \"z\": [11.0, 3.0, 0.0, 3.0, 42.0, 1.0, 0.0, 4.0, 4.0, 11.0, 29.0], \"type\": \"choropleth\"}], \"name\": \"2020-06-12\"}, {\"data\": [{\"coloraxis\": \"coloraxis\", \"geo\": \"geo\", \"hovertemplate\": \"<b>%{hovertext}</b><br><br>date=2020-06-13<br>open_covid_region_code=%{location}<br>hospitalized_new=%{z}<extra></extra>\", \"hovertext\": [\"South Dakota\", \"Montana\", \"Maine\", \"Idaho\", \"New Mexico\", \"Hawaii\", \"Wyoming\", \"North Dakota\", \"New Hampshire\", \"Rhode Island\", \"Nebraska\"], \"locationmode\": \"USA-states\", \"locations\": [\"SD\", \"MT\", \"ME\", \"ID\", \"NM\", \"HI\", \"WY\", \"ND\", \"NH\", \"RI\", \"NE\"], \"name\": \"\", \"z\": [6.0, 0.0, 5.0, 0.0, 0.0, 1.0, 1.0, 0.0, -1.0, 0.0, 38.0], \"type\": \"choropleth\"}], \"name\": \"2020-06-13\"}, {\"data\": [{\"coloraxis\": \"coloraxis\", \"geo\": \"geo\", \"hovertemplate\": \"<b>%{hovertext}</b><br><br>date=2020-06-14<br>open_covid_region_code=%{location}<br>hospitalized_new=%{z}<extra></extra>\", \"hovertext\": [\"South Dakota\", \"Montana\", \"Maine\", \"Idaho\", \"New Mexico\", \"Hawaii\", \"Wyoming\", \"North Dakota\", \"New Hampshire\", \"Rhode Island\", \"Nebraska\"], \"locationmode\": \"USA-states\", \"locations\": [\"SD\", \"MT\", \"ME\", \"ID\", \"NM\", \"HI\", \"WY\", \"ND\", \"NH\", \"RI\", \"NE\"], \"name\": \"\", \"z\": [8.0, 0.0, 1.0, 1.0, 0.0, 2.0, 0.0, 0.0, 10.0, 0.0, 3.0], \"type\": \"choropleth\"}], \"name\": \"2020-06-14\"}, {\"data\": [{\"coloraxis\": \"coloraxis\", \"geo\": \"geo\", \"hovertemplate\": \"<b>%{hovertext}</b><br><br>date=2020-06-15<br>open_covid_region_code=%{location}<br>hospitalized_new=%{z}<extra></extra>\", \"hovertext\": [\"South Dakota\", \"Montana\", \"Maine\", \"Idaho\", \"New Mexico\", \"Hawaii\", \"Wyoming\", \"North Dakota\", \"New Hampshire\", \"Rhode Island\", \"Nebraska\"], \"locationmode\": \"USA-states\", \"locations\": [\"SD\", \"MT\", \"ME\", \"ID\", \"NM\", \"HI\", \"WY\", \"ND\", \"NH\", \"RI\", \"NE\"], \"name\": \"\", \"z\": [5.0, 1.0, 3.0, 0.0, 0.0, 2.0, 0.0, 0.0, 6.0, 29.0, 5.0], \"type\": \"choropleth\"}], \"name\": \"2020-06-15\"}, {\"data\": [{\"coloraxis\": \"coloraxis\", \"geo\": \"geo\", \"hovertemplate\": \"<b>%{hovertext}</b><br><br>date=2020-06-16<br>open_covid_region_code=%{location}<br>hospitalized_new=%{z}<extra></extra>\", \"hovertext\": [\"South Dakota\", \"Montana\", \"Maine\", \"Idaho\", \"New Mexico\", \"Hawaii\", \"Wyoming\", \"North Dakota\", \"New Hampshire\", \"Rhode Island\", \"Nebraska\"], \"locationmode\": \"USA-states\", \"locations\": [\"SD\", \"MT\", \"ME\", \"ID\", \"NM\", \"HI\", \"WY\", \"ND\", \"NH\", \"RI\", \"NE\"], \"name\": \"\", \"z\": [18.0, 1.0, 4.0, 4.0, 61.0, 0.0, 3.0, 3.0, 0.0, 7.0, 13.0], \"type\": \"choropleth\"}], \"name\": \"2020-06-16\"}, {\"data\": [{\"coloraxis\": \"coloraxis\", \"geo\": \"geo\", \"hovertemplate\": \"<b>%{hovertext}</b><br><br>date=2020-06-17<br>open_covid_region_code=%{location}<br>hospitalized_new=%{z}<extra></extra>\", \"hovertext\": [\"South Dakota\", \"Montana\", \"Maine\", \"Idaho\", \"New Mexico\", \"Hawaii\", \"Wyoming\", \"North Dakota\", \"New Hampshire\", \"Rhode Island\", \"Nebraska\"], \"locationmode\": \"USA-states\", \"locations\": [\"SD\", \"MT\", \"ME\", \"ID\", \"NM\", \"HI\", \"WY\", \"ND\", \"NH\", \"RI\", \"NE\"], \"name\": \"\", \"z\": [8.0, -1.0, 2.0, 5.0, 12.0, 1.0, 1.0, 1.0, 2.0, 9.0, 28.0], \"type\": \"choropleth\"}], \"name\": \"2020-06-17\"}, {\"data\": [{\"coloraxis\": \"coloraxis\", \"geo\": \"geo\", \"hovertemplate\": \"<b>%{hovertext}</b><br><br>date=2020-06-18<br>open_covid_region_code=%{location}<br>hospitalized_new=%{z}<extra></extra>\", \"hovertext\": [\"South Dakota\", \"Montana\", \"Maine\", \"Idaho\", \"New Mexico\", \"Hawaii\", \"Wyoming\", \"North Dakota\", \"New Hampshire\", \"Rhode Island\", \"Nebraska\"], \"locationmode\": \"USA-states\", \"locations\": [\"SD\", \"MT\", \"ME\", \"ID\", \"NM\", \"HI\", \"WY\", \"ND\", \"NH\", \"RI\", \"NE\"], \"name\": \"\", \"z\": [15.0, 3.0, 0.0, 0.0, 17.0, 3.0, 0.0, 7.0, 10.0, 13.0, 25.0], \"type\": \"choropleth\"}], \"name\": \"2020-06-18\"}, {\"data\": [{\"coloraxis\": \"coloraxis\", \"geo\": \"geo\", \"hovertemplate\": \"<b>%{hovertext}</b><br><br>date=2020-06-19<br>open_covid_region_code=%{location}<br>hospitalized_new=%{z}<extra></extra>\", \"hovertext\": [\"South Dakota\", \"Montana\", \"Maine\", \"Idaho\", \"New Mexico\", \"Hawaii\", \"Wyoming\", \"North Dakota\", \"New Hampshire\", \"Rhode Island\", \"Nebraska\"], \"locationmode\": \"USA-states\", \"locations\": [\"SD\", \"MT\", \"ME\", \"ID\", \"NM\", \"HI\", \"WY\", \"ND\", \"NH\", \"RI\", \"NE\"], \"name\": \"\", \"z\": [4.0, 1.0, 5.0, 3.0, 11.0, 0.0, 1.0, 2.0, 2.0, 11.0, 25.0], \"type\": \"choropleth\"}], \"name\": \"2020-06-19\"}, {\"data\": [{\"coloraxis\": \"coloraxis\", \"geo\": \"geo\", \"hovertemplate\": \"<b>%{hovertext}</b><br><br>date=2020-06-20<br>open_covid_region_code=%{location}<br>hospitalized_new=%{z}<extra></extra>\", \"hovertext\": [\"South Dakota\", \"Montana\", \"Maine\", \"Idaho\", \"New Mexico\", \"Hawaii\", \"Wyoming\", \"North Dakota\", \"New Hampshire\", \"Rhode Island\", \"Nebraska\"], \"locationmode\": \"USA-states\", \"locations\": [\"SD\", \"MT\", \"ME\", \"ID\", \"NM\", \"HI\", \"WY\", \"ND\", \"NH\", \"RI\", \"NE\"], \"name\": \"\", \"z\": [9.0, 3.0, 5.0, 1.0, 9.0, 1.0, 0.0, 3.0, 16.0, 0.0, 34.0], \"type\": \"choropleth\"}], \"name\": \"2020-06-20\"}, {\"data\": [{\"coloraxis\": \"coloraxis\", \"geo\": \"geo\", \"hovertemplate\": \"<b>%{hovertext}</b><br><br>date=2020-06-21<br>open_covid_region_code=%{location}<br>hospitalized_new=%{z}<extra></extra>\", \"hovertext\": [\"South Dakota\", \"Montana\", \"Maine\", \"Idaho\", \"New Mexico\", \"Hawaii\", \"Wyoming\", \"North Dakota\", \"New Hampshire\", \"Rhode Island\", \"Nebraska\"], \"locationmode\": \"USA-states\", \"locations\": [\"SD\", \"MT\", \"ME\", \"ID\", \"NM\", \"HI\", \"WY\", \"ND\", \"NH\", \"RI\", \"NE\"], \"name\": \"\", \"z\": [10.0, 4.0, 3.0, 4.0, 11.0, 0.0, 2.0, 3.0, 2.0, 0.0, 12.0], \"type\": \"choropleth\"}], \"name\": \"2020-06-21\"}, {\"data\": [{\"coloraxis\": \"coloraxis\", \"geo\": \"geo\", \"hovertemplate\": \"<b>%{hovertext}</b><br><br>date=2020-06-22<br>open_covid_region_code=%{location}<br>hospitalized_new=%{z}<extra></extra>\", \"hovertext\": [\"South Dakota\", \"Montana\", \"Maine\", \"Idaho\", \"New Mexico\", \"Hawaii\", \"Wyoming\", \"North Dakota\", \"New Hampshire\", \"Rhode Island\", \"Nebraska\"], \"locationmode\": \"USA-states\", \"locations\": [\"SD\", \"MT\", \"ME\", \"ID\", \"NM\", \"HI\", \"WY\", \"ND\", \"NH\", \"RI\", \"NE\"], \"name\": \"\", \"z\": [8.0, 1.0, 0.0, 0.0, 0.0, 1.0, 5.0, 2.0, 2.0, 28.0, 0.0], \"type\": \"choropleth\"}], \"name\": \"2020-06-22\"}, {\"data\": [{\"coloraxis\": \"coloraxis\", \"geo\": \"geo\", \"hovertemplate\": \"<b>%{hovertext}</b><br><br>date=2020-06-23<br>open_covid_region_code=%{location}<br>hospitalized_new=%{z}<extra></extra>\", \"hovertext\": [\"South Dakota\", \"Montana\", \"Maine\", \"Idaho\", \"New Mexico\", \"Hawaii\", \"Wyoming\", \"North Dakota\", \"New Hampshire\", \"Rhode Island\", \"Nebraska\"], \"locationmode\": \"USA-states\", \"locations\": [\"SD\", \"MT\", \"ME\", \"ID\", \"NM\", \"HI\", \"WY\", \"ND\", \"NH\", \"RI\", \"NE\"], \"name\": \"\", \"z\": [8.0, 1.0, 3.0, 10.0, 8.0, 2.0, 4.0, 0.0, 5.0, 8.0, 22.0], \"type\": \"choropleth\"}], \"name\": \"2020-06-23\"}, {\"data\": [{\"coloraxis\": \"coloraxis\", \"geo\": \"geo\", \"hovertemplate\": \"<b>%{hovertext}</b><br><br>date=2020-06-24<br>open_covid_region_code=%{location}<br>hospitalized_new=%{z}<extra></extra>\", \"hovertext\": [\"South Dakota\", \"Montana\", \"Maine\", \"Idaho\", \"New Mexico\", \"Hawaii\", \"Wyoming\", \"North Dakota\", \"New Hampshire\", \"Rhode Island\", \"Nebraska\"], \"locationmode\": \"USA-states\", \"locations\": [\"SD\", \"MT\", \"ME\", \"ID\", \"NM\", \"HI\", \"WY\", \"ND\", \"NH\", \"RI\", \"NE\"], \"name\": \"\", \"z\": [5.0, 2.0, 0.0, 5.0, 22.0, 5.0, 0.0, 1.0, 0.0, 9.0, 23.0], \"type\": \"choropleth\"}], \"name\": \"2020-06-24\"}, {\"data\": [{\"coloraxis\": \"coloraxis\", \"geo\": \"geo\", \"hovertemplate\": \"<b>%{hovertext}</b><br><br>date=2020-06-25<br>open_covid_region_code=%{location}<br>hospitalized_new=%{z}<extra></extra>\", \"hovertext\": [\"South Dakota\", \"Montana\", \"Maine\", \"Idaho\", \"New Mexico\", \"Hawaii\", \"Wyoming\", \"North Dakota\", \"New Hampshire\", \"Rhode Island\", \"Nebraska\"], \"locationmode\": \"USA-states\", \"locations\": [\"SD\", \"MT\", \"ME\", \"ID\", \"NM\", \"HI\", \"WY\", \"ND\", \"NH\", \"RI\", \"NE\"], \"name\": \"\", \"z\": [3.0, 0.0, 4.0, 2.0, 17.0, 1.0, 2.0, 3.0, 0.0, 14.0, 11.0], \"type\": \"choropleth\"}], \"name\": \"2020-06-25\"}, {\"data\": [{\"coloraxis\": \"coloraxis\", \"geo\": \"geo\", \"hovertemplate\": \"<b>%{hovertext}</b><br><br>date=2020-06-26<br>open_covid_region_code=%{location}<br>hospitalized_new=%{z}<extra></extra>\", \"hovertext\": [\"South Dakota\", \"Montana\", \"Maine\", \"Idaho\", \"New Mexico\", \"Hawaii\", \"Wyoming\", \"North Dakota\", \"New Hampshire\", \"Rhode Island\", \"Nebraska\"], \"locationmode\": \"USA-states\", \"locations\": [\"SD\", \"MT\", \"ME\", \"ID\", \"NM\", \"HI\", \"WY\", \"ND\", \"NH\", \"RI\", \"NE\"], \"name\": \"\", \"z\": [7.0, 2.0, 0.0, 3.0, 18.0, 4.0, 1.0, 0.0, 3.0, 3.0, 26.0], \"type\": \"choropleth\"}], \"name\": \"2020-06-26\"}, {\"data\": [{\"coloraxis\": \"coloraxis\", \"geo\": \"geo\", \"hovertemplate\": \"<b>%{hovertext}</b><br><br>date=2020-06-27<br>open_covid_region_code=%{location}<br>hospitalized_new=%{z}<extra></extra>\", \"hovertext\": [\"South Dakota\", \"Montana\", \"Maine\", \"Idaho\", \"New Mexico\", \"Hawaii\", \"Wyoming\", \"North Dakota\", \"New Hampshire\", \"Rhode Island\", \"Nebraska\"], \"locationmode\": \"USA-states\", \"locations\": [\"SD\", \"MT\", \"ME\", \"ID\", \"NM\", \"HI\", \"WY\", \"ND\", \"NH\", \"RI\", \"NE\"], \"name\": \"\", \"z\": [6.0, 0.0, 2.0, 6.0, 17.0, 0.0, -1.0, 3.0, 0.0, 0.0, 18.0], \"type\": \"choropleth\"}], \"name\": \"2020-06-27\"}, {\"data\": [{\"coloraxis\": \"coloraxis\", \"geo\": \"geo\", \"hovertemplate\": \"<b>%{hovertext}</b><br><br>date=2020-06-28<br>open_covid_region_code=%{location}<br>hospitalized_new=%{z}<extra></extra>\", \"hovertext\": [\"South Dakota\", \"Montana\", \"Maine\", \"Idaho\", \"New Mexico\", \"Hawaii\", \"Wyoming\", \"North Dakota\", \"New Hampshire\", \"Rhode Island\", \"Nebraska\"], \"locationmode\": \"USA-states\", \"locations\": [\"SD\", \"MT\", \"ME\", \"ID\", \"NM\", \"HI\", \"WY\", \"ND\", \"NH\", \"RI\", \"NE\"], \"name\": \"\", \"z\": [7.0, 2.0, 1.0, 3.0, 23.0, 1.0, 1.0, 1.0, 1.0, 0.0, 3.0], \"type\": \"choropleth\"}], \"name\": \"2020-06-28\"}, {\"data\": [{\"coloraxis\": \"coloraxis\", \"geo\": \"geo\", \"hovertemplate\": \"<b>%{hovertext}</b><br><br>date=2020-06-29<br>open_covid_region_code=%{location}<br>hospitalized_new=%{z}<extra></extra>\", \"hovertext\": [\"South Dakota\", \"Montana\", \"Maine\", \"Idaho\", \"New Mexico\", \"Hawaii\", \"Wyoming\", \"North Dakota\", \"New Hampshire\", \"Rhode Island\", \"Nebraska\"], \"locationmode\": \"USA-states\", \"locations\": [\"SD\", \"MT\", \"ME\", \"ID\", \"NM\", \"HI\", \"WY\", \"ND\", \"NH\", \"RI\", \"NE\"], \"name\": \"\", \"z\": [5.0, 3.0, 1.0, 0.0, 14.0, 1.0, 0.0, 1.0, 3.0, 11.0, 1.0], \"type\": \"choropleth\"}], \"name\": \"2020-06-29\"}, {\"data\": [{\"coloraxis\": \"coloraxis\", \"geo\": \"geo\", \"hovertemplate\": \"<b>%{hovertext}</b><br><br>date=2020-06-30<br>open_covid_region_code=%{location}<br>hospitalized_new=%{z}<extra></extra>\", \"hovertext\": [\"South Dakota\", \"Montana\", \"Maine\", \"Idaho\", \"New Mexico\", \"Hawaii\", \"Wyoming\", \"North Dakota\", \"New Hampshire\", \"Rhode Island\", \"Nebraska\"], \"locationmode\": \"USA-states\", \"locations\": [\"SD\", \"MT\", \"ME\", \"ID\", \"NM\", \"HI\", \"WY\", \"ND\", \"NH\", \"RI\", \"NE\"], \"name\": \"\", \"z\": [9.0, 1.0, 1.0, 10.0, 11.0, 0.0, 5.0, 4.0, 0.0, 6.0, 14.0], \"type\": \"choropleth\"}], \"name\": \"2020-06-30\"}, {\"data\": [{\"coloraxis\": \"coloraxis\", \"geo\": \"geo\", \"hovertemplate\": \"<b>%{hovertext}</b><br><br>date=2020-07-01<br>open_covid_region_code=%{location}<br>hospitalized_new=%{z}<extra></extra>\", \"hovertext\": [\"South Dakota\", \"Montana\", \"Maine\", \"Idaho\", \"New Mexico\", \"Hawaii\", \"Wyoming\", \"North Dakota\", \"New Hampshire\", \"Rhode Island\", \"Nebraska\"], \"locationmode\": \"USA-states\", \"locations\": [\"SD\", \"MT\", \"ME\", \"ID\", \"NM\", \"HI\", \"WY\", \"ND\", \"NH\", \"RI\", \"NE\"], \"name\": \"\", \"z\": [8.0, 4.0, 3.0, 8.0, 26.0, 2.0, 0.0, 3.0, 0.0, 6.0, 0.0], \"type\": \"choropleth\"}], \"name\": \"2020-07-01\"}, {\"data\": [{\"coloraxis\": \"coloraxis\", \"geo\": \"geo\", \"hovertemplate\": \"<b>%{hovertext}</b><br><br>date=2020-07-02<br>open_covid_region_code=%{location}<br>hospitalized_new=%{z}<extra></extra>\", \"hovertext\": [\"South Dakota\", \"Montana\", \"Maine\", \"Idaho\", \"New Mexico\", \"Hawaii\", \"Wyoming\", \"North Dakota\", \"New Hampshire\", \"Rhode Island\", \"Nebraska\"], \"locationmode\": \"USA-states\", \"locations\": [\"SD\", \"MT\", \"ME\", \"ID\", \"NM\", \"HI\", \"WY\", \"ND\", \"NH\", \"RI\", \"NE\"], \"name\": \"\", \"z\": [9.0, 1.0, 3.0, 10.0, 26.0, 3.0, 2.0, 0.0, 0.0, 4.0, 13.0], \"type\": \"choropleth\"}], \"name\": \"2020-07-02\"}, {\"data\": [{\"coloraxis\": \"coloraxis\", \"geo\": \"geo\", \"hovertemplate\": \"<b>%{hovertext}</b><br><br>date=2020-07-03<br>open_covid_region_code=%{location}<br>hospitalized_new=%{z}<extra></extra>\", \"hovertext\": [\"South Dakota\", \"Montana\", \"Maine\", \"Idaho\", \"New Mexico\", \"Hawaii\", \"Wyoming\", \"North Dakota\", \"New Hampshire\", \"Rhode Island\", \"Nebraska\"], \"locationmode\": \"USA-states\", \"locations\": [\"SD\", \"MT\", \"ME\", \"ID\", \"NM\", \"HI\", \"WY\", \"ND\", \"NH\", \"RI\", \"NE\"], \"name\": \"\", \"z\": [4.0, 3.0, 4.0, 10.0, 17.0, 0.0, 0.0, 3.0, 2.0, 8.0, 10.0], \"type\": \"choropleth\"}], \"name\": \"2020-07-03\"}, {\"data\": [{\"coloraxis\": \"coloraxis\", \"geo\": \"geo\", \"hovertemplate\": \"<b>%{hovertext}</b><br><br>date=2020-07-04<br>open_covid_region_code=%{location}<br>hospitalized_new=%{z}<extra></extra>\", \"hovertext\": [\"South Dakota\", \"Montana\", \"Maine\", \"Idaho\", \"New Mexico\", \"Hawaii\", \"Wyoming\", \"North Dakota\", \"New Hampshire\", \"Rhode Island\", \"Nebraska\"], \"locationmode\": \"USA-states\", \"locations\": [\"SD\", \"MT\", \"ME\", \"ID\", \"NM\", \"HI\", \"WY\", \"ND\", \"NH\", \"RI\", \"NE\"], \"name\": \"\", \"z\": [2.0, 3.0, 0.0, 5.0, 25.0, 2.0, 0.0, 4.0, 2.0, 0.0, 12.0], \"type\": \"choropleth\"}], \"name\": \"2020-07-04\"}, {\"data\": [{\"coloraxis\": \"coloraxis\", \"geo\": \"geo\", \"hovertemplate\": \"<b>%{hovertext}</b><br><br>date=2020-07-05<br>open_covid_region_code=%{location}<br>hospitalized_new=%{z}<extra></extra>\", \"hovertext\": [\"South Dakota\", \"Montana\", \"Maine\", \"Idaho\", \"New Mexico\", \"Hawaii\", \"Wyoming\", \"North Dakota\", \"New Hampshire\", \"Rhode Island\", \"Nebraska\"], \"locationmode\": \"USA-states\", \"locations\": [\"SD\", \"MT\", \"ME\", \"ID\", \"NM\", \"HI\", \"WY\", \"ND\", \"NH\", \"RI\", \"NE\"], \"name\": \"\", \"z\": [2.0, 0.0, 1.0, 4.0, 18.0, 0.0, 0.0, 1.0, 0.0, 0.0, 3.0], \"type\": \"choropleth\"}], \"name\": \"2020-07-05\"}, {\"data\": [{\"coloraxis\": \"coloraxis\", \"geo\": \"geo\", \"hovertemplate\": \"<b>%{hovertext}</b><br><br>date=2020-07-06<br>open_covid_region_code=%{location}<br>hospitalized_new=%{z}<extra></extra>\", \"hovertext\": [\"South Dakota\", \"Montana\", \"Maine\", \"Idaho\", \"New Mexico\", \"Hawaii\", \"Wyoming\", \"North Dakota\", \"New Hampshire\", \"Rhode Island\", \"Nebraska\"], \"locationmode\": \"USA-states\", \"locations\": [\"SD\", \"MT\", \"ME\", \"ID\", \"NM\", \"HI\", \"WY\", \"ND\", \"NH\", \"RI\", \"NE\"], \"name\": \"\", \"z\": [1.0, 0.0, 0.0, 10.0, 18.0, 0.0, 0.0, 3.0, 1.0, 0.0, 1.0], \"type\": \"choropleth\"}], \"name\": \"2020-07-06\"}, {\"data\": [{\"coloraxis\": \"coloraxis\", \"geo\": \"geo\", \"hovertemplate\": \"<b>%{hovertext}</b><br><br>date=2020-07-07<br>open_covid_region_code=%{location}<br>hospitalized_new=%{z}<extra></extra>\", \"hovertext\": [\"South Dakota\", \"Montana\", \"Maine\", \"Idaho\", \"New Mexico\", \"Hawaii\", \"Wyoming\", \"North Dakota\", \"New Hampshire\", \"Rhode Island\", \"Nebraska\"], \"locationmode\": \"USA-states\", \"locations\": [\"SD\", \"MT\", \"ME\", \"ID\", \"NM\", \"HI\", \"WY\", \"ND\", \"NH\", \"RI\", \"NE\"], \"name\": \"\", \"z\": [7.0, 5.0, 1.0, 18.0, 27.0, 1.0, 0.0, 3.0, 4.0, 17.0, 0.0], \"type\": \"choropleth\"}], \"name\": \"2020-07-07\"}, {\"data\": [{\"coloraxis\": \"coloraxis\", \"geo\": \"geo\", \"hovertemplate\": \"<b>%{hovertext}</b><br><br>date=2020-07-08<br>open_covid_region_code=%{location}<br>hospitalized_new=%{z}<extra></extra>\", \"hovertext\": [\"South Dakota\", \"Montana\", \"Maine\", \"Idaho\", \"New Mexico\", \"Hawaii\", \"Wyoming\", \"North Dakota\", \"New Hampshire\", \"Rhode Island\", \"Nebraska\"], \"locationmode\": \"USA-states\", \"locations\": [\"SD\", \"MT\", \"ME\", \"ID\", \"NM\", \"HI\", \"WY\", \"ND\", \"NH\", \"RI\", \"NE\"], \"name\": \"\", \"z\": [10.0, 0.0, 3.0, 9.0, 23.0, 0.0, 1.0, 4.0, 3.0, 7.0, 29.0], \"type\": \"choropleth\"}], \"name\": \"2020-07-08\"}, {\"data\": [{\"coloraxis\": \"coloraxis\", \"geo\": \"geo\", \"hovertemplate\": \"<b>%{hovertext}</b><br><br>date=2020-07-09<br>open_covid_region_code=%{location}<br>hospitalized_new=%{z}<extra></extra>\", \"hovertext\": [\"South Dakota\", \"Montana\", \"Maine\", \"Idaho\", \"New Mexico\", \"Hawaii\", \"Wyoming\", \"North Dakota\", \"New Hampshire\", \"Rhode Island\", \"Nebraska\"], \"locationmode\": \"USA-states\", \"locations\": [\"SD\", \"MT\", \"ME\", \"ID\", \"NM\", \"HI\", \"WY\", \"ND\", \"NH\", \"RI\", \"NE\"], \"name\": \"\", \"z\": [9.0, 3.0, 2.0, 15.0, 45.0, 3.0, 1.0, 5.0, 1.0, 0.0, 7.0], \"type\": \"choropleth\"}], \"name\": \"2020-07-09\"}, {\"data\": [{\"coloraxis\": \"coloraxis\", \"geo\": \"geo\", \"hovertemplate\": \"<b>%{hovertext}</b><br><br>date=2020-07-10<br>open_covid_region_code=%{location}<br>hospitalized_new=%{z}<extra></extra>\", \"hovertext\": [\"South Dakota\", \"Montana\", \"Maine\", \"Idaho\", \"New Mexico\", \"Hawaii\", \"Wyoming\", \"North Dakota\", \"New Hampshire\", \"Rhode Island\", \"Nebraska\"], \"locationmode\": \"USA-states\", \"locations\": [\"SD\", \"MT\", \"ME\", \"ID\", \"NM\", \"HI\", \"WY\", \"ND\", \"NH\", \"RI\", \"NE\"], \"name\": \"\", \"z\": [8.0, 3.0, 1.0, 21.0, 36.0, 1.0, 0.0, 3.0, 3.0, 8.0, 14.0], \"type\": \"choropleth\"}], \"name\": \"2020-07-10\"}, {\"data\": [{\"coloraxis\": \"coloraxis\", \"geo\": \"geo\", \"hovertemplate\": \"<b>%{hovertext}</b><br><br>date=2020-07-11<br>open_covid_region_code=%{location}<br>hospitalized_new=%{z}<extra></extra>\", \"hovertext\": [\"South Dakota\", \"Montana\", \"Maine\", \"Idaho\", \"New Mexico\", \"Hawaii\", \"Wyoming\", \"North Dakota\", \"New Hampshire\", \"Rhode Island\", \"Nebraska\"], \"locationmode\": \"USA-states\", \"locations\": [\"SD\", \"MT\", \"ME\", \"ID\", \"NM\", \"HI\", \"WY\", \"ND\", \"NH\", \"RI\", \"NE\"], \"name\": \"\", \"z\": [12.0, 4.0, 2.0, 17.0, 24.0, 2.0, 2.0, 3.0, 4.0, 0.0, 0.0], \"type\": \"choropleth\"}], \"name\": \"2020-07-11\"}, {\"data\": [{\"coloraxis\": \"coloraxis\", \"geo\": \"geo\", \"hovertemplate\": \"<b>%{hovertext}</b><br><br>date=2020-07-12<br>open_covid_region_code=%{location}<br>hospitalized_new=%{z}<extra></extra>\", \"hovertext\": [\"South Dakota\", \"Montana\", \"Maine\", \"Idaho\", \"New Mexico\", \"Hawaii\", \"Wyoming\", \"North Dakota\", \"New Hampshire\", \"Rhode Island\", \"Nebraska\"], \"locationmode\": \"USA-states\", \"locations\": [\"SD\", \"MT\", \"ME\", \"ID\", \"NM\", \"HI\", \"WY\", \"ND\", \"NH\", \"RI\", \"NE\"], \"name\": \"\", \"z\": [0.0, 1.0, 3.0, 19.0, 26.0, 0.0, 1.0, 8.0, 4.0, 0.0, 2.0], \"type\": \"choropleth\"}], \"name\": \"2020-07-12\"}, {\"data\": [{\"coloraxis\": \"coloraxis\", \"geo\": \"geo\", \"hovertemplate\": \"<b>%{hovertext}</b><br><br>date=2020-07-13<br>open_covid_region_code=%{location}<br>hospitalized_new=%{z}<extra></extra>\", \"hovertext\": [\"South Dakota\", \"Montana\", \"Maine\", \"Idaho\", \"New Mexico\", \"Hawaii\", \"Wyoming\", \"North Dakota\", \"New Hampshire\", \"Rhode Island\", \"Nebraska\"], \"locationmode\": \"USA-states\", \"locations\": [\"SD\", \"MT\", \"ME\", \"ID\", \"NM\", \"HI\", \"WY\", \"ND\", \"NH\", \"RI\", \"NE\"], \"name\": \"\", \"z\": [4.0, 5.0, 1.0, 9.0, 17.0, 0.0, 0.0, 6.0, 0.0, 15.0, 0.0], \"type\": \"choropleth\"}], \"name\": \"2020-07-13\"}, {\"data\": [{\"coloraxis\": \"coloraxis\", \"geo\": \"geo\", \"hovertemplate\": \"<b>%{hovertext}</b><br><br>date=2020-07-14<br>open_covid_region_code=%{location}<br>hospitalized_new=%{z}<extra></extra>\", \"hovertext\": [\"South Dakota\", \"Montana\", \"Maine\", \"Idaho\", \"New Mexico\", \"Hawaii\", \"Wyoming\", \"North Dakota\", \"New Hampshire\", \"Rhode Island\", \"Nebraska\"], \"locationmode\": \"USA-states\", \"locations\": [\"SD\", \"MT\", \"ME\", \"ID\", \"NM\", \"HI\", \"WY\", \"ND\", \"NH\", \"RI\", \"NE\"], \"name\": \"\", \"z\": [2.0, 3.0, 1.0, 23.0, 23.0, 3.0, 4.0, 3.0, 0.0, 4.0, 10.0], \"type\": \"choropleth\"}], \"name\": \"2020-07-14\"}, {\"data\": [{\"coloraxis\": \"coloraxis\", \"geo\": \"geo\", \"hovertemplate\": \"<b>%{hovertext}</b><br><br>date=2020-07-15<br>open_covid_region_code=%{location}<br>hospitalized_new=%{z}<extra></extra>\", \"hovertext\": [\"South Dakota\", \"Montana\", \"Maine\", \"Idaho\", \"New Mexico\", \"Hawaii\", \"Wyoming\", \"North Dakota\", \"New Hampshire\", \"Rhode Island\", \"Nebraska\"], \"locationmode\": \"USA-states\", \"locations\": [\"SD\", \"MT\", \"ME\", \"ID\", \"NM\", \"HI\", \"WY\", \"ND\", \"NH\", \"RI\", \"NE\"], \"name\": \"\", \"z\": [8.0, 9.0, 0.0, 10.0, 34.0, 5.0, 3.0, 4.0, 76.0, 5.0, 11.0], \"type\": \"choropleth\"}], \"name\": \"2020-07-15\"}, {\"data\": [{\"coloraxis\": \"coloraxis\", \"geo\": \"geo\", \"hovertemplate\": \"<b>%{hovertext}</b><br><br>date=2020-07-16<br>open_covid_region_code=%{location}<br>hospitalized_new=%{z}<extra></extra>\", \"hovertext\": [\"South Dakota\", \"Montana\", \"Maine\", \"Idaho\", \"New Mexico\", \"Hawaii\", \"Wyoming\", \"North Dakota\", \"New Hampshire\", \"Rhode Island\", \"Nebraska\"], \"locationmode\": \"USA-states\", \"locations\": [\"SD\", \"MT\", \"ME\", \"ID\", \"NM\", \"HI\", \"WY\", \"ND\", \"NH\", \"RI\", \"NE\"], \"name\": \"\", \"z\": [5.0, 5.0, 1.0, 16.0, 23.0, 4.0, 0.0, 1.0, 3.0, 9.0, 11.0], \"type\": \"choropleth\"}], \"name\": \"2020-07-16\"}, {\"data\": [{\"coloraxis\": \"coloraxis\", \"geo\": \"geo\", \"hovertemplate\": \"<b>%{hovertext}</b><br><br>date=2020-07-17<br>open_covid_region_code=%{location}<br>hospitalized_new=%{z}<extra></extra>\", \"hovertext\": [\"South Dakota\", \"Montana\", \"Maine\", \"Idaho\", \"New Mexico\", \"Hawaii\", \"Wyoming\", \"North Dakota\", \"New Hampshire\", \"Rhode Island\", \"Nebraska\"], \"locationmode\": \"USA-states\", \"locations\": [\"SD\", \"MT\", \"ME\", \"ID\", \"NM\", \"HI\", \"WY\", \"ND\", \"NH\", \"RI\", \"NE\"], \"name\": \"\", \"z\": [6.0, 9.0, 1.0, 28.0, 28.0, 1.0, 9.0, 5.0, 2.0, 4.0, 0.0], \"type\": \"choropleth\"}], \"name\": \"2020-07-17\"}, {\"data\": [{\"coloraxis\": \"coloraxis\", \"geo\": \"geo\", \"hovertemplate\": \"<b>%{hovertext}</b><br><br>date=2020-07-18<br>open_covid_region_code=%{location}<br>hospitalized_new=%{z}<extra></extra>\", \"hovertext\": [\"South Dakota\", \"Montana\", \"Maine\", \"Idaho\", \"New Mexico\", \"Hawaii\", \"Wyoming\", \"North Dakota\", \"New Hampshire\", \"Rhode Island\", \"Nebraska\"], \"locationmode\": \"USA-states\", \"locations\": [\"SD\", \"MT\", \"ME\", \"ID\", \"NM\", \"HI\", \"WY\", \"ND\", \"NH\", \"RI\", \"NE\"], \"name\": \"\", \"z\": [8.0, 5.0, 0.0, 16.0, 25.0, 1.0, 2.0, 5.0, 0.0, 0.0, 27.0], \"type\": \"choropleth\"}], \"name\": \"2020-07-18\"}, {\"data\": [{\"coloraxis\": \"coloraxis\", \"geo\": \"geo\", \"hovertemplate\": \"<b>%{hovertext}</b><br><br>date=2020-07-19<br>open_covid_region_code=%{location}<br>hospitalized_new=%{z}<extra></extra>\", \"hovertext\": [\"South Dakota\", \"Montana\", \"Maine\", \"Idaho\", \"New Mexico\", \"Hawaii\", \"Wyoming\", \"North Dakota\", \"New Hampshire\", \"Rhode Island\", \"Nebraska\"], \"locationmode\": \"USA-states\", \"locations\": [\"SD\", \"MT\", \"ME\", \"ID\", \"NM\", \"HI\", \"WY\", \"ND\", \"NH\", \"RI\", \"NE\"], \"name\": \"\", \"z\": [3.0, 1.0, 0.0, 13.0, 27.0, 1.0, 1.0, 7.0, 3.0, 0.0, 1.0], \"type\": \"choropleth\"}], \"name\": \"2020-07-19\"}, {\"data\": [{\"coloraxis\": \"coloraxis\", \"geo\": \"geo\", \"hovertemplate\": \"<b>%{hovertext}</b><br><br>date=2020-07-20<br>open_covid_region_code=%{location}<br>hospitalized_new=%{z}<extra></extra>\", \"hovertext\": [\"South Dakota\", \"Montana\", \"Maine\", \"Idaho\", \"New Mexico\", \"Hawaii\", \"Wyoming\", \"North Dakota\", \"New Hampshire\", \"Rhode Island\", \"Nebraska\"], \"locationmode\": \"USA-states\", \"locations\": [\"SD\", \"MT\", \"ME\", \"ID\", \"NM\", \"HI\", \"WY\", \"ND\", \"NH\", \"RI\", \"NE\"], \"name\": \"\", \"z\": [0.0, 2.0, 0.0, 17.0, 23.0, 10.0, 1.0, 3.0, 0.0, 22.0, 1.0], \"type\": \"choropleth\"}], \"name\": \"2020-07-20\"}, {\"data\": [{\"coloraxis\": \"coloraxis\", \"geo\": \"geo\", \"hovertemplate\": \"<b>%{hovertext}</b><br><br>date=2020-07-21<br>open_covid_region_code=%{location}<br>hospitalized_new=%{z}<extra></extra>\", \"hovertext\": [\"South Dakota\", \"Montana\", \"Maine\", \"Idaho\", \"New Mexico\", \"Hawaii\", \"Wyoming\", \"North Dakota\", \"New Hampshire\", \"Rhode Island\", \"Nebraska\"], \"locationmode\": \"USA-states\", \"locations\": [\"SD\", \"MT\", \"ME\", \"ID\", \"NM\", \"HI\", \"WY\", \"ND\", \"NH\", \"RI\", \"NE\"], \"name\": \"\", \"z\": [2.0, 7.0, 2.0, 21.0, 12.0, 0.0, 2.0, 4.0, 0.0, 6.0, 20.0], \"type\": \"choropleth\"}], \"name\": \"2020-07-21\"}, {\"data\": [{\"coloraxis\": \"coloraxis\", \"geo\": \"geo\", \"hovertemplate\": \"<b>%{hovertext}</b><br><br>date=2020-07-22<br>open_covid_region_code=%{location}<br>hospitalized_new=%{z}<extra></extra>\", \"hovertext\": [\"South Dakota\", \"Montana\", \"Maine\", \"Idaho\", \"New Mexico\", \"Hawaii\", \"Wyoming\", \"North Dakota\", \"New Hampshire\", \"Rhode Island\", \"Nebraska\"], \"locationmode\": \"USA-states\", \"locations\": [\"SD\", \"MT\", \"ME\", \"ID\", \"NM\", \"HI\", \"WY\", \"ND\", \"NH\", \"RI\", \"NE\"], \"name\": \"\", \"z\": [14.0, 5.0, 0.0, 35.0, 34.0, 1.0, 6.0, 8.0, 4.0, 11.0, 6.0], \"type\": \"choropleth\"}], \"name\": \"2020-07-22\"}, {\"data\": [{\"coloraxis\": \"coloraxis\", \"geo\": \"geo\", \"hovertemplate\": \"<b>%{hovertext}</b><br><br>date=2020-07-23<br>open_covid_region_code=%{location}<br>hospitalized_new=%{z}<extra></extra>\", \"hovertext\": [\"South Dakota\", \"Montana\", \"Maine\", \"Idaho\", \"New Mexico\", \"Hawaii\", \"Wyoming\", \"North Dakota\", \"New Hampshire\", \"Rhode Island\", \"Nebraska\"], \"locationmode\": \"USA-states\", \"locations\": [\"SD\", \"MT\", \"ME\", \"ID\", \"NM\", \"HI\", \"WY\", \"ND\", \"NH\", \"RI\", \"NE\"], \"name\": \"\", \"z\": [2.0, 4.0, 1.0, 18.0, 37.0, 3.0, 1.0, 5.0, 3.0, 10.0, 14.0], \"type\": \"choropleth\"}], \"name\": \"2020-07-23\"}, {\"data\": [{\"coloraxis\": \"coloraxis\", \"geo\": \"geo\", \"hovertemplate\": \"<b>%{hovertext}</b><br><br>date=2020-07-24<br>open_covid_region_code=%{location}<br>hospitalized_new=%{z}<extra></extra>\", \"hovertext\": [\"South Dakota\", \"Montana\", \"Maine\", \"Idaho\", \"New Mexico\", \"Hawaii\", \"Wyoming\", \"North Dakota\", \"New Hampshire\", \"Rhode Island\", \"Nebraska\"], \"locationmode\": \"USA-states\", \"locations\": [\"SD\", \"MT\", \"ME\", \"ID\", \"NM\", \"HI\", \"WY\", \"ND\", \"NH\", \"RI\", \"NE\"], \"name\": \"\", \"z\": [4.0, 8.0, 0.0, 23.0, 30.0, 1.0, 2.0, 3.0, 1.0, 9.0, 26.0], \"type\": \"choropleth\"}], \"name\": \"2020-07-24\"}, {\"data\": [{\"coloraxis\": \"coloraxis\", \"geo\": \"geo\", \"hovertemplate\": \"<b>%{hovertext}</b><br><br>date=2020-07-25<br>open_covid_region_code=%{location}<br>hospitalized_new=%{z}<extra></extra>\", \"hovertext\": [\"South Dakota\", \"Montana\", \"Maine\", \"Idaho\", \"New Mexico\", \"Hawaii\", \"Wyoming\", \"North Dakota\", \"New Hampshire\", \"Rhode Island\", \"Nebraska\"], \"locationmode\": \"USA-states\", \"locations\": [\"SD\", \"MT\", \"ME\", \"ID\", \"NM\", \"HI\", \"WY\", \"ND\", \"NH\", \"RI\", \"NE\"], \"name\": \"\", \"z\": [2.0, 4.0, 1.0, 12.0, 25.0, 1.0, 3.0, 3.0, 5.0, 0.0, 0.0], \"type\": \"choropleth\"}], \"name\": \"2020-07-25\"}, {\"data\": [{\"coloraxis\": \"coloraxis\", \"geo\": \"geo\", \"hovertemplate\": \"<b>%{hovertext}</b><br><br>date=2020-07-26<br>open_covid_region_code=%{location}<br>hospitalized_new=%{z}<extra></extra>\", \"hovertext\": [\"South Dakota\", \"Montana\", \"Maine\", \"Idaho\", \"New Mexico\", \"Hawaii\", \"Wyoming\", \"North Dakota\", \"New Hampshire\", \"Rhode Island\", \"Nebraska\"], \"locationmode\": \"USA-states\", \"locations\": [\"SD\", \"MT\", \"ME\", \"ID\", \"NM\", \"HI\", \"WY\", \"ND\", \"NH\", \"RI\", \"NE\"], \"name\": \"\", \"z\": [3.0, 4.0, 2.0, 14.0, 17.0, 5.0, 0.0, 5.0, 2.0, 0.0, 19.0], \"type\": \"choropleth\"}], \"name\": \"2020-07-26\"}, {\"data\": [{\"coloraxis\": \"coloraxis\", \"geo\": \"geo\", \"hovertemplate\": \"<b>%{hovertext}</b><br><br>date=2020-07-27<br>open_covid_region_code=%{location}<br>hospitalized_new=%{z}<extra></extra>\", \"hovertext\": [\"South Dakota\", \"Montana\", \"Maine\", \"Idaho\", \"New Mexico\", \"Hawaii\", \"Wyoming\", \"North Dakota\", \"New Hampshire\", \"Rhode Island\", \"Nebraska\"], \"locationmode\": \"USA-states\", \"locations\": [\"SD\", \"MT\", \"ME\", \"ID\", \"NM\", \"HI\", \"WY\", \"ND\", \"NH\", \"RI\", \"NE\"], \"name\": \"\", \"z\": [5.0, 2.0, 2.0, 18.0, 18.0, 2.0, 0.0, 4.0, 0.0, 28.0, 3.0], \"type\": \"choropleth\"}], \"name\": \"2020-07-27\"}, {\"data\": [{\"coloraxis\": \"coloraxis\", \"geo\": \"geo\", \"hovertemplate\": \"<b>%{hovertext}</b><br><br>date=2020-07-28<br>open_covid_region_code=%{location}<br>hospitalized_new=%{z}<extra></extra>\", \"hovertext\": [\"South Dakota\", \"Montana\", \"Maine\", \"Idaho\", \"New Mexico\", \"Hawaii\", \"Wyoming\", \"North Dakota\", \"New Hampshire\", \"Rhode Island\", \"Nebraska\"], \"locationmode\": \"USA-states\", \"locations\": [\"SD\", \"MT\", \"ME\", \"ID\", \"NM\", \"HI\", \"WY\", \"ND\", \"NH\", \"RI\", \"NE\"], \"name\": \"\", \"z\": [2.0, 4.0, 1.0, 9.0, 30.0, 2.0, 4.0, 6.0, 2.0, 8.0, 17.0], \"type\": \"choropleth\"}], \"name\": \"2020-07-28\"}, {\"data\": [{\"coloraxis\": \"coloraxis\", \"geo\": \"geo\", \"hovertemplate\": \"<b>%{hovertext}</b><br><br>date=2020-07-29<br>open_covid_region_code=%{location}<br>hospitalized_new=%{z}<extra></extra>\", \"hovertext\": [\"South Dakota\", \"Montana\", \"Maine\", \"Idaho\", \"New Mexico\", \"Hawaii\", \"Wyoming\", \"North Dakota\", \"New Hampshire\", \"Rhode Island\", \"Nebraska\"], \"locationmode\": \"USA-states\", \"locations\": [\"SD\", \"MT\", \"ME\", \"ID\", \"NM\", \"HI\", \"WY\", \"ND\", \"NH\", \"RI\", \"NE\"], \"name\": \"\", \"z\": [2.0, 6.0, 1.0, 33.0, 24.0, 2.0, 3.0, 8.0, 0.0, 13.0, 19.0], \"type\": \"choropleth\"}], \"name\": \"2020-07-29\"}, {\"data\": [{\"coloraxis\": \"coloraxis\", \"geo\": \"geo\", \"hovertemplate\": \"<b>%{hovertext}</b><br><br>date=2020-07-30<br>open_covid_region_code=%{location}<br>hospitalized_new=%{z}<extra></extra>\", \"hovertext\": [\"South Dakota\", \"Montana\", \"Maine\", \"Idaho\", \"New Mexico\", \"Hawaii\", \"Wyoming\", \"North Dakota\", \"New Hampshire\", \"Rhode Island\", \"Nebraska\"], \"locationmode\": \"USA-states\", \"locations\": [\"SD\", \"MT\", \"ME\", \"ID\", \"NM\", \"HI\", \"WY\", \"ND\", \"NH\", \"RI\", \"NE\"], \"name\": \"\", \"z\": [5.0, 10.0, 1.0, 25.0, 29.0, 6.0, 1.0, 5.0, 0.0, 7.0, 4.0], \"type\": \"choropleth\"}], \"name\": \"2020-07-30\"}, {\"data\": [{\"coloraxis\": \"coloraxis\", \"geo\": \"geo\", \"hovertemplate\": \"<b>%{hovertext}</b><br><br>date=2020-07-31<br>open_covid_region_code=%{location}<br>hospitalized_new=%{z}<extra></extra>\", \"hovertext\": [\"South Dakota\", \"Montana\", \"Maine\", \"Idaho\", \"New Mexico\", \"Hawaii\", \"Wyoming\", \"North Dakota\", \"New Hampshire\", \"Rhode Island\", \"Nebraska\"], \"locationmode\": \"USA-states\", \"locations\": [\"SD\", \"MT\", \"ME\", \"ID\", \"NM\", \"HI\", \"WY\", \"ND\", \"NH\", \"RI\", \"NE\"], \"name\": \"\", \"z\": [9.0, 9.0, 2.0, 27.0, 24.0, 4.0, 0.0, 8.0, 2.0, 9.0, 0.0], \"type\": \"choropleth\"}], \"name\": \"2020-07-31\"}, {\"data\": [{\"coloraxis\": \"coloraxis\", \"geo\": \"geo\", \"hovertemplate\": \"<b>%{hovertext}</b><br><br>date=2020-08-01<br>open_covid_region_code=%{location}<br>hospitalized_new=%{z}<extra></extra>\", \"hovertext\": [\"South Dakota\", \"Montana\", \"Maine\", \"Idaho\", \"New Mexico\", \"Hawaii\", \"Wyoming\", \"North Dakota\", \"New Hampshire\", \"Rhode Island\", \"Nebraska\"], \"locationmode\": \"USA-states\", \"locations\": [\"SD\", \"MT\", \"ME\", \"ID\", \"NM\", \"HI\", \"WY\", \"ND\", \"NH\", \"RI\", \"NE\"], \"name\": \"\", \"z\": [8.0, 0.0, 0.0, 15.0, 19.0, 2.0, 1.0, 7.0, 3.0, 0.0, 12.0], \"type\": \"choropleth\"}], \"name\": \"2020-08-01\"}, {\"data\": [{\"coloraxis\": \"coloraxis\", \"geo\": \"geo\", \"hovertemplate\": \"<b>%{hovertext}</b><br><br>date=2020-08-02<br>open_covid_region_code=%{location}<br>hospitalized_new=%{z}<extra></extra>\", \"hovertext\": [\"South Dakota\", \"Montana\", \"Maine\", \"Idaho\", \"New Mexico\", \"Hawaii\", \"Wyoming\", \"North Dakota\", \"New Hampshire\", \"Rhode Island\", \"Nebraska\"], \"locationmode\": \"USA-states\", \"locations\": [\"SD\", \"MT\", \"ME\", \"ID\", \"NM\", \"HI\", \"WY\", \"ND\", \"NH\", \"RI\", \"NE\"], \"name\": \"\", \"z\": [3.0, 3.0, 0.0, 6.0, 17.0, 15.0, 0.0, 0.0, 0.0, 0.0, 7.0], \"type\": \"choropleth\"}], \"name\": \"2020-08-02\"}, {\"data\": [{\"coloraxis\": \"coloraxis\", \"geo\": \"geo\", \"hovertemplate\": \"<b>%{hovertext}</b><br><br>date=2020-08-03<br>open_covid_region_code=%{location}<br>hospitalized_new=%{z}<extra></extra>\", \"hovertext\": [\"South Dakota\", \"Montana\", \"Maine\", \"Idaho\", \"New Mexico\", \"Hawaii\", \"Wyoming\", \"North Dakota\", \"New Hampshire\", \"Rhode Island\", \"Nebraska\"], \"locationmode\": \"USA-states\", \"locations\": [\"SD\", \"MT\", \"ME\", \"ID\", \"NM\", \"HI\", \"WY\", \"ND\", \"NH\", \"RI\", \"NE\"], \"name\": \"\", \"z\": [3.0, 3.0, 1.0, 18.0, 17.0, 5.0, 0.0, 8.0, 1.0, 20.0, 1.0], \"type\": \"choropleth\"}], \"name\": \"2020-08-03\"}, {\"data\": [{\"coloraxis\": \"coloraxis\", \"geo\": \"geo\", \"hovertemplate\": \"<b>%{hovertext}</b><br><br>date=2020-08-04<br>open_covid_region_code=%{location}<br>hospitalized_new=%{z}<extra></extra>\", \"hovertext\": [\"South Dakota\", \"Montana\", \"Maine\", \"Idaho\", \"New Mexico\", \"Hawaii\", \"Wyoming\", \"North Dakota\", \"New Hampshire\", \"Rhode Island\", \"Nebraska\"], \"locationmode\": \"USA-states\", \"locations\": [\"SD\", \"MT\", \"ME\", \"ID\", \"NM\", \"HI\", \"WY\", \"ND\", \"NH\", \"RI\", \"NE\"], \"name\": \"\", \"z\": [8.0, 2.0, -1.0, 12.0, 10.0, 2.0, 2.0, 10.0, 1.0, 11.0, 14.0], \"type\": \"choropleth\"}], \"name\": \"2020-08-04\"}, {\"data\": [{\"coloraxis\": \"coloraxis\", \"geo\": \"geo\", \"hovertemplate\": \"<b>%{hovertext}</b><br><br>date=2020-08-05<br>open_covid_region_code=%{location}<br>hospitalized_new=%{z}<extra></extra>\", \"hovertext\": [\"South Dakota\", \"Montana\", \"Maine\", \"Idaho\", \"New Mexico\", \"Hawaii\", \"Wyoming\", \"North Dakota\", \"New Hampshire\", \"Rhode Island\", \"Nebraska\"], \"locationmode\": \"USA-states\", \"locations\": [\"SD\", \"MT\", \"ME\", \"ID\", \"NM\", \"HI\", \"WY\", \"ND\", \"NH\", \"RI\", \"NE\"], \"name\": \"\", \"z\": [10.0, 10.0, 2.0, 20.0, 23.0, 7.0, 0.0, 5.0, 1.0, 6.0, 0.0], \"type\": \"choropleth\"}], \"name\": \"2020-08-05\"}, {\"data\": [{\"coloraxis\": \"coloraxis\", \"geo\": \"geo\", \"hovertemplate\": \"<b>%{hovertext}</b><br><br>date=2020-08-06<br>open_covid_region_code=%{location}<br>hospitalized_new=%{z}<extra></extra>\", \"hovertext\": [\"South Dakota\", \"Montana\", \"Maine\", \"Idaho\", \"New Mexico\", \"Hawaii\", \"Wyoming\", \"North Dakota\", \"New Hampshire\", \"Rhode Island\", \"Nebraska\"], \"locationmode\": \"USA-states\", \"locations\": [\"SD\", \"MT\", \"ME\", \"ID\", \"NM\", \"HI\", \"WY\", \"ND\", \"NH\", \"RI\", \"NE\"], \"name\": \"\", \"z\": [5.0, 11.0, 0.0, 25.0, 28.0, 6.0, 2.0, 6.0, 0.0, 16.0, 37.0], \"type\": \"choropleth\"}], \"name\": \"2020-08-06\"}, {\"data\": [{\"coloraxis\": \"coloraxis\", \"geo\": \"geo\", \"hovertemplate\": \"<b>%{hovertext}</b><br><br>date=2020-08-07<br>open_covid_region_code=%{location}<br>hospitalized_new=%{z}<extra></extra>\", \"hovertext\": [\"South Dakota\", \"Montana\", \"Maine\", \"Idaho\", \"New Mexico\", \"Hawaii\", \"Wyoming\", \"North Dakota\", \"New Hampshire\", \"Rhode Island\", \"Nebraska\"], \"locationmode\": \"USA-states\", \"locations\": [\"SD\", \"MT\", \"ME\", \"ID\", \"NM\", \"HI\", \"WY\", \"ND\", \"NH\", \"RI\", \"NE\"], \"name\": \"\", \"z\": [5.0, 5.0, 3.0, 23.0, 22.0, 11.0, 5.0, 8.0, 1.0, 12.0, 7.0], \"type\": \"choropleth\"}], \"name\": \"2020-08-07\"}, {\"data\": [{\"coloraxis\": \"coloraxis\", \"geo\": \"geo\", \"hovertemplate\": \"<b>%{hovertext}</b><br><br>date=2020-08-08<br>open_covid_region_code=%{location}<br>hospitalized_new=%{z}<extra></extra>\", \"hovertext\": [\"South Dakota\", \"Montana\", \"Maine\", \"Idaho\", \"New Mexico\", \"Hawaii\", \"Wyoming\", \"North Dakota\", \"New Hampshire\", \"Rhode Island\", \"Nebraska\"], \"locationmode\": \"USA-states\", \"locations\": [\"SD\", \"MT\", \"ME\", \"ID\", \"NM\", \"HI\", \"WY\", \"ND\", \"NH\", \"RI\", \"NE\"], \"name\": \"\", \"z\": [5.0, 4.0, 0.0, 14.0, 16.0, 6.0, 1.0, 6.0, 1.0, 18.0, 16.0], \"type\": \"choropleth\"}], \"name\": \"2020-08-08\"}, {\"data\": [{\"coloraxis\": \"coloraxis\", \"geo\": \"geo\", \"hovertemplate\": \"<b>%{hovertext}</b><br><br>date=2020-08-09<br>open_covid_region_code=%{location}<br>hospitalized_new=%{z}<extra></extra>\", \"hovertext\": [\"South Dakota\", \"Montana\", \"Maine\", \"Idaho\", \"New Mexico\", \"Hawaii\", \"Wyoming\", \"North Dakota\", \"New Hampshire\", \"Rhode Island\", \"Nebraska\"], \"locationmode\": \"USA-states\", \"locations\": [\"SD\", \"MT\", \"ME\", \"ID\", \"NM\", \"HI\", \"WY\", \"ND\", \"NH\", \"RI\", \"NE\"], \"name\": \"\", \"z\": [5.0, 4.0, 0.0, 20.0, 19.0, 6.0, 0.0, 1.0, 1.0, 17.0, 11.0], \"type\": \"choropleth\"}], \"name\": \"2020-08-09\"}, {\"data\": [{\"coloraxis\": \"coloraxis\", \"geo\": \"geo\", \"hovertemplate\": \"<b>%{hovertext}</b><br><br>date=2020-08-10<br>open_covid_region_code=%{location}<br>hospitalized_new=%{z}<extra></extra>\", \"hovertext\": [\"South Dakota\", \"Montana\", \"Maine\", \"Idaho\", \"New Mexico\", \"Hawaii\", \"Wyoming\", \"North Dakota\", \"New Hampshire\", \"Rhode Island\", \"Nebraska\"], \"locationmode\": \"USA-states\", \"locations\": [\"SD\", \"MT\", \"ME\", \"ID\", \"NM\", \"HI\", \"WY\", \"ND\", \"NH\", \"RI\", \"NE\"], \"name\": \"\", \"z\": [6.0, 1.0, 0.0, 11.0, 13.0, 2.0, 2.0, 2.0, 3.0, 0.0, 7.0], \"type\": \"choropleth\"}], \"name\": \"2020-08-10\"}, {\"data\": [{\"coloraxis\": \"coloraxis\", \"geo\": \"geo\", \"hovertemplate\": \"<b>%{hovertext}</b><br><br>date=2020-08-11<br>open_covid_region_code=%{location}<br>hospitalized_new=%{z}<extra></extra>\", \"hovertext\": [\"South Dakota\", \"Montana\", \"Maine\", \"Idaho\", \"New Mexico\", \"Hawaii\", \"Wyoming\", \"North Dakota\", \"New Hampshire\", \"Rhode Island\", \"Nebraska\"], \"locationmode\": \"USA-states\", \"locations\": [\"SD\", \"MT\", \"ME\", \"ID\", \"NM\", \"HI\", \"WY\", \"ND\", \"NH\", \"RI\", \"NE\"], \"name\": \"\", \"z\": [5.0, 3.0, 1.0, 7.0, 19.0, 3.0, 4.0, 13.0, 1.0, 6.0, 19.0], \"type\": \"choropleth\"}], \"name\": \"2020-08-11\"}, {\"data\": [{\"coloraxis\": \"coloraxis\", \"geo\": \"geo\", \"hovertemplate\": \"<b>%{hovertext}</b><br><br>date=2020-08-12<br>open_covid_region_code=%{location}<br>hospitalized_new=%{z}<extra></extra>\", \"hovertext\": [\"South Dakota\", \"Montana\", \"Maine\", \"Idaho\", \"New Mexico\", \"Hawaii\", \"Wyoming\", \"North Dakota\", \"New Hampshire\", \"Rhode Island\", \"Nebraska\"], \"locationmode\": \"USA-states\", \"locations\": [\"SD\", \"MT\", \"ME\", \"ID\", \"NM\", \"HI\", \"WY\", \"ND\", \"NH\", \"RI\", \"NE\"], \"name\": \"\", \"z\": [5.0, 25.0, 0.0, 31.0, 27.0, 18.0, 4.0, 10.0, 0.0, 19.0, 139.0], \"type\": \"choropleth\"}], \"name\": \"2020-08-12\"}, {\"data\": [{\"coloraxis\": \"coloraxis\", \"geo\": \"geo\", \"hovertemplate\": \"<b>%{hovertext}</b><br><br>date=2020-08-13<br>open_covid_region_code=%{location}<br>hospitalized_new=%{z}<extra></extra>\", \"hovertext\": [\"South Dakota\", \"Montana\", \"Maine\", \"Idaho\", \"New Mexico\", \"Hawaii\", \"Wyoming\", \"North Dakota\", \"New Hampshire\", \"Rhode Island\", \"Nebraska\"], \"locationmode\": \"USA-states\", \"locations\": [\"SD\", \"MT\", \"ME\", \"ID\", \"NM\", \"HI\", \"WY\", \"ND\", \"NH\", \"RI\", \"NE\"], \"name\": \"\", \"z\": [4.0, 14.0, 1.0, 14.0, 10.0, 7.0, 2.0, 5.0, 0.0, 5.0, 0.0], \"type\": \"choropleth\"}], \"name\": \"2020-08-13\"}, {\"data\": [{\"coloraxis\": \"coloraxis\", \"geo\": \"geo\", \"hovertemplate\": \"<b>%{hovertext}</b><br><br>date=2020-08-14<br>open_covid_region_code=%{location}<br>hospitalized_new=%{z}<extra></extra>\", \"hovertext\": [\"South Dakota\", \"Montana\", \"Maine\", \"Idaho\", \"New Mexico\", \"Hawaii\", \"Wyoming\", \"North Dakota\", \"New Hampshire\", \"Rhode Island\", \"Nebraska\"], \"locationmode\": \"USA-states\", \"locations\": [\"SD\", \"MT\", \"ME\", \"ID\", \"NM\", \"HI\", \"WY\", \"ND\", \"NH\", \"RI\", \"NE\"], \"name\": \"\", \"z\": [7.0, 4.0, 4.0, 17.0, 21.0, 0.0, 2.0, 10.0, 0.0, 9.0, 0.0], \"type\": \"choropleth\"}], \"name\": \"2020-08-14\"}, {\"data\": [{\"coloraxis\": \"coloraxis\", \"geo\": \"geo\", \"hovertemplate\": \"<b>%{hovertext}</b><br><br>date=2020-08-15<br>open_covid_region_code=%{location}<br>hospitalized_new=%{z}<extra></extra>\", \"hovertext\": [\"South Dakota\", \"Montana\", \"Maine\", \"Idaho\", \"New Mexico\", \"Hawaii\", \"Wyoming\", \"North Dakota\", \"New Hampshire\", \"Rhode Island\", \"Nebraska\"], \"locationmode\": \"USA-states\", \"locations\": [\"SD\", \"MT\", \"ME\", \"ID\", \"NM\", \"HI\", \"WY\", \"ND\", \"NH\", \"RI\", \"NE\"], \"name\": \"\", \"z\": [10.0, 5.0, 0.0, 23.0, 18.0, 10.0, 0.0, 2.0, 1.0, 25.0, 0.0], \"type\": \"choropleth\"}], \"name\": \"2020-08-15\"}, {\"data\": [{\"coloraxis\": \"coloraxis\", \"geo\": \"geo\", \"hovertemplate\": \"<b>%{hovertext}</b><br><br>date=2020-08-16<br>open_covid_region_code=%{location}<br>hospitalized_new=%{z}<extra></extra>\", \"hovertext\": [\"South Dakota\", \"Montana\", \"Maine\", \"Idaho\", \"New Mexico\", \"Hawaii\", \"Wyoming\", \"North Dakota\", \"New Hampshire\", \"Rhode Island\", \"Nebraska\"], \"locationmode\": \"USA-states\", \"locations\": [\"SD\", \"MT\", \"ME\", \"ID\", \"NM\", \"HI\", \"WY\", \"ND\", \"NH\", \"RI\", \"NE\"], \"name\": \"\", \"z\": [3.0, 2.0, 1.0, 12.0, 11.0, 2.0, 0.0, 2.0, 2.0, 5.0, 3.0], \"type\": \"choropleth\"}], \"name\": \"2020-08-16\"}, {\"data\": [{\"coloraxis\": \"coloraxis\", \"geo\": \"geo\", \"hovertemplate\": \"<b>%{hovertext}</b><br><br>date=2020-08-17<br>open_covid_region_code=%{location}<br>hospitalized_new=%{z}<extra></extra>\", \"hovertext\": [\"South Dakota\", \"Montana\", \"Maine\", \"Idaho\", \"New Mexico\", \"Hawaii\", \"Wyoming\", \"North Dakota\", \"New Hampshire\", \"Rhode Island\", \"Nebraska\"], \"locationmode\": \"USA-states\", \"locations\": [\"SD\", \"MT\", \"ME\", \"ID\", \"NM\", \"HI\", \"WY\", \"ND\", \"NH\", \"RI\", \"NE\"], \"name\": \"\", \"z\": [5.0, 4.0, -1.0, 7.0, 8.0, 4.0, 4.0, 2.0, 1.0, 0.0, 0.0], \"type\": \"choropleth\"}], \"name\": \"2020-08-17\"}, {\"data\": [{\"coloraxis\": \"coloraxis\", \"geo\": \"geo\", \"hovertemplate\": \"<b>%{hovertext}</b><br><br>date=2020-08-18<br>open_covid_region_code=%{location}<br>hospitalized_new=%{z}<extra></extra>\", \"hovertext\": [\"South Dakota\", \"Montana\", \"Maine\", \"Idaho\", \"New Mexico\", \"Hawaii\", \"Wyoming\", \"North Dakota\", \"New Hampshire\", \"Rhode Island\", \"Nebraska\"], \"locationmode\": \"USA-states\", \"locations\": [\"SD\", \"MT\", \"ME\", \"ID\", \"NM\", \"HI\", \"WY\", \"ND\", \"NH\", \"RI\", \"NE\"], \"name\": \"\", \"z\": [6.0, 9.0, 2.0, 19.0, 19.0, 5.0, -2.0, 8.0, 3.0, 25.0, 0.0], \"type\": \"choropleth\"}], \"name\": \"2020-08-18\"}, {\"data\": [{\"coloraxis\": \"coloraxis\", \"geo\": \"geo\", \"hovertemplate\": \"<b>%{hovertext}</b><br><br>date=2020-08-19<br>open_covid_region_code=%{location}<br>hospitalized_new=%{z}<extra></extra>\", \"hovertext\": [\"South Dakota\", \"Montana\", \"Maine\", \"Idaho\", \"New Mexico\", \"Hawaii\", \"Wyoming\", \"North Dakota\", \"New Hampshire\", \"Rhode Island\", \"Nebraska\"], \"locationmode\": \"USA-states\", \"locations\": [\"SD\", \"MT\", \"ME\", \"ID\", \"NM\", \"HI\", \"WY\", \"ND\", \"NH\", \"RI\", \"NE\"], \"name\": \"\", \"z\": [8.0, 9.0, 2.0, 41.0, 14.0, 15.0, 4.0, 9.0, 0.0, 14.0, -48.0], \"type\": \"choropleth\"}], \"name\": \"2020-08-19\"}, {\"data\": [{\"coloraxis\": \"coloraxis\", \"geo\": \"geo\", \"hovertemplate\": \"<b>%{hovertext}</b><br><br>date=2020-08-20<br>open_covid_region_code=%{location}<br>hospitalized_new=%{z}<extra></extra>\", \"hovertext\": [\"South Dakota\", \"Montana\", \"Maine\", \"Idaho\", \"New Mexico\", \"Hawaii\", \"Wyoming\", \"North Dakota\", \"New Hampshire\", \"Rhode Island\", \"Nebraska\"], \"locationmode\": \"USA-states\", \"locations\": [\"SD\", \"MT\", \"ME\", \"ID\", \"NM\", \"HI\", \"WY\", \"ND\", \"NH\", \"RI\", \"NE\"], \"name\": \"\", \"z\": [5.0, 9.0, 2.0, 30.0, 4.0, 14.0, 5.0, 0.0, -2.0, 12.0, 16.0], \"type\": \"choropleth\"}], \"name\": \"2020-08-20\"}, {\"data\": [{\"coloraxis\": \"coloraxis\", \"geo\": \"geo\", \"hovertemplate\": \"<b>%{hovertext}</b><br><br>date=2020-08-21<br>open_covid_region_code=%{location}<br>hospitalized_new=%{z}<extra></extra>\", \"hovertext\": [\"South Dakota\", \"Montana\", \"Maine\", \"Idaho\", \"New Mexico\", \"Hawaii\", \"Wyoming\", \"North Dakota\", \"New Hampshire\", \"Rhode Island\", \"Nebraska\"], \"locationmode\": \"USA-states\", \"locations\": [\"SD\", \"MT\", \"ME\", \"ID\", \"NM\", \"HI\", \"WY\", \"ND\", \"NH\", \"RI\", \"NE\"], \"name\": \"\", \"z\": [8.0, 6.0, 2.0, 26.0, 7.0, 0.0, 1.0, 13.0, 0.0, 7.0, 26.0], \"type\": \"choropleth\"}], \"name\": \"2020-08-21\"}, {\"data\": [{\"coloraxis\": \"coloraxis\", \"geo\": \"geo\", \"hovertemplate\": \"<b>%{hovertext}</b><br><br>date=2020-08-22<br>open_covid_region_code=%{location}<br>hospitalized_new=%{z}<extra></extra>\", \"hovertext\": [\"South Dakota\", \"Montana\", \"Maine\", \"Idaho\", \"New Mexico\", \"Hawaii\", \"Wyoming\", \"North Dakota\", \"New Hampshire\", \"Rhode Island\", \"Nebraska\"], \"locationmode\": \"USA-states\", \"locations\": [\"SD\", \"MT\", \"ME\", \"ID\", \"NM\", \"HI\", \"WY\", \"ND\", \"NH\", \"RI\", \"NE\"], \"name\": \"\", \"z\": [3.0, 15.0, 0.0, 7.0, 9.0, 20.0, 0.0, 8.0, 0.0, 17.0, 14.0], \"type\": \"choropleth\"}], \"name\": \"2020-08-22\"}, {\"data\": [{\"coloraxis\": \"coloraxis\", \"geo\": \"geo\", \"hovertemplate\": \"<b>%{hovertext}</b><br><br>date=2020-08-23<br>open_covid_region_code=%{location}<br>hospitalized_new=%{z}<extra></extra>\", \"hovertext\": [\"South Dakota\", \"Montana\", \"Maine\", \"Idaho\", \"New Mexico\", \"Hawaii\", \"Wyoming\", \"North Dakota\", \"New Hampshire\", \"Rhode Island\", \"Nebraska\"], \"locationmode\": \"USA-states\", \"locations\": [\"SD\", \"MT\", \"ME\", \"ID\", \"NM\", \"HI\", \"WY\", \"ND\", \"NH\", \"RI\", \"NE\"], \"name\": \"\", \"z\": [8.0, 1.0, 1.0, 13.0, 12.0, 40.0, 4.0, 2.0, 1.0, 5.0, 16.0], \"type\": \"choropleth\"}], \"name\": \"2020-08-23\"}, {\"data\": [{\"coloraxis\": \"coloraxis\", \"geo\": \"geo\", \"hovertemplate\": \"<b>%{hovertext}</b><br><br>date=2020-08-24<br>open_covid_region_code=%{location}<br>hospitalized_new=%{z}<extra></extra>\", \"hovertext\": [\"South Dakota\", \"Montana\", \"Maine\", \"Idaho\", \"New Mexico\", \"Hawaii\", \"Wyoming\", \"North Dakota\", \"New Hampshire\", \"Rhode Island\", \"Nebraska\"], \"locationmode\": \"USA-states\", \"locations\": [\"SD\", \"MT\", \"ME\", \"ID\", \"NM\", \"HI\", \"WY\", \"ND\", \"NH\", \"RI\", \"NE\"], \"name\": \"\", \"z\": [6.0, 4.0, 1.0, 10.0, 1.0, 19.0, 4.0, 4.0, 1.0, 0.0, 3.0], \"type\": \"choropleth\"}], \"name\": \"2020-08-24\"}, {\"data\": [{\"coloraxis\": \"coloraxis\", \"geo\": \"geo\", \"hovertemplate\": \"<b>%{hovertext}</b><br><br>date=2020-08-25<br>open_covid_region_code=%{location}<br>hospitalized_new=%{z}<extra></extra>\", \"hovertext\": [\"South Dakota\", \"Montana\", \"Maine\", \"Idaho\", \"New Mexico\", \"Hawaii\", \"Wyoming\", \"North Dakota\", \"New Hampshire\", \"Rhode Island\", \"Nebraska\"], \"locationmode\": \"USA-states\", \"locations\": [\"SD\", \"MT\", \"ME\", \"ID\", \"NM\", \"HI\", \"WY\", \"ND\", \"NH\", \"RI\", \"NE\"], \"name\": \"\", \"z\": [9.0, 11.0, 1.0, 13.0, 10.0, 23.0, 2.0, 14.0, 1.0, 14.0, 20.0], \"type\": \"choropleth\"}], \"name\": \"2020-08-25\"}, {\"data\": [{\"coloraxis\": \"coloraxis\", \"geo\": \"geo\", \"hovertemplate\": \"<b>%{hovertext}</b><br><br>date=2020-08-26<br>open_covid_region_code=%{location}<br>hospitalized_new=%{z}<extra></extra>\", \"hovertext\": [\"South Dakota\", \"Montana\", \"Maine\", \"Idaho\", \"New Mexico\", \"Hawaii\", \"Wyoming\", \"North Dakota\", \"New Hampshire\", \"Rhode Island\", \"Nebraska\"], \"locationmode\": \"USA-states\", \"locations\": [\"SD\", \"MT\", \"ME\", \"ID\", \"NM\", \"HI\", \"WY\", \"ND\", \"NH\", \"RI\", \"NE\"], \"name\": \"\", \"z\": [7.0, 8.0, 2.0, 16.0, 9.0, 0.0, 0.0, 6.0, 0.0, 4.0, 16.0], \"type\": \"choropleth\"}], \"name\": \"2020-08-26\"}, {\"data\": [{\"coloraxis\": \"coloraxis\", \"geo\": \"geo\", \"hovertemplate\": \"<b>%{hovertext}</b><br><br>date=2020-08-27<br>open_covid_region_code=%{location}<br>hospitalized_new=%{z}<extra></extra>\", \"hovertext\": [\"South Dakota\", \"Montana\", \"Maine\", \"Idaho\", \"New Mexico\", \"Hawaii\", \"Wyoming\", \"North Dakota\", \"New Hampshire\", \"Rhode Island\", \"Nebraska\"], \"locationmode\": \"USA-states\", \"locations\": [\"SD\", \"MT\", \"ME\", \"ID\", \"NM\", \"HI\", \"WY\", \"ND\", \"NH\", \"RI\", \"NE\"], \"name\": \"\", \"z\": [2.0, 10.0, 3.0, 19.0, 24.0, 25.0, 2.0, 9.0, 0.0, 7.0, 8.0], \"type\": \"choropleth\"}], \"name\": \"2020-08-27\"}, {\"data\": [{\"coloraxis\": \"coloraxis\", \"geo\": \"geo\", \"hovertemplate\": \"<b>%{hovertext}</b><br><br>date=2020-08-28<br>open_covid_region_code=%{location}<br>hospitalized_new=%{z}<extra></extra>\", \"hovertext\": [\"South Dakota\", \"Montana\", \"Maine\", \"Idaho\", \"New Mexico\", \"Hawaii\", \"Wyoming\", \"North Dakota\", \"New Hampshire\", \"Rhode Island\", \"Nebraska\"], \"locationmode\": \"USA-states\", \"locations\": [\"SD\", \"MT\", \"ME\", \"ID\", \"NM\", \"HI\", \"WY\", \"ND\", \"NH\", \"RI\", \"NE\"], \"name\": \"\", \"z\": [12.0, 5.0, 2.0, 24.0, 17.0, 18.0, 0.0, 16.0, 0.0, 11.0, 14.0], \"type\": \"choropleth\"}], \"name\": \"2020-08-28\"}, {\"data\": [{\"coloraxis\": \"coloraxis\", \"geo\": \"geo\", \"hovertemplate\": \"<b>%{hovertext}</b><br><br>date=2020-08-29<br>open_covid_region_code=%{location}<br>hospitalized_new=%{z}<extra></extra>\", \"hovertext\": [\"South Dakota\", \"Montana\", \"Maine\", \"Idaho\", \"New Mexico\", \"Hawaii\", \"Wyoming\", \"North Dakota\", \"New Hampshire\", \"Rhode Island\", \"Nebraska\"], \"locationmode\": \"USA-states\", \"locations\": [\"SD\", \"MT\", \"ME\", \"ID\", \"NM\", \"HI\", \"WY\", \"ND\", \"NH\", \"RI\", \"NE\"], \"name\": \"\", \"z\": [11.0, 12.0, 1.0, 21.0, 15.0, 23.0, 0.0, 1.0, 1.0, 18.0, 14.0], \"type\": \"choropleth\"}], \"name\": \"2020-08-29\"}, {\"data\": [{\"coloraxis\": \"coloraxis\", \"geo\": \"geo\", \"hovertemplate\": \"<b>%{hovertext}</b><br><br>date=2020-08-30<br>open_covid_region_code=%{location}<br>hospitalized_new=%{z}<extra></extra>\", \"hovertext\": [\"South Dakota\", \"Montana\", \"Maine\", \"Idaho\", \"New Mexico\", \"Hawaii\", \"Wyoming\", \"North Dakota\", \"New Hampshire\", \"Rhode Island\", \"Nebraska\"], \"locationmode\": \"USA-states\", \"locations\": [\"SD\", \"MT\", \"ME\", \"ID\", \"NM\", \"HI\", \"WY\", \"ND\", \"NH\", \"RI\", \"NE\"], \"name\": \"\", \"z\": [11.0, 3.0, 2.0, 16.0, 10.0, 12.0, 0.0, 3.0, 0.0, 5.0, 10.0], \"type\": \"choropleth\"}], \"name\": \"2020-08-30\"}, {\"data\": [{\"coloraxis\": \"coloraxis\", \"geo\": \"geo\", \"hovertemplate\": \"<b>%{hovertext}</b><br><br>date=2020-08-31<br>open_covid_region_code=%{location}<br>hospitalized_new=%{z}<extra></extra>\", \"hovertext\": [\"South Dakota\", \"Montana\", \"Maine\", \"Idaho\", \"New Mexico\", \"Hawaii\", \"Wyoming\", \"North Dakota\", \"New Hampshire\", \"Rhode Island\", \"Nebraska\"], \"locationmode\": \"USA-states\", \"locations\": [\"SD\", \"MT\", \"ME\", \"ID\", \"NM\", \"HI\", \"WY\", \"ND\", \"NH\", \"RI\", \"NE\"], \"name\": \"\", \"z\": [12.0, 4.0, 0.0, 4.0, 10.0, 8.0, 0.0, 0.0, 0.0, 0.0, 2.0], \"type\": \"choropleth\"}], \"name\": \"2020-08-31\"}, {\"data\": [{\"coloraxis\": \"coloraxis\", \"geo\": \"geo\", \"hovertemplate\": \"<b>%{hovertext}</b><br><br>date=2020-09-01<br>open_covid_region_code=%{location}<br>hospitalized_new=%{z}<extra></extra>\", \"hovertext\": [\"South Dakota\", \"Montana\", \"Maine\", \"Idaho\", \"New Mexico\", \"Hawaii\", \"Wyoming\", \"North Dakota\", \"New Hampshire\", \"Rhode Island\", \"Nebraska\"], \"locationmode\": \"USA-states\", \"locations\": [\"SD\", \"MT\", \"ME\", \"ID\", \"NM\", \"HI\", \"WY\", \"ND\", \"NH\", \"RI\", \"NE\"], \"name\": \"\", \"z\": [7.0, 11.0, 1.0, 25.0, 8.0, 3.0, 4.0, 10.0, 1.0, 9.0, 12.0], \"type\": \"choropleth\"}], \"name\": \"2020-09-01\"}, {\"data\": [{\"coloraxis\": \"coloraxis\", \"geo\": \"geo\", \"hovertemplate\": \"<b>%{hovertext}</b><br><br>date=2020-09-02<br>open_covid_region_code=%{location}<br>hospitalized_new=%{z}<extra></extra>\", \"hovertext\": [\"South Dakota\", \"Montana\", \"Maine\", \"Idaho\", \"New Mexico\", \"Hawaii\", \"Wyoming\", \"North Dakota\", \"New Hampshire\", \"Rhode Island\", \"Nebraska\"], \"locationmode\": \"USA-states\", \"locations\": [\"SD\", \"MT\", \"ME\", \"ID\", \"NM\", \"HI\", \"WY\", \"ND\", \"NH\", \"RI\", \"NE\"], \"name\": \"\", \"z\": [7.0, 14.0, 2.0, 0.0, 17.0, 24.0, 2.0, 11.0, 0.0, 14.0, 8.0], \"type\": \"choropleth\"}], \"name\": \"2020-09-02\"}, {\"data\": [{\"coloraxis\": \"coloraxis\", \"geo\": \"geo\", \"hovertemplate\": \"<b>%{hovertext}</b><br><br>date=2020-09-03<br>open_covid_region_code=%{location}<br>hospitalized_new=%{z}<extra></extra>\", \"hovertext\": [\"South Dakota\", \"Montana\", \"Maine\", \"Idaho\", \"New Mexico\", \"Hawaii\", \"Wyoming\", \"North Dakota\", \"New Hampshire\", \"Rhode Island\", \"Nebraska\"], \"locationmode\": \"USA-states\", \"locations\": [\"SD\", \"MT\", \"ME\", \"ID\", \"NM\", \"HI\", \"WY\", \"ND\", \"NH\", \"RI\", \"NE\"], \"name\": \"\", \"z\": [9.0, 11.0, 1.0, 41.0, 8.0, 20.0, 2.0, 8.0, 0.0, -2.0, 13.0], \"type\": \"choropleth\"}], \"name\": \"2020-09-03\"}, {\"data\": [{\"coloraxis\": \"coloraxis\", \"geo\": \"geo\", \"hovertemplate\": \"<b>%{hovertext}</b><br><br>date=2020-09-04<br>open_covid_region_code=%{location}<br>hospitalized_new=%{z}<extra></extra>\", \"hovertext\": [\"South Dakota\", \"Montana\", \"Maine\", \"Idaho\", \"New Mexico\", \"Hawaii\", \"Wyoming\", \"North Dakota\", \"New Hampshire\", \"Rhode Island\", \"Nebraska\"], \"locationmode\": \"USA-states\", \"locations\": [\"SD\", \"MT\", \"ME\", \"ID\", \"NM\", \"HI\", \"WY\", \"ND\", \"NH\", \"RI\", \"NE\"], \"name\": \"\", \"z\": [10.0, 2.0, -1.0, 7.0, 10.0, 21.0, 0.0, 7.0, 1.0, 19.0, 6.0], \"type\": \"choropleth\"}], \"name\": \"2020-09-04\"}, {\"data\": [{\"coloraxis\": \"coloraxis\", \"geo\": \"geo\", \"hovertemplate\": \"<b>%{hovertext}</b><br><br>date=2020-09-05<br>open_covid_region_code=%{location}<br>hospitalized_new=%{z}<extra></extra>\", \"hovertext\": [\"South Dakota\", \"Montana\", \"Maine\", \"Idaho\", \"New Mexico\", \"Hawaii\", \"Wyoming\", \"North Dakota\", \"New Hampshire\", \"Rhode Island\", \"Nebraska\"], \"locationmode\": \"USA-states\", \"locations\": [\"SD\", \"MT\", \"ME\", \"ID\", \"NM\", \"HI\", \"WY\", \"ND\", \"NH\", \"RI\", \"NE\"], \"name\": \"\", \"z\": [6.0, 3.0, 1.0, 19.0, 2.0, 10.0, 0.0, 6.0, 1.0, 22.0, 27.0], \"type\": \"choropleth\"}], \"name\": \"2020-09-05\"}, {\"data\": [{\"coloraxis\": \"coloraxis\", \"geo\": \"geo\", \"hovertemplate\": \"<b>%{hovertext}</b><br><br>date=2020-09-06<br>open_covid_region_code=%{location}<br>hospitalized_new=%{z}<extra></extra>\", \"hovertext\": [\"South Dakota\", \"Montana\", \"Maine\", \"Idaho\", \"New Mexico\", \"Hawaii\", \"Wyoming\", \"North Dakota\", \"New Hampshire\", \"Rhode Island\", \"Nebraska\"], \"locationmode\": \"USA-states\", \"locations\": [\"SD\", \"MT\", \"ME\", \"ID\", \"NM\", \"HI\", \"WY\", \"ND\", \"NH\", \"RI\", \"NE\"], \"name\": \"\", \"z\": [11.0, 9.0, 0.0, 5.0, 0.0, 9.0, -4.0, 2.0, 1.0, 6.0, 5.0], \"type\": \"choropleth\"}], \"name\": \"2020-09-06\"}, {\"data\": [{\"coloraxis\": \"coloraxis\", \"geo\": \"geo\", \"hovertemplate\": \"<b>%{hovertext}</b><br><br>date=2020-09-07<br>open_covid_region_code=%{location}<br>hospitalized_new=%{z}<extra></extra>\", \"hovertext\": [\"South Dakota\", \"Montana\", \"Maine\", \"Idaho\", \"New Mexico\", \"Hawaii\", \"Wyoming\", \"North Dakota\", \"New Hampshire\", \"Rhode Island\", \"Nebraska\"], \"locationmode\": \"USA-states\", \"locations\": [\"SD\", \"MT\", \"ME\", \"ID\", \"NM\", \"HI\", \"WY\", \"ND\", \"NH\", \"RI\", \"NE\"], \"name\": \"\", \"z\": [5.0, 12.0, 3.0, 0.0, 15.0, 5.0, 0.0, 4.0, 0.0, 2.0, 3.0], \"type\": \"choropleth\"}], \"name\": \"2020-09-07\"}, {\"data\": [{\"coloraxis\": \"coloraxis\", \"geo\": \"geo\", \"hovertemplate\": \"<b>%{hovertext}</b><br><br>date=2020-09-08<br>open_covid_region_code=%{location}<br>hospitalized_new=%{z}<extra></extra>\", \"hovertext\": [\"South Dakota\", \"Montana\", \"Maine\", \"Idaho\", \"New Mexico\", \"Hawaii\", \"Wyoming\", \"North Dakota\", \"New Hampshire\", \"Rhode Island\", \"Nebraska\"], \"locationmode\": \"USA-states\", \"locations\": [\"SD\", \"MT\", \"ME\", \"ID\", \"NM\", \"HI\", \"WY\", \"ND\", \"NH\", \"RI\", \"NE\"], \"name\": \"\", \"z\": [10.0, 4.0, 2.0, 2.0, 9.0, 1.0, 0.0, 2.0, 0.0, 0.0, 11.0], \"type\": \"choropleth\"}], \"name\": \"2020-09-08\"}, {\"data\": [{\"coloraxis\": \"coloraxis\", \"geo\": \"geo\", \"hovertemplate\": \"<b>%{hovertext}</b><br><br>date=2020-09-09<br>open_covid_region_code=%{location}<br>hospitalized_new=%{z}<extra></extra>\", \"hovertext\": [\"South Dakota\", \"Montana\", \"Maine\", \"Idaho\", \"New Mexico\", \"Hawaii\", \"Wyoming\", \"North Dakota\", \"New Hampshire\", \"Rhode Island\", \"Nebraska\"], \"locationmode\": \"USA-states\", \"locations\": [\"SD\", \"MT\", \"ME\", \"ID\", \"NM\", \"HI\", \"WY\", \"ND\", \"NH\", \"RI\", \"NE\"], \"name\": \"\", \"z\": [15.0, 7.0, 0.0, 34.0, 7.0, 1.0, 2.0, 7.0, 0.0, 15.0, 10.0], \"type\": \"choropleth\"}], \"name\": \"2020-09-09\"}, {\"data\": [{\"coloraxis\": \"coloraxis\", \"geo\": \"geo\", \"hovertemplate\": \"<b>%{hovertext}</b><br><br>date=2020-09-10<br>open_covid_region_code=%{location}<br>hospitalized_new=%{z}<extra></extra>\", \"hovertext\": [\"South Dakota\", \"Montana\", \"Maine\", \"Idaho\", \"New Mexico\", \"Hawaii\", \"Wyoming\", \"North Dakota\", \"New Hampshire\", \"Rhode Island\", \"Nebraska\"], \"locationmode\": \"USA-states\", \"locations\": [\"SD\", \"MT\", \"ME\", \"ID\", \"NM\", \"HI\", \"WY\", \"ND\", \"NH\", \"RI\", \"NE\"], \"name\": \"\", \"z\": [11.0, 3.0, 2.0, 34.0, 17.0, 5.0, 3.0, 13.0, 1.0, 7.0, 19.0], \"type\": \"choropleth\"}], \"name\": \"2020-09-10\"}, {\"data\": [{\"coloraxis\": \"coloraxis\", \"geo\": \"geo\", \"hovertemplate\": \"<b>%{hovertext}</b><br><br>date=2020-09-11<br>open_covid_region_code=%{location}<br>hospitalized_new=%{z}<extra></extra>\", \"hovertext\": [\"South Dakota\", \"Montana\", \"Maine\", \"Idaho\", \"New Mexico\", \"Hawaii\", \"Wyoming\", \"North Dakota\", \"New Hampshire\", \"Rhode Island\", \"Nebraska\"], \"locationmode\": \"USA-states\", \"locations\": [\"SD\", \"MT\", \"ME\", \"ID\", \"NM\", \"HI\", \"WY\", \"ND\", \"NH\", \"RI\", \"NE\"], \"name\": \"\", \"z\": [18.0, 6.0, 1.0, 15.0, 19.0, 6.0, 3.0, 6.0, 1.0, 9.0, 11.0], \"type\": \"choropleth\"}], \"name\": \"2020-09-11\"}, {\"data\": [{\"coloraxis\": \"coloraxis\", \"geo\": \"geo\", \"hovertemplate\": \"<b>%{hovertext}</b><br><br>date=2020-09-12<br>open_covid_region_code=%{location}<br>hospitalized_new=%{z}<extra></extra>\", \"hovertext\": [\"South Dakota\", \"Montana\", \"Maine\", \"Idaho\", \"New Mexico\", \"Hawaii\", \"Wyoming\", \"North Dakota\", \"New Hampshire\", \"Rhode Island\", \"Nebraska\"], \"locationmode\": \"USA-states\", \"locations\": [\"SD\", \"MT\", \"ME\", \"ID\", \"NM\", \"HI\", \"WY\", \"ND\", \"NH\", \"RI\", \"NE\"], \"name\": \"\", \"z\": [14.0, 3.0, -1.0, 18.0, 9.0, 12.0, 60.0, 4.0, 1.0, 19.0, 12.0], \"type\": \"choropleth\"}], \"name\": \"2020-09-12\"}, {\"data\": [{\"coloraxis\": \"coloraxis\", \"geo\": \"geo\", \"hovertemplate\": \"<b>%{hovertext}</b><br><br>date=2020-09-13<br>open_covid_region_code=%{location}<br>hospitalized_new=%{z}<extra></extra>\", \"hovertext\": [\"South Dakota\", \"Montana\", \"Maine\", \"Idaho\", \"New Mexico\", \"Hawaii\", \"Wyoming\", \"North Dakota\", \"New Hampshire\", \"Rhode Island\", \"Nebraska\"], \"locationmode\": \"USA-states\", \"locations\": [\"SD\", \"MT\", \"ME\", \"ID\", \"NM\", \"HI\", \"WY\", \"ND\", \"NH\", \"RI\", \"NE\"], \"name\": \"\", \"z\": [13.0, 4.0, 0.0, 27.0, 16.0, 13.0, -59.0, 9.0, 0.0, 5.0, 6.0], \"type\": \"choropleth\"}], \"name\": \"2020-09-13\"}, {\"data\": [{\"coloraxis\": \"coloraxis\", \"geo\": \"geo\", \"hovertemplate\": \"<b>%{hovertext}</b><br><br>date=2020-09-14<br>open_covid_region_code=%{location}<br>hospitalized_new=%{z}<extra></extra>\", \"hovertext\": [\"South Dakota\", \"Montana\", \"Maine\", \"Idaho\", \"New Mexico\", \"Hawaii\", \"Wyoming\", \"North Dakota\", \"New Hampshire\", \"Rhode Island\", \"Nebraska\"], \"locationmode\": \"USA-states\", \"locations\": [\"SD\", \"MT\", \"ME\", \"ID\", \"NM\", \"HI\", \"WY\", \"ND\", \"NH\", \"RI\", \"NE\"], \"name\": \"\", \"z\": [6.0, 6.0, 0.0, 8.0, 4.0, 1.0, 2.0, 3.0, 0.0, 0.0, 2.0], \"type\": \"choropleth\"}], \"name\": \"2020-09-14\"}, {\"data\": [{\"coloraxis\": \"coloraxis\", \"geo\": \"geo\", \"hovertemplate\": \"<b>%{hovertext}</b><br><br>date=2020-09-15<br>open_covid_region_code=%{location}<br>hospitalized_new=%{z}<extra></extra>\", \"hovertext\": [\"South Dakota\", \"Montana\", \"Maine\", \"Idaho\", \"New Mexico\", \"Hawaii\", \"Wyoming\", \"North Dakota\", \"New Hampshire\", \"Rhode Island\", \"Nebraska\"], \"locationmode\": \"USA-states\", \"locations\": [\"SD\", \"MT\", \"ME\", \"ID\", \"NM\", \"HI\", \"WY\", \"ND\", \"NH\", \"RI\", \"NE\"], \"name\": \"\", \"z\": [24.0, 8.0, 1.0, 8.0, 7.0, 2.0, 0.0, 11.0, 1.0, 6.0, 15.0], \"type\": \"choropleth\"}], \"name\": \"2020-09-15\"}, {\"data\": [{\"coloraxis\": \"coloraxis\", \"geo\": \"geo\", \"hovertemplate\": \"<b>%{hovertext}</b><br><br>date=2020-09-16<br>open_covid_region_code=%{location}<br>hospitalized_new=%{z}<extra></extra>\", \"hovertext\": [\"South Dakota\", \"Montana\", \"Maine\", \"Idaho\", \"New Mexico\", \"Hawaii\", \"Wyoming\", \"North Dakota\", \"New Hampshire\", \"Rhode Island\", \"Nebraska\"], \"locationmode\": \"USA-states\", \"locations\": [\"SD\", \"MT\", \"ME\", \"ID\", \"NM\", \"HI\", \"WY\", \"ND\", \"NH\", \"RI\", \"NE\"], \"name\": \"\", \"z\": [16.0, 4.0, 1.0, 19.0, 10.0, 16.0, 5.0, 17.0, 1.0, 12.0, 13.0], \"type\": \"choropleth\"}], \"name\": \"2020-09-16\"}, {\"data\": [{\"coloraxis\": \"coloraxis\", \"geo\": \"geo\", \"hovertemplate\": \"<b>%{hovertext}</b><br><br>date=2020-09-17<br>open_covid_region_code=%{location}<br>hospitalized_new=%{z}<extra></extra>\", \"hovertext\": [\"South Dakota\", \"Montana\", \"Maine\", \"Idaho\", \"New Mexico\", \"Hawaii\", \"Wyoming\", \"North Dakota\", \"New Hampshire\", \"Rhode Island\", \"Nebraska\"], \"locationmode\": \"USA-states\", \"locations\": [\"SD\", \"MT\", \"ME\", \"ID\", \"NM\", \"HI\", \"WY\", \"ND\", \"NH\", \"RI\", \"NE\"], \"name\": \"\", \"z\": [20.0, 6.0, 3.0, 27.0, 10.0, 13.0, 1.0, 17.0, 2.0, 6.0, 5.0], \"type\": \"choropleth\"}], \"name\": \"2020-09-17\"}, {\"data\": [{\"coloraxis\": \"coloraxis\", \"geo\": \"geo\", \"hovertemplate\": \"<b>%{hovertext}</b><br><br>date=2020-09-18<br>open_covid_region_code=%{location}<br>hospitalized_new=%{z}<extra></extra>\", \"hovertext\": [\"South Dakota\", \"Montana\", \"Maine\", \"Idaho\", \"New Mexico\", \"Hawaii\", \"Wyoming\", \"North Dakota\", \"New Hampshire\", \"Rhode Island\", \"Nebraska\"], \"locationmode\": \"USA-states\", \"locations\": [\"SD\", \"MT\", \"ME\", \"ID\", \"NM\", \"HI\", \"WY\", \"ND\", \"NH\", \"RI\", \"NE\"], \"name\": \"\", \"z\": [15.0, 6.0, 1.0, 24.0, 19.0, 18.0, 4.0, 14.0, 0.0, 7.0, 9.0], \"type\": \"choropleth\"}], \"name\": \"2020-09-18\"}, {\"data\": [{\"coloraxis\": \"coloraxis\", \"geo\": \"geo\", \"hovertemplate\": \"<b>%{hovertext}</b><br><br>date=2020-09-19<br>open_covid_region_code=%{location}<br>hospitalized_new=%{z}<extra></extra>\", \"hovertext\": [\"South Dakota\", \"Montana\", \"Maine\", \"Idaho\", \"New Mexico\", \"Hawaii\", \"Wyoming\", \"North Dakota\", \"New Hampshire\", \"Rhode Island\", \"Nebraska\"], \"locationmode\": \"USA-states\", \"locations\": [\"SD\", \"MT\", \"ME\", \"ID\", \"NM\", \"HI\", \"WY\", \"ND\", \"NH\", \"RI\", \"NE\"], \"name\": \"\", \"z\": [22.0, 12.0, 2.0, 19.0, 7.0, 15.0, 2.0, 11.0, 0.0, 12.0, 13.0], \"type\": \"choropleth\"}], \"name\": \"2020-09-19\"}, {\"data\": [{\"coloraxis\": \"coloraxis\", \"geo\": \"geo\", \"hovertemplate\": \"<b>%{hovertext}</b><br><br>date=2020-09-20<br>open_covid_region_code=%{location}<br>hospitalized_new=%{z}<extra></extra>\", \"hovertext\": [\"South Dakota\", \"Montana\", \"Maine\", \"Idaho\", \"New Mexico\", \"Hawaii\", \"Wyoming\", \"North Dakota\", \"New Hampshire\", \"Rhode Island\", \"Nebraska\"], \"locationmode\": \"USA-states\", \"locations\": [\"SD\", \"MT\", \"ME\", \"ID\", \"NM\", \"HI\", \"WY\", \"ND\", \"NH\", \"RI\", \"NE\"], \"name\": \"\", \"z\": [20.0, 3.0, 0.0, 10.0, 15.0, 26.0, 1.0, 7.0, 0.0, 6.0, 0.0], \"type\": \"choropleth\"}], \"name\": \"2020-09-20\"}, {\"data\": [{\"coloraxis\": \"coloraxis\", \"geo\": \"geo\", \"hovertemplate\": \"<b>%{hovertext}</b><br><br>date=2020-09-21<br>open_covid_region_code=%{location}<br>hospitalized_new=%{z}<extra></extra>\", \"hovertext\": [\"South Dakota\", \"Montana\", \"Maine\", \"Idaho\", \"New Mexico\", \"Hawaii\", \"Wyoming\", \"North Dakota\", \"New Hampshire\", \"Rhode Island\", \"Nebraska\"], \"locationmode\": \"USA-states\", \"locations\": [\"SD\", \"MT\", \"ME\", \"ID\", \"NM\", \"HI\", \"WY\", \"ND\", \"NH\", \"RI\", \"NE\"], \"name\": \"\", \"z\": [9.0, 6.0, 1.0, 7.0, 6.0, 4.0, 4.0, 7.0, 1.0, 0.0, 0.0], \"type\": \"choropleth\"}], \"name\": \"2020-09-21\"}, {\"data\": [{\"coloraxis\": \"coloraxis\", \"geo\": \"geo\", \"hovertemplate\": \"<b>%{hovertext}</b><br><br>date=2020-09-22<br>open_covid_region_code=%{location}<br>hospitalized_new=%{z}<extra></extra>\", \"hovertext\": [\"South Dakota\", \"Montana\", \"Maine\", \"Idaho\", \"New Mexico\", \"Hawaii\", \"Wyoming\", \"North Dakota\", \"New Hampshire\", \"Rhode Island\", \"Nebraska\"], \"locationmode\": \"USA-states\", \"locations\": [\"SD\", \"MT\", \"ME\", \"ID\", \"NM\", \"HI\", \"WY\", \"ND\", \"NH\", \"RI\", \"NE\"], \"name\": \"\", \"z\": [26.0, 8.0, 2.0, 8.0, 17.0, 5.0, 6.0, 22.0, 1.0, 11.0, 14.0], \"type\": \"choropleth\"}], \"name\": \"2020-09-22\"}, {\"data\": [{\"coloraxis\": \"coloraxis\", \"geo\": \"geo\", \"hovertemplate\": \"<b>%{hovertext}</b><br><br>date=2020-09-23<br>open_covid_region_code=%{location}<br>hospitalized_new=%{z}<extra></extra>\", \"hovertext\": [\"South Dakota\", \"Montana\", \"Maine\", \"Idaho\", \"New Mexico\", \"Hawaii\", \"Wyoming\", \"North Dakota\", \"New Hampshire\", \"Rhode Island\", \"Nebraska\"], \"locationmode\": \"USA-states\", \"locations\": [\"SD\", \"MT\", \"ME\", \"ID\", \"NM\", \"HI\", \"WY\", \"ND\", \"NH\", \"RI\", \"NE\"], \"name\": \"\", \"z\": [44.0, 17.0, -1.0, 14.0, 13.0, 14.0, 0.0, 11.0, 1.0, 9.0, 6.0], \"type\": \"choropleth\"}], \"name\": \"2020-09-23\"}, {\"data\": [{\"coloraxis\": \"coloraxis\", \"geo\": \"geo\", \"hovertemplate\": \"<b>%{hovertext}</b><br><br>date=2020-09-24<br>open_covid_region_code=%{location}<br>hospitalized_new=%{z}<extra></extra>\", \"hovertext\": [\"South Dakota\", \"Montana\", \"Maine\", \"Idaho\", \"New Mexico\", \"Hawaii\", \"Wyoming\", \"North Dakota\", \"New Hampshire\", \"Rhode Island\", \"Nebraska\"], \"locationmode\": \"USA-states\", \"locations\": [\"SD\", \"MT\", \"ME\", \"ID\", \"NM\", \"HI\", \"WY\", \"ND\", \"NH\", \"RI\", \"NE\"], \"name\": \"\", \"z\": [8.0, 49.0, 1.0, 14.0, 17.0, 14.0, 2.0, 14.0, 4.0, 12.0, 33.0], \"type\": \"choropleth\"}], \"name\": \"2020-09-24\"}, {\"data\": [{\"coloraxis\": \"coloraxis\", \"geo\": \"geo\", \"hovertemplate\": \"<b>%{hovertext}</b><br><br>date=2020-09-25<br>open_covid_region_code=%{location}<br>hospitalized_new=%{z}<extra></extra>\", \"hovertext\": [\"South Dakota\", \"Montana\", \"Maine\", \"Idaho\", \"New Mexico\", \"Hawaii\", \"Wyoming\", \"North Dakota\", \"New Hampshire\", \"Rhode Island\", \"Nebraska\"], \"locationmode\": \"USA-states\", \"locations\": [\"SD\", \"MT\", \"ME\", \"ID\", \"NM\", \"HI\", \"WY\", \"ND\", \"NH\", \"RI\", \"NE\"], \"name\": \"\", \"z\": [25.0, 25.0, 0.0, 12.0, 14.0, 16.0, 1.0, 12.0, 0.0, 0.0, 12.0], \"type\": \"choropleth\"}], \"name\": \"2020-09-25\"}, {\"data\": [{\"coloraxis\": \"coloraxis\", \"geo\": \"geo\", \"hovertemplate\": \"<b>%{hovertext}</b><br><br>date=2020-09-26<br>open_covid_region_code=%{location}<br>hospitalized_new=%{z}<extra></extra>\", \"hovertext\": [\"South Dakota\", \"Montana\", \"Maine\", \"Idaho\", \"New Mexico\", \"Hawaii\", \"Wyoming\", \"North Dakota\", \"New Hampshire\", \"Rhode Island\", \"Nebraska\"], \"locationmode\": \"USA-states\", \"locations\": [\"SD\", \"MT\", \"ME\", \"ID\", \"NM\", \"HI\", \"WY\", \"ND\", \"NH\", \"RI\", \"NE\"], \"name\": \"\", \"z\": [34.0, 9.0, 1.0, 29.0, 18.0, 8.0, 2.0, 20.0, 2.0, 0.0, 17.0], \"type\": \"choropleth\"}], \"name\": \"2020-09-26\"}, {\"data\": [{\"coloraxis\": \"coloraxis\", \"geo\": \"geo\", \"hovertemplate\": \"<b>%{hovertext}</b><br><br>date=2020-09-27<br>open_covid_region_code=%{location}<br>hospitalized_new=%{z}<extra></extra>\", \"hovertext\": [\"South Dakota\", \"Montana\", \"Maine\", \"Idaho\", \"New Mexico\", \"Hawaii\", \"Wyoming\", \"North Dakota\", \"New Hampshire\", \"Rhode Island\", \"Nebraska\"], \"locationmode\": \"USA-states\", \"locations\": [\"SD\", \"MT\", \"ME\", \"ID\", \"NM\", \"HI\", \"WY\", \"ND\", \"NH\", \"RI\", \"NE\"], \"name\": \"\", \"z\": [39.0, 3.0, 2.0, 16.0, 15.0, 15.0, 4.0, 6.0, 2.0, 0.0, 3.0], \"type\": \"choropleth\"}], \"name\": \"2020-09-27\"}, {\"data\": [{\"coloraxis\": \"coloraxis\", \"geo\": \"geo\", \"hovertemplate\": \"<b>%{hovertext}</b><br><br>date=2020-09-28<br>open_covid_region_code=%{location}<br>hospitalized_new=%{z}<extra></extra>\", \"hovertext\": [\"South Dakota\", \"Montana\", \"Maine\", \"Idaho\", \"New Mexico\", \"Hawaii\", \"Wyoming\", \"North Dakota\", \"New Hampshire\", \"Rhode Island\", \"Nebraska\"], \"locationmode\": \"USA-states\", \"locations\": [\"SD\", \"MT\", \"ME\", \"ID\", \"NM\", \"HI\", \"WY\", \"ND\", \"NH\", \"RI\", \"NE\"], \"name\": \"\", \"z\": [15.0, 11.0, 1.0, 3.0, 8.0, 14.0, 2.0, 13.0, 1.0, 0.0, 1.0], \"type\": \"choropleth\"}], \"name\": \"2020-09-28\"}, {\"data\": [{\"coloraxis\": \"coloraxis\", \"geo\": \"geo\", \"hovertemplate\": \"<b>%{hovertext}</b><br><br>date=2020-09-29<br>open_covid_region_code=%{location}<br>hospitalized_new=%{z}<extra></extra>\", \"hovertext\": [\"South Dakota\", \"Montana\", \"Maine\", \"Idaho\", \"New Mexico\", \"Hawaii\", \"Wyoming\", \"North Dakota\", \"New Hampshire\", \"Rhode Island\", \"Nebraska\"], \"locationmode\": \"USA-states\", \"locations\": [\"SD\", \"MT\", \"ME\", \"ID\", \"NM\", \"HI\", \"WY\", \"ND\", \"NH\", \"RI\", \"NE\"], \"name\": \"\", \"z\": [23.0, 11.0, 1.0, 18.0, 20.0, 3.0, 3.0, 20.0, 1.0, 49.0, 21.0], \"type\": \"choropleth\"}], \"name\": \"2020-09-29\"}, {\"data\": [{\"coloraxis\": \"coloraxis\", \"geo\": \"geo\", \"hovertemplate\": \"<b>%{hovertext}</b><br><br>date=2020-09-30<br>open_covid_region_code=%{location}<br>hospitalized_new=%{z}<extra></extra>\", \"hovertext\": [\"South Dakota\", \"Montana\", \"Maine\", \"Idaho\", \"New Mexico\", \"Hawaii\", \"Wyoming\", \"North Dakota\", \"New Hampshire\", \"Rhode Island\", \"Nebraska\"], \"locationmode\": \"USA-states\", \"locations\": [\"SD\", \"MT\", \"ME\", \"ID\", \"NM\", \"HI\", \"WY\", \"ND\", \"NH\", \"RI\", \"NE\"], \"name\": \"\", \"z\": [38.0, 8.0, 2.0, 15.0, 12.0, 13.0, 5.0, 11.0, 0.0, 8.0, 14.0], \"type\": \"choropleth\"}], \"name\": \"2020-09-30\"}, {\"data\": [{\"coloraxis\": \"coloraxis\", \"geo\": \"geo\", \"hovertemplate\": \"<b>%{hovertext}</b><br><br>date=2020-10-01<br>open_covid_region_code=%{location}<br>hospitalized_new=%{z}<extra></extra>\", \"hovertext\": [\"South Dakota\", \"Montana\", \"Maine\", \"Idaho\", \"New Mexico\", \"Hawaii\", \"Wyoming\", \"North Dakota\", \"New Hampshire\", \"Rhode Island\", \"Nebraska\"], \"locationmode\": \"USA-states\", \"locations\": [\"SD\", \"MT\", \"ME\", \"ID\", \"NM\", \"HI\", \"WY\", \"ND\", \"NH\", \"RI\", \"NE\"], \"name\": \"\", \"z\": [29.0, 10.0, 2.0, 12.0, 20.0, 15.0, 2.0, 25.0, 0.0, 11.0, 34.0], \"type\": \"choropleth\"}], \"name\": \"2020-10-01\"}, {\"data\": [{\"coloraxis\": \"coloraxis\", \"geo\": \"geo\", \"hovertemplate\": \"<b>%{hovertext}</b><br><br>date=2020-03-26<br>open_covid_region_code=%{location}<br>hospitalized_new=%{z}<extra></extra>\", \"hovertext\": [\"Montana\", \"Hawaii\", \"North Dakota\", \"New Hampshire\"], \"locationmode\": \"USA-states\", \"locations\": [\"MT\", \"HI\", \"ND\", \"NH\"], \"name\": \"\", \"z\": [1.0, -1.0, 2.0, 6.0], \"type\": \"choropleth\"}], \"name\": \"2020-03-26\"}, {\"data\": [{\"coloraxis\": \"coloraxis\", \"geo\": \"geo\", \"hovertemplate\": \"<b>%{hovertext}</b><br><br>date=2020-03-27<br>open_covid_region_code=%{location}<br>hospitalized_new=%{z}<extra></extra>\", \"hovertext\": [\"Montana\", \"Hawaii\", \"Wyoming\", \"North Dakota\", \"New Hampshire\"], \"locationmode\": \"USA-states\", \"locations\": [\"MT\", \"HI\", \"WY\", \"ND\", \"NH\"], \"name\": \"\", \"z\": [6.0, 2.0, 11.0, 3.0, 6.0], \"type\": \"choropleth\"}], \"name\": \"2020-03-27\"}, {\"data\": [{\"coloraxis\": \"coloraxis\", \"geo\": \"geo\", \"hovertemplate\": \"<b>%{hovertext}</b><br><br>date=2020-03-28<br>open_covid_region_code=%{location}<br>hospitalized_new=%{z}<extra></extra>\", \"hovertext\": [\"Montana\", \"Idaho\", \"Hawaii\", \"Wyoming\", \"North Dakota\", \"New Hampshire\"], \"locationmode\": \"USA-states\", \"locations\": [\"MT\", \"ID\", \"HI\", \"WY\", \"ND\", \"NH\"], \"name\": \"\", \"z\": [0.0, 25.0, 1.0, 3.0, 3.0, 5.0], \"type\": \"choropleth\"}], \"name\": \"2020-03-28\"}, {\"data\": [{\"coloraxis\": \"coloraxis\", \"geo\": \"geo\", \"hovertemplate\": \"<b>%{hovertext}</b><br><br>date=2020-03-29<br>open_covid_region_code=%{location}<br>hospitalized_new=%{z}<extra></extra>\", \"hovertext\": [\"Montana\", \"Idaho\", \"Hawaii\", \"Wyoming\", \"North Dakota\", \"New Hampshire\"], \"locationmode\": \"USA-states\", \"locations\": [\"MT\", \"ID\", \"HI\", \"WY\", \"ND\", \"NH\"], \"name\": \"\", \"z\": [1.0, 11.0, 4.0, 1.0, 1.0, 3.0], \"type\": \"choropleth\"}], \"name\": \"2020-03-29\"}, {\"data\": [{\"coloraxis\": \"coloraxis\", \"geo\": \"geo\", \"hovertemplate\": \"<b>%{hovertext}</b><br><br>date=2020-03-30<br>open_covid_region_code=%{location}<br>hospitalized_new=%{z}<extra></extra>\", \"hovertext\": [\"Montana\", \"Maine\", \"Idaho\", \"Hawaii\", \"Wyoming\", \"North Dakota\", \"New Hampshire\"], \"locationmode\": \"USA-states\", \"locations\": [\"MT\", \"ME\", \"ID\", \"HI\", \"WY\", \"ND\", \"NH\"], \"name\": \"\", \"z\": [2.0, 49.0, 3.0, 0.0, 2.0, 2.0, 12.0], \"type\": \"choropleth\"}], \"name\": \"2020-03-30\"}, {\"data\": [{\"coloraxis\": \"coloraxis\", \"geo\": \"geo\", \"hovertemplate\": \"<b>%{hovertext}</b><br><br>date=2020-03-24<br>open_covid_region_code=%{location}<br>hospitalized_new=%{z}<extra></extra>\", \"hovertext\": [\"Hawaii\", \"North Dakota\", \"New Hampshire\"], \"locationmode\": \"USA-states\", \"locations\": [\"HI\", \"ND\", \"NH\"], \"name\": \"\", \"z\": [4.0, 1.0, 11.0], \"type\": \"choropleth\"}], \"name\": \"2020-03-24\"}, {\"data\": [{\"coloraxis\": \"coloraxis\", \"geo\": \"geo\", \"hovertemplate\": \"<b>%{hovertext}</b><br><br>date=2020-03-25<br>open_covid_region_code=%{location}<br>hospitalized_new=%{z}<extra></extra>\", \"hovertext\": [\"Hawaii\", \"North Dakota\", \"New Hampshire\"], \"locationmode\": \"USA-states\", \"locations\": [\"HI\", \"ND\", \"NH\"], \"name\": \"\", \"z\": [2.0, 3.0, 2.0], \"type\": \"choropleth\"}], \"name\": \"2020-03-25\"}, {\"data\": [{\"coloraxis\": \"coloraxis\", \"geo\": \"geo\", \"hovertemplate\": \"<b>%{hovertext}</b><br><br>date=2020-03-07<br>open_covid_region_code=%{location}<br>hospitalized_new=%{z}<extra></extra>\", \"hovertext\": [\"North Dakota\"], \"locationmode\": \"USA-states\", \"locations\": [\"ND\"], \"name\": \"\", \"z\": [0.0], \"type\": \"choropleth\"}], \"name\": \"2020-03-07\"}, {\"data\": [{\"coloraxis\": \"coloraxis\", \"geo\": \"geo\", \"hovertemplate\": \"<b>%{hovertext}</b><br><br>date=2020-03-08<br>open_covid_region_code=%{location}<br>hospitalized_new=%{z}<extra></extra>\", \"hovertext\": [\"North Dakota\"], \"locationmode\": \"USA-states\", \"locations\": [\"ND\"], \"name\": \"\", \"z\": [0.0], \"type\": \"choropleth\"}], \"name\": \"2020-03-08\"}, {\"data\": [{\"coloraxis\": \"coloraxis\", \"geo\": \"geo\", \"hovertemplate\": \"<b>%{hovertext}</b><br><br>date=2020-03-09<br>open_covid_region_code=%{location}<br>hospitalized_new=%{z}<extra></extra>\", \"hovertext\": [\"North Dakota\"], \"locationmode\": \"USA-states\", \"locations\": [\"ND\"], \"name\": \"\", \"z\": [0.0], \"type\": \"choropleth\"}], \"name\": \"2020-03-09\"}, {\"data\": [{\"coloraxis\": \"coloraxis\", \"geo\": \"geo\", \"hovertemplate\": \"<b>%{hovertext}</b><br><br>date=2020-03-10<br>open_covid_region_code=%{location}<br>hospitalized_new=%{z}<extra></extra>\", \"hovertext\": [\"North Dakota\"], \"locationmode\": \"USA-states\", \"locations\": [\"ND\"], \"name\": \"\", \"z\": [0.0], \"type\": \"choropleth\"}], \"name\": \"2020-03-10\"}, {\"data\": [{\"coloraxis\": \"coloraxis\", \"geo\": \"geo\", \"hovertemplate\": \"<b>%{hovertext}</b><br><br>date=2020-03-11<br>open_covid_region_code=%{location}<br>hospitalized_new=%{z}<extra></extra>\", \"hovertext\": [\"North Dakota\"], \"locationmode\": \"USA-states\", \"locations\": [\"ND\"], \"name\": \"\", \"z\": [0.0], \"type\": \"choropleth\"}], \"name\": \"2020-03-11\"}, {\"data\": [{\"coloraxis\": \"coloraxis\", \"geo\": \"geo\", \"hovertemplate\": \"<b>%{hovertext}</b><br><br>date=2020-03-12<br>open_covid_region_code=%{location}<br>hospitalized_new=%{z}<extra></extra>\", \"hovertext\": [\"North Dakota\"], \"locationmode\": \"USA-states\", \"locations\": [\"ND\"], \"name\": \"\", \"z\": [0.0], \"type\": \"choropleth\"}], \"name\": \"2020-03-12\"}, {\"data\": [{\"coloraxis\": \"coloraxis\", \"geo\": \"geo\", \"hovertemplate\": \"<b>%{hovertext}</b><br><br>date=2020-03-13<br>open_covid_region_code=%{location}<br>hospitalized_new=%{z}<extra></extra>\", \"hovertext\": [\"North Dakota\"], \"locationmode\": \"USA-states\", \"locations\": [\"ND\"], \"name\": \"\", \"z\": [0.0], \"type\": \"choropleth\"}], \"name\": \"2020-03-13\"}, {\"data\": [{\"coloraxis\": \"coloraxis\", \"geo\": \"geo\", \"hovertemplate\": \"<b>%{hovertext}</b><br><br>date=2020-03-14<br>open_covid_region_code=%{location}<br>hospitalized_new=%{z}<extra></extra>\", \"hovertext\": [\"North Dakota\"], \"locationmode\": \"USA-states\", \"locations\": [\"ND\"], \"name\": \"\", \"z\": [0.0], \"type\": \"choropleth\"}], \"name\": \"2020-03-14\"}, {\"data\": [{\"coloraxis\": \"coloraxis\", \"geo\": \"geo\", \"hovertemplate\": \"<b>%{hovertext}</b><br><br>date=2020-03-15<br>open_covid_region_code=%{location}<br>hospitalized_new=%{z}<extra></extra>\", \"hovertext\": [\"North Dakota\"], \"locationmode\": \"USA-states\", \"locations\": [\"ND\"], \"name\": \"\", \"z\": [0.0], \"type\": \"choropleth\"}], \"name\": \"2020-03-15\"}, {\"data\": [{\"coloraxis\": \"coloraxis\", \"geo\": \"geo\", \"hovertemplate\": \"<b>%{hovertext}</b><br><br>date=2020-03-16<br>open_covid_region_code=%{location}<br>hospitalized_new=%{z}<extra></extra>\", \"hovertext\": [\"North Dakota\"], \"locationmode\": \"USA-states\", \"locations\": [\"ND\"], \"name\": \"\", \"z\": [0.0], \"type\": \"choropleth\"}], \"name\": \"2020-03-16\"}, {\"data\": [{\"coloraxis\": \"coloraxis\", \"geo\": \"geo\", \"hovertemplate\": \"<b>%{hovertext}</b><br><br>date=2020-03-17<br>open_covid_region_code=%{location}<br>hospitalized_new=%{z}<extra></extra>\", \"hovertext\": [\"North Dakota\"], \"locationmode\": \"USA-states\", \"locations\": [\"ND\"], \"name\": \"\", \"z\": [0.0], \"type\": \"choropleth\"}], \"name\": \"2020-03-17\"}, {\"data\": [{\"coloraxis\": \"coloraxis\", \"geo\": \"geo\", \"hovertemplate\": \"<b>%{hovertext}</b><br><br>date=2020-03-18<br>open_covid_region_code=%{location}<br>hospitalized_new=%{z}<extra></extra>\", \"hovertext\": [\"North Dakota\"], \"locationmode\": \"USA-states\", \"locations\": [\"ND\"], \"name\": \"\", \"z\": [0.0], \"type\": \"choropleth\"}], \"name\": \"2020-03-18\"}, {\"data\": [{\"coloraxis\": \"coloraxis\", \"geo\": \"geo\", \"hovertemplate\": \"<b>%{hovertext}</b><br><br>date=2020-03-19<br>open_covid_region_code=%{location}<br>hospitalized_new=%{z}<extra></extra>\", \"hovertext\": [\"North Dakota\"], \"locationmode\": \"USA-states\", \"locations\": [\"ND\"], \"name\": \"\", \"z\": [0.0], \"type\": \"choropleth\"}], \"name\": \"2020-03-19\"}, {\"data\": [{\"coloraxis\": \"coloraxis\", \"geo\": \"geo\", \"hovertemplate\": \"<b>%{hovertext}</b><br><br>date=2020-03-20<br>open_covid_region_code=%{location}<br>hospitalized_new=%{z}<extra></extra>\", \"hovertext\": [\"North Dakota\"], \"locationmode\": \"USA-states\", \"locations\": [\"ND\"], \"name\": \"\", \"z\": [0.0], \"type\": \"choropleth\"}], \"name\": \"2020-03-20\"}, {\"data\": [{\"coloraxis\": \"coloraxis\", \"geo\": \"geo\", \"hovertemplate\": \"<b>%{hovertext}</b><br><br>date=2020-03-21<br>open_covid_region_code=%{location}<br>hospitalized_new=%{z}<extra></extra>\", \"hovertext\": [\"North Dakota\"], \"locationmode\": \"USA-states\", \"locations\": [\"ND\"], \"name\": \"\", \"z\": [3.0], \"type\": \"choropleth\"}], \"name\": \"2020-03-21\"}, {\"data\": [{\"coloraxis\": \"coloraxis\", \"geo\": \"geo\", \"hovertemplate\": \"<b>%{hovertext}</b><br><br>date=2020-03-22<br>open_covid_region_code=%{location}<br>hospitalized_new=%{z}<extra></extra>\", \"hovertext\": [\"North Dakota\"], \"locationmode\": \"USA-states\", \"locations\": [\"ND\"], \"name\": \"\", \"z\": [0.0], \"type\": \"choropleth\"}], \"name\": \"2020-03-22\"}, {\"data\": [{\"coloraxis\": \"coloraxis\", \"geo\": \"geo\", \"hovertemplate\": \"<b>%{hovertext}</b><br><br>date=2020-03-23<br>open_covid_region_code=%{location}<br>hospitalized_new=%{z}<extra></extra>\", \"hovertext\": [\"North Dakota\"], \"locationmode\": \"USA-states\", \"locations\": [\"ND\"], \"name\": \"\", \"z\": [1.0], \"type\": \"choropleth\"}], \"name\": \"2020-03-23\"}]);\n",
       "                        }).then(function(){\n",
       "                            \n",
       "var gd = document.getElementById('589799c0-5ea3-483b-a716-f7fb43f8b836');\n",
       "var x = new MutationObserver(function (mutations, observer) {{\n",
       "        var display = window.getComputedStyle(gd).display;\n",
       "        if (!display || display === 'none') {{\n",
       "            console.log([gd, 'removed!']);\n",
       "            Plotly.purge(gd);\n",
       "            observer.disconnect();\n",
       "        }}\n",
       "}});\n",
       "\n",
       "// Listen for the removal of the full notebook cells\n",
       "var notebookContainer = gd.closest('#notebook-container');\n",
       "if (notebookContainer) {{\n",
       "    x.observe(notebookContainer, {childList: true});\n",
       "}}\n",
       "\n",
       "// Listen for the clearing of the current output cell\n",
       "var outputEl = gd.closest('.output');\n",
       "if (outputEl) {{\n",
       "    x.observe(outputEl, {childList: true});\n",
       "}}\n",
       "\n",
       "                        })                };                });            </script>        </div>"
      ]
     },
     "metadata": {},
     "output_type": "display_data"
    }
   ],
   "source": [
    "# Extract Region Code For Plotting\n",
    "df_hosp_clean.loc[:,'open_covid_region_code'] = df_hosp_clean['open_covid_region_code'].str.replace('US-','')\n",
    "\n",
    "fig = px.choropleth(df_hosp_clean, \n",
    "                    locations=\"open_covid_region_code\",\n",
    "                    color=\"hospitalized_new\", # lifeExp is a column of gapminder\n",
    "                    hover_name=\"region_name\", # column to add to hover information\n",
    "                    color_continuous_scale = 'reds',\n",
    "                    animation_frame=\"date\",\n",
    "                    range_color=(0, 10),\n",
    "                    scope = \"usa\",\n",
    "                    locationmode=\"USA-states\"\n",
    "                   )\n",
    "fig.show()"
   ]
  },
  {
   "cell_type": "markdown",
   "metadata": {},
   "source": [
    "# Clean Search Trends Dataset\n",
    "### 1) Remove All Features with < 50% Data"
   ]
  },
  {
   "cell_type": "markdown",
   "metadata": {},
   "source": [
    "# Merge with Search Trends & Hospitalisation Datasets"
   ]
  },
  {
   "cell_type": "code",
   "execution_count": 404,
   "metadata": {},
   "outputs": [
    {
     "data": {
      "text/plain": [
       "['South Dakota',\n",
       " 'Montana',\n",
       " 'Maine',\n",
       " 'Idaho',\n",
       " 'New Mexico',\n",
       " 'Hawaii',\n",
       " 'Wyoming',\n",
       " 'North Dakota',\n",
       " 'New Hampshire',\n",
       " 'Rhode Island',\n",
       " 'Nebraska']"
      ]
     },
     "execution_count": 404,
     "metadata": {},
     "output_type": "execute_result"
    }
   ],
   "source": [
    "states"
   ]
  },
  {
   "cell_type": "code",
   "execution_count": 405,
   "metadata": {},
   "outputs": [],
   "source": [
    "df_st = pd.read_csv('../Data/2020_US_weekly_symptoms_dataset.csv')\n",
    "df_st=df_st.drop(columns =['country_region_code','country_region',\n",
    "                           'sub_region_1_code','sub_region_2_code','sub_region_2'])\n",
    "df_st.insert(3, 'hospitalized_cumulative',np.nan)\n",
    "df_st.insert(4, 'hospitalized_new',np.nan)\n",
    "\n",
    "# Drop All States without Hospitalisation Data (16 --> 11 States)\n",
    "for state in df_st['sub_region_1'].unique():\n",
    "    if state not in states:\n",
    "        df_st = df_st[(df_st.sub_region_1 != state)] "
   ]
  },
  {
   "cell_type": "code",
   "execution_count": 406,
   "metadata": {},
   "outputs": [
    {
     "data": {
      "text/html": [
       "<div>\n",
       "<style scoped>\n",
       "    .dataframe tbody tr th:only-of-type {\n",
       "        vertical-align: middle;\n",
       "    }\n",
       "\n",
       "    .dataframe tbody tr th {\n",
       "        vertical-align: top;\n",
       "    }\n",
       "\n",
       "    .dataframe thead th {\n",
       "        text-align: right;\n",
       "    }\n",
       "</style>\n",
       "<table border=\"1\" class=\"dataframe\">\n",
       "  <thead>\n",
       "    <tr style=\"text-align: right;\">\n",
       "      <th></th>\n",
       "      <th>open_covid_region_code</th>\n",
       "      <th>sub_region_1</th>\n",
       "      <th>date</th>\n",
       "      <th>hospitalized_cumulative</th>\n",
       "      <th>hospitalized_new</th>\n",
       "      <th>symptom:Abdominal obesity</th>\n",
       "      <th>symptom:Abdominal pain</th>\n",
       "      <th>symptom:Acne</th>\n",
       "      <th>symptom:Actinic keratosis</th>\n",
       "      <th>symptom:Acute bronchitis</th>\n",
       "      <th>...</th>\n",
       "      <th>symptom:Wart</th>\n",
       "      <th>symptom:Water retention</th>\n",
       "      <th>symptom:Weakness</th>\n",
       "      <th>symptom:Weight gain</th>\n",
       "      <th>symptom:Wheeze</th>\n",
       "      <th>symptom:Xeroderma</th>\n",
       "      <th>symptom:Xerostomia</th>\n",
       "      <th>symptom:Yawn</th>\n",
       "      <th>symptom:hyperhidrosis</th>\n",
       "      <th>symptom:pancreatitis</th>\n",
       "    </tr>\n",
       "  </thead>\n",
       "  <tbody>\n",
       "    <tr>\n",
       "      <th>114</th>\n",
       "      <td>US-HI</td>\n",
       "      <td>Hawaii</td>\n",
       "      <td>2020-01-06</td>\n",
       "      <td>NaN</td>\n",
       "      <td>NaN</td>\n",
       "      <td>NaN</td>\n",
       "      <td>NaN</td>\n",
       "      <td>NaN</td>\n",
       "      <td>NaN</td>\n",
       "      <td>NaN</td>\n",
       "      <td>...</td>\n",
       "      <td>NaN</td>\n",
       "      <td>NaN</td>\n",
       "      <td>NaN</td>\n",
       "      <td>NaN</td>\n",
       "      <td>NaN</td>\n",
       "      <td>NaN</td>\n",
       "      <td>NaN</td>\n",
       "      <td>NaN</td>\n",
       "      <td>NaN</td>\n",
       "      <td>NaN</td>\n",
       "    </tr>\n",
       "    <tr>\n",
       "      <th>115</th>\n",
       "      <td>US-HI</td>\n",
       "      <td>Hawaii</td>\n",
       "      <td>2020-01-13</td>\n",
       "      <td>NaN</td>\n",
       "      <td>NaN</td>\n",
       "      <td>NaN</td>\n",
       "      <td>NaN</td>\n",
       "      <td>NaN</td>\n",
       "      <td>NaN</td>\n",
       "      <td>NaN</td>\n",
       "      <td>...</td>\n",
       "      <td>NaN</td>\n",
       "      <td>NaN</td>\n",
       "      <td>NaN</td>\n",
       "      <td>NaN</td>\n",
       "      <td>NaN</td>\n",
       "      <td>NaN</td>\n",
       "      <td>NaN</td>\n",
       "      <td>NaN</td>\n",
       "      <td>NaN</td>\n",
       "      <td>NaN</td>\n",
       "    </tr>\n",
       "    <tr>\n",
       "      <th>116</th>\n",
       "      <td>US-HI</td>\n",
       "      <td>Hawaii</td>\n",
       "      <td>2020-01-20</td>\n",
       "      <td>NaN</td>\n",
       "      <td>NaN</td>\n",
       "      <td>NaN</td>\n",
       "      <td>NaN</td>\n",
       "      <td>NaN</td>\n",
       "      <td>NaN</td>\n",
       "      <td>NaN</td>\n",
       "      <td>...</td>\n",
       "      <td>NaN</td>\n",
       "      <td>NaN</td>\n",
       "      <td>NaN</td>\n",
       "      <td>NaN</td>\n",
       "      <td>NaN</td>\n",
       "      <td>NaN</td>\n",
       "      <td>NaN</td>\n",
       "      <td>NaN</td>\n",
       "      <td>NaN</td>\n",
       "      <td>NaN</td>\n",
       "    </tr>\n",
       "    <tr>\n",
       "      <th>117</th>\n",
       "      <td>US-HI</td>\n",
       "      <td>Hawaii</td>\n",
       "      <td>2020-01-27</td>\n",
       "      <td>NaN</td>\n",
       "      <td>NaN</td>\n",
       "      <td>NaN</td>\n",
       "      <td>NaN</td>\n",
       "      <td>NaN</td>\n",
       "      <td>NaN</td>\n",
       "      <td>NaN</td>\n",
       "      <td>...</td>\n",
       "      <td>NaN</td>\n",
       "      <td>NaN</td>\n",
       "      <td>NaN</td>\n",
       "      <td>NaN</td>\n",
       "      <td>NaN</td>\n",
       "      <td>NaN</td>\n",
       "      <td>NaN</td>\n",
       "      <td>NaN</td>\n",
       "      <td>NaN</td>\n",
       "      <td>NaN</td>\n",
       "    </tr>\n",
       "    <tr>\n",
       "      <th>118</th>\n",
       "      <td>US-HI</td>\n",
       "      <td>Hawaii</td>\n",
       "      <td>2020-02-03</td>\n",
       "      <td>NaN</td>\n",
       "      <td>NaN</td>\n",
       "      <td>NaN</td>\n",
       "      <td>NaN</td>\n",
       "      <td>NaN</td>\n",
       "      <td>NaN</td>\n",
       "      <td>NaN</td>\n",
       "      <td>...</td>\n",
       "      <td>NaN</td>\n",
       "      <td>NaN</td>\n",
       "      <td>NaN</td>\n",
       "      <td>NaN</td>\n",
       "      <td>NaN</td>\n",
       "      <td>NaN</td>\n",
       "      <td>NaN</td>\n",
       "      <td>NaN</td>\n",
       "      <td>NaN</td>\n",
       "      <td>NaN</td>\n",
       "    </tr>\n",
       "    <tr>\n",
       "      <th>...</th>\n",
       "      <td>...</td>\n",
       "      <td>...</td>\n",
       "      <td>...</td>\n",
       "      <td>...</td>\n",
       "      <td>...</td>\n",
       "      <td>...</td>\n",
       "      <td>...</td>\n",
       "      <td>...</td>\n",
       "      <td>...</td>\n",
       "      <td>...</td>\n",
       "      <td>...</td>\n",
       "      <td>...</td>\n",
       "      <td>...</td>\n",
       "      <td>...</td>\n",
       "      <td>...</td>\n",
       "      <td>...</td>\n",
       "      <td>...</td>\n",
       "      <td>...</td>\n",
       "      <td>...</td>\n",
       "      <td>...</td>\n",
       "      <td>...</td>\n",
       "    </tr>\n",
       "    <tr>\n",
       "      <th>603</th>\n",
       "      <td>US-WY</td>\n",
       "      <td>Wyoming</td>\n",
       "      <td>2020-08-24</td>\n",
       "      <td>211.0</td>\n",
       "      <td>16.0</td>\n",
       "      <td>NaN</td>\n",
       "      <td>NaN</td>\n",
       "      <td>NaN</td>\n",
       "      <td>NaN</td>\n",
       "      <td>NaN</td>\n",
       "      <td>...</td>\n",
       "      <td>NaN</td>\n",
       "      <td>NaN</td>\n",
       "      <td>NaN</td>\n",
       "      <td>NaN</td>\n",
       "      <td>NaN</td>\n",
       "      <td>NaN</td>\n",
       "      <td>NaN</td>\n",
       "      <td>3.87</td>\n",
       "      <td>NaN</td>\n",
       "      <td>NaN</td>\n",
       "    </tr>\n",
       "    <tr>\n",
       "      <th>604</th>\n",
       "      <td>US-WY</td>\n",
       "      <td>Wyoming</td>\n",
       "      <td>2020-08-31</td>\n",
       "      <td>215.0</td>\n",
       "      <td>4.0</td>\n",
       "      <td>NaN</td>\n",
       "      <td>NaN</td>\n",
       "      <td>NaN</td>\n",
       "      <td>NaN</td>\n",
       "      <td>NaN</td>\n",
       "      <td>...</td>\n",
       "      <td>NaN</td>\n",
       "      <td>NaN</td>\n",
       "      <td>NaN</td>\n",
       "      <td>NaN</td>\n",
       "      <td>NaN</td>\n",
       "      <td>NaN</td>\n",
       "      <td>NaN</td>\n",
       "      <td>3.63</td>\n",
       "      <td>NaN</td>\n",
       "      <td>NaN</td>\n",
       "    </tr>\n",
       "    <tr>\n",
       "      <th>605</th>\n",
       "      <td>US-WY</td>\n",
       "      <td>Wyoming</td>\n",
       "      <td>2020-09-07</td>\n",
       "      <td>219.0</td>\n",
       "      <td>4.0</td>\n",
       "      <td>NaN</td>\n",
       "      <td>NaN</td>\n",
       "      <td>NaN</td>\n",
       "      <td>NaN</td>\n",
       "      <td>NaN</td>\n",
       "      <td>...</td>\n",
       "      <td>NaN</td>\n",
       "      <td>NaN</td>\n",
       "      <td>NaN</td>\n",
       "      <td>NaN</td>\n",
       "      <td>NaN</td>\n",
       "      <td>NaN</td>\n",
       "      <td>NaN</td>\n",
       "      <td>4.02</td>\n",
       "      <td>NaN</td>\n",
       "      <td>NaN</td>\n",
       "    </tr>\n",
       "    <tr>\n",
       "      <th>606</th>\n",
       "      <td>US-WY</td>\n",
       "      <td>Wyoming</td>\n",
       "      <td>2020-09-14</td>\n",
       "      <td>230.0</td>\n",
       "      <td>11.0</td>\n",
       "      <td>NaN</td>\n",
       "      <td>NaN</td>\n",
       "      <td>NaN</td>\n",
       "      <td>NaN</td>\n",
       "      <td>NaN</td>\n",
       "      <td>...</td>\n",
       "      <td>NaN</td>\n",
       "      <td>NaN</td>\n",
       "      <td>NaN</td>\n",
       "      <td>NaN</td>\n",
       "      <td>NaN</td>\n",
       "      <td>NaN</td>\n",
       "      <td>NaN</td>\n",
       "      <td>4.37</td>\n",
       "      <td>NaN</td>\n",
       "      <td>NaN</td>\n",
       "    </tr>\n",
       "    <tr>\n",
       "      <th>607</th>\n",
       "      <td>US-WY</td>\n",
       "      <td>Wyoming</td>\n",
       "      <td>2020-09-21</td>\n",
       "      <td>247.0</td>\n",
       "      <td>17.0</td>\n",
       "      <td>NaN</td>\n",
       "      <td>NaN</td>\n",
       "      <td>NaN</td>\n",
       "      <td>NaN</td>\n",
       "      <td>NaN</td>\n",
       "      <td>...</td>\n",
       "      <td>NaN</td>\n",
       "      <td>NaN</td>\n",
       "      <td>NaN</td>\n",
       "      <td>NaN</td>\n",
       "      <td>NaN</td>\n",
       "      <td>NaN</td>\n",
       "      <td>NaN</td>\n",
       "      <td>4.76</td>\n",
       "      <td>NaN</td>\n",
       "      <td>NaN</td>\n",
       "    </tr>\n",
       "  </tbody>\n",
       "</table>\n",
       "<p>418 rows × 427 columns</p>\n",
       "</div>"
      ],
      "text/plain": [
       "    open_covid_region_code sub_region_1        date  hospitalized_cumulative  \\\n",
       "114                  US-HI       Hawaii  2020-01-06                      NaN   \n",
       "115                  US-HI       Hawaii  2020-01-13                      NaN   \n",
       "116                  US-HI       Hawaii  2020-01-20                      NaN   \n",
       "117                  US-HI       Hawaii  2020-01-27                      NaN   \n",
       "118                  US-HI       Hawaii  2020-02-03                      NaN   \n",
       "..                     ...          ...         ...                      ...   \n",
       "603                  US-WY      Wyoming  2020-08-24                    211.0   \n",
       "604                  US-WY      Wyoming  2020-08-31                    215.0   \n",
       "605                  US-WY      Wyoming  2020-09-07                    219.0   \n",
       "606                  US-WY      Wyoming  2020-09-14                    230.0   \n",
       "607                  US-WY      Wyoming  2020-09-21                    247.0   \n",
       "\n",
       "     hospitalized_new  symptom:Abdominal obesity  symptom:Abdominal pain  \\\n",
       "114               NaN                        NaN                     NaN   \n",
       "115               NaN                        NaN                     NaN   \n",
       "116               NaN                        NaN                     NaN   \n",
       "117               NaN                        NaN                     NaN   \n",
       "118               NaN                        NaN                     NaN   \n",
       "..                ...                        ...                     ...   \n",
       "603              16.0                        NaN                     NaN   \n",
       "604               4.0                        NaN                     NaN   \n",
       "605               4.0                        NaN                     NaN   \n",
       "606              11.0                        NaN                     NaN   \n",
       "607              17.0                        NaN                     NaN   \n",
       "\n",
       "     symptom:Acne  symptom:Actinic keratosis  symptom:Acute bronchitis  ...  \\\n",
       "114           NaN                        NaN                       NaN  ...   \n",
       "115           NaN                        NaN                       NaN  ...   \n",
       "116           NaN                        NaN                       NaN  ...   \n",
       "117           NaN                        NaN                       NaN  ...   \n",
       "118           NaN                        NaN                       NaN  ...   \n",
       "..            ...                        ...                       ...  ...   \n",
       "603           NaN                        NaN                       NaN  ...   \n",
       "604           NaN                        NaN                       NaN  ...   \n",
       "605           NaN                        NaN                       NaN  ...   \n",
       "606           NaN                        NaN                       NaN  ...   \n",
       "607           NaN                        NaN                       NaN  ...   \n",
       "\n",
       "     symptom:Wart  symptom:Water retention  symptom:Weakness  \\\n",
       "114           NaN                      NaN               NaN   \n",
       "115           NaN                      NaN               NaN   \n",
       "116           NaN                      NaN               NaN   \n",
       "117           NaN                      NaN               NaN   \n",
       "118           NaN                      NaN               NaN   \n",
       "..            ...                      ...               ...   \n",
       "603           NaN                      NaN               NaN   \n",
       "604           NaN                      NaN               NaN   \n",
       "605           NaN                      NaN               NaN   \n",
       "606           NaN                      NaN               NaN   \n",
       "607           NaN                      NaN               NaN   \n",
       "\n",
       "     symptom:Weight gain  symptom:Wheeze  symptom:Xeroderma  \\\n",
       "114                  NaN             NaN                NaN   \n",
       "115                  NaN             NaN                NaN   \n",
       "116                  NaN             NaN                NaN   \n",
       "117                  NaN             NaN                NaN   \n",
       "118                  NaN             NaN                NaN   \n",
       "..                   ...             ...                ...   \n",
       "603                  NaN             NaN                NaN   \n",
       "604                  NaN             NaN                NaN   \n",
       "605                  NaN             NaN                NaN   \n",
       "606                  NaN             NaN                NaN   \n",
       "607                  NaN             NaN                NaN   \n",
       "\n",
       "     symptom:Xerostomia  symptom:Yawn  symptom:hyperhidrosis  \\\n",
       "114                 NaN           NaN                    NaN   \n",
       "115                 NaN           NaN                    NaN   \n",
       "116                 NaN           NaN                    NaN   \n",
       "117                 NaN           NaN                    NaN   \n",
       "118                 NaN           NaN                    NaN   \n",
       "..                  ...           ...                    ...   \n",
       "603                 NaN          3.87                    NaN   \n",
       "604                 NaN          3.63                    NaN   \n",
       "605                 NaN          4.02                    NaN   \n",
       "606                 NaN          4.37                    NaN   \n",
       "607                 NaN          4.76                    NaN   \n",
       "\n",
       "     symptom:pancreatitis  \n",
       "114                   NaN  \n",
       "115                   NaN  \n",
       "116                   NaN  \n",
       "117                   NaN  \n",
       "118                   NaN  \n",
       "..                    ...  \n",
       "603                   NaN  \n",
       "604                   NaN  \n",
       "605                   NaN  \n",
       "606                   NaN  \n",
       "607                   NaN  \n",
       "\n",
       "[418 rows x 427 columns]"
      ]
     },
     "execution_count": 406,
     "metadata": {},
     "output_type": "execute_result"
    }
   ],
   "source": [
    "# Extract Hospitalisation Data\n",
    "for i,j in df_st.iterrows():\n",
    "    hosp_cumu = df_hosp_clean.loc[(df_hosp_clean['date'] == j['date']) &\n",
    "                                    (df_hosp_clean['region_name']==j['sub_region_1'])]['hospitalized_cumulative']\n",
    "    if not hosp_cumu.empty:\n",
    "        df_st.at[i,'hospitalized_cumulative']= hosp_cumu.values[0]\n",
    "        \n",
    "# drop all data points where there is no hospitalisation data\n",
    "df_st_dropna = df_st.dropna(subset=['hospitalized_cumulative'])\n",
    "\n",
    "# Make Hospitalized_new column\n",
    "for state in states:\n",
    "    df_state = df_st_dropna.loc[df_st_dropna['sub_region_1']==state]\n",
    "    count = 1\n",
    "    for i,j in df_state.iterrows():\n",
    "        if count == 1:\n",
    "            df_st.at[i,'hospitalized_new']= df_st.loc[i]['hospitalized_cumulative']\n",
    "            count +=1\n",
    "        else:\n",
    "            df_st.at[i,'hospitalized_new'] = df_st.loc[i]['hospitalized_cumulative'] - df_st.loc[i-1]['hospitalized_cumulative']\n",
    "df_st"
   ]
  },
  {
   "cell_type": "markdown",
   "metadata": {},
   "source": [
    "# Clean Search Trends Dataset\n",
    "#### 1) Remove All Features with < XX% Data"
   ]
  },
  {
   "cell_type": "code",
   "execution_count": 400,
   "metadata": {},
   "outputs": [],
   "source": [
    "# remove columns with less than XX% data\n",
    "df_st_25 = df_st.dropna(thresh=len(df_st)*0.25, axis=1)\n",
    "df_st_30 = df_st.dropna(thresh=len(df_st)*0.3, axis=1)\n",
    "df_st_50 = df_st.dropna(thresh=len(df_st)*0.5, axis=1)\n"
   ]
  },
  {
   "cell_type": "markdown",
   "metadata": {},
   "source": [
    "# Save Merged Dataset"
   ]
  },
  {
   "cell_type": "code",
   "execution_count": 401,
   "metadata": {},
   "outputs": [],
   "source": [
    "df_st.to_csv('../Data/USA_coviddata_clean.csv')\n",
    "df_st_25.to_csv('../Data/USA_coviddata_clean_25.csv')\n",
    "df_st_30.to_csv('../Data/USA_coviddata_clean_30.csv')\n",
    "df_st_50.to_csv('../Data/USA_coviddata_clean_50.csv')"
   ]
  },
  {
   "cell_type": "code",
   "execution_count": null,
   "metadata": {},
   "outputs": [],
   "source": []
  }
 ],
 "metadata": {
  "kernelspec": {
   "display_name": "Python 3",
   "language": "python",
   "name": "python3"
  },
  "language_info": {
   "codemirror_mode": {
    "name": "ipython",
    "version": 3
   },
   "file_extension": ".py",
   "mimetype": "text/x-python",
   "name": "python",
   "nbconvert_exporter": "python",
   "pygments_lexer": "ipython3",
   "version": "3.7.6"
  }
 },
 "nbformat": 4,
 "nbformat_minor": 4
}
