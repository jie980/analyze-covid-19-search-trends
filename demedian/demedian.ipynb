{
 "cells": [
  {
   "cell_type": "code",
   "execution_count": 135,
   "metadata": {},
   "outputs": [
    {
     "name": "stdout",
     "output_type": "stream",
     "text": [
      "Symtoms median based on region \n",
      "     symptom:Adrenal crisis  symptom:Ageusia  symptom:Allergic conjunctivitis\n",
      "0                       NaN              NaN                              NaN\n",
      "1                       NaN              NaN                              NaN\n",
      "2                       NaN              NaN                              NaN\n",
      "3                       NaN              NaN                              NaN\n",
      "4                       NaN              NaN                              NaN\n",
      "..                      ...              ...                              ...\n",
      "413                    3.93             3.25                             2.86\n",
      "414                    3.93             3.25                             2.86\n",
      "415                    3.93             3.25                             2.86\n",
      "416                    3.93             3.25                             2.86\n",
      "417                    3.93             3.25                             2.86\n",
      "\n",
      "[418 rows x 3 columns]\n"
     ]
    }
   ],
   "source": [
    "import numpy as np\n",
    "import pandas as pd\n",
    "\n",
    "mydata = pd.read_csv(\"./USA_coviddata_clean_25.csv\")\n",
    "mydata.index = range(mydata.shape[0])\n",
    "#take useless columns aside. It will be used to concatenate in the end\n",
    "someinfo = mydata.iloc[:,0:6]\n",
    "\n",
    "\n",
    "mydata = mydata.drop(labels=['sub_region_1','date','hospitalized_cumulative','hospitalized_new','Unnamed: 0'],axis=1)\n",
    "group_median = mydata.groupby(\"open_covid_region_code\").transform('median')\n",
    "#Only show 2 symptoms to you guys , otherwise it prints to many stuff\n",
    "print(\"Symtoms median based on region \")\n",
    "print(group_median.iloc[:,0:3])\n"
   ]
  },
  {
   "cell_type": "code",
   "execution_count": 136,
   "metadata": {},
   "outputs": [
    {
     "name": "stdout",
     "output_type": "stream",
     "text": [
      "     symptom:Adrenal crisis  symptom:Ageusia  symptom:Allergic conjunctivitis\n",
      "0                       NaN              NaN                              NaN\n",
      "1                       NaN              NaN                              NaN\n",
      "2                       NaN              NaN                              NaN\n",
      "3                       NaN              NaN                              NaN\n",
      "4                       NaN              NaN                              NaN\n",
      "..                      ...              ...                              ...\n",
      "413                    4.42             3.31                             3.42\n",
      "414                    5.03             2.79                              NaN\n",
      "415                    3.36             3.25                             2.20\n",
      "416                    4.15             4.97                              NaN\n",
      "417                    5.64             3.67                              NaN\n",
      "\n",
      "[418 rows x 3 columns]\n"
     ]
    }
   ],
   "source": [
    "mydata_noregioncode = mydata.drop(labels=['open_covid_region_code'],axis=1)\n",
    "print(mydata_noregioncode.iloc[:,0:3])\n"
   ]
  },
  {
   "cell_type": "code",
   "execution_count": 137,
   "metadata": {},
   "outputs": [
    {
     "name": "stdout",
     "output_type": "stream",
     "text": [
      "     symptom:Adrenal crisis  symptom:Ageusia  symptom:Allergic conjunctivitis\n",
      "0                       NaN              NaN                              NaN\n",
      "1                       NaN              NaN                              NaN\n",
      "2                       NaN              NaN                              NaN\n",
      "3                       NaN              NaN                              NaN\n",
      "4                       NaN              NaN                              NaN\n",
      "..                      ...              ...                              ...\n",
      "413                1.124682         1.018462                         1.195804\n",
      "414                1.279898         0.858462                              NaN\n",
      "415                0.854962         1.000000                         0.769231\n",
      "416                1.055980         1.529231                              NaN\n",
      "417                1.435115         1.129231                              NaN\n",
      "\n",
      "[418 rows x 3 columns]\n"
     ]
    }
   ],
   "source": [
    "result = mydata_noregioncode / group_median\n",
    "print(result.iloc[:,0:3])\n"
   ]
  },
  {
   "cell_type": "code",
   "execution_count": 138,
   "metadata": {},
   "outputs": [],
   "source": [
    "result = pd.concat([someinfo,result],axis=1)\n",
    "result.to_csv('./demedian_USA_coviddata_clean_25.csv', index=False)"
   ]
  },
  {
   "cell_type": "code",
   "execution_count": null,
   "metadata": {},
   "outputs": [],
   "source": []
  },
  {
   "cell_type": "code",
   "execution_count": null,
   "metadata": {},
   "outputs": [],
   "source": []
  }
 ],
 "metadata": {
  "kernelspec": {
   "display_name": "Python 3",
   "language": "python",
   "name": "python3"
  },
  "language_info": {
   "codemirror_mode": {
    "name": "ipython",
    "version": 3
   },
   "file_extension": ".py",
   "mimetype": "text/x-python",
   "name": "python",
   "nbconvert_exporter": "python",
   "pygments_lexer": "ipython3",
   "version": "3.8.1"
  }
 },
 "nbformat": 4,
 "nbformat_minor": 4
}
