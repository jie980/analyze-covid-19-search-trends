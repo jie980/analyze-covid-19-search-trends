{
 "cells": [
  {
   "cell_type": "code",
   "execution_count": 768,
   "metadata": {
    "scrolled": true
   },
   "outputs": [],
   "source": [
    "import numpy as np\n",
    "import pandas as pd\n",
    "import matplotlib.pyplot as plt\n",
    "from sklearn import neighbors,tree\n",
    "import random\n",
    "random.seed(4)"
   ]
  },
  {
   "cell_type": "markdown",
   "metadata": {},
   "source": [
    "### Clean up the data again for Task3"
   ]
  },
  {
   "cell_type": "code",
   "execution_count": 769,
   "metadata": {},
   "outputs": [],
   "source": [
    "#CleanUp the dataset for task3\n",
    "mydata = pd.read_csv(\"./USA_coviddata_clean_30.csv\")\n",
    "#delete useless feature\n",
    "mydata = mydata.drop(labels=['Unnamed: 0','sub_region_1','hospitalized_cumulative'],axis=1)\n",
    "\n",
    "#delete the rows that do not have labels\n",
    "mydata =mydata[mydata['hospitalized_new'].notna()]\n",
    "#from task 2 we found this region only has 1 feature available, delete it from dataset\n",
    "mydata =mydata.loc[mydata['open_covid_region_code']!='US-NE']\n",
    "#--------------fill the missing data to the median of its column-----------#\n",
    "for colname,col in mydata.iteritems():\n",
    "    if 'symptom' in colname:\n",
    "        symptom_mean = round(mydata[colname].median(),2)\n",
    "        mydata[colname].fillna(symptom_mean,inplace=True)\n",
    "# mydata.fillna(0,inplace=True)\n",
    "# --------------fill the missing data to the median of its column-----------#"
   ]
  },
  {
   "cell_type": "markdown",
   "metadata": {},
   "source": [
    "### find the 10 states that we are using"
   ]
  },
  {
   "cell_type": "code",
   "execution_count": 770,
   "metadata": {},
   "outputs": [
    {
     "name": "stdout",
     "output_type": "stream",
     "text": [
      "['US-SD' 'US-ME' 'US-HI' 'US-RI' 'US-NM' 'US-WY' 'US-NH' 'US-ID' 'US-ND'\n",
      " 'US-MT']\n"
     ]
    }
   ],
   "source": [
    "regionlist = mydata['open_covid_region_code'].unique()\n",
    "random.shuffle(regionlist)\n",
    "print(regionlist)"
   ]
  },
  {
   "cell_type": "markdown",
   "metadata": {},
   "source": [
    "### Define the function that split the set based on region"
   ]
  },
  {
   "cell_type": "code",
   "execution_count": 771,
   "metadata": {},
   "outputs": [],
   "source": [
    "def split_set(dataset,state_name1, state_name2):\n",
    "    validate_set = dataset.loc[\n",
    "        (dataset['open_covid_region_code'] == state_name1) | (dataset['open_covid_region_code'] == state_name2)]\n",
    "    training_set = dataset.loc[\n",
    "        (dataset['open_covid_region_code'] != state_name1) & (dataset['open_covid_region_code'] != state_name2)]\n",
    "\n",
    "    # delete the region and date features\n",
    "    validate_set = validate_set.drop(labels=['date', 'open_covid_region_code'], axis=1)\n",
    "    training_set = training_set.drop(labels=['date', 'open_covid_region_code'], axis=1)\n",
    "    # #convert pandas to numpy\n",
    "    training_set =training_set.values\n",
    "    validate_set = validate_set.values\n",
    "    \n",
    "    # split the data into features and label\n",
    "    x_train, y_train = np.delete(training_set, [0], axis=1).astype(np.float), training_set[:, 0].astype(np.float)\n",
    "    x_validate, y_validate = np.delete(validate_set, [0], axis=1).astype(np.float), validate_set[:, 0].astype(\n",
    "        np.float)\n",
    "    return x_train,y_train,x_validate,y_validate"
   ]
  },
  {
   "cell_type": "markdown",
   "metadata": {},
   "source": [
    "###  Define the function tha train the data, do the prediction, and calculate the MSE"
   ]
  },
  {
   "cell_type": "code",
   "execution_count": 772,
   "metadata": {},
   "outputs": [],
   "source": [
    "def domodel(x_train,y_train,x_validate,y_validate,modelname):\n",
    "    #define the MSE functioon\n",
    "    loss = lambda y, yh: np.mean((y - yh) ** 2)\n",
    "    K_list = range(1, 100)\n",
    "    err_train, err_valid =[], []\n",
    "    for i, K in enumerate(K_list):\n",
    "        if modelname == 'knn':\n",
    "            model = neighbors.KNeighborsRegressor(n_neighbors=K)\n",
    "        else:\n",
    "            model = tree.DecisionTreeRegressor(min_samples_leaf=K)\n",
    "        model = model.fit(x_train, y_train)\n",
    "        err_valid.append(loss(model.predict(x_validate),y_validate))\n",
    "        err_train.append(loss(model.predict(x_train),y_train))\n",
    "    return err_valid"
   ]
  },
  {
   "cell_type": "markdown",
   "metadata": {},
   "source": [
    "### Do 5 times validation based on 5 different validation sets and training sets"
   ]
  },
  {
   "cell_type": "code",
   "execution_count": 773,
   "metadata": {},
   "outputs": [
    {
     "name": "stdout",
     "output_type": "stream",
     "text": [
      "validation set 0 : US-SD US-ME\n",
      "#data in validation set 0 : 53\n",
      "#data in training set 0 : 214\n",
      "validation set 1 : US-HI US-RI\n",
      "#data in validation set 1 : 52\n",
      "#data in training set 1 : 215\n",
      "validation set 2 : US-NM US-WY\n",
      "#data in validation set 2 : 51\n",
      "#data in training set 2 : 216\n",
      "validation set 3 : US-NH US-ID\n",
      "#data in validation set 3 : 54\n",
      "#data in training set 3 : 213\n",
      "validation set 4 : US-ND US-MT\n",
      "#data in validation set 4 : 57\n",
      "#data in training set 4 : 210\n"
     ]
    }
   ],
   "source": [
    "K_list = range(1, 100)\n",
    "num_folds = 5\n",
    "#use it to store 5 validation error sets\n",
    "errorvalid_knn = np.zeros((len(K_list), num_folds)) \n",
    "errorvalid_dt = np.zeros((len(K_list), num_folds)) \n",
    "\n",
    "#do cross validation 5 times\n",
    "for i in range(0,len(regionlist)-1,2):\n",
    "    print(\"validation set\",i//2,\":\",regionlist[i],regionlist[i+1])\n",
    "    \n",
    "    #use 2 states as validation set and 9 states as training set\n",
    "    x_train,y_train,x_validate,y_validate=split_set(mydata,regionlist[i],regionlist[i+1])\n",
    "    \n",
    "    print(\"#data in validation set\",i//2,\":\",x_validate.shape[0])\n",
    "    print(\"#data in training set\",i//2,\":\",x_train.shape[0])\n",
    "    #apply the data into knn model\n",
    "    this_errorvalid_knn = domodel(x_train,y_train,x_validate,y_validate,'knn')\n",
    "    errorvalid_knn[:,i//2] = this_errorvalid_knn\n",
    "    #apply the data into decisionTree model\n",
    "    this_errorvalid_dt = domodel(x_train,y_train,x_validate,y_validate,'dt')\n",
    "    errorvalid_dt[:,i//2] = this_errorvalid_dt\n",
    "    \n",
    "    "
   ]
  },
  {
   "cell_type": "code",
   "execution_count": 774,
   "metadata": {},
   "outputs": [
    {
     "name": "stdout",
     "output_type": "stream",
     "text": [
      "BEST K for REGION split: 12\n",
      "Best MSE for REGION split: 3504.5345951330214\n"
     ]
    },
    {
     "data": {
      "image/png": "[encoded data removed]",
      "text/plain": [
       "<Figure size 432x288 with 1 Axes>"
      ]
     },
     "metadata": {
      "needs_background": "light"
     },
     "output_type": "display_data"
    },
    {
     "name": "stdout",
     "output_type": "stream",
     "text": [
      "BEST min_samples_leaf for REGION split: 94\n",
      "Best MSE for REGION split: 3673.408457400116\n"
     ]
    },
    {
     "data": {
      "image/png": "[encoded data removed]",
      "text/plain": [
       "<Figure size 432x288 with 1 Axes>"
      ]
     },
     "metadata": {
      "needs_background": "light"
     },
     "output_type": "display_data"
    }
   ],
   "source": [
    "best_knn_arg =  np.argmin(np.mean(errorvalid_knn, axis=1)) + 1\n",
    "\n",
    "print(\"BEST K for REGION split:\",best_knn_arg)\n",
    "print(\"Best MSE for REGION split:\",np.mean(errorvalid_knn, axis=1)[best_knn_arg - 1])\n",
    "#plot the graph\n",
    "plt.errorbar(K_list, np.mean(errorvalid_knn, axis=1), np.std(errorvalid_knn, axis=1), label='validation')\n",
    "plt.legend()\n",
    "plt.title(\"knn\")\n",
    "plt.xlabel('K (number of neighbours)')\n",
    "plt.ylabel('mean squared error')\n",
    "plt.show()\n",
    "\n",
    "\n",
    "best_dt_arg =  np.argmin(np.mean(errorvalid_dt, axis=1)) + 1\n",
    "print(\"BEST min_samples_leaf for REGION split:\",best_dt_arg)\n",
    "print(\"Best MSE for REGION split:\",np.mean(errorvalid_dt, axis=1)[best_dt_arg - 1])\n",
    "#plot the graph\n",
    "plt.errorbar(K_list, np.mean(errorvalid_dt, axis=1), np.std(errorvalid_dt, axis=1), label='validation')\n",
    "plt.legend()\n",
    "plt.title(\"Decision Tree\")\n",
    "plt.xlabel('L (min samples leaf)')\n",
    "plt.ylabel('mean squared error')\n",
    "plt.show()"
   ]
  },
  {
   "cell_type": "markdown",
   "metadata": {},
   "source": [
    "Plot the graph for each validation."
   ]
  },
  {
   "cell_type": "code",
   "execution_count": null,
   "metadata": {},
   "outputs": [],
   "source": []
  }
 ],
 "metadata": {
  "kernelspec": {
   "display_name": "Python 3",
   "language": "python",
   "name": "python3"
  },
  "language_info": {
   "codemirror_mode": {
    "name": "ipython",
    "version": 3
   },
   "file_extension": ".py",
   "mimetype": "text/x-python",
   "name": "python",
   "nbconvert_exporter": "python",
   "pygments_lexer": "ipython3",
   "version": "3.8.1"
  }
 },
 "nbformat": 4,
 "nbformat_minor": 4
}
