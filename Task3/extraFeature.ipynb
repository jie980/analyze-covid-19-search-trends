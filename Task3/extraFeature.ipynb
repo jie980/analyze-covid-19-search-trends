{
 "cells": [
  {
   "cell_type": "markdown",
   "metadata": {},
   "source": [
    "I am not sure if I merged the daily search trend dataset correctly, this is just the way that I did."
   ]
  },
  {
   "cell_type": "code",
   "execution_count": 55,
   "metadata": {},
   "outputs": [
    {
     "name": "stdout",
     "output_type": "stream",
     "text": [
      "     open_covid_region_code        date  symptom:Fever\n",
      "0                     US-HI  2020-01-06           5.16\n",
      "1                     US-HI  2020-01-07           5.45\n",
      "2                     US-HI  2020-01-08           5.29\n",
      "3                     US-HI  2020-01-09           5.09\n",
      "4                     US-HI  2020-01-10           4.72\n",
      "...                     ...         ...            ...\n",
      "2921                  US-WY  2020-09-23           3.67\n",
      "2922                  US-WY  2020-09-24           3.70\n",
      "2923                  US-WY  2020-09-25           3.88\n",
      "2924                  US-WY  2020-09-26           3.44\n",
      "2925                  US-WY  2020-09-27           3.47\n",
      "\n",
      "[2926 rows x 3 columns]\n"
     ]
    }
   ],
   "source": [
    "import numpy as np\n",
    "import pandas as pd\n",
    "\n",
    "regionlist = ['US-SD', 'US-ME', 'US-HI', 'US-RI', 'US-NM', 'US-WY', 'US-NH', 'US-ID', 'US-ND','US-MT','US-NE']\n",
    "mydata = pd.read_csv(\"./2020_US_daily_symptoms_dataset.csv\", usecols=('open_covid_region_code', 'date', 'symptom:Fever'))\n",
    "\n",
    "\n",
    "mydata = mydata.loc[(mydata['open_covid_region_code'].isin(regionlist))]\n",
    "mydata = mydata.loc[(mydata['date']>='2020-01-06') & (mydata['date']<='2020-09-27')]\n",
    "datanum = mydata.shape[0]\n",
    "\n",
    "mydata.index = range(datanum)\n",
    "print(mydata)\n",
    "\n"
   ]
  },
  {
   "cell_type": "code",
   "execution_count": 56,
   "metadata": {},
   "outputs": [
    {
     "name": "stdout",
     "output_type": "stream",
     "text": [
      "   open_covid_region_code        date  symptom:Fever  symptom:weeklyFever\n",
      "0                   US-HI  2020-01-06           5.16                35.74\n",
      "1                   US-HI  2020-01-07           5.45                 0.00\n",
      "2                   US-HI  2020-01-08           5.29                 0.00\n",
      "3                   US-HI  2020-01-09           5.09                 0.00\n",
      "4                   US-HI  2020-01-10           4.72                 0.00\n",
      "5                   US-HI  2020-01-11           4.95                 0.00\n",
      "6                   US-HI  2020-01-12           5.08                 0.00\n",
      "7                   US-HI  2020-01-13           5.52                38.56\n",
      "8                   US-HI  2020-01-14           5.71                 0.00\n",
      "9                   US-HI  2020-01-15           5.67                 0.00\n",
      "10                  US-HI  2020-01-16           5.61                 0.00\n",
      "11                  US-HI  2020-01-17           5.47                 0.00\n",
      "12                  US-HI  2020-01-18           5.32                 0.00\n",
      "13                  US-HI  2020-01-19           5.26                 0.00\n"
     ]
    }
   ],
   "source": [
    "mydata[\"symptom:weeklyFever\"] = np.zeros(datanum)\n",
    "#mydata[\"symptom:weeklyCough\"] = np.zeros(datanum)\n",
    "for i in range(0,datanum-1,7):\n",
    "\n",
    "    sum1 = mydata['symptom:Fever'][i:i + 7].sum()\n",
    "    #sum2 = mydata['symptom:Cough'][i:i + 7].sum()/7\n",
    "\n",
    "    mydata.loc[i,'symptom:weeklyFever'] = sum1\n",
    "    #mydata.loc[i,'symptom:weeklyCough'] = sum2\n",
    "\n",
    "print(mydata.head(14))\n",
    "\n"
   ]
  },
  {
   "cell_type": "code",
   "execution_count": 53,
   "metadata": {},
   "outputs": [
    {
     "name": "stdout",
     "output_type": "stream",
     "text": [
      "   open_covid_region_code        date  symptom:weeklyFever\n",
      "0                   US-HI  2020-01-06                35.74\n",
      "7                   US-HI  2020-01-13                38.56\n",
      "14                  US-HI  2020-01-20                42.18\n",
      "21                  US-HI  2020-01-27                45.73\n",
      "28                  US-HI  2020-02-03                44.76\n",
      "35                  US-HI  2020-02-10                46.93\n",
      "42                  US-HI  2020-02-17                45.27\n",
      "49                  US-HI  2020-02-24                48.24\n",
      "56                  US-HI  2020-03-02                51.90\n",
      "63                  US-HI  2020-03-09                86.84\n"
     ]
    }
   ],
   "source": [
    "mydata = mydata[mydata['symptom:weeklyFever']!=0.]\n",
    "mydata = mydata[['open_covid_region_code','date','symptom:weeklyFever']]\n",
    "print(mydata.head(10))\n"
   ]
  },
  {
   "cell_type": "markdown",
   "metadata": {},
   "source": [
    "### Join the USA_coviddata_clean_30.csv and above dataset"
   ]
  },
  {
   "cell_type": "code",
   "execution_count": 54,
   "metadata": {},
   "outputs": [],
   "source": [
    "mydata2 = pd.read_csv(\"./USA_coviddata_clean_30.csv\")\n",
    "\n",
    "finaldata = mydata2.merge(mydata, how='inner', left_on=['open_covid_region_code', 'date'], right_on=['open_covid_region_code', 'date'])\n",
    "finaldata.to_csv('./extrafeature.csv', index=False)\n"
   ]
  },
  {
   "cell_type": "markdown",
   "metadata": {},
   "source": [
    "You can just use ./extrafeature.csv to replace ./USA_coviddata_clean_30.csv in task3"
   ]
  },
  {
   "cell_type": "code",
   "execution_count": null,
   "metadata": {},
   "outputs": [],
   "source": []
  }
 ],
 "metadata": {
  "kernelspec": {
   "display_name": "Python 3",
   "language": "python",
   "name": "python3"
  },
  "language_info": {
   "codemirror_mode": {
    "name": "ipython",
    "version": 3
   },
   "file_extension": ".py",
   "mimetype": "text/x-python",
   "name": "python",
   "nbconvert_exporter": "python",
   "pygments_lexer": "ipython3",
   "version": "3.8.1"
  }
 },
 "nbformat": 4,
 "nbformat_minor": 4
}
